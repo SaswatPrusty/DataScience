{
 "cells": [
  {
   "cell_type": "code",
   "execution_count": 15,
   "metadata": {},
   "outputs": [],
   "source": [
    "import pandas as pd\n",
    "import numpy as np\n",
    "import seaborn as sns\n",
    "from sklearn.cluster import KMeans \n",
    "import matplotlib.pyplot as plt\n",
    "from sklearn.metrics import silhouette_samples, silhouette_score\n",
    "from scipy.cluster.hierarchy import dendrogram, linkage\n",
    "from scipy.cluster.hierarchy import fcluster\n",
    "from sklearn.preprocessing import StandardScaler\n",
    "%matplotlib inline"
   ]
  },
  {
   "cell_type": "code",
   "execution_count": 4,
   "metadata": {},
   "outputs": [
    {
     "data": {
      "text/html": [
       "<div>\n",
       "<style scoped>\n",
       "    .dataframe tbody tr th:only-of-type {\n",
       "        vertical-align: middle;\n",
       "    }\n",
       "\n",
       "    .dataframe tbody tr th {\n",
       "        vertical-align: top;\n",
       "    }\n",
       "\n",
       "    .dataframe thead th {\n",
       "        text-align: right;\n",
       "    }\n",
       "</style>\n",
       "<table border=\"1\" class=\"dataframe\">\n",
       "  <thead>\n",
       "    <tr style=\"text-align: right;\">\n",
       "      <th></th>\n",
       "      <th>Eccentricity</th>\n",
       "      <th>Aspect Ratio</th>\n",
       "      <th>Elongation</th>\n",
       "      <th>Solidity</th>\n",
       "      <th>Stochastic Convexity</th>\n",
       "      <th>Isoperimetric Factor</th>\n",
       "      <th>Maximal Indentation Depth</th>\n",
       "      <th>Lobedness</th>\n",
       "      <th>Average Intensity</th>\n",
       "      <th>Average Contrast</th>\n",
       "      <th>Smoothness</th>\n",
       "      <th>Third moment</th>\n",
       "      <th>Uniformity</th>\n",
       "      <th>Entropy</th>\n",
       "    </tr>\n",
       "  </thead>\n",
       "  <tbody>\n",
       "    <tr>\n",
       "      <th>0</th>\n",
       "      <td>0.72694</td>\n",
       "      <td>1.4742</td>\n",
       "      <td>0.32396</td>\n",
       "      <td>0.985350</td>\n",
       "      <td>1.000000</td>\n",
       "      <td>0.835920</td>\n",
       "      <td>0.004657</td>\n",
       "      <td>0.003947</td>\n",
       "      <td>0.047790</td>\n",
       "      <td>0.127950</td>\n",
       "      <td>0.016108</td>\n",
       "      <td>0.005232</td>\n",
       "      <td>0.000275</td>\n",
       "      <td>1.17560</td>\n",
       "    </tr>\n",
       "    <tr>\n",
       "      <th>1</th>\n",
       "      <td>0.74173</td>\n",
       "      <td>1.5257</td>\n",
       "      <td>0.36116</td>\n",
       "      <td>0.981520</td>\n",
       "      <td>0.998250</td>\n",
       "      <td>0.798670</td>\n",
       "      <td>0.005242</td>\n",
       "      <td>0.005002</td>\n",
       "      <td>0.024160</td>\n",
       "      <td>0.090476</td>\n",
       "      <td>0.008119</td>\n",
       "      <td>0.002708</td>\n",
       "      <td>0.000075</td>\n",
       "      <td>0.69659</td>\n",
       "    </tr>\n",
       "    <tr>\n",
       "      <th>2</th>\n",
       "      <td>0.76722</td>\n",
       "      <td>1.5725</td>\n",
       "      <td>0.38998</td>\n",
       "      <td>0.977550</td>\n",
       "      <td>1.000000</td>\n",
       "      <td>0.808120</td>\n",
       "      <td>0.007457</td>\n",
       "      <td>0.010121</td>\n",
       "      <td>0.011897</td>\n",
       "      <td>0.057445</td>\n",
       "      <td>0.003289</td>\n",
       "      <td>0.000921</td>\n",
       "      <td>0.000038</td>\n",
       "      <td>0.44348</td>\n",
       "    </tr>\n",
       "    <tr>\n",
       "      <th>3</th>\n",
       "      <td>0.73797</td>\n",
       "      <td>1.4597</td>\n",
       "      <td>0.35376</td>\n",
       "      <td>0.975660</td>\n",
       "      <td>1.000000</td>\n",
       "      <td>0.816970</td>\n",
       "      <td>0.006877</td>\n",
       "      <td>0.008607</td>\n",
       "      <td>0.015950</td>\n",
       "      <td>0.065491</td>\n",
       "      <td>0.004271</td>\n",
       "      <td>0.001154</td>\n",
       "      <td>0.000066</td>\n",
       "      <td>0.58785</td>\n",
       "    </tr>\n",
       "    <tr>\n",
       "      <th>4</th>\n",
       "      <td>0.82301</td>\n",
       "      <td>1.7707</td>\n",
       "      <td>0.44462</td>\n",
       "      <td>0.976980</td>\n",
       "      <td>1.000000</td>\n",
       "      <td>0.754930</td>\n",
       "      <td>0.007428</td>\n",
       "      <td>0.010042</td>\n",
       "      <td>0.007938</td>\n",
       "      <td>0.045339</td>\n",
       "      <td>0.002051</td>\n",
       "      <td>0.000560</td>\n",
       "      <td>0.000023</td>\n",
       "      <td>0.34214</td>\n",
       "    </tr>\n",
       "    <tr>\n",
       "      <th>...</th>\n",
       "      <td>...</td>\n",
       "      <td>...</td>\n",
       "      <td>...</td>\n",
       "      <td>...</td>\n",
       "      <td>...</td>\n",
       "      <td>...</td>\n",
       "      <td>...</td>\n",
       "      <td>...</td>\n",
       "      <td>...</td>\n",
       "      <td>...</td>\n",
       "      <td>...</td>\n",
       "      <td>...</td>\n",
       "      <td>...</td>\n",
       "      <td>...</td>\n",
       "    </tr>\n",
       "    <tr>\n",
       "      <th>335</th>\n",
       "      <td>0.37522</td>\n",
       "      <td>1.1417</td>\n",
       "      <td>0.81725</td>\n",
       "      <td>0.761323</td>\n",
       "      <td>0.915575</td>\n",
       "      <td>0.125230</td>\n",
       "      <td>0.091860</td>\n",
       "      <td>1.016331</td>\n",
       "      <td>0.114880</td>\n",
       "      <td>0.208610</td>\n",
       "      <td>0.041703</td>\n",
       "      <td>0.013344</td>\n",
       "      <td>0.000820</td>\n",
       "      <td>2.02810</td>\n",
       "    </tr>\n",
       "    <tr>\n",
       "      <th>336</th>\n",
       "      <td>0.28064</td>\n",
       "      <td>1.0849</td>\n",
       "      <td>0.75319</td>\n",
       "      <td>0.761323</td>\n",
       "      <td>0.915575</td>\n",
       "      <td>0.136860</td>\n",
       "      <td>0.078996</td>\n",
       "      <td>1.016331</td>\n",
       "      <td>0.141220</td>\n",
       "      <td>0.218300</td>\n",
       "      <td>0.045488</td>\n",
       "      <td>0.012002</td>\n",
       "      <td>0.001137</td>\n",
       "      <td>2.40590</td>\n",
       "    </tr>\n",
       "    <tr>\n",
       "      <th>337</th>\n",
       "      <td>0.35344</td>\n",
       "      <td>1.0329</td>\n",
       "      <td>0.78147</td>\n",
       "      <td>0.761323</td>\n",
       "      <td>0.915575</td>\n",
       "      <td>0.135030</td>\n",
       "      <td>0.089763</td>\n",
       "      <td>1.016331</td>\n",
       "      <td>0.097663</td>\n",
       "      <td>0.207030</td>\n",
       "      <td>0.041101</td>\n",
       "      <td>0.016123</td>\n",
       "      <td>0.000453</td>\n",
       "      <td>1.69350</td>\n",
       "    </tr>\n",
       "    <tr>\n",
       "      <th>338</th>\n",
       "      <td>0.59988</td>\n",
       "      <td>1.1427</td>\n",
       "      <td>0.71532</td>\n",
       "      <td>0.761323</td>\n",
       "      <td>0.915575</td>\n",
       "      <td>0.157470</td>\n",
       "      <td>0.105303</td>\n",
       "      <td>1.016331</td>\n",
       "      <td>0.050389</td>\n",
       "      <td>0.135850</td>\n",
       "      <td>0.018121</td>\n",
       "      <td>0.006190</td>\n",
       "      <td>0.000265</td>\n",
       "      <td>1.15260</td>\n",
       "    </tr>\n",
       "    <tr>\n",
       "      <th>339</th>\n",
       "      <td>0.47195</td>\n",
       "      <td>1.0901</td>\n",
       "      <td>0.85409</td>\n",
       "      <td>0.761323</td>\n",
       "      <td>0.915575</td>\n",
       "      <td>0.078376</td>\n",
       "      <td>0.105303</td>\n",
       "      <td>1.016331</td>\n",
       "      <td>0.082007</td>\n",
       "      <td>0.187820</td>\n",
       "      <td>0.034074</td>\n",
       "      <td>0.013487</td>\n",
       "      <td>0.000329</td>\n",
       "      <td>1.56230</td>\n",
       "    </tr>\n",
       "  </tbody>\n",
       "</table>\n",
       "<p>340 rows × 14 columns</p>\n",
       "</div>"
      ],
      "text/plain": [
       "     Eccentricity  Aspect Ratio  Elongation  Solidity  Stochastic Convexity  \\\n",
       "0         0.72694        1.4742     0.32396  0.985350              1.000000   \n",
       "1         0.74173        1.5257     0.36116  0.981520              0.998250   \n",
       "2         0.76722        1.5725     0.38998  0.977550              1.000000   \n",
       "3         0.73797        1.4597     0.35376  0.975660              1.000000   \n",
       "4         0.82301        1.7707     0.44462  0.976980              1.000000   \n",
       "..            ...           ...         ...       ...                   ...   \n",
       "335       0.37522        1.1417     0.81725  0.761323              0.915575   \n",
       "336       0.28064        1.0849     0.75319  0.761323              0.915575   \n",
       "337       0.35344        1.0329     0.78147  0.761323              0.915575   \n",
       "338       0.59988        1.1427     0.71532  0.761323              0.915575   \n",
       "339       0.47195        1.0901     0.85409  0.761323              0.915575   \n",
       "\n",
       "     Isoperimetric Factor  Maximal Indentation Depth  Lobedness  \\\n",
       "0                0.835920                   0.004657   0.003947   \n",
       "1                0.798670                   0.005242   0.005002   \n",
       "2                0.808120                   0.007457   0.010121   \n",
       "3                0.816970                   0.006877   0.008607   \n",
       "4                0.754930                   0.007428   0.010042   \n",
       "..                    ...                        ...        ...   \n",
       "335              0.125230                   0.091860   1.016331   \n",
       "336              0.136860                   0.078996   1.016331   \n",
       "337              0.135030                   0.089763   1.016331   \n",
       "338              0.157470                   0.105303   1.016331   \n",
       "339              0.078376                   0.105303   1.016331   \n",
       "\n",
       "     Average Intensity   Average Contrast  Smoothness   Third moment  \\\n",
       "0             0.047790           0.127950    0.016108       0.005232   \n",
       "1             0.024160           0.090476    0.008119       0.002708   \n",
       "2             0.011897           0.057445    0.003289       0.000921   \n",
       "3             0.015950           0.065491    0.004271       0.001154   \n",
       "4             0.007938           0.045339    0.002051       0.000560   \n",
       "..                 ...                ...         ...            ...   \n",
       "335           0.114880           0.208610    0.041703       0.013344   \n",
       "336           0.141220           0.218300    0.045488       0.012002   \n",
       "337           0.097663           0.207030    0.041101       0.016123   \n",
       "338           0.050389           0.135850    0.018121       0.006190   \n",
       "339           0.082007           0.187820    0.034074       0.013487   \n",
       "\n",
       "     Uniformity  Entropy  \n",
       "0      0.000275  1.17560  \n",
       "1      0.000075  0.69659  \n",
       "2      0.000038  0.44348  \n",
       "3      0.000066  0.58785  \n",
       "4      0.000023  0.34214  \n",
       "..          ...      ...  \n",
       "335    0.000820  2.02810  \n",
       "336    0.001137  2.40590  \n",
       "337    0.000453  1.69350  \n",
       "338    0.000265  1.15260  \n",
       "339    0.000329  1.56230  \n",
       "\n",
       "[340 rows x 14 columns]"
      ]
     },
     "execution_count": 4,
     "metadata": {},
     "output_type": "execute_result"
    }
   ],
   "source": [
    "df = pd.read_csv(\"leaf_data_uci_updated.csv\")\n",
    "df"
   ]
  },
  {
   "cell_type": "code",
   "execution_count": 7,
   "metadata": {},
   "outputs": [
    {
     "data": {
      "text/plain": [
       "0"
      ]
     },
     "execution_count": 7,
     "metadata": {},
     "output_type": "execute_result"
    }
   ],
   "source": [
    "df.duplicated().sum()"
   ]
  },
  {
   "cell_type": "code",
   "execution_count": 8,
   "metadata": {},
   "outputs": [
    {
     "name": "stdout",
     "output_type": "stream",
     "text": [
      "<class 'pandas.core.frame.DataFrame'>\n",
      "RangeIndex: 340 entries, 0 to 339\n",
      "Data columns (total 14 columns):\n",
      " #   Column                     Non-Null Count  Dtype  \n",
      "---  ------                     --------------  -----  \n",
      " 0   Eccentricity               340 non-null    float64\n",
      " 1   Aspect Ratio               340 non-null    float64\n",
      " 2   Elongation                 340 non-null    float64\n",
      " 3   Solidity                   340 non-null    float64\n",
      " 4   Stochastic Convexity       340 non-null    float64\n",
      " 5   Isoperimetric Factor       340 non-null    float64\n",
      " 6   Maximal Indentation Depth  340 non-null    float64\n",
      " 7   Lobedness                  340 non-null    float64\n",
      " 8   Average Intensity          340 non-null    float64\n",
      " 9    Average Contrast          340 non-null    float64\n",
      " 10  Smoothness                 340 non-null    float64\n",
      " 11   Third moment              340 non-null    float64\n",
      " 12  Uniformity                 340 non-null    float64\n",
      " 13  Entropy                    340 non-null    float64\n",
      "dtypes: float64(14)\n",
      "memory usage: 37.3 KB\n"
     ]
    }
   ],
   "source": [
    "df.info()"
   ]
  },
  {
   "cell_type": "code",
   "execution_count": 9,
   "metadata": {},
   "outputs": [
    {
     "data": {
      "text/html": [
       "<div>\n",
       "<style scoped>\n",
       "    .dataframe tbody tr th:only-of-type {\n",
       "        vertical-align: middle;\n",
       "    }\n",
       "\n",
       "    .dataframe tbody tr th {\n",
       "        vertical-align: top;\n",
       "    }\n",
       "\n",
       "    .dataframe thead th {\n",
       "        text-align: right;\n",
       "    }\n",
       "</style>\n",
       "<table border=\"1\" class=\"dataframe\">\n",
       "  <thead>\n",
       "    <tr style=\"text-align: right;\">\n",
       "      <th></th>\n",
       "      <th>Eccentricity</th>\n",
       "      <th>Aspect Ratio</th>\n",
       "      <th>Elongation</th>\n",
       "      <th>Solidity</th>\n",
       "      <th>Stochastic Convexity</th>\n",
       "      <th>Isoperimetric Factor</th>\n",
       "      <th>Maximal Indentation Depth</th>\n",
       "      <th>Lobedness</th>\n",
       "      <th>Average Intensity</th>\n",
       "      <th>Average Contrast</th>\n",
       "      <th>Smoothness</th>\n",
       "      <th>Third moment</th>\n",
       "      <th>Uniformity</th>\n",
       "      <th>Entropy</th>\n",
       "    </tr>\n",
       "  </thead>\n",
       "  <tbody>\n",
       "    <tr>\n",
       "      <th>count</th>\n",
       "      <td>340.000000</td>\n",
       "      <td>340.000000</td>\n",
       "      <td>340.000000</td>\n",
       "      <td>340.000000</td>\n",
       "      <td>340.000000</td>\n",
       "      <td>340.000000</td>\n",
       "      <td>340.000000</td>\n",
       "      <td>340.000000</td>\n",
       "      <td>340.000000</td>\n",
       "      <td>340.000000</td>\n",
       "      <td>340.000000</td>\n",
       "      <td>340.000000</td>\n",
       "      <td>340.000000</td>\n",
       "      <td>340.000000</td>\n",
       "    </tr>\n",
       "    <tr>\n",
       "      <th>mean</th>\n",
       "      <td>0.719854</td>\n",
       "      <td>1.902051</td>\n",
       "      <td>0.513760</td>\n",
       "      <td>0.919101</td>\n",
       "      <td>0.975867</td>\n",
       "      <td>0.531234</td>\n",
       "      <td>0.034647</td>\n",
       "      <td>0.284499</td>\n",
       "      <td>0.051209</td>\n",
       "      <td>0.124535</td>\n",
       "      <td>0.017491</td>\n",
       "      <td>0.005678</td>\n",
       "      <td>0.000356</td>\n",
       "      <td>1.162630</td>\n",
       "    </tr>\n",
       "    <tr>\n",
       "      <th>std</th>\n",
       "      <td>0.208311</td>\n",
       "      <td>0.888783</td>\n",
       "      <td>0.195583</td>\n",
       "      <td>0.075247</td>\n",
       "      <td>0.032506</td>\n",
       "      <td>0.217532</td>\n",
       "      <td>0.031502</td>\n",
       "      <td>0.365318</td>\n",
       "      <td>0.035518</td>\n",
       "      <td>0.051860</td>\n",
       "      <td>0.013189</td>\n",
       "      <td>0.004495</td>\n",
       "      <td>0.000336</td>\n",
       "      <td>0.584854</td>\n",
       "    </tr>\n",
       "    <tr>\n",
       "      <th>min</th>\n",
       "      <td>0.117080</td>\n",
       "      <td>1.006600</td>\n",
       "      <td>0.107610</td>\n",
       "      <td>0.761323</td>\n",
       "      <td>0.915575</td>\n",
       "      <td>0.078376</td>\n",
       "      <td>0.002837</td>\n",
       "      <td>0.001464</td>\n",
       "      <td>0.005022</td>\n",
       "      <td>0.033415</td>\n",
       "      <td>0.001115</td>\n",
       "      <td>0.000229</td>\n",
       "      <td>0.000007</td>\n",
       "      <td>0.169400</td>\n",
       "    </tr>\n",
       "    <tr>\n",
       "      <th>25%</th>\n",
       "      <td>0.550622</td>\n",
       "      <td>1.211300</td>\n",
       "      <td>0.349623</td>\n",
       "      <td>0.890667</td>\n",
       "      <td>0.966230</td>\n",
       "      <td>0.346818</td>\n",
       "      <td>0.009521</td>\n",
       "      <td>0.016500</td>\n",
       "      <td>0.022843</td>\n",
       "      <td>0.083362</td>\n",
       "      <td>0.006901</td>\n",
       "      <td>0.002080</td>\n",
       "      <td>0.000102</td>\n",
       "      <td>0.718900</td>\n",
       "    </tr>\n",
       "    <tr>\n",
       "      <th>50%</th>\n",
       "      <td>0.763450</td>\n",
       "      <td>1.570750</td>\n",
       "      <td>0.501855</td>\n",
       "      <td>0.948130</td>\n",
       "      <td>0.992980</td>\n",
       "      <td>0.579160</td>\n",
       "      <td>0.023860</td>\n",
       "      <td>0.103615</td>\n",
       "      <td>0.042087</td>\n",
       "      <td>0.119375</td>\n",
       "      <td>0.014050</td>\n",
       "      <td>0.004447</td>\n",
       "      <td>0.000239</td>\n",
       "      <td>1.077450</td>\n",
       "    </tr>\n",
       "    <tr>\n",
       "      <th>75%</th>\n",
       "      <td>0.895097</td>\n",
       "      <td>2.343100</td>\n",
       "      <td>0.633373</td>\n",
       "      <td>0.976897</td>\n",
       "      <td>1.000000</td>\n",
       "      <td>0.700712</td>\n",
       "      <td>0.047834</td>\n",
       "      <td>0.416433</td>\n",
       "      <td>0.073046</td>\n",
       "      <td>0.163795</td>\n",
       "      <td>0.026127</td>\n",
       "      <td>0.008307</td>\n",
       "      <td>0.000516</td>\n",
       "      <td>1.554575</td>\n",
       "    </tr>\n",
       "    <tr>\n",
       "      <th>max</th>\n",
       "      <td>0.998710</td>\n",
       "      <td>4.040800</td>\n",
       "      <td>0.948340</td>\n",
       "      <td>0.993880</td>\n",
       "      <td>1.000000</td>\n",
       "      <td>0.858160</td>\n",
       "      <td>0.105303</td>\n",
       "      <td>1.016331</td>\n",
       "      <td>0.148349</td>\n",
       "      <td>0.280810</td>\n",
       "      <td>0.054967</td>\n",
       "      <td>0.017648</td>\n",
       "      <td>0.001137</td>\n",
       "      <td>2.708500</td>\n",
       "    </tr>\n",
       "  </tbody>\n",
       "</table>\n",
       "</div>"
      ],
      "text/plain": [
       "       Eccentricity  Aspect Ratio  Elongation    Solidity  \\\n",
       "count    340.000000    340.000000  340.000000  340.000000   \n",
       "mean       0.719854      1.902051    0.513760    0.919101   \n",
       "std        0.208311      0.888783    0.195583    0.075247   \n",
       "min        0.117080      1.006600    0.107610    0.761323   \n",
       "25%        0.550622      1.211300    0.349623    0.890667   \n",
       "50%        0.763450      1.570750    0.501855    0.948130   \n",
       "75%        0.895097      2.343100    0.633373    0.976897   \n",
       "max        0.998710      4.040800    0.948340    0.993880   \n",
       "\n",
       "       Stochastic Convexity  Isoperimetric Factor  Maximal Indentation Depth  \\\n",
       "count            340.000000            340.000000                 340.000000   \n",
       "mean               0.975867              0.531234                   0.034647   \n",
       "std                0.032506              0.217532                   0.031502   \n",
       "min                0.915575              0.078376                   0.002837   \n",
       "25%                0.966230              0.346818                   0.009521   \n",
       "50%                0.992980              0.579160                   0.023860   \n",
       "75%                1.000000              0.700712                   0.047834   \n",
       "max                1.000000              0.858160                   0.105303   \n",
       "\n",
       "        Lobedness  Average Intensity   Average Contrast  Smoothness  \\\n",
       "count  340.000000         340.000000         340.000000  340.000000   \n",
       "mean     0.284499           0.051209           0.124535    0.017491   \n",
       "std      0.365318           0.035518           0.051860    0.013189   \n",
       "min      0.001464           0.005022           0.033415    0.001115   \n",
       "25%      0.016500           0.022843           0.083362    0.006901   \n",
       "50%      0.103615           0.042087           0.119375    0.014050   \n",
       "75%      0.416433           0.073046           0.163795    0.026127   \n",
       "max      1.016331           0.148349           0.280810    0.054967   \n",
       "\n",
       "        Third moment  Uniformity     Entropy  \n",
       "count     340.000000  340.000000  340.000000  \n",
       "mean        0.005678    0.000356    1.162630  \n",
       "std         0.004495    0.000336    0.584854  \n",
       "min         0.000229    0.000007    0.169400  \n",
       "25%         0.002080    0.000102    0.718900  \n",
       "50%         0.004447    0.000239    1.077450  \n",
       "75%         0.008307    0.000516    1.554575  \n",
       "max         0.017648    0.001137    2.708500  "
      ]
     },
     "execution_count": 9,
     "metadata": {},
     "output_type": "execute_result"
    }
   ],
   "source": [
    "df.describe()"
   ]
  },
  {
   "cell_type": "code",
   "execution_count": 11,
   "metadata": {},
   "outputs": [],
   "source": [
    "np.random.seed(7)\n",
    "arr= np.array(np.random.rand(20)).reshape(10,2)"
   ]
  },
  {
   "cell_type": "code",
   "execution_count": 13,
   "metadata": {},
   "outputs": [
    {
     "data": {
      "text/plain": [
       "array([[0.07630829, 0.77991879],\n",
       "       [0.43840923, 0.72346518],\n",
       "       [0.97798951, 0.53849587],\n",
       "       [0.50112046, 0.07205113],\n",
       "       [0.26843898, 0.4998825 ],\n",
       "       [0.67923   , 0.80373904],\n",
       "       [0.38094113, 0.06593635],\n",
       "       [0.2881456 , 0.90959353],\n",
       "       [0.21338535, 0.45212396],\n",
       "       [0.93120602, 0.02489923]])"
      ]
     },
     "execution_count": 13,
     "metadata": {},
     "output_type": "execute_result"
    }
   ],
   "source": [
    "arr"
   ]
  },
  {
   "cell_type": "code",
   "execution_count": 16,
   "metadata": {},
   "outputs": [],
   "source": [
    "X = StandardScaler()"
   ]
  },
  {
   "cell_type": "code",
   "execution_count": 18,
   "metadata": {},
   "outputs": [
    {
     "data": {
      "text/plain": [
       "array([[-1.39522475,  0.93201877],\n",
       "       [-0.1296922 ,  0.7523863 ],\n",
       "       [ 1.75612561,  0.16382359],\n",
       "       [ 0.08948178, -1.32037931],\n",
       "       [-0.72373342,  0.04095785],\n",
       "       [ 0.71196956,  1.00781355],\n",
       "       [-0.33054158, -1.33983624],\n",
       "       [-0.65485934,  1.34463703],\n",
       "       [-0.91614429, -0.11100733],\n",
       "       [ 1.59261863, -1.47041422]])"
      ]
     },
     "execution_count": 18,
     "metadata": {},
     "output_type": "execute_result"
    }
   ],
   "source": [
    "scaled_arr = X.fit_transform(arr)\n",
    "scaled_arr"
   ]
  },
  {
   "cell_type": "code",
   "execution_count": 20,
   "metadata": {},
   "outputs": [],
   "source": [
    "k_means = KMeans(n_clusters = 2)"
   ]
  },
  {
   "cell_type": "code",
   "execution_count": 22,
   "metadata": {},
   "outputs": [
    {
     "data": {
      "text/plain": [
       "KMeans(n_clusters=2)"
      ]
     },
     "execution_count": 22,
     "metadata": {},
     "output_type": "execute_result"
    }
   ],
   "source": [
    "k_means.fit(scaled_arr)"
   ]
  },
  {
   "cell_type": "code",
   "execution_count": 23,
   "metadata": {},
   "outputs": [
    {
     "data": {
      "text/plain": [
       "array([0, 0, 1, 1, 0, 0, 1, 0, 0, 1])"
      ]
     },
     "execution_count": 23,
     "metadata": {},
     "output_type": "execute_result"
    }
   ],
   "source": [
    "k_means.labels_"
   ]
  },
  {
   "cell_type": "code",
   "execution_count": 25,
   "metadata": {},
   "outputs": [
    {
     "data": {
      "text/plain": [
       "0.4069015400992441"
      ]
     },
     "execution_count": 25,
     "metadata": {},
     "output_type": "execute_result"
    }
   ],
   "source": [
    "silhouette_score(scaled_arr, k_means.labels_)"
   ]
  },
  {
   "cell_type": "code",
   "execution_count": 27,
   "metadata": {},
   "outputs": [
    {
     "data": {
      "text/plain": [
       "array([[ 0.03406572, -0.48209894, -0.97186457, ..., -0.0993394 ,\n",
       "        -0.24107626,  0.02220937],\n",
       "       [ 0.10516996, -0.42406912, -0.78138363, ..., -0.66180812,\n",
       "        -0.83677884, -0.79802302],\n",
       "       [ 0.22771539, -0.37133521, -0.6338121 , ..., -1.06006173,\n",
       "        -0.94670245, -1.23143573],\n",
       "       ...,\n",
       "       [-1.76156859, -0.97935258,  1.37079505, ...,  2.32734448,\n",
       "         0.28950626,  0.90903502],\n",
       "       [-0.57678648, -0.85563074,  1.03207692, ...,  0.11405691,\n",
       "        -0.27155102, -0.01717466],\n",
       "       [-1.19182128, -0.91490004,  1.74264253, ...,  1.73998658,\n",
       "        -0.0808678 ,  0.68437481]])"
      ]
     },
     "execution_count": 27,
     "metadata": {},
     "output_type": "execute_result"
    }
   ],
   "source": [
    "scaled_df = X.fit_transform(df)\n",
    "scaled_df"
   ]
  },
  {
   "cell_type": "code",
   "execution_count": 28,
   "metadata": {},
   "outputs": [],
   "source": [
    "k_means = KMeans(n_clusters = 4)"
   ]
  },
  {
   "cell_type": "code",
   "execution_count": 29,
   "metadata": {},
   "outputs": [],
   "source": [
    "k_means.fit(scaled_df)\n",
    "labels = k_means.labels_"
   ]
  },
  {
   "cell_type": "code",
   "execution_count": 30,
   "metadata": {},
   "outputs": [
    {
     "data": {
      "text/plain": [
       "array([1, 1, 1, 1, 1, 1, 1, 1, 1, 1, 1, 1, 1, 1, 1, 1, 1, 1, 1, 1, 1, 1,\n",
       "       3, 1, 3, 1, 3, 3, 3, 1, 3, 1, 3, 1, 1, 1, 1, 1, 1, 1, 2, 2, 2, 2,\n",
       "       2, 2, 2, 0, 2, 2, 2, 2, 2, 2, 2, 2, 2, 2, 2, 2, 1, 2, 3, 1, 1, 1,\n",
       "       1, 1, 1, 1, 0, 0, 0, 0, 0, 0, 0, 0, 0, 0, 0, 3, 3, 1, 3, 3, 1, 3,\n",
       "       1, 3, 3, 1, 1, 1, 3, 3, 3, 3, 3, 3, 3, 3, 3, 3, 3, 3, 3, 3, 2, 2,\n",
       "       2, 2, 2, 2, 2, 2, 2, 2, 2, 2, 2, 2, 2, 2, 3, 3, 3, 3, 0, 1, 1, 3,\n",
       "       3, 0, 3, 3, 1, 1, 1, 1, 3, 3, 1, 3, 1, 1, 3, 3, 1, 3, 3, 3, 3, 1,\n",
       "       3, 1, 0, 3, 3, 3, 3, 2, 2, 2, 2, 2, 2, 2, 2, 2, 2, 3, 1, 3, 3, 2,\n",
       "       0, 1, 1, 1, 1, 0, 0, 1, 1, 2, 2, 2, 2, 1, 1, 1, 2, 2, 3, 1, 1, 1,\n",
       "       1, 3, 1, 1, 1, 1, 1, 1, 1, 3, 3, 3, 3, 3, 3, 3, 3, 3, 1, 1, 3, 1,\n",
       "       1, 1, 3, 1, 1, 1, 1, 1, 1, 1, 1, 1, 1, 1, 1, 1, 1, 1, 1, 0, 1, 3,\n",
       "       3, 3, 3, 3, 3, 3, 3, 3, 3, 1, 1, 1, 1, 1, 1, 1, 1, 1, 1, 1, 1, 3,\n",
       "       3, 3, 1, 3, 3, 1, 1, 3, 1, 1, 1, 0, 0, 0, 0, 0, 0, 0, 0, 0, 0, 0,\n",
       "       1, 1, 1, 1, 1, 1, 1, 1, 1, 1, 1, 3, 3, 3, 1, 3, 3, 3, 1, 3, 3, 3,\n",
       "       0, 0, 0, 0, 0, 0, 0, 0, 0, 0, 0, 3, 3, 3, 3, 3, 3, 3, 3, 3, 3, 0,\n",
       "       2, 2, 2, 2, 2, 2, 2, 2, 2, 2])"
      ]
     },
     "execution_count": 30,
     "metadata": {},
     "output_type": "execute_result"
    }
   ],
   "source": [
    "labels"
   ]
  },
  {
   "cell_type": "code",
   "execution_count": 31,
   "metadata": {},
   "outputs": [
    {
     "data": {
      "text/plain": [
       "1895.2525135696264"
      ]
     },
     "execution_count": 31,
     "metadata": {},
     "output_type": "execute_result"
    }
   ],
   "source": [
    "k_means.inertia_"
   ]
  }
 ],
 "metadata": {
  "kernelspec": {
   "display_name": "Python 3",
   "language": "python",
   "name": "python3"
  },
  "language_info": {
   "codemirror_mode": {
    "name": "ipython",
    "version": 3
   },
   "file_extension": ".py",
   "mimetype": "text/x-python",
   "name": "python",
   "nbconvert_exporter": "python",
   "pygments_lexer": "ipython3",
   "version": "3.8.5"
  }
 },
 "nbformat": 4,
 "nbformat_minor": 4
}
