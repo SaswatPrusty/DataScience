{
 "cells": [
  {
   "cell_type": "markdown",
   "metadata": {},
   "source": [
    "# Python for Data Science Quiz"
   ]
  },
  {
   "cell_type": "markdown",
   "metadata": {},
   "source": [
    "## This quiz is to test your understanding on the concepts learnt in class during the \n",
    "## Python for Data Science Course. \n",
    "## Background of the data - The dataset to be used for the quiz pertains to the \n",
    "## number of hospitalisations under the scheme Ayushman Bharat - Pradhan \n",
    "## Mantri Jan Arogya Yojana (AB-PMJAY), this data is as on 19 June, 2019.\n",
    "## The data contains number of cases of hospitalisation in public and private hospitalisations \n",
    "## state/ UT wise and on an all India level.\n",
    "## PMJAY is a scheme which provides health cover of Rs. 5 Lakhs per family per year, for \n",
    "## secondary and tertiary care hospitalization across public and private empaneled hospitals\n",
    "## in India. State/UT contains the list of states and union territories, Public column contains\n",
    "## hospitalisations in public hospitals and Private column contains list of hospitalisations in \n",
    "## private hospitals. "
   ]
  },
  {
   "cell_type": "code",
   "execution_count": 3,
   "metadata": {},
   "outputs": [],
   "source": [
    "import pandas as pd\n",
    "import numpy as np\n",
    "import seaborn as sns\n",
    "import matplotlib.pyplot as plt\n",
    "%matplotlib inline"
   ]
  },
  {
   "cell_type": "markdown",
   "metadata": {},
   "source": [
    "## Question 1: Import the dataset."
   ]
  },
  {
   "cell_type": "code",
   "execution_count": 9,
   "metadata": {},
   "outputs": [],
   "source": [
    "hosp = pd.read_csv(\"hospitalisations.csv\")"
   ]
  },
  {
   "cell_type": "markdown",
   "metadata": {},
   "source": [
    "## Question 2: How many rows and columns does the data set have?"
   ]
  },
  {
   "cell_type": "code",
   "execution_count": 10,
   "metadata": {},
   "outputs": [
    {
     "data": {
      "text/html": [
       "<div>\n",
       "<style scoped>\n",
       "    .dataframe tbody tr th:only-of-type {\n",
       "        vertical-align: middle;\n",
       "    }\n",
       "\n",
       "    .dataframe tbody tr th {\n",
       "        vertical-align: top;\n",
       "    }\n",
       "\n",
       "    .dataframe thead th {\n",
       "        text-align: right;\n",
       "    }\n",
       "</style>\n",
       "<table border=\"1\" class=\"dataframe\">\n",
       "  <thead>\n",
       "    <tr style=\"text-align: right;\">\n",
       "      <th></th>\n",
       "      <th>State/UT</th>\n",
       "      <th>Private</th>\n",
       "      <th>Public</th>\n",
       "    </tr>\n",
       "  </thead>\n",
       "  <tbody>\n",
       "    <tr>\n",
       "      <th>0</th>\n",
       "      <td>Andaman and Nicobar Islands</td>\n",
       "      <td>1.0</td>\n",
       "      <td>21.0</td>\n",
       "    </tr>\n",
       "    <tr>\n",
       "      <th>1</th>\n",
       "      <td>Andhra Pradesh</td>\n",
       "      <td>97863.0</td>\n",
       "      <td>34385.0</td>\n",
       "    </tr>\n",
       "    <tr>\n",
       "      <th>2</th>\n",
       "      <td>Arunachal Pradesh</td>\n",
       "      <td>5.0</td>\n",
       "      <td>630.0</td>\n",
       "    </tr>\n",
       "    <tr>\n",
       "      <th>3</th>\n",
       "      <td>Assam</td>\n",
       "      <td>14350.0</td>\n",
       "      <td>33553.0</td>\n",
       "    </tr>\n",
       "    <tr>\n",
       "      <th>4</th>\n",
       "      <td>Bihar</td>\n",
       "      <td>11747.0</td>\n",
       "      <td>34814.0</td>\n",
       "    </tr>\n",
       "  </tbody>\n",
       "</table>\n",
       "</div>"
      ],
      "text/plain": [
       "                      State/UT  Private   Public\n",
       "0  Andaman and Nicobar Islands      1.0     21.0\n",
       "1               Andhra Pradesh  97863.0  34385.0\n",
       "2            Arunachal Pradesh      5.0    630.0\n",
       "3                        Assam  14350.0  33553.0\n",
       "4                        Bihar  11747.0  34814.0"
      ]
     },
     "execution_count": 10,
     "metadata": {},
     "output_type": "execute_result"
    }
   ],
   "source": [
    "hosp.head()"
   ]
  },
  {
   "cell_type": "code",
   "execution_count": 6,
   "metadata": {},
   "outputs": [
    {
     "data": {
      "text/plain": [
       "(32, 3)"
      ]
     },
     "execution_count": 6,
     "metadata": {},
     "output_type": "execute_result"
    }
   ],
   "source": [
    "hosp.shape"
   ]
  },
  {
   "cell_type": "markdown",
   "metadata": {},
   "source": [
    "## Question 3: Does the data set have missing values? If yes, how many?"
   ]
  },
  {
   "cell_type": "code",
   "execution_count": 7,
   "metadata": {},
   "outputs": [
    {
     "data": {
      "text/plain": [
       "State/UT    0\n",
       "Private     2\n",
       "Public      2\n",
       "dtype: int64"
      ]
     },
     "execution_count": 7,
     "metadata": {},
     "output_type": "execute_result"
    }
   ],
   "source": [
    "hosp.isnull().sum()"
   ]
  },
  {
   "cell_type": "markdown",
   "metadata": {},
   "source": [
    "## Question 4: Drop the NA values."
   ]
  },
  {
   "cell_type": "code",
   "execution_count": 8,
   "metadata": {},
   "outputs": [],
   "source": [
    "hosp.dropna(axis= 0, inplace = True)"
   ]
  },
  {
   "cell_type": "markdown",
   "metadata": {},
   "source": [
    "## Question 5: Create a new column Total which contains a sum of private and public\n",
    "## hospitalisations. So the column Total should be a summation of the two columns\n",
    "## Public and Private."
   ]
  },
  {
   "cell_type": "code",
   "execution_count": 15,
   "metadata": {},
   "outputs": [
    {
     "data": {
      "text/html": [
       "<div>\n",
       "<style scoped>\n",
       "    .dataframe tbody tr th:only-of-type {\n",
       "        vertical-align: middle;\n",
       "    }\n",
       "\n",
       "    .dataframe tbody tr th {\n",
       "        vertical-align: top;\n",
       "    }\n",
       "\n",
       "    .dataframe thead th {\n",
       "        text-align: right;\n",
       "    }\n",
       "</style>\n",
       "<table border=\"1\" class=\"dataframe\">\n",
       "  <thead>\n",
       "    <tr style=\"text-align: right;\">\n",
       "      <th></th>\n",
       "      <th>State/UT</th>\n",
       "      <th>Private</th>\n",
       "      <th>Public</th>\n",
       "      <th>Total</th>\n",
       "    </tr>\n",
       "  </thead>\n",
       "  <tbody>\n",
       "    <tr>\n",
       "      <th>0</th>\n",
       "      <td>Andaman and Nicobar Islands</td>\n",
       "      <td>1.0</td>\n",
       "      <td>21.0</td>\n",
       "      <td>22.0</td>\n",
       "    </tr>\n",
       "    <tr>\n",
       "      <th>1</th>\n",
       "      <td>Andhra Pradesh</td>\n",
       "      <td>97863.0</td>\n",
       "      <td>34385.0</td>\n",
       "      <td>132248.0</td>\n",
       "    </tr>\n",
       "    <tr>\n",
       "      <th>2</th>\n",
       "      <td>Arunachal Pradesh</td>\n",
       "      <td>5.0</td>\n",
       "      <td>630.0</td>\n",
       "      <td>635.0</td>\n",
       "    </tr>\n",
       "    <tr>\n",
       "      <th>3</th>\n",
       "      <td>Assam</td>\n",
       "      <td>14350.0</td>\n",
       "      <td>33553.0</td>\n",
       "      <td>47903.0</td>\n",
       "    </tr>\n",
       "    <tr>\n",
       "      <th>4</th>\n",
       "      <td>Bihar</td>\n",
       "      <td>11747.0</td>\n",
       "      <td>34814.0</td>\n",
       "      <td>46561.0</td>\n",
       "    </tr>\n",
       "    <tr>\n",
       "      <th>5</th>\n",
       "      <td>Chandigarh</td>\n",
       "      <td>302.0</td>\n",
       "      <td>509.0</td>\n",
       "      <td>811.0</td>\n",
       "    </tr>\n",
       "    <tr>\n",
       "      <th>6</th>\n",
       "      <td>Chhattisgarh</td>\n",
       "      <td>411814.0</td>\n",
       "      <td>142123.0</td>\n",
       "      <td>553937.0</td>\n",
       "    </tr>\n",
       "    <tr>\n",
       "      <th>7</th>\n",
       "      <td>Dadra and Nagar Haveli</td>\n",
       "      <td>782.0</td>\n",
       "      <td>10940.0</td>\n",
       "      <td>11722.0</td>\n",
       "    </tr>\n",
       "    <tr>\n",
       "      <th>8</th>\n",
       "      <td>Daman and Diu</td>\n",
       "      <td>984.0</td>\n",
       "      <td>3343.0</td>\n",
       "      <td>4327.0</td>\n",
       "    </tr>\n",
       "    <tr>\n",
       "      <th>9</th>\n",
       "      <td>Goa</td>\n",
       "      <td>1033.0</td>\n",
       "      <td>382.0</td>\n",
       "      <td>1415.0</td>\n",
       "    </tr>\n",
       "    <tr>\n",
       "      <th>10</th>\n",
       "      <td>Gujarat</td>\n",
       "      <td>379379.0</td>\n",
       "      <td>94845.0</td>\n",
       "      <td>474224.0</td>\n",
       "    </tr>\n",
       "    <tr>\n",
       "      <th>11</th>\n",
       "      <td>Haryana</td>\n",
       "      <td>16341.0</td>\n",
       "      <td>10223.0</td>\n",
       "      <td>26564.0</td>\n",
       "    </tr>\n",
       "    <tr>\n",
       "      <th>12</th>\n",
       "      <td>Himachal Pradesh</td>\n",
       "      <td>2160.0</td>\n",
       "      <td>16461.0</td>\n",
       "      <td>18621.0</td>\n",
       "    </tr>\n",
       "    <tr>\n",
       "      <th>13</th>\n",
       "      <td>Jammu and Kashmir</td>\n",
       "      <td>9707.0</td>\n",
       "      <td>8720.0</td>\n",
       "      <td>18427.0</td>\n",
       "    </tr>\n",
       "    <tr>\n",
       "      <th>14</th>\n",
       "      <td>Jharkhand</td>\n",
       "      <td>156760.0</td>\n",
       "      <td>24114.0</td>\n",
       "      <td>180874.0</td>\n",
       "    </tr>\n",
       "    <tr>\n",
       "      <th>15</th>\n",
       "      <td>Karnataka</td>\n",
       "      <td>65502.0</td>\n",
       "      <td>128640.0</td>\n",
       "      <td>194142.0</td>\n",
       "    </tr>\n",
       "    <tr>\n",
       "      <th>16</th>\n",
       "      <td>Kerala</td>\n",
       "      <td>131557.0</td>\n",
       "      <td>391079.0</td>\n",
       "      <td>522636.0</td>\n",
       "    </tr>\n",
       "    <tr>\n",
       "      <th>17</th>\n",
       "      <td>Lakshadweep</td>\n",
       "      <td>NaN</td>\n",
       "      <td>NaN</td>\n",
       "      <td>0.0</td>\n",
       "    </tr>\n",
       "    <tr>\n",
       "      <th>18</th>\n",
       "      <td>Madhya Pradesh</td>\n",
       "      <td>29314.0</td>\n",
       "      <td>63818.0</td>\n",
       "      <td>93132.0</td>\n",
       "    </tr>\n",
       "    <tr>\n",
       "      <th>19</th>\n",
       "      <td>Maharashtra</td>\n",
       "      <td>107977.0</td>\n",
       "      <td>31179.0</td>\n",
       "      <td>139156.0</td>\n",
       "    </tr>\n",
       "    <tr>\n",
       "      <th>20</th>\n",
       "      <td>Manipur</td>\n",
       "      <td>725.0</td>\n",
       "      <td>2412.0</td>\n",
       "      <td>3137.0</td>\n",
       "    </tr>\n",
       "    <tr>\n",
       "      <th>21</th>\n",
       "      <td>Meghalaya</td>\n",
       "      <td>4836.0</td>\n",
       "      <td>9016.0</td>\n",
       "      <td>13852.0</td>\n",
       "    </tr>\n",
       "    <tr>\n",
       "      <th>22</th>\n",
       "      <td>Mizoram</td>\n",
       "      <td>441.0</td>\n",
       "      <td>12588.0</td>\n",
       "      <td>13029.0</td>\n",
       "    </tr>\n",
       "    <tr>\n",
       "      <th>23</th>\n",
       "      <td>Nagaland</td>\n",
       "      <td>325.0</td>\n",
       "      <td>532.0</td>\n",
       "      <td>857.0</td>\n",
       "    </tr>\n",
       "    <tr>\n",
       "      <th>24</th>\n",
       "      <td>Puducherry</td>\n",
       "      <td>NaN</td>\n",
       "      <td>NaN</td>\n",
       "      <td>0.0</td>\n",
       "    </tr>\n",
       "    <tr>\n",
       "      <th>25</th>\n",
       "      <td>Sikkim</td>\n",
       "      <td>21.0</td>\n",
       "      <td>91.0</td>\n",
       "      <td>112.0</td>\n",
       "    </tr>\n",
       "    <tr>\n",
       "      <th>26</th>\n",
       "      <td>Tamil Nadu</td>\n",
       "      <td>120473.0</td>\n",
       "      <td>116701.0</td>\n",
       "      <td>237174.0</td>\n",
       "    </tr>\n",
       "    <tr>\n",
       "      <th>27</th>\n",
       "      <td>Tripura</td>\n",
       "      <td>90.0</td>\n",
       "      <td>16702.0</td>\n",
       "      <td>16792.0</td>\n",
       "    </tr>\n",
       "    <tr>\n",
       "      <th>28</th>\n",
       "      <td>Uttar Pradesh</td>\n",
       "      <td>89987.0</td>\n",
       "      <td>26800.0</td>\n",
       "      <td>116787.0</td>\n",
       "    </tr>\n",
       "    <tr>\n",
       "      <th>29</th>\n",
       "      <td>Uttarakhand</td>\n",
       "      <td>30472.0</td>\n",
       "      <td>18108.0</td>\n",
       "      <td>48580.0</td>\n",
       "    </tr>\n",
       "    <tr>\n",
       "      <th>30</th>\n",
       "      <td>West Bengal</td>\n",
       "      <td>12169.0</td>\n",
       "      <td>5467.0</td>\n",
       "      <td>17636.0</td>\n",
       "    </tr>\n",
       "    <tr>\n",
       "      <th>31</th>\n",
       "      <td>Grand Total</td>\n",
       "      <td>1697117.0</td>\n",
       "      <td>1238196.0</td>\n",
       "      <td>2935313.0</td>\n",
       "    </tr>\n",
       "  </tbody>\n",
       "</table>\n",
       "</div>"
      ],
      "text/plain": [
       "                       State/UT    Private     Public      Total\n",
       "0   Andaman and Nicobar Islands        1.0       21.0       22.0\n",
       "1                Andhra Pradesh    97863.0    34385.0   132248.0\n",
       "2             Arunachal Pradesh        5.0      630.0      635.0\n",
       "3                         Assam    14350.0    33553.0    47903.0\n",
       "4                         Bihar    11747.0    34814.0    46561.0\n",
       "5                    Chandigarh      302.0      509.0      811.0\n",
       "6                  Chhattisgarh   411814.0   142123.0   553937.0\n",
       "7        Dadra and Nagar Haveli      782.0    10940.0    11722.0\n",
       "8                 Daman and Diu      984.0     3343.0     4327.0\n",
       "9                           Goa     1033.0      382.0     1415.0\n",
       "10                      Gujarat   379379.0    94845.0   474224.0\n",
       "11                      Haryana    16341.0    10223.0    26564.0\n",
       "12             Himachal Pradesh     2160.0    16461.0    18621.0\n",
       "13            Jammu and Kashmir     9707.0     8720.0    18427.0\n",
       "14                    Jharkhand   156760.0    24114.0   180874.0\n",
       "15                    Karnataka    65502.0   128640.0   194142.0\n",
       "16                       Kerala   131557.0   391079.0   522636.0\n",
       "17                  Lakshadweep        NaN        NaN        0.0\n",
       "18               Madhya Pradesh    29314.0    63818.0    93132.0\n",
       "19                  Maharashtra   107977.0    31179.0   139156.0\n",
       "20                      Manipur      725.0     2412.0     3137.0\n",
       "21                    Meghalaya     4836.0     9016.0    13852.0\n",
       "22                      Mizoram      441.0    12588.0    13029.0\n",
       "23                     Nagaland      325.0      532.0      857.0\n",
       "24                   Puducherry        NaN        NaN        0.0\n",
       "25                       Sikkim       21.0       91.0      112.0\n",
       "26                   Tamil Nadu   120473.0   116701.0   237174.0\n",
       "27                      Tripura       90.0    16702.0    16792.0\n",
       "28                Uttar Pradesh    89987.0    26800.0   116787.0\n",
       "29                  Uttarakhand    30472.0    18108.0    48580.0\n",
       "30                  West Bengal    12169.0     5467.0    17636.0\n",
       "31                  Grand Total  1697117.0  1238196.0  2935313.0"
      ]
     },
     "execution_count": 15,
     "metadata": {},
     "output_type": "execute_result"
    }
   ],
   "source": [
    "hosp[\"Total\"] = hosp.iloc[:,1:3].sum(axis = 1)\n",
    "hosp"
   ]
  },
  {
   "cell_type": "markdown",
   "metadata": {},
   "source": [
    "## Question 6: Which State or UT is the unhealthiest? (i.e. maximum number of hospitalisations) \n",
    "## HINT : Do not include Grand Total"
   ]
  },
  {
   "cell_type": "code",
   "execution_count": 28,
   "metadata": {},
   "outputs": [
    {
     "data": {
      "text/html": [
       "<div>\n",
       "<style scoped>\n",
       "    .dataframe tbody tr th:only-of-type {\n",
       "        vertical-align: middle;\n",
       "    }\n",
       "\n",
       "    .dataframe tbody tr th {\n",
       "        vertical-align: top;\n",
       "    }\n",
       "\n",
       "    .dataframe thead th {\n",
       "        text-align: right;\n",
       "    }\n",
       "</style>\n",
       "<table border=\"1\" class=\"dataframe\">\n",
       "  <thead>\n",
       "    <tr style=\"text-align: right;\">\n",
       "      <th></th>\n",
       "      <th>State/UT</th>\n",
       "      <th>Private</th>\n",
       "      <th>Public</th>\n",
       "      <th>Total</th>\n",
       "    </tr>\n",
       "  </thead>\n",
       "  <tbody>\n",
       "    <tr>\n",
       "      <th>31</th>\n",
       "      <td>Grand Total</td>\n",
       "      <td>1697117.0</td>\n",
       "      <td>1238196.0</td>\n",
       "      <td>2935313.0</td>\n",
       "    </tr>\n",
       "    <tr>\n",
       "      <th>6</th>\n",
       "      <td>Chhattisgarh</td>\n",
       "      <td>411814.0</td>\n",
       "      <td>142123.0</td>\n",
       "      <td>553937.0</td>\n",
       "    </tr>\n",
       "    <tr>\n",
       "      <th>16</th>\n",
       "      <td>Kerala</td>\n",
       "      <td>131557.0</td>\n",
       "      <td>391079.0</td>\n",
       "      <td>522636.0</td>\n",
       "    </tr>\n",
       "  </tbody>\n",
       "</table>\n",
       "</div>"
      ],
      "text/plain": [
       "        State/UT    Private     Public      Total\n",
       "31   Grand Total  1697117.0  1238196.0  2935313.0\n",
       "6   Chhattisgarh   411814.0   142123.0   553937.0\n",
       "16        Kerala   131557.0   391079.0   522636.0"
      ]
     },
     "execution_count": 28,
     "metadata": {},
     "output_type": "execute_result"
    }
   ],
   "source": [
    "hosp.sort_values(by=['Total'],ascending=False).head(3)"
   ]
  },
  {
   "cell_type": "markdown",
   "metadata": {},
   "source": [
    "## Question 7: Chhattisgarh accounts for roughly 18% share in the total hospitalisations in India (assuming these are the only states/UTs in India). True for False?"
   ]
  },
  {
   "cell_type": "code",
   "execution_count": 49,
   "metadata": {},
   "outputs": [
    {
     "name": "stdout",
     "output_type": "stream",
     "text": [
      "6    553937.0\n",
      "Name: Total, dtype: float64\n"
     ]
    },
    {
     "data": {
      "text/plain": [
       "31    2935313.0\n",
       "Name: Total, dtype: float64"
      ]
     },
     "execution_count": 49,
     "metadata": {},
     "output_type": "execute_result"
    }
   ],
   "source": [
    "chat_num=hosp[\"Total\"][hosp[\"State/UT\"]==\"Chhattisgarh\"]\n",
    "print(chat_num)\n",
    "total_num = hosp[\"Total\"].loc[hosp[\"State/UT\"]==\"Grand Total\"]\n",
    "total_num\n"
   ]
  },
  {
   "cell_type": "markdown",
   "metadata": {},
   "source": [
    "## Question 8: In Dadra and Nagar Haveli, which type of hospitals do people prefer?"
   ]
  },
  {
   "cell_type": "code",
   "execution_count": 50,
   "metadata": {},
   "outputs": [
    {
     "data": {
      "text/html": [
       "<div>\n",
       "<style scoped>\n",
       "    .dataframe tbody tr th:only-of-type {\n",
       "        vertical-align: middle;\n",
       "    }\n",
       "\n",
       "    .dataframe tbody tr th {\n",
       "        vertical-align: top;\n",
       "    }\n",
       "\n",
       "    .dataframe thead th {\n",
       "        text-align: right;\n",
       "    }\n",
       "</style>\n",
       "<table border=\"1\" class=\"dataframe\">\n",
       "  <thead>\n",
       "    <tr style=\"text-align: right;\">\n",
       "      <th></th>\n",
       "      <th>State/UT</th>\n",
       "      <th>Private</th>\n",
       "      <th>Public</th>\n",
       "      <th>Total</th>\n",
       "    </tr>\n",
       "  </thead>\n",
       "  <tbody>\n",
       "    <tr>\n",
       "      <th>7</th>\n",
       "      <td>Dadra and Nagar Haveli</td>\n",
       "      <td>782.0</td>\n",
       "      <td>10940.0</td>\n",
       "      <td>11722.0</td>\n",
       "    </tr>\n",
       "  </tbody>\n",
       "</table>\n",
       "</div>"
      ],
      "text/plain": [
       "                 State/UT  Private   Public    Total\n",
       "7  Dadra and Nagar Haveli    782.0  10940.0  11722.0"
      ]
     },
     "execution_count": 50,
     "metadata": {},
     "output_type": "execute_result"
    }
   ],
   "source": [
    "hosp[hosp[\"State/UT\"]==\"Dadra and Nagar Haveli\"]"
   ]
  },
  {
   "cell_type": "markdown",
   "metadata": {},
   "source": [
    "## Question 9: Plot the total hospitalisations in a plot of your choice and comment on the \n",
    "## healthiest State/UT. (Assuming that the only parameter for Healthiest is the number of \n",
    "## hospitalisations only)"
   ]
  },
  {
   "cell_type": "code",
   "execution_count": 60,
   "metadata": {},
   "outputs": [
    {
     "data": {
      "image/png": "[encoded data removed]",
      "text/plain": [
       "<Figure size 1080x1080 with 1 Axes>"
      ]
     },
     "metadata": {
      "needs_background": "light"
     },
     "output_type": "display_data"
    }
   ],
   "source": [
    "sns.catplot(x= \"Total\", y= \"State/UT\", kind = \"bar\", data = hosp.sort_values(by = \"Total\"), height = 15)\n",
    "plt.show()"
   ]
  },
  {
   "cell_type": "code",
   "execution_count": 64,
   "metadata": {},
   "outputs": [
    {
     "data": {
      "text/html": [
       "<div>\n",
       "<style scoped>\n",
       "    .dataframe tbody tr th:only-of-type {\n",
       "        vertical-align: middle;\n",
       "    }\n",
       "\n",
       "    .dataframe tbody tr th {\n",
       "        vertical-align: top;\n",
       "    }\n",
       "\n",
       "    .dataframe thead th {\n",
       "        text-align: right;\n",
       "    }\n",
       "</style>\n",
       "<table border=\"1\" class=\"dataframe\">\n",
       "  <thead>\n",
       "    <tr style=\"text-align: right;\">\n",
       "      <th></th>\n",
       "      <th>State/UT</th>\n",
       "      <th>Private</th>\n",
       "      <th>Public</th>\n",
       "      <th>Total</th>\n",
       "    </tr>\n",
       "  </thead>\n",
       "  <tbody>\n",
       "    <tr>\n",
       "      <th>0</th>\n",
       "      <td>Andaman and Nicobar Islands</td>\n",
       "      <td>1.0</td>\n",
       "      <td>21.0</td>\n",
       "      <td>22.0</td>\n",
       "    </tr>\n",
       "    <tr>\n",
       "      <th>1</th>\n",
       "      <td>Andhra Pradesh</td>\n",
       "      <td>97863.0</td>\n",
       "      <td>34385.0</td>\n",
       "      <td>132248.0</td>\n",
       "    </tr>\n",
       "    <tr>\n",
       "      <th>2</th>\n",
       "      <td>Arunachal Pradesh</td>\n",
       "      <td>5.0</td>\n",
       "      <td>630.0</td>\n",
       "      <td>635.0</td>\n",
       "    </tr>\n",
       "    <tr>\n",
       "      <th>3</th>\n",
       "      <td>Assam</td>\n",
       "      <td>14350.0</td>\n",
       "      <td>33553.0</td>\n",
       "      <td>47903.0</td>\n",
       "    </tr>\n",
       "    <tr>\n",
       "      <th>4</th>\n",
       "      <td>Bihar</td>\n",
       "      <td>11747.0</td>\n",
       "      <td>34814.0</td>\n",
       "      <td>46561.0</td>\n",
       "    </tr>\n",
       "    <tr>\n",
       "      <th>5</th>\n",
       "      <td>Chandigarh</td>\n",
       "      <td>302.0</td>\n",
       "      <td>509.0</td>\n",
       "      <td>811.0</td>\n",
       "    </tr>\n",
       "    <tr>\n",
       "      <th>6</th>\n",
       "      <td>Chhattisgarh</td>\n",
       "      <td>411814.0</td>\n",
       "      <td>142123.0</td>\n",
       "      <td>553937.0</td>\n",
       "    </tr>\n",
       "    <tr>\n",
       "      <th>7</th>\n",
       "      <td>Dadra and Nagar Haveli</td>\n",
       "      <td>782.0</td>\n",
       "      <td>10940.0</td>\n",
       "      <td>11722.0</td>\n",
       "    </tr>\n",
       "    <tr>\n",
       "      <th>8</th>\n",
       "      <td>Daman and Diu</td>\n",
       "      <td>984.0</td>\n",
       "      <td>3343.0</td>\n",
       "      <td>4327.0</td>\n",
       "    </tr>\n",
       "    <tr>\n",
       "      <th>9</th>\n",
       "      <td>Goa</td>\n",
       "      <td>1033.0</td>\n",
       "      <td>382.0</td>\n",
       "      <td>1415.0</td>\n",
       "    </tr>\n",
       "    <tr>\n",
       "      <th>10</th>\n",
       "      <td>Gujarat</td>\n",
       "      <td>379379.0</td>\n",
       "      <td>94845.0</td>\n",
       "      <td>474224.0</td>\n",
       "    </tr>\n",
       "    <tr>\n",
       "      <th>11</th>\n",
       "      <td>Haryana</td>\n",
       "      <td>16341.0</td>\n",
       "      <td>10223.0</td>\n",
       "      <td>26564.0</td>\n",
       "    </tr>\n",
       "    <tr>\n",
       "      <th>12</th>\n",
       "      <td>Himachal Pradesh</td>\n",
       "      <td>2160.0</td>\n",
       "      <td>16461.0</td>\n",
       "      <td>18621.0</td>\n",
       "    </tr>\n",
       "    <tr>\n",
       "      <th>13</th>\n",
       "      <td>Jammu and Kashmir</td>\n",
       "      <td>9707.0</td>\n",
       "      <td>8720.0</td>\n",
       "      <td>18427.0</td>\n",
       "    </tr>\n",
       "    <tr>\n",
       "      <th>14</th>\n",
       "      <td>Jharkhand</td>\n",
       "      <td>156760.0</td>\n",
       "      <td>24114.0</td>\n",
       "      <td>180874.0</td>\n",
       "    </tr>\n",
       "    <tr>\n",
       "      <th>15</th>\n",
       "      <td>Karnataka</td>\n",
       "      <td>65502.0</td>\n",
       "      <td>128640.0</td>\n",
       "      <td>194142.0</td>\n",
       "    </tr>\n",
       "    <tr>\n",
       "      <th>16</th>\n",
       "      <td>Kerala</td>\n",
       "      <td>131557.0</td>\n",
       "      <td>391079.0</td>\n",
       "      <td>522636.0</td>\n",
       "    </tr>\n",
       "    <tr>\n",
       "      <th>17</th>\n",
       "      <td>Lakshadweep</td>\n",
       "      <td>NaN</td>\n",
       "      <td>NaN</td>\n",
       "      <td>0.0</td>\n",
       "    </tr>\n",
       "    <tr>\n",
       "      <th>18</th>\n",
       "      <td>Madhya Pradesh</td>\n",
       "      <td>29314.0</td>\n",
       "      <td>63818.0</td>\n",
       "      <td>93132.0</td>\n",
       "    </tr>\n",
       "    <tr>\n",
       "      <th>19</th>\n",
       "      <td>Maharashtra</td>\n",
       "      <td>107977.0</td>\n",
       "      <td>31179.0</td>\n",
       "      <td>139156.0</td>\n",
       "    </tr>\n",
       "    <tr>\n",
       "      <th>20</th>\n",
       "      <td>Manipur</td>\n",
       "      <td>725.0</td>\n",
       "      <td>2412.0</td>\n",
       "      <td>3137.0</td>\n",
       "    </tr>\n",
       "    <tr>\n",
       "      <th>21</th>\n",
       "      <td>Meghalaya</td>\n",
       "      <td>4836.0</td>\n",
       "      <td>9016.0</td>\n",
       "      <td>13852.0</td>\n",
       "    </tr>\n",
       "    <tr>\n",
       "      <th>22</th>\n",
       "      <td>Mizoram</td>\n",
       "      <td>441.0</td>\n",
       "      <td>12588.0</td>\n",
       "      <td>13029.0</td>\n",
       "    </tr>\n",
       "    <tr>\n",
       "      <th>23</th>\n",
       "      <td>Nagaland</td>\n",
       "      <td>325.0</td>\n",
       "      <td>532.0</td>\n",
       "      <td>857.0</td>\n",
       "    </tr>\n",
       "    <tr>\n",
       "      <th>24</th>\n",
       "      <td>Puducherry</td>\n",
       "      <td>NaN</td>\n",
       "      <td>NaN</td>\n",
       "      <td>0.0</td>\n",
       "    </tr>\n",
       "    <tr>\n",
       "      <th>25</th>\n",
       "      <td>Sikkim</td>\n",
       "      <td>21.0</td>\n",
       "      <td>91.0</td>\n",
       "      <td>112.0</td>\n",
       "    </tr>\n",
       "    <tr>\n",
       "      <th>26</th>\n",
       "      <td>Tamil Nadu</td>\n",
       "      <td>120473.0</td>\n",
       "      <td>116701.0</td>\n",
       "      <td>237174.0</td>\n",
       "    </tr>\n",
       "    <tr>\n",
       "      <th>27</th>\n",
       "      <td>Tripura</td>\n",
       "      <td>90.0</td>\n",
       "      <td>16702.0</td>\n",
       "      <td>16792.0</td>\n",
       "    </tr>\n",
       "    <tr>\n",
       "      <th>28</th>\n",
       "      <td>Uttar Pradesh</td>\n",
       "      <td>89987.0</td>\n",
       "      <td>26800.0</td>\n",
       "      <td>116787.0</td>\n",
       "    </tr>\n",
       "    <tr>\n",
       "      <th>29</th>\n",
       "      <td>Uttarakhand</td>\n",
       "      <td>30472.0</td>\n",
       "      <td>18108.0</td>\n",
       "      <td>48580.0</td>\n",
       "    </tr>\n",
       "    <tr>\n",
       "      <th>30</th>\n",
       "      <td>West Bengal</td>\n",
       "      <td>12169.0</td>\n",
       "      <td>5467.0</td>\n",
       "      <td>17636.0</td>\n",
       "    </tr>\n",
       "  </tbody>\n",
       "</table>\n",
       "</div>"
      ],
      "text/plain": [
       "                       State/UT   Private    Public     Total\n",
       "0   Andaman and Nicobar Islands       1.0      21.0      22.0\n",
       "1                Andhra Pradesh   97863.0   34385.0  132248.0\n",
       "2             Arunachal Pradesh       5.0     630.0     635.0\n",
       "3                         Assam   14350.0   33553.0   47903.0\n",
       "4                         Bihar   11747.0   34814.0   46561.0\n",
       "5                    Chandigarh     302.0     509.0     811.0\n",
       "6                  Chhattisgarh  411814.0  142123.0  553937.0\n",
       "7        Dadra and Nagar Haveli     782.0   10940.0   11722.0\n",
       "8                 Daman and Diu     984.0    3343.0    4327.0\n",
       "9                           Goa    1033.0     382.0    1415.0\n",
       "10                      Gujarat  379379.0   94845.0  474224.0\n",
       "11                      Haryana   16341.0   10223.0   26564.0\n",
       "12             Himachal Pradesh    2160.0   16461.0   18621.0\n",
       "13            Jammu and Kashmir    9707.0    8720.0   18427.0\n",
       "14                    Jharkhand  156760.0   24114.0  180874.0\n",
       "15                    Karnataka   65502.0  128640.0  194142.0\n",
       "16                       Kerala  131557.0  391079.0  522636.0\n",
       "17                  Lakshadweep       NaN       NaN       0.0\n",
       "18               Madhya Pradesh   29314.0   63818.0   93132.0\n",
       "19                  Maharashtra  107977.0   31179.0  139156.0\n",
       "20                      Manipur     725.0    2412.0    3137.0\n",
       "21                    Meghalaya    4836.0    9016.0   13852.0\n",
       "22                      Mizoram     441.0   12588.0   13029.0\n",
       "23                     Nagaland     325.0     532.0     857.0\n",
       "24                   Puducherry       NaN       NaN       0.0\n",
       "25                       Sikkim      21.0      91.0     112.0\n",
       "26                   Tamil Nadu  120473.0  116701.0  237174.0\n",
       "27                      Tripura      90.0   16702.0   16792.0\n",
       "28                Uttar Pradesh   89987.0   26800.0  116787.0\n",
       "29                  Uttarakhand   30472.0   18108.0   48580.0\n",
       "30                  West Bengal   12169.0    5467.0   17636.0"
      ]
     },
     "execution_count": 64,
     "metadata": {},
     "output_type": "execute_result"
    }
   ],
   "source": [
    "hosp_copy = hosp.iloc[:-1,:]\n",
    "hosp_copy"
   ]
  },
  {
   "cell_type": "code",
   "execution_count": 96,
   "metadata": {},
   "outputs": [
    {
     "name": "stdout",
     "output_type": "stream",
     "text": [
      "                       State/UT  Total\n",
      "24                   Puducherry    0.0\n",
      "17                  Lakshadweep    0.0\n",
      "0   Andaman and Nicobar Islands   22.0\n",
      "25                       Sikkim  112.0\n",
      "2             Arunachal Pradesh  635.0\n"
     ]
    },
    {
     "data": {
      "text/plain": [
       "State/UT\n",
       "Puducherry                       0.0\n",
       "Lakshadweep                      0.0\n",
       "Andaman and Nicobar Islands     22.0\n",
       "Sikkim                         112.0\n",
       "Arunachal Pradesh              635.0\n",
       "Name: Total, dtype: float64"
      ]
     },
     "execution_count": 96,
     "metadata": {},
     "output_type": "execute_result"
    }
   ],
   "source": [
    "finding_healthy_simple= hosp_copy[[\"State/UT\", \"Total\"]].sort_values(by = \"Total\", ascending = False)                       #hosp_copy.groupby(['State/UT']).sum()['Total'].sort_values()\n",
    "print(finding_healthy.head())\n",
    "finding_healthy_complex = hosp_copy.groupby(['State/UT']).sum()['Total'].sort_values(ascending = True)\n",
    "finding_healthy_complex.head()"
   ]
  },
  {
   "cell_type": "code",
   "execution_count": 97,
   "metadata": {},
   "outputs": [
    {
     "data": {
      "image/png": "[encoded data removed]",
      "text/plain": [
       "<Figure size 864x504 with 1 Axes>"
      ]
     },
     "metadata": {
      "needs_background": "light"
     },
     "output_type": "display_data"
    }
   ],
   "source": [
    "plt.figure(figsize=(12,7))\n",
    "sns.barplot(x=finding_healthy_complex.values, y=finding_healthy_complex.index)\n",
    "plt.xscale('log')"
   ]
  },
  {
   "cell_type": "markdown",
   "metadata": {},
   "source": [
    "## Question 10: Public Hospitalisations are more on an all India level as compared to state/UT level. True or False? \n",
    "## HINT: Calculate the percentage of public hospitalisation (public/total), then find out the average percentage of all states using the mean() function. Compare this average percentage (state) with the grand total (all India) percentage and comment."
   ]
  },
  {
   "cell_type": "code",
   "execution_count": 104,
   "metadata": {},
   "outputs": [
    {
     "name": "stdout",
     "output_type": "stream",
     "text": [
      "                       State/UT    Private     Public      Total  \\\n",
      "0   Andaman and Nicobar Islands        1.0       21.0       22.0   \n",
      "1                Andhra Pradesh    97863.0    34385.0   132248.0   \n",
      "2             Arunachal Pradesh        5.0      630.0      635.0   \n",
      "3                         Assam    14350.0    33553.0    47903.0   \n",
      "4                         Bihar    11747.0    34814.0    46561.0   \n",
      "5                    Chandigarh      302.0      509.0      811.0   \n",
      "6                  Chhattisgarh   411814.0   142123.0   553937.0   \n",
      "7        Dadra and Nagar Haveli      782.0    10940.0    11722.0   \n",
      "8                 Daman and Diu      984.0     3343.0     4327.0   \n",
      "9                           Goa     1033.0      382.0     1415.0   \n",
      "10                      Gujarat   379379.0    94845.0   474224.0   \n",
      "11                      Haryana    16341.0    10223.0    26564.0   \n",
      "12             Himachal Pradesh     2160.0    16461.0    18621.0   \n",
      "13            Jammu and Kashmir     9707.0     8720.0    18427.0   \n",
      "14                    Jharkhand   156760.0    24114.0   180874.0   \n",
      "15                    Karnataka    65502.0   128640.0   194142.0   \n",
      "16                       Kerala   131557.0   391079.0   522636.0   \n",
      "17                  Lakshadweep        NaN        NaN        0.0   \n",
      "18               Madhya Pradesh    29314.0    63818.0    93132.0   \n",
      "19                  Maharashtra   107977.0    31179.0   139156.0   \n",
      "20                      Manipur      725.0     2412.0     3137.0   \n",
      "21                    Meghalaya     4836.0     9016.0    13852.0   \n",
      "22                      Mizoram      441.0    12588.0    13029.0   \n",
      "23                     Nagaland      325.0      532.0      857.0   \n",
      "24                   Puducherry        NaN        NaN        0.0   \n",
      "25                       Sikkim       21.0       91.0      112.0   \n",
      "26                   Tamil Nadu   120473.0   116701.0   237174.0   \n",
      "27                      Tripura       90.0    16702.0    16792.0   \n",
      "28                Uttar Pradesh    89987.0    26800.0   116787.0   \n",
      "29                  Uttarakhand    30472.0    18108.0    48580.0   \n",
      "30                  West Bengal    12169.0     5467.0    17636.0   \n",
      "31                  Grand Total  1697117.0  1238196.0  2935313.0   \n",
      "\n",
      "    Public_percentage  \n",
      "0            0.954545  \n",
      "1            0.260004  \n",
      "2            0.992126  \n",
      "3            0.700436  \n",
      "4            0.747707  \n",
      "5            0.627620  \n",
      "6            0.256569  \n",
      "7            0.933288  \n",
      "8            0.772591  \n",
      "9            0.269965  \n",
      "10           0.200000  \n",
      "11           0.384844  \n",
      "12           0.884002  \n",
      "13           0.473219  \n",
      "14           0.133319  \n",
      "15           0.662608  \n",
      "16           0.748282  \n",
      "17                NaN  \n",
      "18           0.685242  \n",
      "19           0.224058  \n",
      "20           0.768887  \n",
      "21           0.650881  \n",
      "22           0.966152  \n",
      "23           0.620770  \n",
      "24                NaN  \n",
      "25           0.812500  \n",
      "26           0.492048  \n",
      "27           0.994640  \n",
      "28           0.229478  \n",
      "29           0.372746  \n",
      "30           0.309991  \n",
      "31           0.421828  \n"
     ]
    },
    {
     "name": "stderr",
     "output_type": "stream",
     "text": [
      "<ipython-input-104-4006cd9aae85>:3: SettingWithCopyWarning: \n",
      "A value is trying to be set on a copy of a slice from a DataFrame.\n",
      "Try using .loc[row_indexer,col_indexer] = value instead\n",
      "\n",
      "See the caveats in the documentation: https://pandas.pydata.org/pandas-docs/stable/user_guide/indexing.html#returning-a-view-versus-a-copy\n",
      "  hosp_copy[\"Public_percentage\"] = (hosp_copy[\"Public\"]/hosp_copy[\"Total\"])\n"
     ]
    },
    {
     "data": {
      "text/plain": [
       "Private              58521.275862\n",
       "Public               42696.413793\n",
       "Total                94687.516129\n",
       "Public_percentage        0.590639\n",
       "dtype: float64"
      ]
     },
     "execution_count": 104,
     "metadata": {},
     "output_type": "execute_result"
    }
   ],
   "source": [
    "hosp['Public_percentage']=(hosp['Public']/hosp['Total'])\n",
    "print(hosp)\n",
    "hosp_copy[\"Public_percentage\"] = (hosp_copy[\"Public\"]/hosp_copy[\"Total\"])\n",
    "hosp_copy.mean()\n",
    "\n"
   ]
  },
  {
   "cell_type": "markdown",
   "metadata": {},
   "source": [
    "## Question 11: Which States/UTs have more than 50000 hospitalisations?"
   ]
  },
  {
   "cell_type": "code",
   "execution_count": 109,
   "metadata": {},
   "outputs": [
    {
     "data": {
      "text/plain": [
       "6       Chhattisgarh\n",
       "16            Kerala\n",
       "10           Gujarat\n",
       "26        Tamil Nadu\n",
       "15         Karnataka\n",
       "14         Jharkhand\n",
       "19       Maharashtra\n",
       "1     Andhra Pradesh\n",
       "28     Uttar Pradesh\n",
       "18    Madhya Pradesh\n",
       "Name: State/UT, dtype: object"
      ]
     },
     "execution_count": 109,
     "metadata": {},
     "output_type": "execute_result"
    }
   ],
   "source": [
    "hosp_copy[hosp_copy[\"Total\"]> 50000].sort_values(by='Total',ascending=False)[\"State/UT\"]"
   ]
  },
  {
   "cell_type": "markdown",
   "metadata": {},
   "source": [
    "## Question 12: Which state reported exactly 1 case of private hospitalisation?"
   ]
  },
  {
   "cell_type": "code",
   "execution_count": 111,
   "metadata": {},
   "outputs": [
    {
     "data": {
      "text/plain": [
       "0    Andaman and Nicobar Islands\n",
       "Name: State/UT, dtype: object"
      ]
     },
     "execution_count": 111,
     "metadata": {},
     "output_type": "execute_result"
    }
   ],
   "source": [
    "hosp_copy[hosp_copy[\"Private\"]==1][\"State/UT\"]"
   ]
  },
  {
   "cell_type": "markdown",
   "metadata": {},
   "source": [
    "## Question 13: Which State/UT has maximum number of people admitted to public hospitals?"
   ]
  },
  {
   "cell_type": "code",
   "execution_count": 114,
   "metadata": {},
   "outputs": [
    {
     "data": {
      "text/plain": [
       "'Kerala'"
      ]
     },
     "execution_count": 114,
     "metadata": {},
     "output_type": "execute_result"
    }
   ],
   "source": [
    "hosp_copy.iloc[hosp_copy[\"Public\"].idxmax()][\"State/UT\"]"
   ]
  },
  {
   "cell_type": "markdown",
   "metadata": {},
   "source": [
    "## Question 14: Which state among Tripura and Gujarat witnessed more hospitalisations? \n",
    "## (in absolute numbers)"
   ]
  },
  {
   "cell_type": "code",
   "execution_count": 120,
   "metadata": {},
   "outputs": [
    {
     "name": "stderr",
     "output_type": "stream",
     "text": [
      "<ipython-input-120-572c3f18db84>:1: UserWarning: Boolean Series key will be reindexed to match DataFrame index.\n",
      "  hosp_copy[hosp_copy.dtypes!=\"object\"]\n"
     ]
    },
    {
     "ename": "IndexingError",
     "evalue": "Unalignable boolean Series provided as indexer (index of the boolean Series and of the indexed object do not match).",
     "output_type": "error",
     "traceback": [
      "\u001b[1;31m---------------------------------------------------------------------------\u001b[0m",
      "\u001b[1;31mIndexingError\u001b[0m                             Traceback (most recent call last)",
      "\u001b[1;32m<ipython-input-120-572c3f18db84>\u001b[0m in \u001b[0;36m<module>\u001b[1;34m\u001b[0m\n\u001b[1;32m----> 1\u001b[1;33m \u001b[0mhosp_copy\u001b[0m\u001b[1;33m[\u001b[0m\u001b[0mhosp_copy\u001b[0m\u001b[1;33m.\u001b[0m\u001b[0mdtypes\u001b[0m\u001b[1;33m!=\u001b[0m\u001b[1;34m\"object\"\u001b[0m\u001b[1;33m]\u001b[0m\u001b[1;33m\u001b[0m\u001b[1;33m\u001b[0m\u001b[0m\n\u001b[0m",
      "\u001b[1;32m~\\anaconda3\\lib\\site-packages\\pandas\\core\\frame.py\u001b[0m in \u001b[0;36m__getitem__\u001b[1;34m(self, key)\u001b[0m\n\u001b[0;32m   2891\u001b[0m         \u001b[1;31m# Do we have a (boolean) 1d indexer?\u001b[0m\u001b[1;33m\u001b[0m\u001b[1;33m\u001b[0m\u001b[1;33m\u001b[0m\u001b[0m\n\u001b[0;32m   2892\u001b[0m         \u001b[1;32mif\u001b[0m \u001b[0mcom\u001b[0m\u001b[1;33m.\u001b[0m\u001b[0mis_bool_indexer\u001b[0m\u001b[1;33m(\u001b[0m\u001b[0mkey\u001b[0m\u001b[1;33m)\u001b[0m\u001b[1;33m:\u001b[0m\u001b[1;33m\u001b[0m\u001b[1;33m\u001b[0m\u001b[0m\n\u001b[1;32m-> 2893\u001b[1;33m             \u001b[1;32mreturn\u001b[0m \u001b[0mself\u001b[0m\u001b[1;33m.\u001b[0m\u001b[0m_getitem_bool_array\u001b[0m\u001b[1;33m(\u001b[0m\u001b[0mkey\u001b[0m\u001b[1;33m)\u001b[0m\u001b[1;33m\u001b[0m\u001b[1;33m\u001b[0m\u001b[0m\n\u001b[0m\u001b[0;32m   2894\u001b[0m \u001b[1;33m\u001b[0m\u001b[0m\n\u001b[0;32m   2895\u001b[0m         \u001b[1;31m# We are left with two options: a single key, and a collection of keys,\u001b[0m\u001b[1;33m\u001b[0m\u001b[1;33m\u001b[0m\u001b[1;33m\u001b[0m\u001b[0m\n",
      "\u001b[1;32m~\\anaconda3\\lib\\site-packages\\pandas\\core\\frame.py\u001b[0m in \u001b[0;36m_getitem_bool_array\u001b[1;34m(self, key)\u001b[0m\n\u001b[0;32m   2943\u001b[0m         \u001b[1;31m# check_bool_indexer will throw exception if Series key cannot\u001b[0m\u001b[1;33m\u001b[0m\u001b[1;33m\u001b[0m\u001b[1;33m\u001b[0m\u001b[0m\n\u001b[0;32m   2944\u001b[0m         \u001b[1;31m# be reindexed to match DataFrame rows\u001b[0m\u001b[1;33m\u001b[0m\u001b[1;33m\u001b[0m\u001b[1;33m\u001b[0m\u001b[0m\n\u001b[1;32m-> 2945\u001b[1;33m         \u001b[0mkey\u001b[0m \u001b[1;33m=\u001b[0m \u001b[0mcheck_bool_indexer\u001b[0m\u001b[1;33m(\u001b[0m\u001b[0mself\u001b[0m\u001b[1;33m.\u001b[0m\u001b[0mindex\u001b[0m\u001b[1;33m,\u001b[0m \u001b[0mkey\u001b[0m\u001b[1;33m)\u001b[0m\u001b[1;33m\u001b[0m\u001b[1;33m\u001b[0m\u001b[0m\n\u001b[0m\u001b[0;32m   2946\u001b[0m         \u001b[0mindexer\u001b[0m \u001b[1;33m=\u001b[0m \u001b[0mkey\u001b[0m\u001b[1;33m.\u001b[0m\u001b[0mnonzero\u001b[0m\u001b[1;33m(\u001b[0m\u001b[1;33m)\u001b[0m\u001b[1;33m[\u001b[0m\u001b[1;36m0\u001b[0m\u001b[1;33m]\u001b[0m\u001b[1;33m\u001b[0m\u001b[1;33m\u001b[0m\u001b[0m\n\u001b[0;32m   2947\u001b[0m         \u001b[1;32mreturn\u001b[0m \u001b[0mself\u001b[0m\u001b[1;33m.\u001b[0m\u001b[0m_take_with_is_copy\u001b[0m\u001b[1;33m(\u001b[0m\u001b[0mindexer\u001b[0m\u001b[1;33m,\u001b[0m \u001b[0maxis\u001b[0m\u001b[1;33m=\u001b[0m\u001b[1;36m0\u001b[0m\u001b[1;33m)\u001b[0m\u001b[1;33m\u001b[0m\u001b[1;33m\u001b[0m\u001b[0m\n",
      "\u001b[1;32m~\\anaconda3\\lib\\site-packages\\pandas\\core\\indexing.py\u001b[0m in \u001b[0;36mcheck_bool_indexer\u001b[1;34m(index, key)\u001b[0m\n\u001b[0;32m   2182\u001b[0m         \u001b[0mmask\u001b[0m \u001b[1;33m=\u001b[0m \u001b[0misna\u001b[0m\u001b[1;33m(\u001b[0m\u001b[0mresult\u001b[0m\u001b[1;33m.\u001b[0m\u001b[0m_values\u001b[0m\u001b[1;33m)\u001b[0m\u001b[1;33m\u001b[0m\u001b[1;33m\u001b[0m\u001b[0m\n\u001b[0;32m   2183\u001b[0m         \u001b[1;32mif\u001b[0m \u001b[0mmask\u001b[0m\u001b[1;33m.\u001b[0m\u001b[0many\u001b[0m\u001b[1;33m(\u001b[0m\u001b[1;33m)\u001b[0m\u001b[1;33m:\u001b[0m\u001b[1;33m\u001b[0m\u001b[1;33m\u001b[0m\u001b[0m\n\u001b[1;32m-> 2184\u001b[1;33m             raise IndexingError(\n\u001b[0m\u001b[0;32m   2185\u001b[0m                 \u001b[1;34m\"Unalignable boolean Series provided as \"\u001b[0m\u001b[1;33m\u001b[0m\u001b[1;33m\u001b[0m\u001b[0m\n\u001b[0;32m   2186\u001b[0m                 \u001b[1;34m\"indexer (index of the boolean Series and of \"\u001b[0m\u001b[1;33m\u001b[0m\u001b[1;33m\u001b[0m\u001b[0m\n",
      "\u001b[1;31mIndexingError\u001b[0m: Unalignable boolean Series provided as indexer (index of the boolean Series and of the indexed object do not match)."
     ]
    }
   ],
   "source": [
    "hosp_copy[hosp_copy.dtypes!=\"object\"]"
   ]
  },
  {
   "cell_type": "markdown",
   "metadata": {},
   "source": [
    "## Question 15: Are there any extreme values/ outliers present in this data set? Do these\n",
    "## values impact the analysis?"
   ]
  },
  {
   "cell_type": "code",
   "execution_count": null,
   "metadata": {
    "scrolled": true
   },
   "outputs": [],
   "source": []
  },
  {
   "cell_type": "markdown",
   "metadata": {},
   "source": [
    "THE END!"
   ]
  }
 ],
 "metadata": {
  "kernelspec": {
   "display_name": "Python 3",
   "language": "python",
   "name": "python3"
  },
  "language_info": {
   "codemirror_mode": {
    "name": "ipython",
    "version": 3
   },
   "file_extension": ".py",
   "mimetype": "text/x-python",
   "name": "python",
   "nbconvert_exporter": "python",
   "pygments_lexer": "ipython3",
   "version": "3.8.5"
  }
 },
 "nbformat": 4,
 "nbformat_minor": 2
}
