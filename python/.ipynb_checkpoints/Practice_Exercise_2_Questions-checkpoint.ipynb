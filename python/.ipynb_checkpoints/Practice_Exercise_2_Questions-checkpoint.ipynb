{
 "cells": [
  {
   "cell_type": "markdown",
   "metadata": {
    "colab_type": "text",
    "id": "42-KAc9Y8HeQ"
   },
   "source": [
    "Q1.Check the data types of the below variables:\n",
    "a=50, b=10.4, c=\"Hello\""
   ]
  },
  {
   "cell_type": "code",
   "execution_count": 38,
   "metadata": {
    "colab": {},
    "colab_type": "code",
    "id": "BlsI6Ndn8VNV"
   },
   "outputs": [],
   "source": [
    "\n"
   ]
  },
  {
   "cell_type": "markdown",
   "metadata": {
    "colab_type": "text",
    "id": "rqsPIAw5-lVO"
   },
   "source": [
    "Q2.Check whether the given string is in Upper case?\n",
    "\n",
    "String - \" My Name is Adam\""
   ]
  },
  {
   "cell_type": "code",
   "execution_count": 38,
   "metadata": {
    "colab": {},
    "colab_type": "code",
    "id": "YXkpHrMR-s1b"
   },
   "outputs": [],
   "source": [
    "\n"
   ]
  },
  {
   "cell_type": "markdown",
   "metadata": {
    "colab_type": "text",
    "id": "xzUsyo3m_BHS"
   },
   "source": [
    "Q3.What is the length of the given string?\n",
    "\n",
    "String- \"My Name is Adam\""
   ]
  },
  {
   "cell_type": "code",
   "execution_count": 38,
   "metadata": {
    "colab": {},
    "colab_type": "code",
    "id": "KU1QQPs9_Jim"
   },
   "outputs": [],
   "source": []
  },
  {
   "cell_type": "markdown",
   "metadata": {
    "colab_type": "text",
    "id": "HFSUOTfE6JIg"
   },
   "source": [
    "Q4.Write a code (using \"for\" loop) to print the sum of all elements in the list = [6, 5, 3, 8, 4, 2, 5, 4, 11, 43]?"
   ]
  },
  {
   "cell_type": "code",
   "execution_count": 38,
   "metadata": {
    "colab": {},
    "colab_type": "code",
    "id": "3XB7hVCG6U56"
   },
   "outputs": [],
   "source": [
    "\n"
   ]
  },
  {
   "cell_type": "code",
   "execution_count": 38,
   "metadata": {
    "colab": {},
    "colab_type": "code",
    "id": "ZB9xkZjG6a5l"
   },
   "outputs": [],
   "source": []
  },
  {
   "cell_type": "markdown",
   "metadata": {
    "colab_type": "text",
    "id": "pLga0cw17K3Y"
   },
   "source": [
    "Q5. Write a python code( using only while loop) which will only print the even numbers from 2 to 12. "
   ]
  },
  {
   "cell_type": "code",
   "execution_count": 38,
   "metadata": {
    "colab": {},
    "colab_type": "code",
    "id": "AAlqvWY-_y_1"
   },
   "outputs": [],
   "source": []
  },
  {
   "cell_type": "markdown",
   "metadata": {
    "colab_type": "text",
    "id": "Lhk0pYd6JdEy"
   },
   "source": [
    "Q6.Write a python code( using the combination of if statement and while loop) which will only print the even numbers from 2 to 12."
   ]
  },
  {
   "cell_type": "code",
   "execution_count": 38,
   "metadata": {
    "colab": {},
    "colab_type": "code",
    "id": "_0HGsd6f60Nx"
   },
   "outputs": [],
   "source": []
  },
  {
   "cell_type": "markdown",
   "metadata": {
    "colab_type": "text",
    "id": "RvD0Q2FfKEQl"
   },
   "source": [
    "Q7.Write a code( using if-else statement), which will print the minimum of the below given numbers.\n",
    "x=50,y=30,z=40"
   ]
  },
  {
   "cell_type": "code",
   "execution_count": 38,
   "metadata": {
    "colab": {},
    "colab_type": "code",
    "id": "0jAK2hSARHy_"
   },
   "outputs": [],
   "source": []
  }
 ],
 "metadata": {
  "colab": {
   "collapsed_sections": [],
   "name": "Practice Exercise-2_Questions",
   "provenance": []
  },
  "kernelspec": {
   "display_name": "Python 3",
   "language": "python",
   "name": "python3"
  },
  "language_info": {
   "codemirror_mode": {
    "name": "ipython",
    "version": 3
   },
   "file_extension": ".py",
   "mimetype": "text/x-python",
   "name": "python",
   "nbconvert_exporter": "python",
   "pygments_lexer": "ipython3",
   "version": "3.8.5"
  }
 },
 "nbformat": 4,
 "nbformat_minor": 1
}
