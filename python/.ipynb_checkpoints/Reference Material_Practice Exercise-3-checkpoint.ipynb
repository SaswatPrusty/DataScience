{
 "cells": [
  {
   "cell_type": "markdown",
   "metadata": {},
   "source": [
    "## In this particular Jupyter Notebook, we will walk you through some examples which will help you understand how to code in Python a little better. Also, this notebook is going to help you solve the necessary practice exercises and the graded assessments.\n",
    "\n",
    "### Remember, expertise in coding can only be achieved through practice. "
   ]
  },
  {
   "cell_type": "markdown",
   "metadata": {},
   "source": [
    "## Note: Whenever there is a problem to solve, we should first analyse the logic or the formula required to solve the problem and then write it down so as to get a flow of writing the codes and getting the desired output."
   ]
  },
  {
   "cell_type": "markdown",
   "metadata": {},
   "source": [
    "# Example 1: How to calculate the Compound interest? \n",
    "\n",
    "## Question 1.1) Take a three-year loan of $10,000 at an interest rate of 5% that compounds annually. What would be the amount of interest? "
   ]
  },
  {
   "cell_type": "markdown",
   "metadata": {},
   "source": [
    "The following is the formula for calculating the Compound Interest. The notations are mentioned below the given formula.\n",
    "\n",
    "$P [(1 + i)^n – 1]$\n",
    "\n",
    "Where \n",
    "\n",
    "P = Principal\n",
    "\n",
    "i = nominal annual interest rate in percentage terms\n",
    "\n",
    "n = number of compounding periods"
   ]
  },
  {
   "cell_type": "code",
   "execution_count": 1,
   "metadata": {
    "ExecuteTime": {
     "end_time": "2020-11-19T10:00:44.756231Z",
     "start_time": "2020-11-19T10:00:44.745422Z"
    }
   },
   "outputs": [],
   "source": [
    "## Let us first define the P,i and n as defined in the above formula\n",
    "\n",
    "P = 10000\n",
    "\n",
    "i =  0.05\n",
    "\n",
    "n=3"
   ]
  },
  {
   "cell_type": "code",
   "execution_count": 2,
   "metadata": {
    "ExecuteTime": {
     "end_time": "2020-11-19T10:00:44.877054Z",
     "start_time": "2020-11-19T10:00:44.756231Z"
    }
   },
   "outputs": [
    {
     "name": "stdout",
     "output_type": "stream",
     "text": [
      "The Principal amount is 10000\n",
      "The interest rate is 0.05\n",
      "The compunding period is 3\n"
     ]
    }
   ],
   "source": [
    "## Now, let us check whether the variables has been appropriately defined with the correct value. \n",
    "## We are going to print the value of the variables P,i and n.\n",
    "\n",
    "print('The Principal amount is',P)\n",
    "print('The interest rate is',i)\n",
    "print('The compunding period is',n)"
   ]
  },
  {
   "cell_type": "markdown",
   "metadata": {},
   "source": [
    "Since we see that the variables have been defined according to the values given in the question, let us go ahead and calculate the compound interest."
   ]
  },
  {
   "cell_type": "code",
   "execution_count": 3,
   "metadata": {
    "ExecuteTime": {
     "end_time": "2020-11-19T10:00:44.988625Z",
     "start_time": "2020-11-19T10:00:44.883300Z"
    }
   },
   "outputs": [
    {
     "name": "stdout",
     "output_type": "stream",
     "text": [
      "The compound interest is 1576.2500000000014\n"
     ]
    }
   ],
   "source": [
    "print('The compound interest is',P * ((1+i)**n -1))"
   ]
  },
  {
   "cell_type": "markdown",
   "metadata": {},
   "source": [
    "How do we round of the compound interest value upto 3 decimal places?"
   ]
  },
  {
   "cell_type": "code",
   "execution_count": 4,
   "metadata": {
    "ExecuteTime": {
     "end_time": "2020-11-19T10:00:45.081833Z",
     "start_time": "2020-11-19T10:00:44.992860Z"
    }
   },
   "outputs": [
    {
     "name": "stdout",
     "output_type": "stream",
     "text": [
      "The compound interest (rounded upto 3 decimal places) is 1576.25\n"
     ]
    }
   ],
   "source": [
    "print('The compound interest (rounded upto 3 decimal places) is',round(P * ((1+i)**n -1),3))"
   ]
  },
  {
   "cell_type": "markdown",
   "metadata": {},
   "source": [
    "## Question 1.2) Take a three-year loan of an amount of your choice at an interest rate of 5% that compounds annually. What would be the amount of interest? "
   ]
  },
  {
   "cell_type": "markdown",
   "metadata": {},
   "source": [
    "For this question, we as an user have to give an input of the Principal amount. The values for the rest of the variables remain the same as of the previous question."
   ]
  },
  {
   "cell_type": "code",
   "execution_count": 5,
   "metadata": {
    "ExecuteTime": {
     "end_time": "2020-11-19T10:00:48.063987Z",
     "start_time": "2020-11-19T10:00:45.081833Z"
    }
   },
   "outputs": [
    {
     "name": "stdout",
     "output_type": "stream",
     "text": [
      "Enter the Principal Amount 20000\n",
      "The Principal amount is 20000.0\n",
      "The interest rate is 0.05\n",
      "The compunding period is 3\n"
     ]
    }
   ],
   "source": [
    "# Taking an input from the user\n",
    "P = float(input('Enter the Principal Amount '))\n",
    "\n",
    "\n",
    "## Printing the values of the variables that we need for the computation of the Compound Interest.\n",
    "print('The Principal amount is',P)\n",
    "print('The interest rate is',i)\n",
    "print('The compunding period is',n)"
   ]
  },
  {
   "cell_type": "markdown",
   "metadata": {},
   "source": [
    "The input command takes an input from the user. Here, we have instructed Python to consider the data type of the input as float."
   ]
  },
  {
   "cell_type": "code",
   "execution_count": 6,
   "metadata": {
    "ExecuteTime": {
     "end_time": "2020-11-19T10:00:48.079140Z",
     "start_time": "2020-11-19T10:00:48.069648Z"
    }
   },
   "outputs": [
    {
     "name": "stdout",
     "output_type": "stream",
     "text": [
      "The compound interest (rounded upto 3 decimal places) is 3152.5\n"
     ]
    }
   ],
   "source": [
    "print('The compound interest (rounded upto 3 decimal places) is',round(P * ((1+i)**n -1),3))"
   ]
  },
  {
   "cell_type": "markdown",
   "metadata": {},
   "source": [
    "# Example 2: How to convert a string to upper case or lower case? \n",
    "\n",
    "## Question 2.1) Convert all the characters in the sentence 'This is my first Python program.' to lowercase. "
   ]
  },
  {
   "cell_type": "code",
   "execution_count": 7,
   "metadata": {
    "ExecuteTime": {
     "end_time": "2020-11-19T10:00:48.228565Z",
     "start_time": "2020-11-19T10:00:48.086138Z"
    }
   },
   "outputs": [
    {
     "data": {
      "text/plain": [
       "'This is my first Python program.'"
      ]
     },
     "execution_count": 7,
     "metadata": {},
     "output_type": "execute_result"
    }
   ],
   "source": [
    "sentence = 'This is my first Python program.'\n",
    "sentence"
   ]
  },
  {
   "cell_type": "code",
   "execution_count": 8,
   "metadata": {
    "ExecuteTime": {
     "end_time": "2020-11-19T10:00:48.347150Z",
     "start_time": "2020-11-19T10:00:48.240104Z"
    }
   },
   "outputs": [
    {
     "data": {
      "text/plain": [
       "'this is my first python program.'"
      ]
     },
     "execution_count": 8,
     "metadata": {},
     "output_type": "execute_result"
    }
   ],
   "source": [
    "sentence.lower()"
   ]
  },
  {
   "cell_type": "code",
   "execution_count": 9,
   "metadata": {
    "ExecuteTime": {
     "end_time": "2020-11-19T10:00:48.488656Z",
     "start_time": "2020-11-19T10:00:48.356375Z"
    }
   },
   "outputs": [
    {
     "data": {
      "text/plain": [
       "True"
      ]
     },
     "execution_count": 9,
     "metadata": {},
     "output_type": "execute_result"
    }
   ],
   "source": [
    "## The following code snippet helps us to check whether the string is indeed in lowercase\n",
    "\n",
    "sentence.lower().islower()"
   ]
  },
  {
   "cell_type": "markdown",
   "metadata": {},
   "source": [
    "## Question 2.2) Convert all the characters in the sentence 'This is my first Python program.' to uppercase."
   ]
  },
  {
   "cell_type": "code",
   "execution_count": 10,
   "metadata": {
    "ExecuteTime": {
     "end_time": "2020-11-19T10:00:48.646715Z",
     "start_time": "2020-11-19T10:00:48.492272Z"
    }
   },
   "outputs": [
    {
     "data": {
      "text/plain": [
       "'THIS IS MY FIRST PYTHON PROGRAM.'"
      ]
     },
     "execution_count": 10,
     "metadata": {},
     "output_type": "execute_result"
    }
   ],
   "source": [
    "sentence.upper()"
   ]
  },
  {
   "cell_type": "code",
   "execution_count": 11,
   "metadata": {
    "ExecuteTime": {
     "end_time": "2020-11-19T10:00:48.786114Z",
     "start_time": "2020-11-19T10:00:48.655556Z"
    }
   },
   "outputs": [
    {
     "data": {
      "text/plain": [
       "True"
      ]
     },
     "execution_count": 11,
     "metadata": {},
     "output_type": "execute_result"
    }
   ],
   "source": [
    "## The following code snippet helps us to check whether the string is indeed in uppercase\n",
    "\n",
    "sentence.upper().isupper()"
   ]
  },
  {
   "cell_type": "markdown",
   "metadata": {},
   "source": [
    "# Example 3: Mathematical operations and  Conditional statements.\n",
    "\n",
    "## Question 3) Take a number from the user and check whether the number is prime or not.\n",
    "#### Note: A prime number is a natural number greater than 1 which can be divided by that number and 1."
   ]
  },
  {
   "cell_type": "code",
   "execution_count": 12,
   "metadata": {
    "ExecuteTime": {
     "end_time": "2020-11-19T10:00:53.472876Z",
     "start_time": "2020-11-19T10:00:48.789312Z"
    }
   },
   "outputs": [
    {
     "name": "stdout",
     "output_type": "stream",
     "text": [
      "Enter a natural number which is greater than one:17\n"
     ]
    }
   ],
   "source": [
    "num = int(input('Enter a natural number which is greater than one:'))"
   ]
  },
  {
   "cell_type": "code",
   "execution_count": 13,
   "metadata": {
    "ExecuteTime": {
     "end_time": "2020-11-19T10:00:53.488654Z",
     "start_time": "2020-11-19T10:00:53.476358Z"
    }
   },
   "outputs": [
    {
     "name": "stdout",
     "output_type": "stream",
     "text": [
      "17 is a prime number\n"
     ]
    }
   ],
   "source": [
    "## The following checks whether the number given as input by the user is prime or not.\n",
    "\n",
    "if num > 1:  # conditional statement for checking whether the number given as input by the user is greater than 1\n",
    "    for i in range(2,num):  #defining a range of numbers starting from 2 to the (input number - 1)\n",
    "        if (num % i) == 0:  #conditional statement to check whether the remainder is zero when the input number is divided\n",
    "            #by any of the numbers ranging from 2 to the (input number - 1)\n",
    "            print(num,\"is not a prime number\")  #if the conditional statement is satisfied then print that the input\n",
    "            #number is not a prime number\n",
    "            print(i,\"times\",num//i,\"is\",num)  #here, we are printing the factor for which the input number is not prime\n",
    "            break  #breaking the conditional statement if the remainder = 0 condition is not met\n",
    "    else:  \n",
    "        print(num,\"is a prime number\")  #if the remainder = 0 condition is not met, then the input number is a prime\n",
    "            #number\n",
    "else:  \n",
    "    print(num,\"is not a prime number\")  #if the input number is not greater than 1, then such a number is also not\n",
    "    # a prime number"
   ]
  },
  {
   "cell_type": "markdown",
   "metadata": {},
   "source": [
    "# END"
   ]
  }
 ],
 "metadata": {
  "kernelspec": {
   "display_name": "Python 3",
   "language": "python",
   "name": "python3"
  },
  "language_info": {
   "codemirror_mode": {
    "name": "ipython",
    "version": 3
   },
   "file_extension": ".py",
   "mimetype": "text/x-python",
   "name": "python",
   "nbconvert_exporter": "python",
   "pygments_lexer": "ipython3",
   "version": "3.8.5"
  },
  "toc": {
   "base_numbering": 1,
   "nav_menu": {},
   "number_sections": true,
   "sideBar": true,
   "skip_h1_title": false,
   "title_cell": "Table of Contents",
   "title_sidebar": "Contents",
   "toc_cell": false,
   "toc_position": {},
   "toc_section_display": true,
   "toc_window_display": false
  },
  "varInspector": {
   "cols": {
    "lenName": 16,
    "lenType": 16,
    "lenVar": 40
   },
   "kernels_config": {
    "python": {
     "delete_cmd_postfix": "",
     "delete_cmd_prefix": "del ",
     "library": "var_list.py",
     "varRefreshCmd": "print(var_dic_list())"
    },
    "r": {
     "delete_cmd_postfix": ") ",
     "delete_cmd_prefix": "rm(",
     "library": "var_list.r",
     "varRefreshCmd": "cat(var_dic_list()) "
    }
   },
   "types_to_exclude": [
    "module",
    "function",
    "builtin_function_or_method",
    "instance",
    "_Feature"
   ],
   "window_display": false
  }
 },
 "nbformat": 4,
 "nbformat_minor": 4
}
