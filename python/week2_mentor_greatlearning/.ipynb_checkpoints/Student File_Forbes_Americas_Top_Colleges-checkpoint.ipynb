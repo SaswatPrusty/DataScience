{
 "cells": [
  {
   "cell_type": "markdown",
   "metadata": {
    "id": "-q_wgrtstgmU"
   },
   "source": [
    "## Context\n",
    "\n",
    "Starting in 2008, every year Forbes Magazine publishes a list of America's best colleges. When it comes to the question everyone seems to be asking, “Is college worth it? this published list of colleges comes handy to take a decision based on student's requirement or desire.\n",
    "\n",
    "The mission of the college ranking by Forbes Magazine is to conduct an annual review of the undergraduate institutions that deliver the top academics, best experiences, career success and lowest debt. Whether a school is in the Top 10 or near the bottom of the list, the 650 colleges are the best in the country.\n",
    "\n",
    "For most families, choosing a four-year college is one of the biggest and most expensive decisions they can make. For students, this time of their life may layout their future plans. So choose carefully."
   ]
  },
  {
   "cell_type": "markdown",
   "metadata": {
    "id": "OSZd99VDtgmU"
   },
   "source": [
    "## About Data\n",
    "\n",
    "The data set contains the rankings of 650 Unites States colleges along with various other statistics pertaining to each school."
   ]
  },
  {
   "cell_type": "markdown",
   "metadata": {},
   "source": [
    "<img src =\"https://i.ibb.co/sKwQjfw/Stanford.jpg\" width=80% height =40%></img>"
   ]
  },
  {
   "cell_type": "markdown",
   "metadata": {
    "id": "Vc1l7FhUtgmU"
   },
   "source": [
    "### Load required packages"
   ]
  },
  {
   "cell_type": "code",
   "execution_count": 2,
   "metadata": {
    "id": "hQdKNDMOtgmU"
   },
   "outputs": [],
   "source": [
    "import pandas as pd\n",
    "import numpy as np"
   ]
  },
  {
   "cell_type": "markdown",
   "metadata": {
    "id": "qT0Hjo-AtgmV"
   },
   "source": [
    "### Load the data into pandas dataframe and view the details"
   ]
  },
  {
   "cell_type": "code",
   "execution_count": null,
   "metadata": {
    "id": "jAhaE2VVtgmV"
   },
   "outputs": [],
   "source": []
  },
  {
   "cell_type": "markdown",
   "metadata": {
    "id": "sSy16YsFtgmV"
   },
   "source": [
    "### Dimension of the data"
   ]
  },
  {
   "cell_type": "markdown",
   "metadata": {
    "id": "RIciQizYtgmV"
   },
   "source": [
    "*'shape'* is a property associated with DataFrame. It returns a tuple representing the dimensionality of the DataFrame. First value is giving number of rows and second value is giving number of columns."
   ]
  },
  {
   "cell_type": "code",
   "execution_count": null,
   "metadata": {
    "colab": {
     "base_uri": "https://localhost:8080/"
    },
    "id": "5HWTSIy5tgmV",
    "outputId": "9abf7a13-17a0-49b4-b514-c831ca7be110"
   },
   "outputs": [],
   "source": []
  },
  {
   "cell_type": "code",
   "execution_count": null,
   "metadata": {
    "colab": {
     "base_uri": "https://localhost:8080/"
    },
    "id": "feNnsPJ6tgmW",
    "outputId": "ba242632-dd83-4b29-9c3e-874148247831"
   },
   "outputs": [],
   "source": []
  },
  {
   "cell_type": "markdown",
   "metadata": {
    "id": "Lv5WnED6tgmW"
   },
   "source": [
    "### Datatype of the fields in the data"
   ]
  },
  {
   "cell_type": "markdown",
   "metadata": {
    "id": "zCb-8nUmtgmX"
   },
   "source": [
    "'info()' method prints information about a DataFrame including the index dtype and column dtypes, non-null values and memory usage"
   ]
  },
  {
   "cell_type": "code",
   "execution_count": null,
   "metadata": {
    "colab": {
     "base_uri": "https://localhost:8080/"
    },
    "id": "jV2_y-outgmX",
    "outputId": "e58993a2-e1f6-4c79-a285-84b624fbb0a2"
   },
   "outputs": [],
   "source": []
  },
  {
   "cell_type": "markdown",
   "metadata": {
    "id": "JYr2YCtG6sGn"
   },
   "source": []
  },
  {
   "cell_type": "markdown",
   "metadata": {
    "id": "AaYuiPE1tgmX"
   },
   "source": [
    "### Check the missing values in the data\n",
    "'isnull()' method detects missing values. It returns a boolean same-sized object indicating if the values are NA. NA values, gets mapped to True values.Everything else gets mapped to False values.\n",
    "\n",
    "'sum()' method followed by 'isnull()' adds up all the True instances per column to give a summary of missing values per column"
   ]
  },
  {
   "cell_type": "code",
   "execution_count": null,
   "metadata": {
    "id": "gGjFdfEgtgmX",
    "outputId": "3572830d-c1eb-4ab8-962d-6193e5f6c1b0"
   },
   "outputs": [],
   "source": []
  },
  {
   "cell_type": "markdown",
   "metadata": {
    "id": "3Ce0LbyRtgmX"
   },
   "source": []
  },
  {
   "cell_type": "markdown",
   "metadata": {
    "id": "FfyQfVwhtgmX"
   },
   "source": [
    "### Data Cleanup"
   ]
  },
  {
   "cell_type": "markdown",
   "metadata": {
    "id": "xTvtcQShtgmX"
   },
   "source": [
    "Let's first drop all columns that are not need. \n",
    "\n",
    "'drop()' method with 'axis=1' indicates that columns have to be dropped. List of column names to be dropped is passed to the method. 'inplace = True' ensures that the columns are dropped from the DataFrame permanently"
   ]
  },
  {
   "cell_type": "code",
   "execution_count": null,
   "metadata": {
    "id": "_wPeCQ8xtgmX"
   },
   "outputs": [],
   "source": []
  },
  {
   "cell_type": "markdown",
   "metadata": {
    "id": "3vb8ZhMAtgmX"
   },
   "source": [
    "'dropna()' method drops all rows with NA values (by default axis = 0)"
   ]
  },
  {
   "cell_type": "code",
   "execution_count": null,
   "metadata": {
    "id": "9DfcH1YktgmX"
   },
   "outputs": [],
   "source": []
  },
  {
   "cell_type": "code",
   "execution_count": null,
   "metadata": {
    "colab": {
     "base_uri": "https://localhost:8080/"
    },
    "id": "amMAF6ahtgmY",
    "outputId": "fe860b07-0bd0-4040-dcd7-cf963fe09428"
   },
   "outputs": [],
   "source": []
  },
  {
   "cell_type": "markdown",
   "metadata": {
    "id": "dRhJfREXtgmY"
   },
   "source": [
    "### Reset the index of the dataframe\n",
    "\n",
    "'reset_index()' resets the index of the DataFrame\n",
    "\n",
    "'drop' as True, will not try to insert index into DataFrame columns\n",
    "\n",
    "'inplace' as True resets the index permanently"
   ]
  },
  {
   "cell_type": "code",
   "execution_count": null,
   "metadata": {
    "id": "fpBPXoWutgmY"
   },
   "outputs": [],
   "source": []
  },
  {
   "cell_type": "markdown",
   "metadata": {
    "id": "8S9FjBQetgmY"
   },
   "source": [
    "### Check the first 5 rows of the dataset\n",
    "'head()' function is used to view the top records. By default it displays 5 rows."
   ]
  },
  {
   "cell_type": "code",
   "execution_count": null,
   "metadata": {
    "colab": {
     "base_uri": "https://localhost:8080/",
     "height": 255
    },
    "id": "wW-ONC4ktgmY",
    "outputId": "542b2ec9-9db8-4745-f1e8-806b7d981fcf"
   },
   "outputs": [],
   "source": []
  },
  {
   "cell_type": "markdown",
   "metadata": {
    "id": "seNXIKL-tgmY"
   },
   "source": [
    "### Display the last five rows of the dataset\n",
    "'tail()' function is used to view the last records. By default it displays 5 rows."
   ]
  },
  {
   "cell_type": "code",
   "execution_count": null,
   "metadata": {
    "id": "1iAyCwLGtgmY",
    "outputId": "80a0c798-444c-49be-9261-d0fa719ea75c"
   },
   "outputs": [],
   "source": []
  },
  {
   "cell_type": "markdown",
   "metadata": {
    "id": "cHskLSaBtgmZ"
   },
   "source": []
  },
  {
   "cell_type": "markdown",
   "metadata": {
    "id": "2MIH0RTj7_iO"
   },
   "source": [
    "### Recheck the dimension and info of the data "
   ]
  },
  {
   "cell_type": "code",
   "execution_count": null,
   "metadata": {
    "id": "Er4-UkBFtgmZ",
    "outputId": "afdb13e3-d1c2-4a72-ff8c-507f342ba35e"
   },
   "outputs": [],
   "source": []
  },
  {
   "cell_type": "code",
   "execution_count": null,
   "metadata": {
    "id": "kzygTqlAtgmZ",
    "outputId": "3e52f648-afb9-484b-ceb1-325e331a03e4"
   },
   "outputs": [],
   "source": []
  },
  {
   "cell_type": "markdown",
   "metadata": {
    "id": "0tR2xaFutgmZ"
   },
   "source": [
    "# Data Analysis"
   ]
  },
  {
   "cell_type": "markdown",
   "metadata": {
    "id": "2lAXzmq-tgmZ"
   },
   "source": [
    "### Get Summary of Data"
   ]
  },
  {
   "cell_type": "markdown",
   "metadata": {
    "id": "OlktZ7whtgmZ"
   },
   "source": [
    "'describe()' method generates descriptive statistics. Descriptive statistics include those that summarize the central\n",
    "tendency, dispersion and shape of a dataset's distribution, excluding 'NaN' values"
   ]
  },
  {
   "cell_type": "code",
   "execution_count": null,
   "metadata": {
    "id": "AMsXZpWbtgmZ",
    "outputId": "4d233079-9407-487b-fa1d-a1022be388a3"
   },
   "outputs": [],
   "source": []
  },
  {
   "cell_type": "markdown",
   "metadata": {
    "id": "RrH71ybUtgma"
   },
   "source": [
    "### 1) Which are the top 5 colleges listed in the Forbes Magazine 2019?"
   ]
  },
  {
   "cell_type": "markdown",
   "metadata": {
    "id": "oLOGstSVtgma"
   },
   "source": [
    "As we need the 'Name' of the colleges, we first pick the 'Name' column and then display the top 5 rows using head() function"
   ]
  },
  {
   "cell_type": "markdown",
   "metadata": {},
   "source": [
    "<img src =\"https://i.ibb.co/dj0PFhK/Harvard.jpg\" width=80% height =40%></img>\n"
   ]
  },
  {
   "cell_type": "code",
   "execution_count": null,
   "metadata": {
    "id": "k55BuH2Jtgma",
    "outputId": "3e27da57-085a-42d1-8fbb-fe10353707f4"
   },
   "outputs": [],
   "source": []
  },
  {
   "cell_type": "markdown",
   "metadata": {
    "id": "-agVXiUhtgma"
   },
   "source": [
    "We can also save the information in an object 'top5' and display it"
   ]
  },
  {
   "cell_type": "code",
   "execution_count": null,
   "metadata": {
    "id": "ORpS4fMKtgma",
    "outputId": "6fee132f-c980-40cd-8cab-dfa669bd1a43"
   },
   "outputs": [],
   "source": []
  },
  {
   "cell_type": "markdown",
   "metadata": {
    "id": "p5zmndDStgma"
   },
   "source": [
    "### 2) Which state and city do the top 5 colleges belong to?"
   ]
  },
  {
   "cell_type": "markdown",
   "metadata": {
    "id": "fYwMKw8Ttgma"
   },
   "source": [
    "As we need the 'Name', 'City' and 'State' of the colleges, we first pick the required columns and then display the top 5 rows using head() function"
   ]
  },
  {
   "cell_type": "code",
   "execution_count": null,
   "metadata": {
    "id": "ZQqj9CmRtgma",
    "outputId": "120ba67c-56ec-40e9-98ba-8ad44d80315e"
   },
   "outputs": [],
   "source": []
  },
  {
   "cell_type": "markdown",
   "metadata": {
    "id": "DwVO9HT7tgmb"
   },
   "source": [
    "Note:\n",
    "\n",
    "As 'City' and 'State' are immediate columns after 'Name', iloc can also be used to get the results"
   ]
  },
  {
   "cell_type": "code",
   "execution_count": null,
   "metadata": {
    "id": "LP8gD4Detgmb",
    "outputId": "cd4800b8-ee80-4d1a-9c55-1a5b852049e7"
   },
   "outputs": [],
   "source": []
  },
  {
   "cell_type": "markdown",
   "metadata": {
    "id": "sNsRW3oNtgmb"
   },
   "source": [
    "### 3) How many states and which all states have the colleges listed by Forbes?"
   ]
  },
  {
   "cell_type": "markdown",
   "metadata": {
    "id": "LrIXs8ZBtgmb"
   },
   "source": [
    "'nunique()' returns number of unique elements in the object. As we want number of unique states, we first pick up the 'State' column of the DataFrame and then call nunique() function"
   ]
  },
  {
   "cell_type": "code",
   "execution_count": null,
   "metadata": {
    "colab": {
     "base_uri": "https://localhost:8080/"
    },
    "id": "hPmLGCqBtgmb",
    "outputId": "520c64ff-c82d-4c37-b34c-23d89c0d207b"
   },
   "outputs": [],
   "source": []
  },
  {
   "cell_type": "markdown",
   "metadata": {
    "id": "AYeZD7-Ptgmb"
   },
   "source": [
    "'unique()' function returns unique values of Series object. Hence, we first pick up the 'State' column of the DataFrame and then call unique() function to get all all the States"
   ]
  },
  {
   "cell_type": "code",
   "execution_count": null,
   "metadata": {
    "colab": {
     "base_uri": "https://localhost:8080/"
    },
    "id": "j6CuTyCntgmb",
    "outputId": "6ca097f9-2971-4f07-a3f3-dcd5a1b0750e"
   },
   "outputs": [],
   "source": []
  },
  {
   "cell_type": "markdown",
   "metadata": {
    "id": "6iiuMMtGtgmb"
   },
   "source": [
    "### 4) In all how many private and public colleges are there in the given list?"
   ]
  },
  {
   "cell_type": "markdown",
   "metadata": {
    "id": "VbJemXU_tgmb"
   },
   "source": [
    "'Public/Private' column is of object data type in the DataFrame.\n",
    "\n",
    "'value_count()' returns a series containing counts of unique values"
   ]
  },
  {
   "cell_type": "code",
   "execution_count": null,
   "metadata": {
    "colab": {
     "base_uri": "https://localhost:8080/"
    },
    "id": "RQHDdL4xtgmb",
    "outputId": "3ae185fd-d9bb-4456-dede-bb89165cce41"
   },
   "outputs": [],
   "source": []
  },
  {
   "cell_type": "markdown",
   "metadata": {
    "id": "RecfpJzFtgmb"
   },
   "source": [
    "### 5) From the list how many colleges are there within each State? Which State has highest number of colleges?"
   ]
  },
  {
   "cell_type": "markdown",
   "metadata": {
    "id": "yZA5lfSGtgmb"
   },
   "source": [
    "As we have to find number of colleges within each State, we first group (groupby()) the data based on 'State'. For each State we then count the colleges using number of unique values (nunique())  in 'Name' field.\n",
    "\n",
    "As we want the 'State' with highest number of colleges, we sort the values (sort_values()) in descending order to get the results."
   ]
  },
  {
   "cell_type": "markdown",
   "metadata": {},
   "source": [
    "<img src =\"https://i.ibb.co/GcnXVC0/New-York.jpg\" width=80% height =40%></img>"
   ]
  },
  {
   "cell_type": "code",
   "execution_count": null,
   "metadata": {
    "colab": {
     "base_uri": "https://localhost:8080/"
    },
    "id": "1kxn-0Bttgmb",
    "outputId": "970acca4-080d-4b3d-8906-c53d71a128ca"
   },
   "outputs": [],
   "source": []
  },
  {
   "cell_type": "markdown",
   "metadata": {
    "id": "oBJ3TdOytgmc"
   },
   "source": [
    "### 6) What is percentage of undergraduates in each college? (Add a new field to calculate)"
   ]
  },
  {
   "cell_type": "markdown",
   "metadata": {
    "id": "YauOIxZqtgmc"
   },
   "source": [
    "Divsion of 'Undergraduate Population' by 'Student Population' multiplied by 100 will give percentage of undergraduates.\n",
    "\n",
    "round() method will round off the derived value to 2 decimal places which is then stored in new field 'Percentage UG'"
   ]
  },
  {
   "cell_type": "code",
   "execution_count": null,
   "metadata": {
    "id": "_T-Auo3gtgmc"
   },
   "outputs": [],
   "source": []
  },
  {
   "cell_type": "code",
   "execution_count": null,
   "metadata": {
    "colab": {
     "base_uri": "https://localhost:8080/",
     "height": 272
    },
    "id": "jvRdXy7stgmc",
    "outputId": "ce241cbb-41c3-47c4-da9a-c265aafdfa5d"
   },
   "outputs": [],
   "source": []
  },
  {
   "cell_type": "markdown",
   "metadata": {
    "id": "GnCS2q0vtgmc"
   },
   "source": [
    "### 7) Which are the 5 colleges with highest percentage of undergraduates?"
   ]
  },
  {
   "cell_type": "markdown",
   "metadata": {
    "id": "4z6v1g5atgmc"
   },
   "source": [
    "Let's just pick up 'Name' and 'Percentage UG' field, sort by 'Percentage UG' in descending order to get the desired ouput"
   ]
  },
  {
   "cell_type": "code",
   "execution_count": null,
   "metadata": {
    "colab": {
     "base_uri": "https://localhost:8080/",
     "height": 204
    },
    "id": "S0_s3CPHtgmc",
    "outputId": "b9049346-6551-44da-f315-c3dfd57bab2b"
   },
   "outputs": [],
   "source": []
  },
  {
   "cell_type": "markdown",
   "metadata": {
    "id": "NcK8UBrXtgmc"
   },
   "source": [
    "### 8) 5 colleges that receive highest Average Grant Aid?"
   ]
  },
  {
   "cell_type": "markdown",
   "metadata": {
    "id": "cUQFFFGGtgmc"
   },
   "source": [
    "Sort 'Average Grant Aid' in descending order and pick up the top 5 colleges using 'Name' field"
   ]
  },
  {
   "cell_type": "markdown",
   "metadata": {},
   "source": [
    "<img src =\"https://i.ibb.co/TMtRJ54/Yale.jpg\" width=80% height =40%></img>"
   ]
  },
  {
   "cell_type": "code",
   "execution_count": null,
   "metadata": {
    "colab": {
     "base_uri": "https://localhost:8080/"
    },
    "id": "kG0vlM2stgmc",
    "outputId": "89ca5f7a-416d-4164-8489-2d05d117feae"
   },
   "outputs": [],
   "source": []
  },
  {
   "cell_type": "markdown",
   "metadata": {
    "id": "PZLBR78btgmc"
   },
   "source": [
    "\n",
    "### 9) What is the average Undergraduate population in State of 'CA'?"
   ]
  },
  {
   "cell_type": "markdown",
   "metadata": {
    "id": "Z_r3MnY6tgmc"
   },
   "source": [
    "First lets filter the DataFrame and get only rows with 'State' as 'CA'\n",
    "\n",
    "We then pick up the 'Undergraduate Population' for the above subset and calculate its mean\n",
    "\n",
    "round off the final value to 2 decimal places using the round() function"
   ]
  },
  {
   "cell_type": "code",
   "execution_count": null,
   "metadata": {
    "colab": {
     "base_uri": "https://localhost:8080/"
    },
    "id": "WZ8M0xE8tgmc",
    "outputId": "5d17ec8b-95b3-401f-fb55-9b17fadedc3c"
   },
   "outputs": [],
   "source": []
  },
  {
   "cell_type": "markdown",
   "metadata": {
    "id": "_jpeG1v-tgmc"
   },
   "source": [
    "### 10) Which are the colleges where chances of admission is high?"
   ]
  },
  {
   "cell_type": "markdown",
   "metadata": {
    "id": "1hcolpQwtgmc"
   },
   "source": [
    "As per the data dictionary 'Acceptance Rate' field provides information on chances of admission. We can sort this column in descending order to get the results"
   ]
  },
  {
   "cell_type": "code",
   "execution_count": null,
   "metadata": {
    "colab": {
     "base_uri": "https://localhost:8080/",
     "height": 289
    },
    "id": "rW86etpLtgmd",
    "outputId": "79541235-3cc3-4676-96df-7c7f528a3c32"
   },
   "outputs": [],
   "source": []
  },
  {
   "cell_type": "markdown",
   "metadata": {
    "id": "1ORWPdmutgmd"
   },
   "source": [
    "### 11) Find if there are any 'Art' colleges in the list"
   ]
  },
  {
   "cell_type": "markdown",
   "metadata": {
    "id": "fP5vmlQctgmd"
   },
   "source": [
    "To find a specific string value 'Art' we will use the 'contains()' method. We will pass the string in the paranthesis which needs to be located in the dataframe variable."
   ]
  },
  {
   "cell_type": "code",
   "execution_count": null,
   "metadata": {
    "id": "mXknVr1Vtgmd",
    "outputId": "2342e7b0-f455-4b06-9371-8afb3766eb5f"
   },
   "outputs": [],
   "source": []
  },
  {
   "cell_type": "markdown",
   "metadata": {
    "id": "WuPrMG2Jtgmd"
   },
   "source": [
    "### 12) Lets divide the Alumni Salary equally into 3 buckets (Low Salary - L; Medium Salary - M; High Salary - H ) and check which colleges falls in 'H' bucket"
   ]
  },
  {
   "cell_type": "code",
   "execution_count": null,
   "metadata": {
    "id": "ZBrzuKHOtgmd"
   },
   "outputs": [],
   "source": []
  },
  {
   "cell_type": "markdown",
   "metadata": {
    "id": "1Y4cKc9ztgmd"
   },
   "source": [
    "Take a copy of the original DataFrame to work on"
   ]
  },
  {
   "cell_type": "code",
   "execution_count": null,
   "metadata": {
    "id": "OCoOgQSttgmd"
   },
   "outputs": [],
   "source": []
  },
  {
   "cell_type": "markdown",
   "metadata": {
    "id": "SchXFRAYtgmd"
   },
   "source": [
    "'cut()' function bins values into discrete intervals. 'cut()' function is used when you need to segment and sort data values into bins. This function is also useful for going from a continuous variable to a categorical variable.\n",
    "\n",
    "In the above code we have created 3 bins using 'Alumni Salary' column. Lowest range of salary is labelled as 'L', middle range is labelled as 'M' and highest range of salary is labelled as 'H'. These labels are saved in a new column 'Alumni Sal Level'.\n",
    "\n",
    "Note: The entire range of the 'Alumni Salary' has been divided into 3 equal ranges i.e. 3 bins"
   ]
  },
  {
   "cell_type": "code",
   "execution_count": null,
   "metadata": {
    "colab": {
     "base_uri": "https://localhost:8080/",
     "height": 272
    },
    "id": "69_t2FTZtgmd",
    "outputId": "790221d6-ffc0-43dd-ce16-0b75d4df5f8a"
   },
   "outputs": [],
   "source": []
  },
  {
   "cell_type": "code",
   "execution_count": null,
   "metadata": {
    "colab": {
     "base_uri": "https://localhost:8080/"
    },
    "id": "Aa2Awqd7tgmd",
    "outputId": "b60efa05-816f-4154-c965-04355a536a67"
   },
   "outputs": [],
   "source": []
  },
  {
   "cell_type": "markdown",
   "metadata": {
    "id": "GePZYooGtgmd"
   },
   "source": [
    "### 13) Let's check the mean Alumni Salary at each level"
   ]
  },
  {
   "cell_type": "code",
   "execution_count": null,
   "metadata": {
    "colab": {
     "base_uri": "https://localhost:8080/"
    },
    "id": "Mo3yAIFitgmd",
    "outputId": "590a77fa-7715-41c6-a2cf-bc2332751dfe"
   },
   "outputs": [],
   "source": []
  },
  {
   "cell_type": "markdown",
   "metadata": {
    "id": "3twplwj1tgmd"
   },
   "source": [
    "### 14) Let's create a new dataframe to further analyze the 28 colleges with High Alumni Salary "
   ]
  },
  {
   "cell_type": "code",
   "execution_count": null,
   "metadata": {
    "id": "oblq2Umotgmd"
   },
   "outputs": [],
   "source": []
  },
  {
   "cell_type": "markdown",
   "metadata": {
    "id": "jR6Z14Omtgmd"
   },
   "source": [
    "Passing 'include = 'all'' to describe() method provides descriptive summary of all fields in the DataFrame. 'T' property transposes the table which helps in reviewing the statistics per column"
   ]
  },
  {
   "cell_type": "code",
   "execution_count": null,
   "metadata": {
    "colab": {
     "base_uri": "https://localhost:8080/",
     "height": 483
    },
    "id": "kJSjcjnRtgmd",
    "outputId": "567bd7c4-a650-491e-f778-8933db9c2764"
   },
   "outputs": [],
   "source": []
  },
  {
   "cell_type": "markdown",
   "metadata": {
    "id": "p0XOVKsXtgme"
   },
   "source": [
    "### Happy Learning!!!"
   ]
  }
 ],
 "metadata": {
  "colab": {
   "name": "Forbes - Americas Top Colleges 2019 (1).ipynb",
   "provenance": []
  },
  "kernelspec": {
   "display_name": "Python 3",
   "language": "python",
   "name": "python3"
  },
  "language_info": {
   "codemirror_mode": {
    "name": "ipython",
    "version": 3
   },
   "file_extension": ".py",
   "mimetype": "text/x-python",
   "name": "python",
   "nbconvert_exporter": "python",
   "pygments_lexer": "ipython3",
   "version": "3.8.5"
  }
 },
 "nbformat": 4,
 "nbformat_minor": 1
}
