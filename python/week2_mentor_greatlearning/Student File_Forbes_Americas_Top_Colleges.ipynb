{
 "cells": [
  {
   "cell_type": "markdown",
   "metadata": {
    "id": "-q_wgrtstgmU"
   },
   "source": [
    "## Context\n",
    "\n",
    "Starting in 2008, every year Forbes Magazine publishes a list of America's best colleges. When it comes to the question everyone seems to be asking, “Is college worth it? this published list of colleges comes handy to take a decision based on student's requirement or desire.\n",
    "\n",
    "The mission of the college ranking by Forbes Magazine is to conduct an annual review of the undergraduate institutions that deliver the top academics, best experiences, career success and lowest debt. Whether a school is in the Top 10 or near the bottom of the list, the 650 colleges are the best in the country.\n",
    "\n",
    "For most families, choosing a four-year college is one of the biggest and most expensive decisions they can make. For students, this time of their life may layout their future plans. So choose carefully."
   ]
  },
  {
   "cell_type": "markdown",
   "metadata": {
    "id": "OSZd99VDtgmU"
   },
   "source": [
    "## About Data\n",
    "\n",
    "The data set contains the rankings of 650 Unites States colleges along with various other statistics pertaining to each school."
   ]
  },
  {
   "cell_type": "markdown",
   "metadata": {},
   "source": [
    "<img src =\"https://i.ibb.co/sKwQjfw/Stanford.jpg\" width=80% height =40%></img>"
   ]
  },
  {
   "cell_type": "markdown",
   "metadata": {
    "id": "Vc1l7FhUtgmU"
   },
   "source": [
    "### Load required packages"
   ]
  },
  {
   "cell_type": "code",
   "execution_count": 2,
   "metadata": {
    "id": "hQdKNDMOtgmU"
   },
   "outputs": [],
   "source": [
    "import pandas as pd\n",
    "import numpy as np"
   ]
  },
  {
   "cell_type": "markdown",
   "metadata": {
    "id": "qT0Hjo-AtgmV"
   },
   "source": [
    "### Load the data into pandas dataframe and view the details"
   ]
  },
  {
   "cell_type": "code",
   "execution_count": 3,
   "metadata": {
    "id": "jAhaE2VVtgmV"
   },
   "outputs": [
    {
     "data": {
      "text/html": [
       "<div>\n",
       "<style scoped>\n",
       "    .dataframe tbody tr th:only-of-type {\n",
       "        vertical-align: middle;\n",
       "    }\n",
       "\n",
       "    .dataframe tbody tr th {\n",
       "        vertical-align: top;\n",
       "    }\n",
       "\n",
       "    .dataframe thead th {\n",
       "        text-align: right;\n",
       "    }\n",
       "</style>\n",
       "<table border=\"1\" class=\"dataframe\">\n",
       "  <thead>\n",
       "    <tr style=\"text-align: right;\">\n",
       "      <th></th>\n",
       "      <th>Rank</th>\n",
       "      <th>Name</th>\n",
       "      <th>City</th>\n",
       "      <th>State</th>\n",
       "      <th>Public/Private</th>\n",
       "      <th>Undergraduate Population</th>\n",
       "      <th>Student Population</th>\n",
       "      <th>Net Price</th>\n",
       "      <th>Average Grant Aid</th>\n",
       "      <th>Total Annual Cost</th>\n",
       "      <th>Alumni Salary</th>\n",
       "      <th>Acceptance Rate</th>\n",
       "      <th>SAT Lower</th>\n",
       "      <th>SAT Upper</th>\n",
       "      <th>ACT Lower</th>\n",
       "      <th>ACT Upper</th>\n",
       "      <th>Website</th>\n",
       "    </tr>\n",
       "  </thead>\n",
       "  <tbody>\n",
       "    <tr>\n",
       "      <th>0</th>\n",
       "      <td>1</td>\n",
       "      <td>Harvard University</td>\n",
       "      <td>Cambridge</td>\n",
       "      <td>MA</td>\n",
       "      <td>Private</td>\n",
       "      <td>13844</td>\n",
       "      <td>31120</td>\n",
       "      <td>14327.0</td>\n",
       "      <td>49870.0</td>\n",
       "      <td>69600</td>\n",
       "      <td>146800.0</td>\n",
       "      <td>5.0</td>\n",
       "      <td>1460.0</td>\n",
       "      <td>1590.0</td>\n",
       "      <td>32.0</td>\n",
       "      <td>35.0</td>\n",
       "      <td>www.harvard.edu</td>\n",
       "    </tr>\n",
       "    <tr>\n",
       "      <th>1</th>\n",
       "      <td>2</td>\n",
       "      <td>Stanford University</td>\n",
       "      <td>Stanford</td>\n",
       "      <td>CA</td>\n",
       "      <td>Private</td>\n",
       "      <td>8402</td>\n",
       "      <td>17534</td>\n",
       "      <td>13261.0</td>\n",
       "      <td>50134.0</td>\n",
       "      <td>69109</td>\n",
       "      <td>145200.0</td>\n",
       "      <td>5.0</td>\n",
       "      <td>1390.0</td>\n",
       "      <td>1540.0</td>\n",
       "      <td>32.0</td>\n",
       "      <td>35.0</td>\n",
       "      <td>www.stanford.edu</td>\n",
       "    </tr>\n",
       "    <tr>\n",
       "      <th>2</th>\n",
       "      <td>3</td>\n",
       "      <td>Yale University</td>\n",
       "      <td>New Haven</td>\n",
       "      <td>CT</td>\n",
       "      <td>Private</td>\n",
       "      <td>6483</td>\n",
       "      <td>12974</td>\n",
       "      <td>18627.0</td>\n",
       "      <td>50897.0</td>\n",
       "      <td>71290</td>\n",
       "      <td>138300.0</td>\n",
       "      <td>7.0</td>\n",
       "      <td>1460.0</td>\n",
       "      <td>1580.0</td>\n",
       "      <td>32.0</td>\n",
       "      <td>35.0</td>\n",
       "      <td>www.yale.edu</td>\n",
       "    </tr>\n",
       "    <tr>\n",
       "      <th>3</th>\n",
       "      <td>4</td>\n",
       "      <td>Massachusetts Institute of Technology</td>\n",
       "      <td>Cambridge</td>\n",
       "      <td>MA</td>\n",
       "      <td>Private</td>\n",
       "      <td>4680</td>\n",
       "      <td>11466</td>\n",
       "      <td>20771.0</td>\n",
       "      <td>43248.0</td>\n",
       "      <td>67430</td>\n",
       "      <td>155200.0</td>\n",
       "      <td>7.0</td>\n",
       "      <td>1490.0</td>\n",
       "      <td>1570.0</td>\n",
       "      <td>33.0</td>\n",
       "      <td>35.0</td>\n",
       "      <td>web.mit.edu</td>\n",
       "    </tr>\n",
       "    <tr>\n",
       "      <th>4</th>\n",
       "      <td>5</td>\n",
       "      <td>Princeton University</td>\n",
       "      <td>Princeton</td>\n",
       "      <td>NJ</td>\n",
       "      <td>Private</td>\n",
       "      <td>5659</td>\n",
       "      <td>8273</td>\n",
       "      <td>9327.0</td>\n",
       "      <td>48088.0</td>\n",
       "      <td>66150</td>\n",
       "      <td>139400.0</td>\n",
       "      <td>6.0</td>\n",
       "      <td>1430.0</td>\n",
       "      <td>1570.0</td>\n",
       "      <td>31.0</td>\n",
       "      <td>35.0</td>\n",
       "      <td>www.princeton.edu</td>\n",
       "    </tr>\n",
       "    <tr>\n",
       "      <th>...</th>\n",
       "      <td>...</td>\n",
       "      <td>...</td>\n",
       "      <td>...</td>\n",
       "      <td>...</td>\n",
       "      <td>...</td>\n",
       "      <td>...</td>\n",
       "      <td>...</td>\n",
       "      <td>...</td>\n",
       "      <td>...</td>\n",
       "      <td>...</td>\n",
       "      <td>...</td>\n",
       "      <td>...</td>\n",
       "      <td>...</td>\n",
       "      <td>...</td>\n",
       "      <td>...</td>\n",
       "      <td>...</td>\n",
       "      <td>...</td>\n",
       "    </tr>\n",
       "    <tr>\n",
       "      <th>645</th>\n",
       "      <td>646</td>\n",
       "      <td>New Mexico State University</td>\n",
       "      <td>Las Cruces</td>\n",
       "      <td>NM</td>\n",
       "      <td>Public</td>\n",
       "      <td>13379</td>\n",
       "      <td>14432</td>\n",
       "      <td>8625.0</td>\n",
       "      <td>9582.0</td>\n",
       "      <td>34720</td>\n",
       "      <td>96700.0</td>\n",
       "      <td>64.0</td>\n",
       "      <td>910.0</td>\n",
       "      <td>1160.0</td>\n",
       "      <td>18.0</td>\n",
       "      <td>23.0</td>\n",
       "      <td>www.nmsu.edu</td>\n",
       "    </tr>\n",
       "    <tr>\n",
       "      <th>646</th>\n",
       "      <td>647</td>\n",
       "      <td>Indiana State University</td>\n",
       "      <td>Terre Haute</td>\n",
       "      <td>IN</td>\n",
       "      <td>Public</td>\n",
       "      <td>13626</td>\n",
       "      <td>13763</td>\n",
       "      <td>13012.0</td>\n",
       "      <td>9297.0</td>\n",
       "      <td>32938</td>\n",
       "      <td>85600.0</td>\n",
       "      <td>85.0</td>\n",
       "      <td>900.0</td>\n",
       "      <td>1110.0</td>\n",
       "      <td>17.0</td>\n",
       "      <td>23.0</td>\n",
       "      <td>www.indstate.edu</td>\n",
       "    </tr>\n",
       "    <tr>\n",
       "      <th>647</th>\n",
       "      <td>648</td>\n",
       "      <td>Emory &amp;amp; Henry College</td>\n",
       "      <td>Emory</td>\n",
       "      <td>VA</td>\n",
       "      <td>Private</td>\n",
       "      <td>1094</td>\n",
       "      <td>1226</td>\n",
       "      <td>19340.0</td>\n",
       "      <td>27155.0</td>\n",
       "      <td>48100</td>\n",
       "      <td>70700.0</td>\n",
       "      <td>72.0</td>\n",
       "      <td>988.0</td>\n",
       "      <td>1170.0</td>\n",
       "      <td>19.0</td>\n",
       "      <td>25.0</td>\n",
       "      <td>www.ehc.edu</td>\n",
       "    </tr>\n",
       "    <tr>\n",
       "      <th>648</th>\n",
       "      <td>649</td>\n",
       "      <td>Wells College</td>\n",
       "      <td>Aurora</td>\n",
       "      <td>NY</td>\n",
       "      <td>Private</td>\n",
       "      <td>488</td>\n",
       "      <td>516</td>\n",
       "      <td>22828.0</td>\n",
       "      <td>30207.0</td>\n",
       "      <td>55180</td>\n",
       "      <td>NaN</td>\n",
       "      <td>80.0</td>\n",
       "      <td>NaN</td>\n",
       "      <td>NaN</td>\n",
       "      <td>NaN</td>\n",
       "      <td>NaN</td>\n",
       "      <td>www.wells.edu</td>\n",
       "    </tr>\n",
       "    <tr>\n",
       "      <th>649</th>\n",
       "      <td>650</td>\n",
       "      <td>Catawba College</td>\n",
       "      <td>Salisbury</td>\n",
       "      <td>NC</td>\n",
       "      <td>Private</td>\n",
       "      <td>1336</td>\n",
       "      <td>1463</td>\n",
       "      <td>19807.0</td>\n",
       "      <td>23662.0</td>\n",
       "      <td>44921</td>\n",
       "      <td>78100.0</td>\n",
       "      <td>42.0</td>\n",
       "      <td>930.0</td>\n",
       "      <td>1100.0</td>\n",
       "      <td>18.0</td>\n",
       "      <td>23.0</td>\n",
       "      <td>www.catawba.edu</td>\n",
       "    </tr>\n",
       "  </tbody>\n",
       "</table>\n",
       "<p>650 rows × 17 columns</p>\n",
       "</div>"
      ],
      "text/plain": [
       "     Rank                                   Name         City State  \\\n",
       "0       1                     Harvard University    Cambridge    MA   \n",
       "1       2                    Stanford University     Stanford    CA   \n",
       "2       3                        Yale University    New Haven    CT   \n",
       "3       4  Massachusetts Institute of Technology    Cambridge    MA   \n",
       "4       5                   Princeton University    Princeton    NJ   \n",
       "..    ...                                    ...          ...   ...   \n",
       "645   646            New Mexico State University   Las Cruces    NM   \n",
       "646   647               Indiana State University  Terre Haute    IN   \n",
       "647   648              Emory &amp; Henry College        Emory    VA   \n",
       "648   649                          Wells College       Aurora    NY   \n",
       "649   650                        Catawba College    Salisbury    NC   \n",
       "\n",
       "    Public/Private  Undergraduate Population  Student Population  Net Price  \\\n",
       "0          Private                     13844               31120    14327.0   \n",
       "1          Private                      8402               17534    13261.0   \n",
       "2          Private                      6483               12974    18627.0   \n",
       "3          Private                      4680               11466    20771.0   \n",
       "4          Private                      5659                8273     9327.0   \n",
       "..             ...                       ...                 ...        ...   \n",
       "645         Public                     13379               14432     8625.0   \n",
       "646         Public                     13626               13763    13012.0   \n",
       "647        Private                      1094                1226    19340.0   \n",
       "648        Private                       488                 516    22828.0   \n",
       "649        Private                      1336                1463    19807.0   \n",
       "\n",
       "     Average Grant Aid  Total Annual Cost  Alumni Salary  Acceptance Rate  \\\n",
       "0              49870.0              69600       146800.0              5.0   \n",
       "1              50134.0              69109       145200.0              5.0   \n",
       "2              50897.0              71290       138300.0              7.0   \n",
       "3              43248.0              67430       155200.0              7.0   \n",
       "4              48088.0              66150       139400.0              6.0   \n",
       "..                 ...                ...            ...              ...   \n",
       "645             9582.0              34720        96700.0             64.0   \n",
       "646             9297.0              32938        85600.0             85.0   \n",
       "647            27155.0              48100        70700.0             72.0   \n",
       "648            30207.0              55180            NaN             80.0   \n",
       "649            23662.0              44921        78100.0             42.0   \n",
       "\n",
       "     SAT Lower  SAT Upper  ACT Lower  ACT Upper            Website  \n",
       "0       1460.0     1590.0       32.0       35.0    www.harvard.edu  \n",
       "1       1390.0     1540.0       32.0       35.0   www.stanford.edu  \n",
       "2       1460.0     1580.0       32.0       35.0       www.yale.edu  \n",
       "3       1490.0     1570.0       33.0       35.0        web.mit.edu  \n",
       "4       1430.0     1570.0       31.0       35.0  www.princeton.edu  \n",
       "..         ...        ...        ...        ...                ...  \n",
       "645      910.0     1160.0       18.0       23.0       www.nmsu.edu  \n",
       "646      900.0     1110.0       17.0       23.0   www.indstate.edu  \n",
       "647      988.0     1170.0       19.0       25.0        www.ehc.edu  \n",
       "648        NaN        NaN        NaN        NaN      www.wells.edu  \n",
       "649      930.0     1100.0       18.0       23.0    www.catawba.edu  \n",
       "\n",
       "[650 rows x 17 columns]"
      ]
     },
     "execution_count": 3,
     "metadata": {},
     "output_type": "execute_result"
    }
   ],
   "source": [
    "df_college = pd.read_csv(\"ForbesAmericasTopColleges2019.csv\")"
   ]
  },
  {
   "cell_type": "markdown",
   "metadata": {
    "id": "sSy16YsFtgmV"
   },
   "source": [
    "### Dimension of the data"
   ]
  },
  {
   "cell_type": "markdown",
   "metadata": {
    "id": "RIciQizYtgmV"
   },
   "source": [
    "*'shape'* is a property associated with DataFrame. It returns a tuple representing the dimensionality of the DataFrame. First value is giving number of rows and second value is giving number of columns."
   ]
  },
  {
   "cell_type": "code",
   "execution_count": 7,
   "metadata": {
    "colab": {
     "base_uri": "https://localhost:8080/"
    },
    "id": "5HWTSIy5tgmV",
    "outputId": "9abf7a13-17a0-49b4-b514-c831ca7be110"
   },
   "outputs": [
    {
     "data": {
      "text/plain": [
       "(650, 17)"
      ]
     },
     "execution_count": 7,
     "metadata": {},
     "output_type": "execute_result"
    }
   ],
   "source": [
    "df_college.shape"
   ]
  },
  {
   "cell_type": "code",
   "execution_count": 5,
   "metadata": {
    "colab": {
     "base_uri": "https://localhost:8080/"
    },
    "id": "feNnsPJ6tgmW",
    "outputId": "ba242632-dd83-4b29-9c3e-874148247831"
   },
   "outputs": [
    {
     "data": {
      "text/html": [
       "<div>\n",
       "<style scoped>\n",
       "    .dataframe tbody tr th:only-of-type {\n",
       "        vertical-align: middle;\n",
       "    }\n",
       "\n",
       "    .dataframe tbody tr th {\n",
       "        vertical-align: top;\n",
       "    }\n",
       "\n",
       "    .dataframe thead th {\n",
       "        text-align: right;\n",
       "    }\n",
       "</style>\n",
       "<table border=\"1\" class=\"dataframe\">\n",
       "  <thead>\n",
       "    <tr style=\"text-align: right;\">\n",
       "      <th></th>\n",
       "      <th>Rank</th>\n",
       "      <th>Name</th>\n",
       "      <th>City</th>\n",
       "      <th>State</th>\n",
       "      <th>Public/Private</th>\n",
       "      <th>Undergraduate Population</th>\n",
       "      <th>Student Population</th>\n",
       "      <th>Net Price</th>\n",
       "      <th>Average Grant Aid</th>\n",
       "      <th>Total Annual Cost</th>\n",
       "      <th>Alumni Salary</th>\n",
       "      <th>Acceptance Rate</th>\n",
       "      <th>SAT Lower</th>\n",
       "      <th>SAT Upper</th>\n",
       "      <th>ACT Lower</th>\n",
       "      <th>ACT Upper</th>\n",
       "      <th>Website</th>\n",
       "    </tr>\n",
       "  </thead>\n",
       "  <tbody>\n",
       "    <tr>\n",
       "      <th>645</th>\n",
       "      <td>646</td>\n",
       "      <td>New Mexico State University</td>\n",
       "      <td>Las Cruces</td>\n",
       "      <td>NM</td>\n",
       "      <td>Public</td>\n",
       "      <td>13379</td>\n",
       "      <td>14432</td>\n",
       "      <td>8625.0</td>\n",
       "      <td>9582.0</td>\n",
       "      <td>34720</td>\n",
       "      <td>96700.0</td>\n",
       "      <td>64.0</td>\n",
       "      <td>910.0</td>\n",
       "      <td>1160.0</td>\n",
       "      <td>18.0</td>\n",
       "      <td>23.0</td>\n",
       "      <td>www.nmsu.edu</td>\n",
       "    </tr>\n",
       "    <tr>\n",
       "      <th>646</th>\n",
       "      <td>647</td>\n",
       "      <td>Indiana State University</td>\n",
       "      <td>Terre Haute</td>\n",
       "      <td>IN</td>\n",
       "      <td>Public</td>\n",
       "      <td>13626</td>\n",
       "      <td>13763</td>\n",
       "      <td>13012.0</td>\n",
       "      <td>9297.0</td>\n",
       "      <td>32938</td>\n",
       "      <td>85600.0</td>\n",
       "      <td>85.0</td>\n",
       "      <td>900.0</td>\n",
       "      <td>1110.0</td>\n",
       "      <td>17.0</td>\n",
       "      <td>23.0</td>\n",
       "      <td>www.indstate.edu</td>\n",
       "    </tr>\n",
       "    <tr>\n",
       "      <th>647</th>\n",
       "      <td>648</td>\n",
       "      <td>Emory &amp;amp; Henry College</td>\n",
       "      <td>Emory</td>\n",
       "      <td>VA</td>\n",
       "      <td>Private</td>\n",
       "      <td>1094</td>\n",
       "      <td>1226</td>\n",
       "      <td>19340.0</td>\n",
       "      <td>27155.0</td>\n",
       "      <td>48100</td>\n",
       "      <td>70700.0</td>\n",
       "      <td>72.0</td>\n",
       "      <td>988.0</td>\n",
       "      <td>1170.0</td>\n",
       "      <td>19.0</td>\n",
       "      <td>25.0</td>\n",
       "      <td>www.ehc.edu</td>\n",
       "    </tr>\n",
       "    <tr>\n",
       "      <th>648</th>\n",
       "      <td>649</td>\n",
       "      <td>Wells College</td>\n",
       "      <td>Aurora</td>\n",
       "      <td>NY</td>\n",
       "      <td>Private</td>\n",
       "      <td>488</td>\n",
       "      <td>516</td>\n",
       "      <td>22828.0</td>\n",
       "      <td>30207.0</td>\n",
       "      <td>55180</td>\n",
       "      <td>NaN</td>\n",
       "      <td>80.0</td>\n",
       "      <td>NaN</td>\n",
       "      <td>NaN</td>\n",
       "      <td>NaN</td>\n",
       "      <td>NaN</td>\n",
       "      <td>www.wells.edu</td>\n",
       "    </tr>\n",
       "    <tr>\n",
       "      <th>649</th>\n",
       "      <td>650</td>\n",
       "      <td>Catawba College</td>\n",
       "      <td>Salisbury</td>\n",
       "      <td>NC</td>\n",
       "      <td>Private</td>\n",
       "      <td>1336</td>\n",
       "      <td>1463</td>\n",
       "      <td>19807.0</td>\n",
       "      <td>23662.0</td>\n",
       "      <td>44921</td>\n",
       "      <td>78100.0</td>\n",
       "      <td>42.0</td>\n",
       "      <td>930.0</td>\n",
       "      <td>1100.0</td>\n",
       "      <td>18.0</td>\n",
       "      <td>23.0</td>\n",
       "      <td>www.catawba.edu</td>\n",
       "    </tr>\n",
       "  </tbody>\n",
       "</table>\n",
       "</div>"
      ],
      "text/plain": [
       "     Rank                         Name         City State Public/Private  \\\n",
       "645   646  New Mexico State University   Las Cruces    NM         Public   \n",
       "646   647     Indiana State University  Terre Haute    IN         Public   \n",
       "647   648    Emory &amp; Henry College        Emory    VA        Private   \n",
       "648   649                Wells College       Aurora    NY        Private   \n",
       "649   650              Catawba College    Salisbury    NC        Private   \n",
       "\n",
       "     Undergraduate Population  Student Population  Net Price  \\\n",
       "645                     13379               14432     8625.0   \n",
       "646                     13626               13763    13012.0   \n",
       "647                      1094                1226    19340.0   \n",
       "648                       488                 516    22828.0   \n",
       "649                      1336                1463    19807.0   \n",
       "\n",
       "     Average Grant Aid  Total Annual Cost  Alumni Salary  Acceptance Rate  \\\n",
       "645             9582.0              34720        96700.0             64.0   \n",
       "646             9297.0              32938        85600.0             85.0   \n",
       "647            27155.0              48100        70700.0             72.0   \n",
       "648            30207.0              55180            NaN             80.0   \n",
       "649            23662.0              44921        78100.0             42.0   \n",
       "\n",
       "     SAT Lower  SAT Upper  ACT Lower  ACT Upper           Website  \n",
       "645      910.0     1160.0       18.0       23.0      www.nmsu.edu  \n",
       "646      900.0     1110.0       17.0       23.0  www.indstate.edu  \n",
       "647      988.0     1170.0       19.0       25.0       www.ehc.edu  \n",
       "648        NaN        NaN        NaN        NaN     www.wells.edu  \n",
       "649      930.0     1100.0       18.0       23.0   www.catawba.edu  "
      ]
     },
     "execution_count": 5,
     "metadata": {},
     "output_type": "execute_result"
    }
   ],
   "source": [
    "df_college.tail()"
   ]
  },
  {
   "cell_type": "markdown",
   "metadata": {
    "id": "Lv5WnED6tgmW"
   },
   "source": [
    "### Datatype of the fields in the data"
   ]
  },
  {
   "cell_type": "markdown",
   "metadata": {
    "id": "zCb-8nUmtgmX"
   },
   "source": [
    "'info()' method prints information about a DataFrame including the index dtype and column dtypes, non-null values and memory usage"
   ]
  },
  {
   "cell_type": "code",
   "execution_count": 8,
   "metadata": {
    "colab": {
     "base_uri": "https://localhost:8080/"
    },
    "id": "jV2_y-outgmX",
    "outputId": "e58993a2-e1f6-4c79-a285-84b624fbb0a2"
   },
   "outputs": [
    {
     "name": "stdout",
     "output_type": "stream",
     "text": [
      "<class 'pandas.core.frame.DataFrame'>\n",
      "RangeIndex: 650 entries, 0 to 649\n",
      "Data columns (total 17 columns):\n",
      " #   Column                    Non-Null Count  Dtype  \n",
      "---  ------                    --------------  -----  \n",
      " 0   Rank                      650 non-null    int64  \n",
      " 1   Name                      650 non-null    object \n",
      " 2   City                      650 non-null    object \n",
      " 3   State                     650 non-null    object \n",
      " 4   Public/Private            650 non-null    object \n",
      " 5   Undergraduate Population  650 non-null    int64  \n",
      " 6   Student Population        650 non-null    int64  \n",
      " 7   Net Price                 648 non-null    float64\n",
      " 8   Average Grant Aid         646 non-null    float64\n",
      " 9   Total Annual Cost         650 non-null    int64  \n",
      " 10  Alumni Salary             635 non-null    float64\n",
      " 11  Acceptance Rate           648 non-null    float64\n",
      " 12  SAT Lower                 551 non-null    float64\n",
      " 13  SAT Upper                 551 non-null    float64\n",
      " 14  ACT Lower                 553 non-null    float64\n",
      " 15  ACT Upper                 553 non-null    float64\n",
      " 16  Website                   645 non-null    object \n",
      "dtypes: float64(8), int64(4), object(5)\n",
      "memory usage: 86.5+ KB\n"
     ]
    }
   ],
   "source": [
    "df_college.info()"
   ]
  },
  {
   "cell_type": "markdown",
   "metadata": {
    "id": "JYr2YCtG6sGn"
   },
   "source": []
  },
  {
   "cell_type": "markdown",
   "metadata": {
    "id": "AaYuiPE1tgmX"
   },
   "source": [
    "### Check the missing values in the data\n",
    "'isnull()' method detects missing values. It returns a boolean same-sized object indicating if the values are NA. NA values, gets mapped to True values.Everything else gets mapped to False values.\n",
    "\n",
    "'sum()' method followed by 'isnull()' adds up all the True instances per column to give a summary of missing values per column"
   ]
  },
  {
   "cell_type": "code",
   "execution_count": 12,
   "metadata": {
    "id": "gGjFdfEgtgmX",
    "outputId": "3572830d-c1eb-4ab8-962d-6193e5f6c1b0"
   },
   "outputs": [
    {
     "data": {
      "text/plain": [
       "Rank                         0\n",
       "Name                         0\n",
       "City                         0\n",
       "State                        0\n",
       "Public/Private               0\n",
       "Undergraduate Population     0\n",
       "Student Population           0\n",
       "Net Price                    2\n",
       "Average Grant Aid            4\n",
       "Total Annual Cost            0\n",
       "Alumni Salary               15\n",
       "Acceptance Rate              2\n",
       "SAT Lower                   99\n",
       "SAT Upper                   99\n",
       "ACT Lower                   97\n",
       "ACT Upper                   97\n",
       "Website                      5\n",
       "dtype: int64"
      ]
     },
     "execution_count": 12,
     "metadata": {},
     "output_type": "execute_result"
    }
   ],
   "source": [
    "df_college.isnull().sum()"
   ]
  },
  {
   "cell_type": "markdown",
   "metadata": {
    "id": "3Ce0LbyRtgmX"
   },
   "source": []
  },
  {
   "cell_type": "markdown",
   "metadata": {
    "id": "FfyQfVwhtgmX"
   },
   "source": [
    "### Data Cleanup"
   ]
  },
  {
   "cell_type": "markdown",
   "metadata": {
    "id": "xTvtcQShtgmX"
   },
   "source": [
    "Let's first drop all columns that are not need. \n",
    "\n",
    "'drop()' method with 'axis=1' indicates that columns have to be dropped. List of column names to be dropped is passed to the method. 'inplace = True' ensures that the columns are dropped from the DataFrame permanently"
   ]
  },
  {
   "cell_type": "code",
   "execution_count": 21,
   "metadata": {
    "id": "_wPeCQ8xtgmX"
   },
   "outputs": [
    {
     "data": {
      "text/html": [
       "<div>\n",
       "<style scoped>\n",
       "    .dataframe tbody tr th:only-of-type {\n",
       "        vertical-align: middle;\n",
       "    }\n",
       "\n",
       "    .dataframe tbody tr th {\n",
       "        vertical-align: top;\n",
       "    }\n",
       "\n",
       "    .dataframe thead th {\n",
       "        text-align: right;\n",
       "    }\n",
       "</style>\n",
       "<table border=\"1\" class=\"dataframe\">\n",
       "  <thead>\n",
       "    <tr style=\"text-align: right;\">\n",
       "      <th></th>\n",
       "      <th>Rank</th>\n",
       "      <th>Name</th>\n",
       "      <th>City</th>\n",
       "      <th>State</th>\n",
       "      <th>Public/Private</th>\n",
       "      <th>Undergraduate Population</th>\n",
       "      <th>Student Population</th>\n",
       "      <th>Net Price</th>\n",
       "      <th>Average Grant Aid</th>\n",
       "      <th>Total Annual Cost</th>\n",
       "      <th>Alumni Salary</th>\n",
       "      <th>Acceptance Rate</th>\n",
       "    </tr>\n",
       "  </thead>\n",
       "  <tbody>\n",
       "    <tr>\n",
       "      <th>0</th>\n",
       "      <td>1</td>\n",
       "      <td>Harvard University</td>\n",
       "      <td>Cambridge</td>\n",
       "      <td>MA</td>\n",
       "      <td>Private</td>\n",
       "      <td>13844</td>\n",
       "      <td>31120</td>\n",
       "      <td>14327.0</td>\n",
       "      <td>49870.0</td>\n",
       "      <td>69600</td>\n",
       "      <td>146800.0</td>\n",
       "      <td>5.0</td>\n",
       "    </tr>\n",
       "    <tr>\n",
       "      <th>1</th>\n",
       "      <td>2</td>\n",
       "      <td>Stanford University</td>\n",
       "      <td>Stanford</td>\n",
       "      <td>CA</td>\n",
       "      <td>Private</td>\n",
       "      <td>8402</td>\n",
       "      <td>17534</td>\n",
       "      <td>13261.0</td>\n",
       "      <td>50134.0</td>\n",
       "      <td>69109</td>\n",
       "      <td>145200.0</td>\n",
       "      <td>5.0</td>\n",
       "    </tr>\n",
       "    <tr>\n",
       "      <th>2</th>\n",
       "      <td>3</td>\n",
       "      <td>Yale University</td>\n",
       "      <td>New Haven</td>\n",
       "      <td>CT</td>\n",
       "      <td>Private</td>\n",
       "      <td>6483</td>\n",
       "      <td>12974</td>\n",
       "      <td>18627.0</td>\n",
       "      <td>50897.0</td>\n",
       "      <td>71290</td>\n",
       "      <td>138300.0</td>\n",
       "      <td>7.0</td>\n",
       "    </tr>\n",
       "    <tr>\n",
       "      <th>3</th>\n",
       "      <td>4</td>\n",
       "      <td>Massachusetts Institute of Technology</td>\n",
       "      <td>Cambridge</td>\n",
       "      <td>MA</td>\n",
       "      <td>Private</td>\n",
       "      <td>4680</td>\n",
       "      <td>11466</td>\n",
       "      <td>20771.0</td>\n",
       "      <td>43248.0</td>\n",
       "      <td>67430</td>\n",
       "      <td>155200.0</td>\n",
       "      <td>7.0</td>\n",
       "    </tr>\n",
       "    <tr>\n",
       "      <th>4</th>\n",
       "      <td>5</td>\n",
       "      <td>Princeton University</td>\n",
       "      <td>Princeton</td>\n",
       "      <td>NJ</td>\n",
       "      <td>Private</td>\n",
       "      <td>5659</td>\n",
       "      <td>8273</td>\n",
       "      <td>9327.0</td>\n",
       "      <td>48088.0</td>\n",
       "      <td>66150</td>\n",
       "      <td>139400.0</td>\n",
       "      <td>6.0</td>\n",
       "    </tr>\n",
       "    <tr>\n",
       "      <th>...</th>\n",
       "      <td>...</td>\n",
       "      <td>...</td>\n",
       "      <td>...</td>\n",
       "      <td>...</td>\n",
       "      <td>...</td>\n",
       "      <td>...</td>\n",
       "      <td>...</td>\n",
       "      <td>...</td>\n",
       "      <td>...</td>\n",
       "      <td>...</td>\n",
       "      <td>...</td>\n",
       "      <td>...</td>\n",
       "    </tr>\n",
       "    <tr>\n",
       "      <th>645</th>\n",
       "      <td>646</td>\n",
       "      <td>New Mexico State University</td>\n",
       "      <td>Las Cruces</td>\n",
       "      <td>NM</td>\n",
       "      <td>Public</td>\n",
       "      <td>13379</td>\n",
       "      <td>14432</td>\n",
       "      <td>8625.0</td>\n",
       "      <td>9582.0</td>\n",
       "      <td>34720</td>\n",
       "      <td>96700.0</td>\n",
       "      <td>64.0</td>\n",
       "    </tr>\n",
       "    <tr>\n",
       "      <th>646</th>\n",
       "      <td>647</td>\n",
       "      <td>Indiana State University</td>\n",
       "      <td>Terre Haute</td>\n",
       "      <td>IN</td>\n",
       "      <td>Public</td>\n",
       "      <td>13626</td>\n",
       "      <td>13763</td>\n",
       "      <td>13012.0</td>\n",
       "      <td>9297.0</td>\n",
       "      <td>32938</td>\n",
       "      <td>85600.0</td>\n",
       "      <td>85.0</td>\n",
       "    </tr>\n",
       "    <tr>\n",
       "      <th>647</th>\n",
       "      <td>648</td>\n",
       "      <td>Emory &amp;amp; Henry College</td>\n",
       "      <td>Emory</td>\n",
       "      <td>VA</td>\n",
       "      <td>Private</td>\n",
       "      <td>1094</td>\n",
       "      <td>1226</td>\n",
       "      <td>19340.0</td>\n",
       "      <td>27155.0</td>\n",
       "      <td>48100</td>\n",
       "      <td>70700.0</td>\n",
       "      <td>72.0</td>\n",
       "    </tr>\n",
       "    <tr>\n",
       "      <th>648</th>\n",
       "      <td>649</td>\n",
       "      <td>Wells College</td>\n",
       "      <td>Aurora</td>\n",
       "      <td>NY</td>\n",
       "      <td>Private</td>\n",
       "      <td>488</td>\n",
       "      <td>516</td>\n",
       "      <td>22828.0</td>\n",
       "      <td>30207.0</td>\n",
       "      <td>55180</td>\n",
       "      <td>NaN</td>\n",
       "      <td>80.0</td>\n",
       "    </tr>\n",
       "    <tr>\n",
       "      <th>649</th>\n",
       "      <td>650</td>\n",
       "      <td>Catawba College</td>\n",
       "      <td>Salisbury</td>\n",
       "      <td>NC</td>\n",
       "      <td>Private</td>\n",
       "      <td>1336</td>\n",
       "      <td>1463</td>\n",
       "      <td>19807.0</td>\n",
       "      <td>23662.0</td>\n",
       "      <td>44921</td>\n",
       "      <td>78100.0</td>\n",
       "      <td>42.0</td>\n",
       "    </tr>\n",
       "  </tbody>\n",
       "</table>\n",
       "<p>650 rows × 12 columns</p>\n",
       "</div>"
      ],
      "text/plain": [
       "     Rank                                   Name         City State  \\\n",
       "0       1                     Harvard University    Cambridge    MA   \n",
       "1       2                    Stanford University     Stanford    CA   \n",
       "2       3                        Yale University    New Haven    CT   \n",
       "3       4  Massachusetts Institute of Technology    Cambridge    MA   \n",
       "4       5                   Princeton University    Princeton    NJ   \n",
       "..    ...                                    ...          ...   ...   \n",
       "645   646            New Mexico State University   Las Cruces    NM   \n",
       "646   647               Indiana State University  Terre Haute    IN   \n",
       "647   648              Emory &amp; Henry College        Emory    VA   \n",
       "648   649                          Wells College       Aurora    NY   \n",
       "649   650                        Catawba College    Salisbury    NC   \n",
       "\n",
       "    Public/Private  Undergraduate Population  Student Population  Net Price  \\\n",
       "0          Private                     13844               31120    14327.0   \n",
       "1          Private                      8402               17534    13261.0   \n",
       "2          Private                      6483               12974    18627.0   \n",
       "3          Private                      4680               11466    20771.0   \n",
       "4          Private                      5659                8273     9327.0   \n",
       "..             ...                       ...                 ...        ...   \n",
       "645         Public                     13379               14432     8625.0   \n",
       "646         Public                     13626               13763    13012.0   \n",
       "647        Private                      1094                1226    19340.0   \n",
       "648        Private                       488                 516    22828.0   \n",
       "649        Private                      1336                1463    19807.0   \n",
       "\n",
       "     Average Grant Aid  Total Annual Cost  Alumni Salary  Acceptance Rate  \n",
       "0              49870.0              69600       146800.0              5.0  \n",
       "1              50134.0              69109       145200.0              5.0  \n",
       "2              50897.0              71290       138300.0              7.0  \n",
       "3              43248.0              67430       155200.0              7.0  \n",
       "4              48088.0              66150       139400.0              6.0  \n",
       "..                 ...                ...            ...              ...  \n",
       "645             9582.0              34720        96700.0             64.0  \n",
       "646             9297.0              32938        85600.0             85.0  \n",
       "647            27155.0              48100        70700.0             72.0  \n",
       "648            30207.0              55180            NaN             80.0  \n",
       "649            23662.0              44921        78100.0             42.0  \n",
       "\n",
       "[650 rows x 12 columns]"
      ]
     },
     "execution_count": 21,
     "metadata": {},
     "output_type": "execute_result"
    }
   ],
   "source": [
    "df_college\n"
   ]
  },
  {
   "cell_type": "markdown",
   "metadata": {
    "id": "3vb8ZhMAtgmX"
   },
   "source": [
    "'dropna()' method drops all rows with NA values (by default axis = 0)"
   ]
  },
  {
   "cell_type": "code",
   "execution_count": 22,
   "metadata": {
    "id": "9DfcH1YktgmX"
   },
   "outputs": [],
   "source": [
    "df_college.dropna(inplace =True)"
   ]
  },
  {
   "cell_type": "code",
   "execution_count": 23,
   "metadata": {
    "colab": {
     "base_uri": "https://localhost:8080/"
    },
    "id": "amMAF6ahtgmY",
    "outputId": "fe860b07-0bd0-4040-dcd7-cf963fe09428"
   },
   "outputs": [
    {
     "data": {
      "text/plain": [
       "(628, 12)"
      ]
     },
     "execution_count": 23,
     "metadata": {},
     "output_type": "execute_result"
    }
   ],
   "source": [
    "df_college.shape"
   ]
  },
  {
   "cell_type": "markdown",
   "metadata": {
    "id": "dRhJfREXtgmY"
   },
   "source": [
    "### Reset the index of the dataframe\n",
    "\n",
    "'reset_index()' resets the index of the DataFrame\n",
    "\n",
    "'drop' as True, will not try to insert index into DataFrame columns\n",
    "\n",
    "'inplace' as True resets the index permanently"
   ]
  },
  {
   "cell_type": "code",
   "execution_count": 25,
   "metadata": {
    "id": "fpBPXoWutgmY"
   },
   "outputs": [],
   "source": [
    "df_college.reset_index(drop = True, inplace = True)"
   ]
  },
  {
   "cell_type": "markdown",
   "metadata": {
    "id": "8S9FjBQetgmY"
   },
   "source": [
    "### Check the first 5 rows of the dataset\n",
    "'head()' function is used to view the top records. By default it displays 5 rows."
   ]
  },
  {
   "cell_type": "code",
   "execution_count": 26,
   "metadata": {
    "colab": {
     "base_uri": "https://localhost:8080/",
     "height": 255
    },
    "id": "wW-ONC4ktgmY",
    "outputId": "542b2ec9-9db8-4745-f1e8-806b7d981fcf"
   },
   "outputs": [
    {
     "data": {
      "text/html": [
       "<div>\n",
       "<style scoped>\n",
       "    .dataframe tbody tr th:only-of-type {\n",
       "        vertical-align: middle;\n",
       "    }\n",
       "\n",
       "    .dataframe tbody tr th {\n",
       "        vertical-align: top;\n",
       "    }\n",
       "\n",
       "    .dataframe thead th {\n",
       "        text-align: right;\n",
       "    }\n",
       "</style>\n",
       "<table border=\"1\" class=\"dataframe\">\n",
       "  <thead>\n",
       "    <tr style=\"text-align: right;\">\n",
       "      <th></th>\n",
       "      <th>Rank</th>\n",
       "      <th>Name</th>\n",
       "      <th>City</th>\n",
       "      <th>State</th>\n",
       "      <th>Public/Private</th>\n",
       "      <th>Undergraduate Population</th>\n",
       "      <th>Student Population</th>\n",
       "      <th>Net Price</th>\n",
       "      <th>Average Grant Aid</th>\n",
       "      <th>Total Annual Cost</th>\n",
       "      <th>Alumni Salary</th>\n",
       "      <th>Acceptance Rate</th>\n",
       "    </tr>\n",
       "  </thead>\n",
       "  <tbody>\n",
       "    <tr>\n",
       "      <th>0</th>\n",
       "      <td>1</td>\n",
       "      <td>Harvard University</td>\n",
       "      <td>Cambridge</td>\n",
       "      <td>MA</td>\n",
       "      <td>Private</td>\n",
       "      <td>13844</td>\n",
       "      <td>31120</td>\n",
       "      <td>14327.0</td>\n",
       "      <td>49870.0</td>\n",
       "      <td>69600</td>\n",
       "      <td>146800.0</td>\n",
       "      <td>5.0</td>\n",
       "    </tr>\n",
       "    <tr>\n",
       "      <th>1</th>\n",
       "      <td>2</td>\n",
       "      <td>Stanford University</td>\n",
       "      <td>Stanford</td>\n",
       "      <td>CA</td>\n",
       "      <td>Private</td>\n",
       "      <td>8402</td>\n",
       "      <td>17534</td>\n",
       "      <td>13261.0</td>\n",
       "      <td>50134.0</td>\n",
       "      <td>69109</td>\n",
       "      <td>145200.0</td>\n",
       "      <td>5.0</td>\n",
       "    </tr>\n",
       "    <tr>\n",
       "      <th>2</th>\n",
       "      <td>3</td>\n",
       "      <td>Yale University</td>\n",
       "      <td>New Haven</td>\n",
       "      <td>CT</td>\n",
       "      <td>Private</td>\n",
       "      <td>6483</td>\n",
       "      <td>12974</td>\n",
       "      <td>18627.0</td>\n",
       "      <td>50897.0</td>\n",
       "      <td>71290</td>\n",
       "      <td>138300.0</td>\n",
       "      <td>7.0</td>\n",
       "    </tr>\n",
       "    <tr>\n",
       "      <th>3</th>\n",
       "      <td>4</td>\n",
       "      <td>Massachusetts Institute of Technology</td>\n",
       "      <td>Cambridge</td>\n",
       "      <td>MA</td>\n",
       "      <td>Private</td>\n",
       "      <td>4680</td>\n",
       "      <td>11466</td>\n",
       "      <td>20771.0</td>\n",
       "      <td>43248.0</td>\n",
       "      <td>67430</td>\n",
       "      <td>155200.0</td>\n",
       "      <td>7.0</td>\n",
       "    </tr>\n",
       "    <tr>\n",
       "      <th>4</th>\n",
       "      <td>5</td>\n",
       "      <td>Princeton University</td>\n",
       "      <td>Princeton</td>\n",
       "      <td>NJ</td>\n",
       "      <td>Private</td>\n",
       "      <td>5659</td>\n",
       "      <td>8273</td>\n",
       "      <td>9327.0</td>\n",
       "      <td>48088.0</td>\n",
       "      <td>66150</td>\n",
       "      <td>139400.0</td>\n",
       "      <td>6.0</td>\n",
       "    </tr>\n",
       "  </tbody>\n",
       "</table>\n",
       "</div>"
      ],
      "text/plain": [
       "   Rank                                   Name       City State  \\\n",
       "0     1                     Harvard University  Cambridge    MA   \n",
       "1     2                    Stanford University   Stanford    CA   \n",
       "2     3                        Yale University  New Haven    CT   \n",
       "3     4  Massachusetts Institute of Technology  Cambridge    MA   \n",
       "4     5                   Princeton University  Princeton    NJ   \n",
       "\n",
       "  Public/Private  Undergraduate Population  Student Population  Net Price  \\\n",
       "0        Private                     13844               31120    14327.0   \n",
       "1        Private                      8402               17534    13261.0   \n",
       "2        Private                      6483               12974    18627.0   \n",
       "3        Private                      4680               11466    20771.0   \n",
       "4        Private                      5659                8273     9327.0   \n",
       "\n",
       "   Average Grant Aid  Total Annual Cost  Alumni Salary  Acceptance Rate  \n",
       "0            49870.0              69600       146800.0              5.0  \n",
       "1            50134.0              69109       145200.0              5.0  \n",
       "2            50897.0              71290       138300.0              7.0  \n",
       "3            43248.0              67430       155200.0              7.0  \n",
       "4            48088.0              66150       139400.0              6.0  "
      ]
     },
     "execution_count": 26,
     "metadata": {},
     "output_type": "execute_result"
    }
   ],
   "source": [
    "df_college.head()"
   ]
  },
  {
   "cell_type": "markdown",
   "metadata": {
    "id": "seNXIKL-tgmY"
   },
   "source": [
    "### Display the last five rows of the dataset\n",
    "'tail()' function is used to view the last records. By default it displays 5 rows."
   ]
  },
  {
   "cell_type": "code",
   "execution_count": 27,
   "metadata": {
    "id": "1iAyCwLGtgmY",
    "outputId": "80a0c798-444c-49be-9261-d0fa719ea75c"
   },
   "outputs": [
    {
     "data": {
      "text/html": [
       "<div>\n",
       "<style scoped>\n",
       "    .dataframe tbody tr th:only-of-type {\n",
       "        vertical-align: middle;\n",
       "    }\n",
       "\n",
       "    .dataframe tbody tr th {\n",
       "        vertical-align: top;\n",
       "    }\n",
       "\n",
       "    .dataframe thead th {\n",
       "        text-align: right;\n",
       "    }\n",
       "</style>\n",
       "<table border=\"1\" class=\"dataframe\">\n",
       "  <thead>\n",
       "    <tr style=\"text-align: right;\">\n",
       "      <th></th>\n",
       "      <th>Rank</th>\n",
       "      <th>Name</th>\n",
       "      <th>City</th>\n",
       "      <th>State</th>\n",
       "      <th>Public/Private</th>\n",
       "      <th>Undergraduate Population</th>\n",
       "      <th>Student Population</th>\n",
       "      <th>Net Price</th>\n",
       "      <th>Average Grant Aid</th>\n",
       "      <th>Total Annual Cost</th>\n",
       "      <th>Alumni Salary</th>\n",
       "      <th>Acceptance Rate</th>\n",
       "    </tr>\n",
       "  </thead>\n",
       "  <tbody>\n",
       "    <tr>\n",
       "      <th>623</th>\n",
       "      <td>645</td>\n",
       "      <td>Morehouse College</td>\n",
       "      <td>Atlanta</td>\n",
       "      <td>GA</td>\n",
       "      <td>Private</td>\n",
       "      <td>2202</td>\n",
       "      <td>2219</td>\n",
       "      <td>34928.0</td>\n",
       "      <td>17318.0</td>\n",
       "      <td>48723</td>\n",
       "      <td>98700.0</td>\n",
       "      <td>74.0</td>\n",
       "    </tr>\n",
       "    <tr>\n",
       "      <th>624</th>\n",
       "      <td>646</td>\n",
       "      <td>New Mexico State University</td>\n",
       "      <td>Las Cruces</td>\n",
       "      <td>NM</td>\n",
       "      <td>Public</td>\n",
       "      <td>13379</td>\n",
       "      <td>14432</td>\n",
       "      <td>8625.0</td>\n",
       "      <td>9582.0</td>\n",
       "      <td>34720</td>\n",
       "      <td>96700.0</td>\n",
       "      <td>64.0</td>\n",
       "    </tr>\n",
       "    <tr>\n",
       "      <th>625</th>\n",
       "      <td>647</td>\n",
       "      <td>Indiana State University</td>\n",
       "      <td>Terre Haute</td>\n",
       "      <td>IN</td>\n",
       "      <td>Public</td>\n",
       "      <td>13626</td>\n",
       "      <td>13763</td>\n",
       "      <td>13012.0</td>\n",
       "      <td>9297.0</td>\n",
       "      <td>32938</td>\n",
       "      <td>85600.0</td>\n",
       "      <td>85.0</td>\n",
       "    </tr>\n",
       "    <tr>\n",
       "      <th>626</th>\n",
       "      <td>648</td>\n",
       "      <td>Emory &amp;amp; Henry College</td>\n",
       "      <td>Emory</td>\n",
       "      <td>VA</td>\n",
       "      <td>Private</td>\n",
       "      <td>1094</td>\n",
       "      <td>1226</td>\n",
       "      <td>19340.0</td>\n",
       "      <td>27155.0</td>\n",
       "      <td>48100</td>\n",
       "      <td>70700.0</td>\n",
       "      <td>72.0</td>\n",
       "    </tr>\n",
       "    <tr>\n",
       "      <th>627</th>\n",
       "      <td>650</td>\n",
       "      <td>Catawba College</td>\n",
       "      <td>Salisbury</td>\n",
       "      <td>NC</td>\n",
       "      <td>Private</td>\n",
       "      <td>1336</td>\n",
       "      <td>1463</td>\n",
       "      <td>19807.0</td>\n",
       "      <td>23662.0</td>\n",
       "      <td>44921</td>\n",
       "      <td>78100.0</td>\n",
       "      <td>42.0</td>\n",
       "    </tr>\n",
       "  </tbody>\n",
       "</table>\n",
       "</div>"
      ],
      "text/plain": [
       "     Rank                         Name         City State Public/Private  \\\n",
       "623   645            Morehouse College      Atlanta    GA        Private   \n",
       "624   646  New Mexico State University   Las Cruces    NM         Public   \n",
       "625   647     Indiana State University  Terre Haute    IN         Public   \n",
       "626   648    Emory &amp; Henry College        Emory    VA        Private   \n",
       "627   650              Catawba College    Salisbury    NC        Private   \n",
       "\n",
       "     Undergraduate Population  Student Population  Net Price  \\\n",
       "623                      2202                2219    34928.0   \n",
       "624                     13379               14432     8625.0   \n",
       "625                     13626               13763    13012.0   \n",
       "626                      1094                1226    19340.0   \n",
       "627                      1336                1463    19807.0   \n",
       "\n",
       "     Average Grant Aid  Total Annual Cost  Alumni Salary  Acceptance Rate  \n",
       "623            17318.0              48723        98700.0             74.0  \n",
       "624             9582.0              34720        96700.0             64.0  \n",
       "625             9297.0              32938        85600.0             85.0  \n",
       "626            27155.0              48100        70700.0             72.0  \n",
       "627            23662.0              44921        78100.0             42.0  "
      ]
     },
     "execution_count": 27,
     "metadata": {},
     "output_type": "execute_result"
    }
   ],
   "source": [
    "df_college.tail()"
   ]
  },
  {
   "cell_type": "markdown",
   "metadata": {
    "id": "cHskLSaBtgmZ"
   },
   "source": []
  },
  {
   "cell_type": "markdown",
   "metadata": {
    "id": "2MIH0RTj7_iO"
   },
   "source": [
    "### Recheck the dimension and info of the data "
   ]
  },
  {
   "cell_type": "code",
   "execution_count": 28,
   "metadata": {
    "id": "Er4-UkBFtgmZ",
    "outputId": "afdb13e3-d1c2-4a72-ff8c-507f342ba35e"
   },
   "outputs": [
    {
     "data": {
      "text/plain": [
       "(628, 12)"
      ]
     },
     "execution_count": 28,
     "metadata": {},
     "output_type": "execute_result"
    }
   ],
   "source": [
    "df_college.shape"
   ]
  },
  {
   "cell_type": "code",
   "execution_count": 29,
   "metadata": {
    "id": "kzygTqlAtgmZ",
    "outputId": "3e52f648-afb9-484b-ceb1-325e331a03e4"
   },
   "outputs": [
    {
     "name": "stdout",
     "output_type": "stream",
     "text": [
      "<class 'pandas.core.frame.DataFrame'>\n",
      "RangeIndex: 628 entries, 0 to 627\n",
      "Data columns (total 12 columns):\n",
      " #   Column                    Non-Null Count  Dtype  \n",
      "---  ------                    --------------  -----  \n",
      " 0   Rank                      628 non-null    int64  \n",
      " 1   Name                      628 non-null    object \n",
      " 2   City                      628 non-null    object \n",
      " 3   State                     628 non-null    object \n",
      " 4   Public/Private            628 non-null    object \n",
      " 5   Undergraduate Population  628 non-null    int64  \n",
      " 6   Student Population        628 non-null    int64  \n",
      " 7   Net Price                 628 non-null    float64\n",
      " 8   Average Grant Aid         628 non-null    float64\n",
      " 9   Total Annual Cost         628 non-null    int64  \n",
      " 10  Alumni Salary             628 non-null    float64\n",
      " 11  Acceptance Rate           628 non-null    float64\n",
      "dtypes: float64(4), int64(4), object(4)\n",
      "memory usage: 59.0+ KB\n"
     ]
    }
   ],
   "source": [
    "df_college.info()"
   ]
  },
  {
   "cell_type": "markdown",
   "metadata": {
    "id": "0tR2xaFutgmZ"
   },
   "source": [
    "# Data Analysis"
   ]
  },
  {
   "cell_type": "markdown",
   "metadata": {
    "id": "2lAXzmq-tgmZ"
   },
   "source": [
    "### Get Summary of Data"
   ]
  },
  {
   "cell_type": "markdown",
   "metadata": {
    "id": "OlktZ7whtgmZ"
   },
   "source": [
    "'describe()' method generates descriptive statistics. Descriptive statistics include those that summarize the central\n",
    "tendency, dispersion and shape of a dataset's distribution, excluding 'NaN' values"
   ]
  },
  {
   "cell_type": "code",
   "execution_count": 30,
   "metadata": {
    "id": "AMsXZpWbtgmZ",
    "outputId": "4d233079-9407-487b-fa1d-a1022be388a3"
   },
   "outputs": [
    {
     "data": {
      "text/html": [
       "<div>\n",
       "<style scoped>\n",
       "    .dataframe tbody tr th:only-of-type {\n",
       "        vertical-align: middle;\n",
       "    }\n",
       "\n",
       "    .dataframe tbody tr th {\n",
       "        vertical-align: top;\n",
       "    }\n",
       "\n",
       "    .dataframe thead th {\n",
       "        text-align: right;\n",
       "    }\n",
       "</style>\n",
       "<table border=\"1\" class=\"dataframe\">\n",
       "  <thead>\n",
       "    <tr style=\"text-align: right;\">\n",
       "      <th></th>\n",
       "      <th>Rank</th>\n",
       "      <th>Undergraduate Population</th>\n",
       "      <th>Student Population</th>\n",
       "      <th>Net Price</th>\n",
       "      <th>Average Grant Aid</th>\n",
       "      <th>Total Annual Cost</th>\n",
       "      <th>Alumni Salary</th>\n",
       "      <th>Acceptance Rate</th>\n",
       "    </tr>\n",
       "  </thead>\n",
       "  <tbody>\n",
       "    <tr>\n",
       "      <th>count</th>\n",
       "      <td>628.000000</td>\n",
       "      <td>628.000000</td>\n",
       "      <td>628.000000</td>\n",
       "      <td>628.000000</td>\n",
       "      <td>628.000000</td>\n",
       "      <td>628.000000</td>\n",
       "      <td>628.000000</td>\n",
       "      <td>628.000000</td>\n",
       "    </tr>\n",
       "    <tr>\n",
       "      <th>mean</th>\n",
       "      <td>322.122611</td>\n",
       "      <td>10235.472930</td>\n",
       "      <td>12312.912420</td>\n",
       "      <td>22481.570064</td>\n",
       "      <td>19971.522293</td>\n",
       "      <td>50722.579618</td>\n",
       "      <td>98616.242038</td>\n",
       "      <td>61.721338</td>\n",
       "    </tr>\n",
       "    <tr>\n",
       "      <th>std</th>\n",
       "      <td>185.360460</td>\n",
       "      <td>11228.048723</td>\n",
       "      <td>13246.660229</td>\n",
       "      <td>8099.771637</td>\n",
       "      <td>11214.740998</td>\n",
       "      <td>12670.126944</td>\n",
       "      <td>14026.078146</td>\n",
       "      <td>21.795857</td>\n",
       "    </tr>\n",
       "    <tr>\n",
       "      <th>min</th>\n",
       "      <td>1.000000</td>\n",
       "      <td>323.000000</td>\n",
       "      <td>406.000000</td>\n",
       "      <td>1298.000000</td>\n",
       "      <td>2975.000000</td>\n",
       "      <td>8646.000000</td>\n",
       "      <td>70700.000000</td>\n",
       "      <td>5.000000</td>\n",
       "    </tr>\n",
       "    <tr>\n",
       "      <th>25%</th>\n",
       "      <td>161.750000</td>\n",
       "      <td>2062.750000</td>\n",
       "      <td>2294.500000</td>\n",
       "      <td>16476.000000</td>\n",
       "      <td>9253.000000</td>\n",
       "      <td>40076.000000</td>\n",
       "      <td>88600.000000</td>\n",
       "      <td>49.000000</td>\n",
       "    </tr>\n",
       "    <tr>\n",
       "      <th>50%</th>\n",
       "      <td>321.500000</td>\n",
       "      <td>4825.500000</td>\n",
       "      <td>6538.500000</td>\n",
       "      <td>22065.000000</td>\n",
       "      <td>19605.000000</td>\n",
       "      <td>50478.000000</td>\n",
       "      <td>96300.000000</td>\n",
       "      <td>67.000000</td>\n",
       "    </tr>\n",
       "    <tr>\n",
       "      <th>75%</th>\n",
       "      <td>479.250000</td>\n",
       "      <td>15867.000000</td>\n",
       "      <td>18357.250000</td>\n",
       "      <td>27880.750000</td>\n",
       "      <td>27431.000000</td>\n",
       "      <td>60965.000000</td>\n",
       "      <td>105400.000000</td>\n",
       "      <td>78.000000</td>\n",
       "    </tr>\n",
       "    <tr>\n",
       "      <th>max</th>\n",
       "      <td>650.000000</td>\n",
       "      <td>65100.000000</td>\n",
       "      <td>75044.000000</td>\n",
       "      <td>47270.000000</td>\n",
       "      <td>50897.000000</td>\n",
       "      <td>75735.000000</td>\n",
       "      <td>158200.000000</td>\n",
       "      <td>100.000000</td>\n",
       "    </tr>\n",
       "  </tbody>\n",
       "</table>\n",
       "</div>"
      ],
      "text/plain": [
       "             Rank  Undergraduate Population  Student Population     Net Price  \\\n",
       "count  628.000000                628.000000          628.000000    628.000000   \n",
       "mean   322.122611              10235.472930        12312.912420  22481.570064   \n",
       "std    185.360460              11228.048723        13246.660229   8099.771637   \n",
       "min      1.000000                323.000000          406.000000   1298.000000   \n",
       "25%    161.750000               2062.750000         2294.500000  16476.000000   \n",
       "50%    321.500000               4825.500000         6538.500000  22065.000000   \n",
       "75%    479.250000              15867.000000        18357.250000  27880.750000   \n",
       "max    650.000000              65100.000000        75044.000000  47270.000000   \n",
       "\n",
       "       Average Grant Aid  Total Annual Cost  Alumni Salary  Acceptance Rate  \n",
       "count         628.000000         628.000000     628.000000       628.000000  \n",
       "mean        19971.522293       50722.579618   98616.242038        61.721338  \n",
       "std         11214.740998       12670.126944   14026.078146        21.795857  \n",
       "min          2975.000000        8646.000000   70700.000000         5.000000  \n",
       "25%          9253.000000       40076.000000   88600.000000        49.000000  \n",
       "50%         19605.000000       50478.000000   96300.000000        67.000000  \n",
       "75%         27431.000000       60965.000000  105400.000000        78.000000  \n",
       "max         50897.000000       75735.000000  158200.000000       100.000000  "
      ]
     },
     "execution_count": 30,
     "metadata": {},
     "output_type": "execute_result"
    }
   ],
   "source": [
    "df_college.describe()"
   ]
  },
  {
   "cell_type": "markdown",
   "metadata": {
    "id": "RrH71ybUtgma"
   },
   "source": [
    "### 1) Which are the top 5 colleges listed in the Forbes Magazine 2019?"
   ]
  },
  {
   "cell_type": "markdown",
   "metadata": {
    "id": "oLOGstSVtgma"
   },
   "source": [
    "As we need the 'Name' of the colleges, we first pick the 'Name' column and then display the top 5 rows using head() function"
   ]
  },
  {
   "cell_type": "markdown",
   "metadata": {},
   "source": [
    "<img src =\"https://i.ibb.co/dj0PFhK/Harvard.jpg\" width=80% height =40%></img>\n"
   ]
  },
  {
   "cell_type": "code",
   "execution_count": 33,
   "metadata": {
    "id": "k55BuH2Jtgma",
    "outputId": "3e27da57-085a-42d1-8fbb-fe10353707f4"
   },
   "outputs": [
    {
     "data": {
      "text/plain": [
       "0                        Harvard University\n",
       "1                       Stanford University\n",
       "2                           Yale University\n",
       "3     Massachusetts Institute of Technology\n",
       "4                      Princeton University\n",
       "5                University of Pennsylvania\n",
       "6                          Brown University\n",
       "7        California Institute of Technology\n",
       "8                           Duke University\n",
       "9                         Dartmouth College\n",
       "10                       Cornell University\n",
       "11                           Pomona College\n",
       "12       University of California, Berkeley\n",
       "13                      Columbia University\n",
       "14                    Georgetown University\n",
       "15                    University of Chicago\n",
       "16                  Northwestern University\n",
       "17                 University of Notre Dame\n",
       "18                         Williams College\n",
       "19        University of Michigan, Ann Arbor\n",
       "Name: Name, dtype: object"
      ]
     },
     "execution_count": 33,
     "metadata": {},
     "output_type": "execute_result"
    }
   ],
   "source": [
    "df_college[\"Name\"].head(20)"
   ]
  },
  {
   "cell_type": "markdown",
   "metadata": {
    "id": "-agVXiUhtgma"
   },
   "source": [
    "We can also save the information in an object 'top5' and display it"
   ]
  },
  {
   "cell_type": "code",
   "execution_count": 35,
   "metadata": {
    "id": "ORpS4fMKtgma",
    "outputId": "6fee132f-c980-40cd-8cab-dfa669bd1a43"
   },
   "outputs": [
    {
     "data": {
      "text/plain": [
       "0                       Harvard University\n",
       "1                      Stanford University\n",
       "2                          Yale University\n",
       "3    Massachusetts Institute of Technology\n",
       "4                     Princeton University\n",
       "Name: Name, dtype: object"
      ]
     },
     "execution_count": 35,
     "metadata": {},
     "output_type": "execute_result"
    }
   ],
   "source": [
    "top5 = df_college[\"Name\"].head()\n",
    "top5"
   ]
  },
  {
   "cell_type": "markdown",
   "metadata": {
    "id": "p5zmndDStgma"
   },
   "source": [
    "### 2) Which state and city do the top 5 colleges belong to?"
   ]
  },
  {
   "cell_type": "markdown",
   "metadata": {
    "id": "fYwMKw8Ttgma"
   },
   "source": [
    "As we need the 'Name', 'City' and 'State' of the colleges, we first pick the required columns and then display the top 5 rows using head() function"
   ]
  },
  {
   "cell_type": "code",
   "execution_count": 36,
   "metadata": {
    "id": "ZQqj9CmRtgma",
    "outputId": "120ba67c-56ec-40e9-98ba-8ad44d80315e"
   },
   "outputs": [
    {
     "data": {
      "text/html": [
       "<div>\n",
       "<style scoped>\n",
       "    .dataframe tbody tr th:only-of-type {\n",
       "        vertical-align: middle;\n",
       "    }\n",
       "\n",
       "    .dataframe tbody tr th {\n",
       "        vertical-align: top;\n",
       "    }\n",
       "\n",
       "    .dataframe thead th {\n",
       "        text-align: right;\n",
       "    }\n",
       "</style>\n",
       "<table border=\"1\" class=\"dataframe\">\n",
       "  <thead>\n",
       "    <tr style=\"text-align: right;\">\n",
       "      <th></th>\n",
       "      <th>Name</th>\n",
       "      <th>City</th>\n",
       "      <th>State</th>\n",
       "    </tr>\n",
       "  </thead>\n",
       "  <tbody>\n",
       "    <tr>\n",
       "      <th>0</th>\n",
       "      <td>Harvard University</td>\n",
       "      <td>Cambridge</td>\n",
       "      <td>MA</td>\n",
       "    </tr>\n",
       "    <tr>\n",
       "      <th>1</th>\n",
       "      <td>Stanford University</td>\n",
       "      <td>Stanford</td>\n",
       "      <td>CA</td>\n",
       "    </tr>\n",
       "    <tr>\n",
       "      <th>2</th>\n",
       "      <td>Yale University</td>\n",
       "      <td>New Haven</td>\n",
       "      <td>CT</td>\n",
       "    </tr>\n",
       "    <tr>\n",
       "      <th>3</th>\n",
       "      <td>Massachusetts Institute of Technology</td>\n",
       "      <td>Cambridge</td>\n",
       "      <td>MA</td>\n",
       "    </tr>\n",
       "    <tr>\n",
       "      <th>4</th>\n",
       "      <td>Princeton University</td>\n",
       "      <td>Princeton</td>\n",
       "      <td>NJ</td>\n",
       "    </tr>\n",
       "  </tbody>\n",
       "</table>\n",
       "</div>"
      ],
      "text/plain": [
       "                                    Name       City State\n",
       "0                     Harvard University  Cambridge    MA\n",
       "1                    Stanford University   Stanford    CA\n",
       "2                        Yale University  New Haven    CT\n",
       "3  Massachusetts Institute of Technology  Cambridge    MA\n",
       "4                   Princeton University  Princeton    NJ"
      ]
     },
     "execution_count": 36,
     "metadata": {},
     "output_type": "execute_result"
    }
   ],
   "source": [
    "df_college[[\"Name\", \"City\", \"State\"]].head()"
   ]
  },
  {
   "cell_type": "markdown",
   "metadata": {
    "id": "DwVO9HT7tgmb"
   },
   "source": [
    "Note:\n",
    "\n",
    "As 'City' and 'State' are immediate columns after 'Name', iloc can also be used to get the results"
   ]
  },
  {
   "cell_type": "code",
   "execution_count": 41,
   "metadata": {
    "id": "LP8gD4Detgmb",
    "outputId": "cd4800b8-ee80-4d1a-9c55-1a5b852049e7"
   },
   "outputs": [
    {
     "data": {
      "text/html": [
       "<div>\n",
       "<style scoped>\n",
       "    .dataframe tbody tr th:only-of-type {\n",
       "        vertical-align: middle;\n",
       "    }\n",
       "\n",
       "    .dataframe tbody tr th {\n",
       "        vertical-align: top;\n",
       "    }\n",
       "\n",
       "    .dataframe thead th {\n",
       "        text-align: right;\n",
       "    }\n",
       "</style>\n",
       "<table border=\"1\" class=\"dataframe\">\n",
       "  <thead>\n",
       "    <tr style=\"text-align: right;\">\n",
       "      <th></th>\n",
       "      <th>Rank</th>\n",
       "      <th>Name</th>\n",
       "      <th>City</th>\n",
       "      <th>State</th>\n",
       "    </tr>\n",
       "  </thead>\n",
       "  <tbody>\n",
       "    <tr>\n",
       "      <th>0</th>\n",
       "      <td>1</td>\n",
       "      <td>Harvard University</td>\n",
       "      <td>Cambridge</td>\n",
       "      <td>MA</td>\n",
       "    </tr>\n",
       "    <tr>\n",
       "      <th>1</th>\n",
       "      <td>2</td>\n",
       "      <td>Stanford University</td>\n",
       "      <td>Stanford</td>\n",
       "      <td>CA</td>\n",
       "    </tr>\n",
       "    <tr>\n",
       "      <th>2</th>\n",
       "      <td>3</td>\n",
       "      <td>Yale University</td>\n",
       "      <td>New Haven</td>\n",
       "      <td>CT</td>\n",
       "    </tr>\n",
       "    <tr>\n",
       "      <th>3</th>\n",
       "      <td>4</td>\n",
       "      <td>Massachusetts Institute of Technology</td>\n",
       "      <td>Cambridge</td>\n",
       "      <td>MA</td>\n",
       "    </tr>\n",
       "    <tr>\n",
       "      <th>4</th>\n",
       "      <td>5</td>\n",
       "      <td>Princeton University</td>\n",
       "      <td>Princeton</td>\n",
       "      <td>NJ</td>\n",
       "    </tr>\n",
       "  </tbody>\n",
       "</table>\n",
       "</div>"
      ],
      "text/plain": [
       "   Rank                                   Name       City State\n",
       "0     1                     Harvard University  Cambridge    MA\n",
       "1     2                    Stanford University   Stanford    CA\n",
       "2     3                        Yale University  New Haven    CT\n",
       "3     4  Massachusetts Institute of Technology  Cambridge    MA\n",
       "4     5                   Princeton University  Princeton    NJ"
      ]
     },
     "execution_count": 41,
     "metadata": {},
     "output_type": "execute_result"
    }
   ],
   "source": [
    "df_college.iloc[0:5, 0:4]"
   ]
  },
  {
   "cell_type": "markdown",
   "metadata": {
    "id": "sNsRW3oNtgmb"
   },
   "source": [
    "### 3) How many states and which all states have the colleges listed by Forbes?"
   ]
  },
  {
   "cell_type": "markdown",
   "metadata": {
    "id": "LrIXs8ZBtgmb"
   },
   "source": [
    "'nunique()' returns number of unique elements in the object. As we want number of unique states, we first pick up the 'State' column of the DataFrame and then call nunique() function"
   ]
  },
  {
   "cell_type": "code",
   "execution_count": 42,
   "metadata": {
    "colab": {
     "base_uri": "https://localhost:8080/"
    },
    "id": "hPmLGCqBtgmb",
    "outputId": "520c64ff-c82d-4c37-b34c-23d89c0d207b"
   },
   "outputs": [
    {
     "data": {
      "text/plain": [
       "51"
      ]
     },
     "execution_count": 42,
     "metadata": {},
     "output_type": "execute_result"
    }
   ],
   "source": [
    "df_college.State.nunique()"
   ]
  },
  {
   "cell_type": "markdown",
   "metadata": {
    "id": "AYeZD7-Ptgmb"
   },
   "source": [
    "'unique()' function returns unique values of Series object. Hence, we first pick up the 'State' column of the DataFrame and then call unique() function to get all all the States"
   ]
  },
  {
   "cell_type": "code",
   "execution_count": 52,
   "metadata": {
    "colab": {
     "base_uri": "https://localhost:8080/"
    },
    "id": "j6CuTyCntgmb",
    "outputId": "6ca097f9-2971-4f07-a3f3-dcd5a1b0750e"
   },
   "outputs": [
    {
     "data": {
      "text/plain": [
       "array(['MA', 'CA', 'CT', 'NJ', 'PA', 'RI', 'NC', 'NH', 'NY', 'DC', 'IL',\n",
       "       'IN', 'MI', 'TX', 'MD', 'ME', 'TN', 'MO', 'VA', 'VT', 'MN', 'GA',\n",
       "       'WA', 'WI', 'FL', 'OH', 'IA', 'CO', 'UT', 'OR', 'LA', 'SC', 'DE',\n",
       "       'AL', 'AZ', 'OK', 'NE', 'KY', 'KS', 'AR', 'WY', 'NV', 'MS', 'ND',\n",
       "       'HI', 'MT', 'SD', 'NM', 'ID', 'WV', 'AK'], dtype=object)"
      ]
     },
     "execution_count": 52,
     "metadata": {},
     "output_type": "execute_result"
    }
   ],
   "source": [
    " df_college.State.unique()\n"
   ]
  },
  {
   "cell_type": "markdown",
   "metadata": {
    "id": "6iiuMMtGtgmb"
   },
   "source": [
    "### 4) In all how many private and public colleges are there in the given list?"
   ]
  },
  {
   "cell_type": "markdown",
   "metadata": {
    "id": "VbJemXU_tgmb"
   },
   "source": [
    "'Public/Private' column is of object data type in the DataFrame.\n",
    "\n",
    "'value_count()' returns a series containing counts of unique values"
   ]
  },
  {
   "cell_type": "code",
   "execution_count": 45,
   "metadata": {
    "colab": {
     "base_uri": "https://localhost:8080/"
    },
    "id": "RQHDdL4xtgmb",
    "outputId": "3ae185fd-d9bb-4456-dede-bb89165cce41"
   },
   "outputs": [
    {
     "data": {
      "text/plain": [
       "Private    384\n",
       "Public     244\n",
       "Name: Public/Private, dtype: int64"
      ]
     },
     "execution_count": 45,
     "metadata": {},
     "output_type": "execute_result"
    }
   ],
   "source": [
    "df_college[\"Public/Private\"].value_counts()"
   ]
  },
  {
   "cell_type": "markdown",
   "metadata": {
    "id": "RecfpJzFtgmb"
   },
   "source": [
    "### 5) From the list how many colleges are there within each State? Which State has highest number of colleges?"
   ]
  },
  {
   "cell_type": "markdown",
   "metadata": {
    "id": "yZA5lfSGtgmb"
   },
   "source": [
    "As we have to find number of colleges within each State, we first group (groupby()) the data based on 'State'. For each State we then count the colleges using number of unique values (nunique())  in 'Name' field.\n",
    "\n",
    "As we want the 'State' with highest number of colleges, we sort the values (sort_values()) in descending order to get the results."
   ]
  },
  {
   "cell_type": "markdown",
   "metadata": {},
   "source": [
    "<img src =\"https://i.ibb.co/GcnXVC0/New-York.jpg\" width=80% height =40%></img>"
   ]
  },
  {
   "cell_type": "code",
   "execution_count": 58,
   "metadata": {
    "colab": {
     "base_uri": "https://localhost:8080/"
    },
    "id": "1kxn-0Bttgmb",
    "outputId": "970acca4-080d-4b3d-8906-c53d71a128ca"
   },
   "outputs": [
    {
     "data": {
      "text/plain": [
       "State\n",
       "NY    64\n",
       "CA    56\n",
       "PA    39\n",
       "MA    31\n",
       "OH    29\n",
       "IL    25\n",
       "TX    25\n",
       "FL    20\n",
       "NC    19\n",
       "VA    18\n",
       "IN    18\n",
       "MN    18\n",
       "MI    16\n",
       "GA    14\n",
       "TN    14\n",
       "NJ    13\n",
       "IA    13\n",
       "WI    13\n",
       "WA    12\n",
       "KY    12\n",
       "MD    12\n",
       "MO    12\n",
       "CO    11\n",
       "OR    11\n",
       "CT     9\n",
       "LA     8\n",
       "SC     8\n",
       "AL     7\n",
       "RI     7\n",
       "NE     6\n",
       "OK     6\n",
       "MS     5\n",
       "DC     5\n",
       "ME     5\n",
       "AZ     4\n",
       "MT     4\n",
       "ID     4\n",
       "SD     4\n",
       "UT     4\n",
       "VT     4\n",
       "AR     4\n",
       "KS     3\n",
       "NH     3\n",
       "NM     3\n",
       "AK     2\n",
       "ND     2\n",
       "NV     2\n",
       "DE     1\n",
       "HI     1\n",
       "WV     1\n",
       "WY     1\n",
       "Name: Name, dtype: int64"
      ]
     },
     "execution_count": 58,
     "metadata": {},
     "output_type": "execute_result"
    }
   ],
   "source": [
    "df_college.groupby(by = \"State\").Name.nunique().sort_values(ascending = False)"
   ]
  },
  {
   "cell_type": "markdown",
   "metadata": {
    "id": "oBJ3TdOytgmc"
   },
   "source": [
    "### 6) What is percentage of undergraduates in each college? (Add a new field to calculate)"
   ]
  },
  {
   "cell_type": "markdown",
   "metadata": {
    "id": "YauOIxZqtgmc"
   },
   "source": [
    "Divsion of 'Undergraduate Population' by 'Student Population' multiplied by 100 will give percentage of undergraduates.\n",
    "\n",
    "round() method will round off the derived value to 2 decimal places which is then stored in new field 'Percentage UG'"
   ]
  },
  {
   "cell_type": "code",
   "execution_count": 61,
   "metadata": {
    "id": "_T-Auo3gtgmc"
   },
   "outputs": [],
   "source": [
    "df_college['Per_UG'] = round(df_college[\"Undergraduate Population\"]/df_college[\"Student Population\"]*100,2)"
   ]
  },
  {
   "cell_type": "code",
   "execution_count": 62,
   "metadata": {
    "colab": {
     "base_uri": "https://localhost:8080/",
     "height": 272
    },
    "id": "jvRdXy7stgmc",
    "outputId": "ce241cbb-41c3-47c4-da9a-c265aafdfa5d"
   },
   "outputs": [
    {
     "data": {
      "text/html": [
       "<div>\n",
       "<style scoped>\n",
       "    .dataframe tbody tr th:only-of-type {\n",
       "        vertical-align: middle;\n",
       "    }\n",
       "\n",
       "    .dataframe tbody tr th {\n",
       "        vertical-align: top;\n",
       "    }\n",
       "\n",
       "    .dataframe thead th {\n",
       "        text-align: right;\n",
       "    }\n",
       "</style>\n",
       "<table border=\"1\" class=\"dataframe\">\n",
       "  <thead>\n",
       "    <tr style=\"text-align: right;\">\n",
       "      <th></th>\n",
       "      <th>Rank</th>\n",
       "      <th>Name</th>\n",
       "      <th>City</th>\n",
       "      <th>State</th>\n",
       "      <th>Public/Private</th>\n",
       "      <th>Undergraduate Population</th>\n",
       "      <th>Student Population</th>\n",
       "      <th>Net Price</th>\n",
       "      <th>Average Grant Aid</th>\n",
       "      <th>Total Annual Cost</th>\n",
       "      <th>Alumni Salary</th>\n",
       "      <th>Acceptance Rate</th>\n",
       "      <th>Per_UG</th>\n",
       "    </tr>\n",
       "  </thead>\n",
       "  <tbody>\n",
       "    <tr>\n",
       "      <th>0</th>\n",
       "      <td>1</td>\n",
       "      <td>Harvard University</td>\n",
       "      <td>Cambridge</td>\n",
       "      <td>MA</td>\n",
       "      <td>Private</td>\n",
       "      <td>13844</td>\n",
       "      <td>31120</td>\n",
       "      <td>14327.0</td>\n",
       "      <td>49870.0</td>\n",
       "      <td>69600</td>\n",
       "      <td>146800.0</td>\n",
       "      <td>5.0</td>\n",
       "      <td>44.49</td>\n",
       "    </tr>\n",
       "    <tr>\n",
       "      <th>1</th>\n",
       "      <td>2</td>\n",
       "      <td>Stanford University</td>\n",
       "      <td>Stanford</td>\n",
       "      <td>CA</td>\n",
       "      <td>Private</td>\n",
       "      <td>8402</td>\n",
       "      <td>17534</td>\n",
       "      <td>13261.0</td>\n",
       "      <td>50134.0</td>\n",
       "      <td>69109</td>\n",
       "      <td>145200.0</td>\n",
       "      <td>5.0</td>\n",
       "      <td>47.92</td>\n",
       "    </tr>\n",
       "    <tr>\n",
       "      <th>2</th>\n",
       "      <td>3</td>\n",
       "      <td>Yale University</td>\n",
       "      <td>New Haven</td>\n",
       "      <td>CT</td>\n",
       "      <td>Private</td>\n",
       "      <td>6483</td>\n",
       "      <td>12974</td>\n",
       "      <td>18627.0</td>\n",
       "      <td>50897.0</td>\n",
       "      <td>71290</td>\n",
       "      <td>138300.0</td>\n",
       "      <td>7.0</td>\n",
       "      <td>49.97</td>\n",
       "    </tr>\n",
       "    <tr>\n",
       "      <th>3</th>\n",
       "      <td>4</td>\n",
       "      <td>Massachusetts Institute of Technology</td>\n",
       "      <td>Cambridge</td>\n",
       "      <td>MA</td>\n",
       "      <td>Private</td>\n",
       "      <td>4680</td>\n",
       "      <td>11466</td>\n",
       "      <td>20771.0</td>\n",
       "      <td>43248.0</td>\n",
       "      <td>67430</td>\n",
       "      <td>155200.0</td>\n",
       "      <td>7.0</td>\n",
       "      <td>40.82</td>\n",
       "    </tr>\n",
       "    <tr>\n",
       "      <th>4</th>\n",
       "      <td>5</td>\n",
       "      <td>Princeton University</td>\n",
       "      <td>Princeton</td>\n",
       "      <td>NJ</td>\n",
       "      <td>Private</td>\n",
       "      <td>5659</td>\n",
       "      <td>8273</td>\n",
       "      <td>9327.0</td>\n",
       "      <td>48088.0</td>\n",
       "      <td>66150</td>\n",
       "      <td>139400.0</td>\n",
       "      <td>6.0</td>\n",
       "      <td>68.40</td>\n",
       "    </tr>\n",
       "  </tbody>\n",
       "</table>\n",
       "</div>"
      ],
      "text/plain": [
       "   Rank                                   Name       City State  \\\n",
       "0     1                     Harvard University  Cambridge    MA   \n",
       "1     2                    Stanford University   Stanford    CA   \n",
       "2     3                        Yale University  New Haven    CT   \n",
       "3     4  Massachusetts Institute of Technology  Cambridge    MA   \n",
       "4     5                   Princeton University  Princeton    NJ   \n",
       "\n",
       "  Public/Private  Undergraduate Population  Student Population  Net Price  \\\n",
       "0        Private                     13844               31120    14327.0   \n",
       "1        Private                      8402               17534    13261.0   \n",
       "2        Private                      6483               12974    18627.0   \n",
       "3        Private                      4680               11466    20771.0   \n",
       "4        Private                      5659                8273     9327.0   \n",
       "\n",
       "   Average Grant Aid  Total Annual Cost  Alumni Salary  Acceptance Rate  \\\n",
       "0            49870.0              69600       146800.0              5.0   \n",
       "1            50134.0              69109       145200.0              5.0   \n",
       "2            50897.0              71290       138300.0              7.0   \n",
       "3            43248.0              67430       155200.0              7.0   \n",
       "4            48088.0              66150       139400.0              6.0   \n",
       "\n",
       "   Per_UG  \n",
       "0   44.49  \n",
       "1   47.92  \n",
       "2   49.97  \n",
       "3   40.82  \n",
       "4   68.40  "
      ]
     },
     "execution_count": 62,
     "metadata": {},
     "output_type": "execute_result"
    }
   ],
   "source": [
    "df_college.head()"
   ]
  },
  {
   "cell_type": "markdown",
   "metadata": {
    "id": "GnCS2q0vtgmc"
   },
   "source": [
    "### 7) Which are the 5 colleges with highest percentage of undergraduates?"
   ]
  },
  {
   "cell_type": "markdown",
   "metadata": {
    "id": "4z6v1g5atgmc"
   },
   "source": [
    "Let's just pick up 'Name' and 'Percentage UG' field, sort by 'Percentage UG' in descending order to get the desired ouput"
   ]
  },
  {
   "cell_type": "code",
   "execution_count": 63,
   "metadata": {
    "colab": {
     "base_uri": "https://localhost:8080/",
     "height": 204
    },
    "id": "S0_s3CPHtgmc",
    "outputId": "b9049346-6551-44da-f315-c3dfd57bab2b"
   },
   "outputs": [
    {
     "data": {
      "text/html": [
       "<div>\n",
       "<style scoped>\n",
       "    .dataframe tbody tr th:only-of-type {\n",
       "        vertical-align: middle;\n",
       "    }\n",
       "\n",
       "    .dataframe tbody tr th {\n",
       "        vertical-align: top;\n",
       "    }\n",
       "\n",
       "    .dataframe thead th {\n",
       "        text-align: right;\n",
       "    }\n",
       "</style>\n",
       "<table border=\"1\" class=\"dataframe\">\n",
       "  <thead>\n",
       "    <tr style=\"text-align: right;\">\n",
       "      <th></th>\n",
       "      <th>Name</th>\n",
       "      <th>Per_UG</th>\n",
       "    </tr>\n",
       "  </thead>\n",
       "  <tbody>\n",
       "    <tr>\n",
       "      <th>556</th>\n",
       "      <td>University of Texas, Rio Grande Valley</td>\n",
       "      <td>99.99</td>\n",
       "    </tr>\n",
       "    <tr>\n",
       "      <th>246</th>\n",
       "      <td>Saint John's University (MN)</td>\n",
       "      <td>99.94</td>\n",
       "    </tr>\n",
       "    <tr>\n",
       "      <th>552</th>\n",
       "      <td>Oakland University</td>\n",
       "      <td>99.94</td>\n",
       "    </tr>\n",
       "    <tr>\n",
       "      <th>357</th>\n",
       "      <td>Salisbury University</td>\n",
       "      <td>99.92</td>\n",
       "    </tr>\n",
       "    <tr>\n",
       "      <th>338</th>\n",
       "      <td>St. Norbert College</td>\n",
       "      <td>99.86</td>\n",
       "    </tr>\n",
       "  </tbody>\n",
       "</table>\n",
       "</div>"
      ],
      "text/plain": [
       "                                       Name  Per_UG\n",
       "556  University of Texas, Rio Grande Valley   99.99\n",
       "246            Saint John's University (MN)   99.94\n",
       "552                      Oakland University   99.94\n",
       "357                    Salisbury University   99.92\n",
       "338                     St. Norbert College   99.86"
      ]
     },
     "execution_count": 63,
     "metadata": {},
     "output_type": "execute_result"
    }
   ],
   "source": [
    "df_college[[\"Name\", \"Per_UG\"]].sort_values(by =\"Per_UG\", ascending = False).head()"
   ]
  },
  {
   "cell_type": "markdown",
   "metadata": {
    "id": "NcK8UBrXtgmc"
   },
   "source": [
    "### 8) 5 colleges that receive highest Average Grant Aid?"
   ]
  },
  {
   "cell_type": "markdown",
   "metadata": {
    "id": "cUQFFFGGtgmc"
   },
   "source": [
    "Sort 'Average Grant Aid' in descending order and pick up the top 5 colleges using 'Name' field"
   ]
  },
  {
   "cell_type": "markdown",
   "metadata": {},
   "source": [
    "<img src =\"https://i.ibb.co/TMtRJ54/Yale.jpg\" width=80% height =40%></img>"
   ]
  },
  {
   "cell_type": "code",
   "execution_count": 70,
   "metadata": {
    "colab": {
     "base_uri": "https://localhost:8080/"
    },
    "id": "kG0vlM2stgmc",
    "outputId": "89ca5f7a-416d-4164-8489-2d05d117feae"
   },
   "outputs": [
    {
     "data": {
      "text/html": [
       "<div>\n",
       "<style scoped>\n",
       "    .dataframe tbody tr th:only-of-type {\n",
       "        vertical-align: middle;\n",
       "    }\n",
       "\n",
       "    .dataframe tbody tr th {\n",
       "        vertical-align: top;\n",
       "    }\n",
       "\n",
       "    .dataframe thead th {\n",
       "        text-align: right;\n",
       "    }\n",
       "</style>\n",
       "<table border=\"1\" class=\"dataframe\">\n",
       "  <thead>\n",
       "    <tr style=\"text-align: right;\">\n",
       "      <th></th>\n",
       "      <th>Name</th>\n",
       "      <th>Average Grant Aid</th>\n",
       "    </tr>\n",
       "  </thead>\n",
       "  <tbody>\n",
       "    <tr>\n",
       "      <th>2</th>\n",
       "      <td>Yale University</td>\n",
       "      <td>50897.0</td>\n",
       "    </tr>\n",
       "    <tr>\n",
       "      <th>1</th>\n",
       "      <td>Stanford University</td>\n",
       "      <td>50134.0</td>\n",
       "    </tr>\n",
       "    <tr>\n",
       "      <th>0</th>\n",
       "      <td>Harvard University</td>\n",
       "      <td>49870.0</td>\n",
       "    </tr>\n",
       "    <tr>\n",
       "      <th>26</th>\n",
       "      <td>Amherst College</td>\n",
       "      <td>49467.0</td>\n",
       "    </tr>\n",
       "    <tr>\n",
       "      <th>13</th>\n",
       "      <td>Columbia University</td>\n",
       "      <td>49185.0</td>\n",
       "    </tr>\n",
       "  </tbody>\n",
       "</table>\n",
       "</div>"
      ],
      "text/plain": [
       "                   Name  Average Grant Aid\n",
       "2       Yale University            50897.0\n",
       "1   Stanford University            50134.0\n",
       "0    Harvard University            49870.0\n",
       "26      Amherst College            49467.0\n",
       "13  Columbia University            49185.0"
      ]
     },
     "execution_count": 70,
     "metadata": {},
     "output_type": "execute_result"
    }
   ],
   "source": [
    "df_college[[\"Name\",\"Average Grant Aid\"]].sort_values(by = \"Average Grant Aid\", ascending = False).head()"
   ]
  },
  {
   "cell_type": "markdown",
   "metadata": {
    "id": "PZLBR78btgmc"
   },
   "source": [
    "\n",
    "### 9) What is the average Undergraduate population in State of 'CA'?"
   ]
  },
  {
   "cell_type": "markdown",
   "metadata": {
    "id": "Z_r3MnY6tgmc"
   },
   "source": [
    "First lets filter the DataFrame and get only rows with 'State' as 'CA'\n",
    "\n",
    "We then pick up the 'Undergraduate Population' for the above subset and calculate its mean\n",
    "\n",
    "round off the final value to 2 decimal places using the round() function"
   ]
  },
  {
   "cell_type": "code",
   "execution_count": 65,
   "metadata": {
    "colab": {
     "base_uri": "https://localhost:8080/"
    },
    "id": "WZ8M0xE8tgmc",
    "outputId": "5d17ec8b-95b3-401f-fb55-9b17fadedc3c"
   },
   "outputs": [
    {
     "data": {
      "text/plain": [
       "13186.910714285714"
      ]
     },
     "execution_count": 65,
     "metadata": {},
     "output_type": "execute_result"
    }
   ],
   "source": [
    "df_college[df_college.State ==\"CA\"][\"Undergraduate Population\"].mean()"
   ]
  },
  {
   "cell_type": "markdown",
   "metadata": {
    "id": "_jpeG1v-tgmc"
   },
   "source": [
    "### 10) Which are the colleges where chances of admission is high?"
   ]
  },
  {
   "cell_type": "markdown",
   "metadata": {
    "id": "1hcolpQwtgmc"
   },
   "source": [
    "As per the data dictionary 'Acceptance Rate' field provides information on chances of admission. We can sort this column in descending order to get the results"
   ]
  },
  {
   "cell_type": "code",
   "execution_count": 76,
   "metadata": {
    "colab": {
     "base_uri": "https://localhost:8080/",
     "height": 289
    },
    "id": "rW86etpLtgmd",
    "outputId": "79541235-3cc3-4676-96df-7c7f528a3c32"
   },
   "outputs": [
    {
     "data": {
      "text/html": [
       "<div>\n",
       "<style scoped>\n",
       "    .dataframe tbody tr th:only-of-type {\n",
       "        vertical-align: middle;\n",
       "    }\n",
       "\n",
       "    .dataframe tbody tr th {\n",
       "        vertical-align: top;\n",
       "    }\n",
       "\n",
       "    .dataframe thead th {\n",
       "        text-align: right;\n",
       "    }\n",
       "</style>\n",
       "<table border=\"1\" class=\"dataframe\">\n",
       "  <thead>\n",
       "    <tr style=\"text-align: right;\">\n",
       "      <th></th>\n",
       "      <th>Name</th>\n",
       "      <th>Acceptance Rate</th>\n",
       "    </tr>\n",
       "  </thead>\n",
       "  <tbody>\n",
       "    <tr>\n",
       "      <th>588</th>\n",
       "      <td>University of Texas, El Paso</td>\n",
       "      <td>100.0</td>\n",
       "    </tr>\n",
       "    <tr>\n",
       "      <th>607</th>\n",
       "      <td>University of Southern Mississippi</td>\n",
       "      <td>98.0</td>\n",
       "    </tr>\n",
       "    <tr>\n",
       "      <th>339</th>\n",
       "      <td>University of Wyoming</td>\n",
       "      <td>97.0</td>\n",
       "    </tr>\n",
       "    <tr>\n",
       "      <th>616</th>\n",
       "      <td>Wright State University</td>\n",
       "      <td>97.0</td>\n",
       "    </tr>\n",
       "    <tr>\n",
       "      <th>300</th>\n",
       "      <td>University of Kentucky</td>\n",
       "      <td>96.0</td>\n",
       "    </tr>\n",
       "  </tbody>\n",
       "</table>\n",
       "</div>"
      ],
      "text/plain": [
       "                                   Name  Acceptance Rate\n",
       "588        University of Texas, El Paso            100.0\n",
       "607  University of Southern Mississippi             98.0\n",
       "339               University of Wyoming             97.0\n",
       "616             Wright State University             97.0\n",
       "300              University of Kentucky             96.0"
      ]
     },
     "execution_count": 76,
     "metadata": {},
     "output_type": "execute_result"
    }
   ],
   "source": [
    "df_college[[\"Name\", \"Acceptance Rate\"]].sort_values(by = \"Acceptance Rate\", ascending = False).head()"
   ]
  },
  {
   "cell_type": "markdown",
   "metadata": {
    "id": "1ORWPdmutgmd"
   },
   "source": [
    "### 11) Find if there are any 'Art' colleges in the list"
   ]
  },
  {
   "cell_type": "markdown",
   "metadata": {
    "id": "fP5vmlQctgmd"
   },
   "source": [
    "To find a specific string value 'Art' we will use the 'contains()' method. We will pass the string in the paranthesis which needs to be located in the dataframe variable."
   ]
  },
  {
   "cell_type": "code",
   "execution_count": 80,
   "metadata": {
    "id": "mXknVr1Vtgmd",
    "outputId": "2342e7b0-f455-4b06-9371-8afb3766eb5f"
   },
   "outputs": [
    {
     "data": {
      "text/html": [
       "<div>\n",
       "<style scoped>\n",
       "    .dataframe tbody tr th:only-of-type {\n",
       "        vertical-align: middle;\n",
       "    }\n",
       "\n",
       "    .dataframe tbody tr th {\n",
       "        vertical-align: top;\n",
       "    }\n",
       "\n",
       "    .dataframe thead th {\n",
       "        text-align: right;\n",
       "    }\n",
       "</style>\n",
       "<table border=\"1\" class=\"dataframe\">\n",
       "  <thead>\n",
       "    <tr style=\"text-align: right;\">\n",
       "      <th></th>\n",
       "      <th>Rank</th>\n",
       "      <th>Name</th>\n",
       "      <th>City</th>\n",
       "      <th>State</th>\n",
       "      <th>Public/Private</th>\n",
       "      <th>Undergraduate Population</th>\n",
       "      <th>Student Population</th>\n",
       "      <th>Net Price</th>\n",
       "      <th>Average Grant Aid</th>\n",
       "      <th>Total Annual Cost</th>\n",
       "      <th>Alumni Salary</th>\n",
       "      <th>Acceptance Rate</th>\n",
       "      <th>Per_UG</th>\n",
       "    </tr>\n",
       "  </thead>\n",
       "  <tbody>\n",
       "    <tr>\n",
       "      <th>295</th>\n",
       "      <td>303</td>\n",
       "      <td>Maryland Institute College of Art</td>\n",
       "      <td>Baltimore</td>\n",
       "      <td>MD</td>\n",
       "      <td>Private</td>\n",
       "      <td>2041</td>\n",
       "      <td>2128</td>\n",
       "      <td>38763.0</td>\n",
       "      <td>18939.0</td>\n",
       "      <td>62850</td>\n",
       "      <td>84500.0</td>\n",
       "      <td>62.0</td>\n",
       "      <td>95.91</td>\n",
       "    </tr>\n",
       "    <tr>\n",
       "      <th>393</th>\n",
       "      <td>402</td>\n",
       "      <td>California Institute of the Arts</td>\n",
       "      <td>Santa Clarita</td>\n",
       "      <td>CA</td>\n",
       "      <td>Private</td>\n",
       "      <td>991</td>\n",
       "      <td>1498</td>\n",
       "      <td>46101.0</td>\n",
       "      <td>15401.0</td>\n",
       "      <td>68993</td>\n",
       "      <td>91000.0</td>\n",
       "      <td>24.0</td>\n",
       "      <td>66.15</td>\n",
       "    </tr>\n",
       "  </tbody>\n",
       "</table>\n",
       "</div>"
      ],
      "text/plain": [
       "     Rank                               Name           City State  \\\n",
       "295   303  Maryland Institute College of Art      Baltimore    MD   \n",
       "393   402   California Institute of the Arts  Santa Clarita    CA   \n",
       "\n",
       "    Public/Private  Undergraduate Population  Student Population  Net Price  \\\n",
       "295        Private                      2041                2128    38763.0   \n",
       "393        Private                       991                1498    46101.0   \n",
       "\n",
       "     Average Grant Aid  Total Annual Cost  Alumni Salary  Acceptance Rate  \\\n",
       "295            18939.0              62850        84500.0             62.0   \n",
       "393            15401.0              68993        91000.0             24.0   \n",
       "\n",
       "     Per_UG  \n",
       "295   95.91  \n",
       "393   66.15  "
      ]
     },
     "execution_count": 80,
     "metadata": {},
     "output_type": "execute_result"
    }
   ],
   "source": [
    "df_college[df_college[\"Name\"].str.contains(\"Art\")]"
   ]
  },
  {
   "cell_type": "markdown",
   "metadata": {
    "id": "WuPrMG2Jtgmd"
   },
   "source": [
    "### 12) Lets divide the Alumni Salary equally into 3 buckets (Low Salary - L; Medium Salary - M; High Salary - H ) and check which colleges falls in 'H' bucket"
   ]
  },
  {
   "cell_type": "code",
   "execution_count": 79,
   "metadata": {
    "id": "ZBrzuKHOtgmd"
   },
   "outputs": [],
   "source": [
    "df_college_new = df_college.copy()"
   ]
  },
  {
   "cell_type": "markdown",
   "metadata": {
    "id": "1Y4cKc9ztgmd"
   },
   "source": [
    "Take a copy of the original DataFrame to work on"
   ]
  },
  {
   "cell_type": "code",
   "execution_count": 83,
   "metadata": {
    "id": "OCoOgQSttgmd"
   },
   "outputs": [
    {
     "data": {
      "text/html": [
       "<div>\n",
       "<style scoped>\n",
       "    .dataframe tbody tr th:only-of-type {\n",
       "        vertical-align: middle;\n",
       "    }\n",
       "\n",
       "    .dataframe tbody tr th {\n",
       "        vertical-align: top;\n",
       "    }\n",
       "\n",
       "    .dataframe thead th {\n",
       "        text-align: right;\n",
       "    }\n",
       "</style>\n",
       "<table border=\"1\" class=\"dataframe\">\n",
       "  <thead>\n",
       "    <tr style=\"text-align: right;\">\n",
       "      <th></th>\n",
       "      <th>Rank</th>\n",
       "      <th>Name</th>\n",
       "      <th>City</th>\n",
       "      <th>State</th>\n",
       "      <th>Public/Private</th>\n",
       "      <th>Undergraduate Population</th>\n",
       "      <th>Student Population</th>\n",
       "      <th>Net Price</th>\n",
       "      <th>Average Grant Aid</th>\n",
       "      <th>Total Annual Cost</th>\n",
       "      <th>Alumni Salary</th>\n",
       "      <th>Acceptance Rate</th>\n",
       "      <th>Per_UG</th>\n",
       "      <th>Sal Level</th>\n",
       "    </tr>\n",
       "  </thead>\n",
       "  <tbody>\n",
       "    <tr>\n",
       "      <th>0</th>\n",
       "      <td>1</td>\n",
       "      <td>Harvard University</td>\n",
       "      <td>Cambridge</td>\n",
       "      <td>MA</td>\n",
       "      <td>Private</td>\n",
       "      <td>13844</td>\n",
       "      <td>31120</td>\n",
       "      <td>14327.0</td>\n",
       "      <td>49870.0</td>\n",
       "      <td>69600</td>\n",
       "      <td>146800.0</td>\n",
       "      <td>5.0</td>\n",
       "      <td>44.49</td>\n",
       "      <td>H</td>\n",
       "    </tr>\n",
       "    <tr>\n",
       "      <th>1</th>\n",
       "      <td>2</td>\n",
       "      <td>Stanford University</td>\n",
       "      <td>Stanford</td>\n",
       "      <td>CA</td>\n",
       "      <td>Private</td>\n",
       "      <td>8402</td>\n",
       "      <td>17534</td>\n",
       "      <td>13261.0</td>\n",
       "      <td>50134.0</td>\n",
       "      <td>69109</td>\n",
       "      <td>145200.0</td>\n",
       "      <td>5.0</td>\n",
       "      <td>47.92</td>\n",
       "      <td>H</td>\n",
       "    </tr>\n",
       "    <tr>\n",
       "      <th>2</th>\n",
       "      <td>3</td>\n",
       "      <td>Yale University</td>\n",
       "      <td>New Haven</td>\n",
       "      <td>CT</td>\n",
       "      <td>Private</td>\n",
       "      <td>6483</td>\n",
       "      <td>12974</td>\n",
       "      <td>18627.0</td>\n",
       "      <td>50897.0</td>\n",
       "      <td>71290</td>\n",
       "      <td>138300.0</td>\n",
       "      <td>7.0</td>\n",
       "      <td>49.97</td>\n",
       "      <td>H</td>\n",
       "    </tr>\n",
       "    <tr>\n",
       "      <th>3</th>\n",
       "      <td>4</td>\n",
       "      <td>Massachusetts Institute of Technology</td>\n",
       "      <td>Cambridge</td>\n",
       "      <td>MA</td>\n",
       "      <td>Private</td>\n",
       "      <td>4680</td>\n",
       "      <td>11466</td>\n",
       "      <td>20771.0</td>\n",
       "      <td>43248.0</td>\n",
       "      <td>67430</td>\n",
       "      <td>155200.0</td>\n",
       "      <td>7.0</td>\n",
       "      <td>40.82</td>\n",
       "      <td>H</td>\n",
       "    </tr>\n",
       "    <tr>\n",
       "      <th>4</th>\n",
       "      <td>5</td>\n",
       "      <td>Princeton University</td>\n",
       "      <td>Princeton</td>\n",
       "      <td>NJ</td>\n",
       "      <td>Private</td>\n",
       "      <td>5659</td>\n",
       "      <td>8273</td>\n",
       "      <td>9327.0</td>\n",
       "      <td>48088.0</td>\n",
       "      <td>66150</td>\n",
       "      <td>139400.0</td>\n",
       "      <td>6.0</td>\n",
       "      <td>68.40</td>\n",
       "      <td>H</td>\n",
       "    </tr>\n",
       "    <tr>\n",
       "      <th>...</th>\n",
       "      <td>...</td>\n",
       "      <td>...</td>\n",
       "      <td>...</td>\n",
       "      <td>...</td>\n",
       "      <td>...</td>\n",
       "      <td>...</td>\n",
       "      <td>...</td>\n",
       "      <td>...</td>\n",
       "      <td>...</td>\n",
       "      <td>...</td>\n",
       "      <td>...</td>\n",
       "      <td>...</td>\n",
       "      <td>...</td>\n",
       "      <td>...</td>\n",
       "    </tr>\n",
       "    <tr>\n",
       "      <th>623</th>\n",
       "      <td>645</td>\n",
       "      <td>Morehouse College</td>\n",
       "      <td>Atlanta</td>\n",
       "      <td>GA</td>\n",
       "      <td>Private</td>\n",
       "      <td>2202</td>\n",
       "      <td>2219</td>\n",
       "      <td>34928.0</td>\n",
       "      <td>17318.0</td>\n",
       "      <td>48723</td>\n",
       "      <td>98700.0</td>\n",
       "      <td>74.0</td>\n",
       "      <td>99.23</td>\n",
       "      <td>L</td>\n",
       "    </tr>\n",
       "    <tr>\n",
       "      <th>624</th>\n",
       "      <td>646</td>\n",
       "      <td>New Mexico State University</td>\n",
       "      <td>Las Cruces</td>\n",
       "      <td>NM</td>\n",
       "      <td>Public</td>\n",
       "      <td>13379</td>\n",
       "      <td>14432</td>\n",
       "      <td>8625.0</td>\n",
       "      <td>9582.0</td>\n",
       "      <td>34720</td>\n",
       "      <td>96700.0</td>\n",
       "      <td>64.0</td>\n",
       "      <td>92.70</td>\n",
       "      <td>L</td>\n",
       "    </tr>\n",
       "    <tr>\n",
       "      <th>625</th>\n",
       "      <td>647</td>\n",
       "      <td>Indiana State University</td>\n",
       "      <td>Terre Haute</td>\n",
       "      <td>IN</td>\n",
       "      <td>Public</td>\n",
       "      <td>13626</td>\n",
       "      <td>13763</td>\n",
       "      <td>13012.0</td>\n",
       "      <td>9297.0</td>\n",
       "      <td>32938</td>\n",
       "      <td>85600.0</td>\n",
       "      <td>85.0</td>\n",
       "      <td>99.00</td>\n",
       "      <td>L</td>\n",
       "    </tr>\n",
       "    <tr>\n",
       "      <th>626</th>\n",
       "      <td>648</td>\n",
       "      <td>Emory &amp;amp; Henry College</td>\n",
       "      <td>Emory</td>\n",
       "      <td>VA</td>\n",
       "      <td>Private</td>\n",
       "      <td>1094</td>\n",
       "      <td>1226</td>\n",
       "      <td>19340.0</td>\n",
       "      <td>27155.0</td>\n",
       "      <td>48100</td>\n",
       "      <td>70700.0</td>\n",
       "      <td>72.0</td>\n",
       "      <td>89.23</td>\n",
       "      <td>L</td>\n",
       "    </tr>\n",
       "    <tr>\n",
       "      <th>627</th>\n",
       "      <td>650</td>\n",
       "      <td>Catawba College</td>\n",
       "      <td>Salisbury</td>\n",
       "      <td>NC</td>\n",
       "      <td>Private</td>\n",
       "      <td>1336</td>\n",
       "      <td>1463</td>\n",
       "      <td>19807.0</td>\n",
       "      <td>23662.0</td>\n",
       "      <td>44921</td>\n",
       "      <td>78100.0</td>\n",
       "      <td>42.0</td>\n",
       "      <td>91.32</td>\n",
       "      <td>L</td>\n",
       "    </tr>\n",
       "  </tbody>\n",
       "</table>\n",
       "<p>628 rows × 14 columns</p>\n",
       "</div>"
      ],
      "text/plain": [
       "     Rank                                   Name         City State  \\\n",
       "0       1                     Harvard University    Cambridge    MA   \n",
       "1       2                    Stanford University     Stanford    CA   \n",
       "2       3                        Yale University    New Haven    CT   \n",
       "3       4  Massachusetts Institute of Technology    Cambridge    MA   \n",
       "4       5                   Princeton University    Princeton    NJ   \n",
       "..    ...                                    ...          ...   ...   \n",
       "623   645                      Morehouse College      Atlanta    GA   \n",
       "624   646            New Mexico State University   Las Cruces    NM   \n",
       "625   647               Indiana State University  Terre Haute    IN   \n",
       "626   648              Emory &amp; Henry College        Emory    VA   \n",
       "627   650                        Catawba College    Salisbury    NC   \n",
       "\n",
       "    Public/Private  Undergraduate Population  Student Population  Net Price  \\\n",
       "0          Private                     13844               31120    14327.0   \n",
       "1          Private                      8402               17534    13261.0   \n",
       "2          Private                      6483               12974    18627.0   \n",
       "3          Private                      4680               11466    20771.0   \n",
       "4          Private                      5659                8273     9327.0   \n",
       "..             ...                       ...                 ...        ...   \n",
       "623        Private                      2202                2219    34928.0   \n",
       "624         Public                     13379               14432     8625.0   \n",
       "625         Public                     13626               13763    13012.0   \n",
       "626        Private                      1094                1226    19340.0   \n",
       "627        Private                      1336                1463    19807.0   \n",
       "\n",
       "     Average Grant Aid  Total Annual Cost  Alumni Salary  Acceptance Rate  \\\n",
       "0              49870.0              69600       146800.0              5.0   \n",
       "1              50134.0              69109       145200.0              5.0   \n",
       "2              50897.0              71290       138300.0              7.0   \n",
       "3              43248.0              67430       155200.0              7.0   \n",
       "4              48088.0              66150       139400.0              6.0   \n",
       "..                 ...                ...            ...              ...   \n",
       "623            17318.0              48723        98700.0             74.0   \n",
       "624             9582.0              34720        96700.0             64.0   \n",
       "625             9297.0              32938        85600.0             85.0   \n",
       "626            27155.0              48100        70700.0             72.0   \n",
       "627            23662.0              44921        78100.0             42.0   \n",
       "\n",
       "     Per_UG Sal Level  \n",
       "0     44.49         H  \n",
       "1     47.92         H  \n",
       "2     49.97         H  \n",
       "3     40.82         H  \n",
       "4     68.40         H  \n",
       "..      ...       ...  \n",
       "623   99.23         L  \n",
       "624   92.70         L  \n",
       "625   99.00         L  \n",
       "626   89.23         L  \n",
       "627   91.32         L  \n",
       "\n",
       "[628 rows x 14 columns]"
      ]
     },
     "execution_count": 83,
     "metadata": {},
     "output_type": "execute_result"
    }
   ],
   "source": [
    "df_college_new[\"Sal Level\"] = pd.cut(df_college_new[\"Alumni Salary\"], 3, labels=[\"L\", \"M\", \"H\"]) \n",
    "df_college_new"
   ]
  },
  {
   "cell_type": "markdown",
   "metadata": {
    "id": "SchXFRAYtgmd"
   },
   "source": [
    "'cut()' function bins values into discrete intervals. 'cut()' function is used when you need to segment and sort data values into bins. This function is also useful for going from a continuous variable to a categorical variable.\n",
    "\n",
    "In the above code we have created 3 bins using 'Alumni Salary' column. Lowest range of salary is labelled as 'L', middle range is labelled as 'M' and highest range of salary is labelled as 'H'. These labels are saved in a new column 'Alumni Sal Level'.\n",
    "\n",
    "Note: The entire range of the 'Alumni Salary' has been divided into 3 equal ranges i.e. 3 bins"
   ]
  },
  {
   "cell_type": "code",
   "execution_count": 84,
   "metadata": {
    "colab": {
     "base_uri": "https://localhost:8080/",
     "height": 272
    },
    "id": "69_t2FTZtgmd",
    "outputId": "790221d6-ffc0-43dd-ce16-0b75d4df5f8a"
   },
   "outputs": [
    {
     "data": {
      "text/plain": [
       "L    383\n",
       "M    217\n",
       "H     28\n",
       "Name: Sal Level, dtype: int64"
      ]
     },
     "execution_count": 84,
     "metadata": {},
     "output_type": "execute_result"
    }
   ],
   "source": [
    "df_college_new[\"Sal Level\"].value_counts()"
   ]
  },
  {
   "cell_type": "code",
   "execution_count": 86,
   "metadata": {
    "colab": {
     "base_uri": "https://localhost:8080/"
    },
    "id": "Aa2Awqd7tgmd",
    "outputId": "b60efa05-816f-4154-c965-04355a536a67"
   },
   "outputs": [
    {
     "data": {
      "text/plain": [
       "Sal Level\n",
       "L     89835.770235\n",
       "M    109086.635945\n",
       "H    137575.000000\n",
       "Name: Alumni Salary, dtype: float64"
      ]
     },
     "execution_count": 86,
     "metadata": {},
     "output_type": "execute_result"
    }
   ],
   "source": [
    "df_college_new.groupby(\"Sal Level\")[\"Alumni Salary\"].mean()"
   ]
  },
  {
   "cell_type": "markdown",
   "metadata": {
    "id": "GePZYooGtgmd"
   },
   "source": [
    "### 13) Let's check the mean Alumni Salary at each level"
   ]
  },
  {
   "cell_type": "code",
   "execution_count": null,
   "metadata": {
    "colab": {
     "base_uri": "https://localhost:8080/"
    },
    "id": "Mo3yAIFitgmd",
    "outputId": "590a77fa-7715-41c6-a2cf-bc2332751dfe"
   },
   "outputs": [],
   "source": []
  },
  {
   "cell_type": "markdown",
   "metadata": {
    "id": "3twplwj1tgmd"
   },
   "source": [
    "### 14) Let's create a new dataframe to further analyze the 28 colleges with High Alumni Salary "
   ]
  },
  {
   "cell_type": "code",
   "execution_count": 89,
   "metadata": {
    "id": "oblq2Umotgmd"
   },
   "outputs": [
    {
     "data": {
      "text/plain": [
       "(28, 14)"
      ]
     },
     "execution_count": 89,
     "metadata": {},
     "output_type": "execute_result"
    }
   ],
   "source": [
    "df_high_alm = df_college_new[df_college_new[\"Sal Level\"]==\"H\"]\n",
    "df_high_alm.shape"
   ]
  },
  {
   "cell_type": "markdown",
   "metadata": {
    "id": "jR6Z14Omtgmd"
   },
   "source": [
    "Passing 'include = 'all'' to describe() method provides descriptive summary of all fields in the DataFrame. 'T' property transposes the table which helps in reviewing the statistics per column"
   ]
  },
  {
   "cell_type": "code",
   "execution_count": 91,
   "metadata": {
    "colab": {
     "base_uri": "https://localhost:8080/",
     "height": 483
    },
    "id": "kJSjcjnRtgmd",
    "outputId": "567bd7c4-a650-491e-f778-8933db9c2764"
   },
   "outputs": [
    {
     "ename": "TypeError",
     "evalue": "Cannot interpret '<built-in function all>' as a data type",
     "output_type": "error",
     "traceback": [
      "\u001b[1;31m---------------------------------------------------------------------------\u001b[0m",
      "\u001b[1;31mTypeError\u001b[0m                                 Traceback (most recent call last)",
      "\u001b[1;32m<ipython-input-91-d30f41a4a4f1>\u001b[0m in \u001b[0;36m<module>\u001b[1;34m\u001b[0m\n\u001b[1;32m----> 1\u001b[1;33m \u001b[0mdf_high_alm\u001b[0m\u001b[1;33m.\u001b[0m\u001b[0mdescribe\u001b[0m\u001b[1;33m(\u001b[0m\u001b[0minclude\u001b[0m \u001b[1;33m=\u001b[0m \u001b[0mall\u001b[0m\u001b[1;33m)\u001b[0m\u001b[1;33m\u001b[0m\u001b[1;33m\u001b[0m\u001b[0m\n\u001b[0m",
      "\u001b[1;32m~\\anaconda3\\lib\\site-packages\\pandas\\core\\generic.py\u001b[0m in \u001b[0;36mdescribe\u001b[1;34m(self, percentiles, include, exclude, datetime_is_numeric)\u001b[0m\n\u001b[0;32m  10094\u001b[0m             \u001b[0mdata\u001b[0m \u001b[1;33m=\u001b[0m \u001b[0mself\u001b[0m\u001b[1;33m\u001b[0m\u001b[1;33m\u001b[0m\u001b[0m\n\u001b[0;32m  10095\u001b[0m         \u001b[1;32melse\u001b[0m\u001b[1;33m:\u001b[0m\u001b[1;33m\u001b[0m\u001b[1;33m\u001b[0m\u001b[0m\n\u001b[1;32m> 10096\u001b[1;33m             \u001b[0mdata\u001b[0m \u001b[1;33m=\u001b[0m \u001b[0mself\u001b[0m\u001b[1;33m.\u001b[0m\u001b[0mselect_dtypes\u001b[0m\u001b[1;33m(\u001b[0m\u001b[0minclude\u001b[0m\u001b[1;33m=\u001b[0m\u001b[0minclude\u001b[0m\u001b[1;33m,\u001b[0m \u001b[0mexclude\u001b[0m\u001b[1;33m=\u001b[0m\u001b[0mexclude\u001b[0m\u001b[1;33m)\u001b[0m\u001b[1;33m\u001b[0m\u001b[1;33m\u001b[0m\u001b[0m\n\u001b[0m\u001b[0;32m  10097\u001b[0m \u001b[1;33m\u001b[0m\u001b[0m\n\u001b[0;32m  10098\u001b[0m         \u001b[0mldesc\u001b[0m \u001b[1;33m=\u001b[0m \u001b[1;33m[\u001b[0m\u001b[0mdescribe_1d\u001b[0m\u001b[1;33m(\u001b[0m\u001b[0ms\u001b[0m\u001b[1;33m)\u001b[0m \u001b[1;32mfor\u001b[0m \u001b[0m_\u001b[0m\u001b[1;33m,\u001b[0m \u001b[0ms\u001b[0m \u001b[1;32min\u001b[0m \u001b[0mdata\u001b[0m\u001b[1;33m.\u001b[0m\u001b[0mitems\u001b[0m\u001b[1;33m(\u001b[0m\u001b[1;33m)\u001b[0m\u001b[1;33m]\u001b[0m\u001b[1;33m\u001b[0m\u001b[1;33m\u001b[0m\u001b[0m\n",
      "\u001b[1;32m~\\anaconda3\\lib\\site-packages\\pandas\\core\\frame.py\u001b[0m in \u001b[0;36mselect_dtypes\u001b[1;34m(self, include, exclude)\u001b[0m\n\u001b[0;32m   3565\u001b[0m \u001b[1;33m\u001b[0m\u001b[0m\n\u001b[0;32m   3566\u001b[0m         \u001b[1;31m# convert the myriad valid dtypes object to a single representation\u001b[0m\u001b[1;33m\u001b[0m\u001b[1;33m\u001b[0m\u001b[1;33m\u001b[0m\u001b[0m\n\u001b[1;32m-> 3567\u001b[1;33m         \u001b[0minclude\u001b[0m \u001b[1;33m=\u001b[0m \u001b[0mfrozenset\u001b[0m\u001b[1;33m(\u001b[0m\u001b[0minfer_dtype_from_object\u001b[0m\u001b[1;33m(\u001b[0m\u001b[0mx\u001b[0m\u001b[1;33m)\u001b[0m \u001b[1;32mfor\u001b[0m \u001b[0mx\u001b[0m \u001b[1;32min\u001b[0m \u001b[0minclude\u001b[0m\u001b[1;33m)\u001b[0m\u001b[1;33m\u001b[0m\u001b[1;33m\u001b[0m\u001b[0m\n\u001b[0m\u001b[0;32m   3568\u001b[0m         \u001b[0mexclude\u001b[0m \u001b[1;33m=\u001b[0m \u001b[0mfrozenset\u001b[0m\u001b[1;33m(\u001b[0m\u001b[0minfer_dtype_from_object\u001b[0m\u001b[1;33m(\u001b[0m\u001b[0mx\u001b[0m\u001b[1;33m)\u001b[0m \u001b[1;32mfor\u001b[0m \u001b[0mx\u001b[0m \u001b[1;32min\u001b[0m \u001b[0mexclude\u001b[0m\u001b[1;33m)\u001b[0m\u001b[1;33m\u001b[0m\u001b[1;33m\u001b[0m\u001b[0m\n\u001b[0;32m   3569\u001b[0m         \u001b[1;32mfor\u001b[0m \u001b[0mdtypes\u001b[0m \u001b[1;32min\u001b[0m \u001b[1;33m(\u001b[0m\u001b[0minclude\u001b[0m\u001b[1;33m,\u001b[0m \u001b[0mexclude\u001b[0m\u001b[1;33m)\u001b[0m\u001b[1;33m:\u001b[0m\u001b[1;33m\u001b[0m\u001b[1;33m\u001b[0m\u001b[0m\n",
      "\u001b[1;32m~\\anaconda3\\lib\\site-packages\\pandas\\core\\frame.py\u001b[0m in \u001b[0;36m<genexpr>\u001b[1;34m(.0)\u001b[0m\n\u001b[0;32m   3565\u001b[0m \u001b[1;33m\u001b[0m\u001b[0m\n\u001b[0;32m   3566\u001b[0m         \u001b[1;31m# convert the myriad valid dtypes object to a single representation\u001b[0m\u001b[1;33m\u001b[0m\u001b[1;33m\u001b[0m\u001b[1;33m\u001b[0m\u001b[0m\n\u001b[1;32m-> 3567\u001b[1;33m         \u001b[0minclude\u001b[0m \u001b[1;33m=\u001b[0m \u001b[0mfrozenset\u001b[0m\u001b[1;33m(\u001b[0m\u001b[0minfer_dtype_from_object\u001b[0m\u001b[1;33m(\u001b[0m\u001b[0mx\u001b[0m\u001b[1;33m)\u001b[0m \u001b[1;32mfor\u001b[0m \u001b[0mx\u001b[0m \u001b[1;32min\u001b[0m \u001b[0minclude\u001b[0m\u001b[1;33m)\u001b[0m\u001b[1;33m\u001b[0m\u001b[1;33m\u001b[0m\u001b[0m\n\u001b[0m\u001b[0;32m   3568\u001b[0m         \u001b[0mexclude\u001b[0m \u001b[1;33m=\u001b[0m \u001b[0mfrozenset\u001b[0m\u001b[1;33m(\u001b[0m\u001b[0minfer_dtype_from_object\u001b[0m\u001b[1;33m(\u001b[0m\u001b[0mx\u001b[0m\u001b[1;33m)\u001b[0m \u001b[1;32mfor\u001b[0m \u001b[0mx\u001b[0m \u001b[1;32min\u001b[0m \u001b[0mexclude\u001b[0m\u001b[1;33m)\u001b[0m\u001b[1;33m\u001b[0m\u001b[1;33m\u001b[0m\u001b[0m\n\u001b[0;32m   3569\u001b[0m         \u001b[1;32mfor\u001b[0m \u001b[0mdtypes\u001b[0m \u001b[1;32min\u001b[0m \u001b[1;33m(\u001b[0m\u001b[0minclude\u001b[0m\u001b[1;33m,\u001b[0m \u001b[0mexclude\u001b[0m\u001b[1;33m)\u001b[0m\u001b[1;33m:\u001b[0m\u001b[1;33m\u001b[0m\u001b[1;33m\u001b[0m\u001b[0m\n",
      "\u001b[1;32m~\\anaconda3\\lib\\site-packages\\pandas\\core\\dtypes\\common.py\u001b[0m in \u001b[0;36minfer_dtype_from_object\u001b[1;34m(dtype)\u001b[0m\n\u001b[0;32m   1702\u001b[0m             \u001b[1;32mpass\u001b[0m\u001b[1;33m\u001b[0m\u001b[1;33m\u001b[0m\u001b[0m\n\u001b[0;32m   1703\u001b[0m \u001b[1;33m\u001b[0m\u001b[0m\n\u001b[1;32m-> 1704\u001b[1;33m     \u001b[1;32mreturn\u001b[0m \u001b[0minfer_dtype_from_object\u001b[0m\u001b[1;33m(\u001b[0m\u001b[0mnp\u001b[0m\u001b[1;33m.\u001b[0m\u001b[0mdtype\u001b[0m\u001b[1;33m(\u001b[0m\u001b[0mdtype\u001b[0m\u001b[1;33m)\u001b[0m\u001b[1;33m)\u001b[0m\u001b[1;33m\u001b[0m\u001b[1;33m\u001b[0m\u001b[0m\n\u001b[0m\u001b[0;32m   1705\u001b[0m \u001b[1;33m\u001b[0m\u001b[0m\n\u001b[0;32m   1706\u001b[0m \u001b[1;33m\u001b[0m\u001b[0m\n",
      "\u001b[1;31mTypeError\u001b[0m: Cannot interpret '<built-in function all>' as a data type"
     ]
    }
   ],
   "source": [
    "df_high_alm.describe(include = all)"
   ]
  },
  {
   "cell_type": "markdown",
   "metadata": {
    "id": "p0XOVKsXtgme"
   },
   "source": [
    "### Happy Learning!!!"
   ]
  }
 ],
 "metadata": {
  "colab": {
   "name": "Forbes - Americas Top Colleges 2019 (1).ipynb",
   "provenance": []
  },
  "kernelspec": {
   "display_name": "Python 3",
   "language": "python",
   "name": "python3"
  },
  "language_info": {
   "codemirror_mode": {
    "name": "ipython",
    "version": 3
   },
   "file_extension": ".py",
   "mimetype": "text/x-python",
   "name": "python",
   "nbconvert_exporter": "python",
   "pygments_lexer": "ipython3",
   "version": "3.8.5"
  }
 },
 "nbformat": 4,
 "nbformat_minor": 1
}
