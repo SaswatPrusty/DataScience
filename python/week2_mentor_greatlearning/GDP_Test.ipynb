{
 "cells": [
  {
   "cell_type": "code",
   "execution_count": 2,
   "metadata": {},
   "outputs": [],
   "source": [
    "import numpy as np\n",
    "import pandas as pd"
   ]
  },
  {
   "cell_type": "code",
   "execution_count": 5,
   "metadata": {},
   "outputs": [
    {
     "data": {
      "text/html": [
       "<div>\n",
       "<style scoped>\n",
       "    .dataframe tbody tr th:only-of-type {\n",
       "        vertical-align: middle;\n",
       "    }\n",
       "\n",
       "    .dataframe tbody tr th {\n",
       "        vertical-align: top;\n",
       "    }\n",
       "\n",
       "    .dataframe thead th {\n",
       "        text-align: right;\n",
       "    }\n",
       "</style>\n",
       "<table border=\"1\" class=\"dataframe\">\n",
       "  <thead>\n",
       "    <tr style=\"text-align: right;\">\n",
       "      <th></th>\n",
       "      <th>S.No</th>\n",
       "      <th>Country</th>\n",
       "      <th>Population</th>\n",
       "      <th>Yearly_Change</th>\n",
       "      <th>Land_Area</th>\n",
       "      <th>Population_Density</th>\n",
       "      <th>Migrants_Net</th>\n",
       "      <th>Median_Age</th>\n",
       "      <th>Urban_Population</th>\n",
       "      <th>World_Share_in_Population</th>\n",
       "      <th>GDP</th>\n",
       "      <th>GDP_per_Capita</th>\n",
       "      <th>Share_of_World_GDP</th>\n",
       "      <th>Status</th>\n",
       "    </tr>\n",
       "  </thead>\n",
       "  <tbody>\n",
       "    <tr>\n",
       "      <th>0</th>\n",
       "      <td>1</td>\n",
       "      <td>China</td>\n",
       "      <td>1421021791</td>\n",
       "      <td>0.39</td>\n",
       "      <td>9388211</td>\n",
       "      <td>151.362362</td>\n",
       "      <td>-348399</td>\n",
       "      <td>38</td>\n",
       "      <td>61.0</td>\n",
       "      <td>18.47</td>\n",
       "      <td>12238.000</td>\n",
       "      <td>8.612113</td>\n",
       "      <td>15.12</td>\n",
       "      <td>Developing</td>\n",
       "    </tr>\n",
       "    <tr>\n",
       "      <th>1</th>\n",
       "      <td>2</td>\n",
       "      <td>India</td>\n",
       "      <td>1338676785</td>\n",
       "      <td>0.99</td>\n",
       "      <td>2973190</td>\n",
       "      <td>450.249323</td>\n",
       "      <td>-532687</td>\n",
       "      <td>28</td>\n",
       "      <td>35.0</td>\n",
       "      <td>17.70</td>\n",
       "      <td>2651.000</td>\n",
       "      <td>1.980314</td>\n",
       "      <td>3.28</td>\n",
       "      <td>Developing</td>\n",
       "    </tr>\n",
       "    <tr>\n",
       "      <th>2</th>\n",
       "      <td>3</td>\n",
       "      <td>United States</td>\n",
       "      <td>325084756</td>\n",
       "      <td>0.59</td>\n",
       "      <td>9147420</td>\n",
       "      <td>35.538409</td>\n",
       "      <td>954806</td>\n",
       "      <td>38</td>\n",
       "      <td>83.0</td>\n",
       "      <td>4.25</td>\n",
       "      <td>19485.000</td>\n",
       "      <td>59.938215</td>\n",
       "      <td>24.08</td>\n",
       "      <td>Developed</td>\n",
       "    </tr>\n",
       "    <tr>\n",
       "      <th>3</th>\n",
       "      <td>4</td>\n",
       "      <td>Indonesia</td>\n",
       "      <td>264650963</td>\n",
       "      <td>1.07</td>\n",
       "      <td>1811570</td>\n",
       "      <td>146.089283</td>\n",
       "      <td>-98955</td>\n",
       "      <td>30</td>\n",
       "      <td>56.0</td>\n",
       "      <td>3.51</td>\n",
       "      <td>1015.000</td>\n",
       "      <td>3.835240</td>\n",
       "      <td>1.25</td>\n",
       "      <td>Developing</td>\n",
       "    </tr>\n",
       "    <tr>\n",
       "      <th>4</th>\n",
       "      <td>5</td>\n",
       "      <td>Pakistan</td>\n",
       "      <td>207906209</td>\n",
       "      <td>2.00</td>\n",
       "      <td>770880</td>\n",
       "      <td>269.699835</td>\n",
       "      <td>-233379</td>\n",
       "      <td>23</td>\n",
       "      <td>35.0</td>\n",
       "      <td>2.83</td>\n",
       "      <td>305.000</td>\n",
       "      <td>1.467008</td>\n",
       "      <td>0.38</td>\n",
       "      <td>Developing</td>\n",
       "    </tr>\n",
       "    <tr>\n",
       "      <th>...</th>\n",
       "      <td>...</td>\n",
       "      <td>...</td>\n",
       "      <td>...</td>\n",
       "      <td>...</td>\n",
       "      <td>...</td>\n",
       "      <td>...</td>\n",
       "      <td>...</td>\n",
       "      <td>...</td>\n",
       "      <td>...</td>\n",
       "      <td>...</td>\n",
       "      <td>...</td>\n",
       "      <td>...</td>\n",
       "      <td>...</td>\n",
       "      <td>...</td>\n",
       "    </tr>\n",
       "    <tr>\n",
       "      <th>167</th>\n",
       "      <td>181</td>\n",
       "      <td>Vanuatu</td>\n",
       "      <td>77001</td>\n",
       "      <td>2.42</td>\n",
       "      <td>12190</td>\n",
       "      <td>6.316735</td>\n",
       "      <td>120</td>\n",
       "      <td>21</td>\n",
       "      <td>24.0</td>\n",
       "      <td>0.00</td>\n",
       "      <td>0.863</td>\n",
       "      <td>11.207647</td>\n",
       "      <td>0.00</td>\n",
       "      <td>Developing</td>\n",
       "    </tr>\n",
       "    <tr>\n",
       "      <th>168</th>\n",
       "      <td>183</td>\n",
       "      <td>Barbados</td>\n",
       "      <td>58058</td>\n",
       "      <td>0.12</td>\n",
       "      <td>430</td>\n",
       "      <td>135.018605</td>\n",
       "      <td>-79</td>\n",
       "      <td>40</td>\n",
       "      <td>31.0</td>\n",
       "      <td>0.00</td>\n",
       "      <td>4.670</td>\n",
       "      <td>80.436805</td>\n",
       "      <td>0.01</td>\n",
       "      <td>Developing</td>\n",
       "    </tr>\n",
       "    <tr>\n",
       "      <th>169</th>\n",
       "      <td>187</td>\n",
       "      <td>Sao Tome &amp; Principe</td>\n",
       "      <td>33671</td>\n",
       "      <td>1.91</td>\n",
       "      <td>960</td>\n",
       "      <td>35.073958</td>\n",
       "      <td>-1680</td>\n",
       "      <td>19</td>\n",
       "      <td>74.0</td>\n",
       "      <td>0.00</td>\n",
       "      <td>0.393</td>\n",
       "      <td>11.671765</td>\n",
       "      <td>0.00</td>\n",
       "      <td>Developing</td>\n",
       "    </tr>\n",
       "    <tr>\n",
       "      <th>170</th>\n",
       "      <td>188</td>\n",
       "      <td>Samoa</td>\n",
       "      <td>17808</td>\n",
       "      <td>0.67</td>\n",
       "      <td>2830</td>\n",
       "      <td>6.292580</td>\n",
       "      <td>-2803</td>\n",
       "      <td>22</td>\n",
       "      <td>18.0</td>\n",
       "      <td>0.00</td>\n",
       "      <td>0.841</td>\n",
       "      <td>47.225966</td>\n",
       "      <td>0.00</td>\n",
       "      <td>Developing</td>\n",
       "    </tr>\n",
       "    <tr>\n",
       "      <th>171</th>\n",
       "      <td>189</td>\n",
       "      <td>Saint Lucia</td>\n",
       "      <td>11370</td>\n",
       "      <td>0.46</td>\n",
       "      <td>610</td>\n",
       "      <td>18.639344</td>\n",
       "      <td>0</td>\n",
       "      <td>34</td>\n",
       "      <td>19.0</td>\n",
       "      <td>0.00</td>\n",
       "      <td>1.740</td>\n",
       "      <td>153.034301</td>\n",
       "      <td>0.00</td>\n",
       "      <td>Developing</td>\n",
       "    </tr>\n",
       "  </tbody>\n",
       "</table>\n",
       "<p>172 rows × 14 columns</p>\n",
       "</div>"
      ],
      "text/plain": [
       "     S.No              Country  Population  Yearly_Change  Land_Area  \\\n",
       "0       1                China  1421021791           0.39    9388211   \n",
       "1       2                India  1338676785           0.99    2973190   \n",
       "2       3        United States   325084756           0.59    9147420   \n",
       "3       4            Indonesia   264650963           1.07    1811570   \n",
       "4       5             Pakistan   207906209           2.00     770880   \n",
       "..    ...                  ...         ...            ...        ...   \n",
       "167   181              Vanuatu       77001           2.42      12190   \n",
       "168   183             Barbados       58058           0.12        430   \n",
       "169   187  Sao Tome & Principe       33671           1.91        960   \n",
       "170   188                Samoa       17808           0.67       2830   \n",
       "171   189          Saint Lucia       11370           0.46        610   \n",
       "\n",
       "     Population_Density  Migrants_Net  Median_Age  Urban_Population  \\\n",
       "0            151.362362       -348399          38              61.0   \n",
       "1            450.249323       -532687          28              35.0   \n",
       "2             35.538409        954806          38              83.0   \n",
       "3            146.089283        -98955          30              56.0   \n",
       "4            269.699835       -233379          23              35.0   \n",
       "..                  ...           ...         ...               ...   \n",
       "167            6.316735           120          21              24.0   \n",
       "168          135.018605           -79          40              31.0   \n",
       "169           35.073958         -1680          19              74.0   \n",
       "170            6.292580         -2803          22              18.0   \n",
       "171           18.639344             0          34              19.0   \n",
       "\n",
       "     World_Share_in_Population        GDP  GDP_per_Capita  Share_of_World_GDP  \\\n",
       "0                        18.47  12238.000        8.612113               15.12   \n",
       "1                        17.70   2651.000        1.980314                3.28   \n",
       "2                         4.25  19485.000       59.938215               24.08   \n",
       "3                         3.51   1015.000        3.835240                1.25   \n",
       "4                         2.83    305.000        1.467008                0.38   \n",
       "..                         ...        ...             ...                 ...   \n",
       "167                       0.00      0.863       11.207647                0.00   \n",
       "168                       0.00      4.670       80.436805                0.01   \n",
       "169                       0.00      0.393       11.671765                0.00   \n",
       "170                       0.00      0.841       47.225966                0.00   \n",
       "171                       0.00      1.740      153.034301                0.00   \n",
       "\n",
       "         Status  \n",
       "0    Developing  \n",
       "1    Developing  \n",
       "2     Developed  \n",
       "3    Developing  \n",
       "4    Developing  \n",
       "..          ...  \n",
       "167  Developing  \n",
       "168  Developing  \n",
       "169  Developing  \n",
       "170  Developing  \n",
       "171  Developing  \n",
       "\n",
       "[172 rows x 14 columns]"
      ]
     },
     "execution_count": 5,
     "metadata": {},
     "output_type": "execute_result"
    }
   ],
   "source": [
    "df=pd.read_excel(\"GDP_Dataset.xlsx\")\n",
    "df"
   ]
  },
  {
   "cell_type": "code",
   "execution_count": 12,
   "metadata": {},
   "outputs": [
    {
     "data": {
      "text/plain": [
       "Developing    138\n",
       "Developed      34\n",
       "Name: Status, dtype: int64"
      ]
     },
     "execution_count": 12,
     "metadata": {},
     "output_type": "execute_result"
    }
   ],
   "source": [
    "df[\"Status\"].value_counts()"
   ]
  },
  {
   "cell_type": "code",
   "execution_count": 14,
   "metadata": {},
   "outputs": [
    {
     "data": {
      "text/plain": [
       "7305446192"
      ]
     },
     "execution_count": 14,
     "metadata": {},
     "output_type": "execute_result"
    }
   ],
   "source": [
    "df[\"Population\"].sum()"
   ]
  },
  {
   "cell_type": "code",
   "execution_count": 19,
   "metadata": {},
   "outputs": [
    {
     "data": {
      "text/plain": [
       "S.No                                11\n",
       "Country                          Japan\n",
       "Population                   124777324\n",
       "Yearly_Change                     -0.3\n",
       "Land_Area                       364555\n",
       "Population_Density             342.273\n",
       "Migrants_Net                     71560\n",
       "Median_Age                          48\n",
       "Urban_Population                    92\n",
       "World_Share_in_Population         1.62\n",
       "GDP                               4872\n",
       "GDP_per_Capita                 39.0456\n",
       "Share_of_World_GDP                6.02\n",
       "Status                       Developed\n",
       "Name: 10, dtype: object"
      ]
     },
     "execution_count": 19,
     "metadata": {},
     "output_type": "execute_result"
    }
   ],
   "source": [
    "df.loc[df['Median_Age'].idxmax()]"
   ]
  },
  {
   "cell_type": "code",
   "execution_count": 34,
   "metadata": {},
   "outputs": [
    {
     "data": {
      "text/plain": [
       "10"
      ]
     },
     "execution_count": 34,
     "metadata": {},
     "output_type": "execute_result"
    }
   ],
   "source": [
    "df[\"Urban_Population\"][df.Urban_Population > 90].count()"
   ]
  },
  {
   "cell_type": "code",
   "execution_count": 37,
   "metadata": {},
   "outputs": [
    {
     "data": {
      "text/html": [
       "<div>\n",
       "<style scoped>\n",
       "    .dataframe tbody tr th:only-of-type {\n",
       "        vertical-align: middle;\n",
       "    }\n",
       "\n",
       "    .dataframe tbody tr th {\n",
       "        vertical-align: top;\n",
       "    }\n",
       "\n",
       "    .dataframe thead th {\n",
       "        text-align: right;\n",
       "    }\n",
       "</style>\n",
       "<table border=\"1\" class=\"dataframe\">\n",
       "  <thead>\n",
       "    <tr style=\"text-align: right;\">\n",
       "      <th></th>\n",
       "      <th>Country</th>\n",
       "      <th>Population_Density</th>\n",
       "    </tr>\n",
       "  </thead>\n",
       "  <tbody>\n",
       "    <tr>\n",
       "      <th>156</th>\n",
       "      <td>Macao</td>\n",
       "      <td>11146.433333</td>\n",
       "    </tr>\n",
       "    <tr>\n",
       "      <th>107</th>\n",
       "      <td>Singapore</td>\n",
       "      <td>7071.362857</td>\n",
       "    </tr>\n",
       "    <tr>\n",
       "      <th>97</th>\n",
       "      <td>Hong Kong</td>\n",
       "      <td>6083.929524</td>\n",
       "    </tr>\n",
       "  </tbody>\n",
       "</table>\n",
       "</div>"
      ],
      "text/plain": [
       "       Country  Population_Density\n",
       "156      Macao        11146.433333\n",
       "107  Singapore         7071.362857\n",
       "97   Hong Kong         6083.929524"
      ]
     },
     "execution_count": 37,
     "metadata": {},
     "output_type": "execute_result"
    }
   ],
   "source": [
    "df[[\"Country\", \"Population_Density\"]].sort_values(by = \"Population_Density\", ascending = False).head(3)"
   ]
  },
  {
   "cell_type": "code",
   "execution_count": 55,
   "metadata": {},
   "outputs": [
    {
     "name": "stdout",
     "output_type": "stream",
     "text": [
      "1    2651.0\n",
      "Name: GDP, dtype: float64\n"
     ]
    },
    {
     "data": {
      "text/plain": [
       "4"
      ]
     },
     "execution_count": 55,
     "metadata": {},
     "output_type": "execute_result"
    }
   ],
   "source": [
    "GDP_India = df[\"GDP\"][df[\"Country\"] == \"India\"]\n",
    "print(GDP_India)\n",
    "df[\"GDP\"][df[\"GDP\"]>2651.0].count()\n"
   ]
  },
  {
   "cell_type": "code",
   "execution_count": 64,
   "metadata": {},
   "outputs": [
    {
     "data": {
      "text/plain": [
       "7    1.566\n",
       "Name: GDP_per_Capita, dtype: float64"
      ]
     },
     "execution_count": 64,
     "metadata": {},
     "output_type": "execute_result"
    }
   ],
   "source": [
    "round(df[\"GDP_per_Capita\"].loc[ (df[\"GDP\"] ==250) & (df[\"Population\"] > 100000000) ],3)"
   ]
  }
 ],
 "metadata": {
  "kernelspec": {
   "display_name": "Python 3",
   "language": "python",
   "name": "python3"
  },
  "language_info": {
   "codemirror_mode": {
    "name": "ipython",
    "version": 3
   },
   "file_extension": ".py",
   "mimetype": "text/x-python",
   "name": "python",
   "nbconvert_exporter": "python",
   "pygments_lexer": "ipython3",
   "version": "3.8.5"
  }
 },
 "nbformat": 4,
 "nbformat_minor": 4
}
