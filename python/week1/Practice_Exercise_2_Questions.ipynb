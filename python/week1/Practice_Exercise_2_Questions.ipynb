{
 "cells": [
  {
   "cell_type": "markdown",
   "metadata": {
    "colab_type": "text",
    "id": "42-KAc9Y8HeQ"
   },
   "source": [
    "Q1.Check the data types of the below variables:\n",
    "a=50, b=10.4, c=\"Hello\""
   ]
  },
  {
   "cell_type": "code",
   "execution_count": 5,
   "metadata": {
    "colab": {},
    "colab_type": "code",
    "id": "BlsI6Ndn8VNV"
   },
   "outputs": [
    {
     "name": "stdout",
     "output_type": "stream",
     "text": [
      "<class 'int'>\n",
      "<class 'float'>\n",
      "<class 'str'>\n"
     ]
    }
   ],
   "source": [
    "a= 50\n",
    "print(type(a))\n",
    "b=10.4\n",
    "c=\"Hello\"\n",
    "print(type(b))\n",
    "print(type(c))\n"
   ]
  },
  {
   "cell_type": "markdown",
   "metadata": {
    "colab_type": "text",
    "id": "rqsPIAw5-lVO"
   },
   "source": [
    "Q2.Check whether the given string is in Upper case?\n",
    "\n",
    "String - \" My Name is Adam\""
   ]
  },
  {
   "cell_type": "code",
   "execution_count": 10,
   "metadata": {
    "colab": {},
    "colab_type": "code",
    "id": "YXkpHrMR-s1b"
   },
   "outputs": [
    {
     "name": "stdout",
     "output_type": "stream",
     "text": [
      "False\n"
     ]
    }
   ],
   "source": [
    "string = \"My Name is Adam\"\n",
    "print(string.isupper())\n"
   ]
  },
  {
   "cell_type": "markdown",
   "metadata": {
    "colab_type": "text",
    "id": "xzUsyo3m_BHS"
   },
   "source": [
    "Q3.What is the length of the given string?\n",
    "\n",
    "String- \"My Name is Adam\""
   ]
  },
  {
   "cell_type": "code",
   "execution_count": 11,
   "metadata": {
    "colab": {},
    "colab_type": "code",
    "id": "KU1QQPs9_Jim"
   },
   "outputs": [
    {
     "name": "stdout",
     "output_type": "stream",
     "text": [
      "15\n"
     ]
    }
   ],
   "source": [
    "String= \"My Name is Adam\"\n",
    "print(len(String))"
   ]
  },
  {
   "cell_type": "markdown",
   "metadata": {
    "colab_type": "text",
    "id": "HFSUOTfE6JIg"
   },
   "source": [
    "Q4.Write a code (using \"for\" loop) to print the sum of all elements in the list = [6, 5, 3, 8, 4, 2, 5, 4, 11, 43]?"
   ]
  },
  {
   "cell_type": "code",
   "execution_count": 13,
   "metadata": {
    "colab": {},
    "colab_type": "code",
    "id": "3XB7hVCG6U56"
   },
   "outputs": [
    {
     "name": "stdout",
     "output_type": "stream",
     "text": [
      "91\n"
     ]
    }
   ],
   "source": [
    "list = [6, 5, 3, 8, 4, 2, 5, 4, 11, 43]\n",
    "sum = 0\n",
    "for i in list:\n",
    "    sum = sum + i\n",
    "print(sum)\n",
    "    \n"
   ]
  },
  {
   "cell_type": "code",
   "execution_count": 38,
   "metadata": {
    "colab": {},
    "colab_type": "code",
    "id": "ZB9xkZjG6a5l"
   },
   "outputs": [],
   "source": []
  },
  {
   "cell_type": "markdown",
   "metadata": {
    "colab_type": "text",
    "id": "pLga0cw17K3Y"
   },
   "source": [
    "Q5. Write a python code( using only while loop) which will only print the even numbers from 2 to 12. "
   ]
  },
  {
   "cell_type": "code",
   "execution_count": 15,
   "metadata": {
    "colab": {},
    "colab_type": "code",
    "id": "AAlqvWY-_y_1"
   },
   "outputs": [
    {
     "name": "stdout",
     "output_type": "stream",
     "text": [
      "2\n",
      "4\n",
      "6\n",
      "8\n",
      "10\n",
      "12\n"
     ]
    }
   ],
   "source": [
    "i = 2\n",
    "while i<=12:\n",
    "    print(i)\n",
    "    i = i+2"
   ]
  },
  {
   "cell_type": "markdown",
   "metadata": {
    "colab_type": "text",
    "id": "Lhk0pYd6JdEy"
   },
   "source": [
    "Q6.Write a python code( using the combination of if statement and while loop) which will only print the even numbers from 2 to 12."
   ]
  },
  {
   "cell_type": "code",
   "execution_count": 17,
   "metadata": {
    "colab": {},
    "colab_type": "code",
    "id": "_0HGsd6f60Nx"
   },
   "outputs": [
    {
     "name": "stdout",
     "output_type": "stream",
     "text": [
      "2\n",
      "4\n",
      "6\n",
      "8\n",
      "10\n",
      "12\n"
     ]
    }
   ],
   "source": [
    "i =2 \n",
    "while i<=12:\n",
    "    if i%2==0:\n",
    "        print(i)\n",
    "    i = i+1"
   ]
  },
  {
   "cell_type": "markdown",
   "metadata": {
    "colab_type": "text",
    "id": "RvD0Q2FfKEQl"
   },
   "source": [
    "Q7.Write a code( using if-else statement), which will print the minimum of the below given numbers.\n",
    "x=50,y=30,z=40"
   ]
  },
  {
   "cell_type": "code",
   "execution_count": 19,
   "metadata": {
    "colab": {},
    "colab_type": "code",
    "id": "0jAK2hSARHy_"
   },
   "outputs": [
    {
     "name": "stdout",
     "output_type": "stream",
     "text": [
      "30\n"
     ]
    }
   ],
   "source": [
    "x=50\n",
    "y=30\n",
    "z=40\n",
    "if x<y:\n",
    "    if x<z:\n",
    "        print(x)\n",
    "    elif z<y :\n",
    "        print(z)\n",
    "else:\n",
    "    if y<z:\n",
    "        print(y)\n",
    "    else:\n",
    "        print(z)"
   ]
  }
 ],
 "metadata": {
  "colab": {
   "collapsed_sections": [],
   "name": "Practice Exercise-2_Questions",
   "provenance": []
  },
  "kernelspec": {
   "display_name": "Python 3",
   "language": "python",
   "name": "python3"
  },
  "language_info": {
   "codemirror_mode": {
    "name": "ipython",
    "version": 3
   },
   "file_extension": ".py",
   "mimetype": "text/x-python",
   "name": "python",
   "nbconvert_exporter": "python",
   "pygments_lexer": "ipython3",
   "version": "3.8.5"
  }
 },
 "nbformat": 4,
 "nbformat_minor": 1
}
