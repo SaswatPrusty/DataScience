{
 "cells": [
  {
   "cell_type": "markdown",
   "metadata": {
    "id": "gqltKDLOvW2M"
   },
   "source": [
    "# Let's automate mundane tasks with Python\n",
    "\n",
    "\n"
   ]
  },
  {
   "cell_type": "markdown",
   "metadata": {
    "id": "yYTVLCpjvW2O"
   },
   "source": [
    "## TASK-1\n",
    "<h1 style =\"font-family:Times;color:DarkBlue\">You are a banker and once helped your friend in calculating his EMI for a loan using your custom formula that no one other bank uses. Now, he is back with a few other friends to take your help in calculating the EMI for their loans. </h1>\n",
    "\n",
    "<img src =\"https://cdnblog.etmoney.com/wp-content/uploads/2020/04/emi-2.jpg\" width=60% height =25%></img>\n",
    "\n",
    "<h1 style =\"font-family:Times;color:DarkBlue\">You are too tired to calculate manually after a long day at work. You want to automate this boring stuff. Your friend reminds you that you know python and you can use it to automate this boring task and your reaction is</h1>\n",
    "\n",
    "\n",
    "<img src =\"https://media.makeameme.org/created/aaah-nice-idea.jpg\" width=45% height =25%></img>"
   ]
  },
  {
   "cell_type": "markdown",
   "metadata": {
    "id": "gYZhTRu4vW2R"
   },
   "source": [
    "<h1>$EMI = \\frac{P × r × (1 + r)^n} {(1 + r)^n-1}$</h1>\n",
    "\n",
    "Where P= Loan amount \n",
    "r= interest rate\n",
    "n=tenure (# of months)\n",
    "\n",
    "Note: Also add input functions to enter the values of Principal, tenure and interest rate"
   ]
  },
  {
   "cell_type": "code",
   "execution_count": null,
   "metadata": {
    "id": "u5xg9wVFvW2W"
   },
   "outputs": [],
   "source": []
  },
  {
   "cell_type": "markdown",
   "metadata": {
    "id": "_DMB15y8vw-N"
   },
   "source": [
    "## TASK-2\n",
    "<h1 style =\"font-family:Times;color:DarkBlue\">Let's find out how many times did Mr Trump use the terms 'love' and 'war' in the below excerpt from his 2016 presidential debate against Ms Hillary Clinton.</h1>\n",
    "\n",
    "<img src =\"https://images.newindianexpress.com/uploads/user/imagelibrary/2020/7/22/w900X450/Trump_AP12.jpg\" width=60% height =25%></img>\n",
    "\n",
    "\n"
   ]
  },
  {
   "cell_type": "markdown",
   "metadata": {
    "id": "oM9bZY_qv-fH"
   },
   "source": [
    "'''<TRUMP:> We want to achieve a stable, peaceful world with less conflict and more common ground. I am proposing a new foreign \n",
    "policy focused on advancing America's core national interests -- so important -- promoting regional stability and producing and easing the tensions within our very troubled world. This will require rethinking the failed policies of the past. We can make new friends, rebuild old alliances and bring new allies into the fold. And we can do that. I'm proud to have the support of war-fighting generals, active duty military and top experts who know both how to win and how to avoid endless wars that we're caught up in, like the one we have right now that just never ever ends, our longest war. Just yesterday, 88 top generals and admirals endorsed my campaign. And these people are fantastic. <APPLAUSE>\n",
    "<TRUMP:> In a Trump administration, our actions in the Middle East will be tempered by realism. The current \n",
    "strategy of toppling regimes with no plan for what to do in the day after only produces power vacuums that are \n",
    "filled simply by terrorists. Gradual reform, not sudden and radical change, should be our guiding objective in \n",
    "that region. We should work with any country that shares our goal of destroying ISIS and defeat radical Islamic \n",
    "terrorism. <APPLAUSE>\n",
    "<TRUMP:> And we're going to form new friendships and partnerships based on this mission and this mission alone. \n",
    "We now have an administration and a former secretary of State who refuse to say radical Islamic terrorism. And \n",
    "unless you're going to say the words, you're never going to solve the problem. It's very simple. <APPLAUSE>\n",
    "<TRUMP:> Immediately after taking office, I will ask my generals to present to me a plan, within 30 days, \n",
    "to defeat and destroy ISIS. <APPLAUSE>\n",
    "<TRUMP:> This will require military warfare, but also cyber warfare, financial warfare and ideological warfare, \n",
    "as I laid out in my speech on defeating radical Islamic terrorism several weeks ago. Instead of an apology tour, \n",
    "which you saw President Obama give over and over again, I will proudly promote our system of government and our \n",
    "way of life as the best in the world, just like we did in our campaign against communism during the cold war. <APPLAUSE>\n",
    "<TRUMP:> We will show the whole world how proud we are to be Americans. <APPLAUSE>\n",
    "<TRUMP:> At the same time, immigration security is a vital part of our national security. \n",
    "We only want to admit people to our country who will support our values and love our people. \n",
    "They have to love our people. <APPLAUSE>\n",
    "<TRUMP:> These are, in fact, the pillars of a sound national security strategy. Unlike \n",
    "my opponent, my foreign policy will emphasize diplomacy, not destruction. Hillary Clinton's\n",
    "legacy in Iraq, Libya, Syria has produced only turmoil and suffering and death. Her destructive \n",
    "policies have displaced millions of people. Then she has invited these refugees into the West \n",
    "with no plan to screen them, including veteran health care costs -- and this was just announced and \n",
    "read over the last number of weeks -- \n",
    "the price of the wars in Iraq and Afghanistan will total approximately $6 trillion. \n",
    "We could have rebuilt our country over and over and over again. Yet after all this money was spent and lives lost, \n",
    "Clinton's policies as secretary of State have left the Middle East in more disarray than ever before. Not even close. \n",
    "Had we done nothing, we would have been in a far better position. \n",
    "Meanwhile, China has grown more aggressive and North Korea more dangerous and \n",
    "belligerent than ever. Russia has defied this administration at every single turn. \n",
    "Putin has no respect for President Obama and has absolutely no respect for Hillary Clinton. \n",
    "Sometimes it seemed like there wasn't a country in the Middle East that Hillary Clinton didn't want to invade, \n",
    "intervene in or topple. She's trigger happy and very unstable. Whether we like it or not, that's what's going on. <APPLAUSE>'''"
   ]
  },
  {
   "cell_type": "code",
   "execution_count": null,
   "metadata": {
    "id": "KcFTZucYvxmd"
   },
   "outputs": [],
   "source": []
  },
  {
   "cell_type": "code",
   "execution_count": null,
   "metadata": {
    "id": "cr_BMvwrwCrW"
   },
   "outputs": [],
   "source": []
  },
  {
   "cell_type": "code",
   "execution_count": null,
   "metadata": {
    "id": "aVkkTGUYwD3B"
   },
   "outputs": [],
   "source": []
  },
  {
   "cell_type": "code",
   "execution_count": null,
   "metadata": {
    "id": "bQYjGW-ZwFWg"
   },
   "outputs": [],
   "source": []
  },
  {
   "cell_type": "code",
   "execution_count": null,
   "metadata": {
    "id": "-jDPIDCiwKOe"
   },
   "outputs": [],
   "source": []
  },
  {
   "cell_type": "markdown",
   "metadata": {
    "id": "gvTu5D5FvW2z"
   },
   "source": [
    "## TASK-3\n",
    "<h1 style =\"font-family:Times;color:DarkBlue\">A store owner has asked you to create a gist of items sold in three different sub stores along with its quantities. You use python to accomplish this task. Perform the below listed steps in order to complete this task</h1>\n",
    "\n",
    "<img src=\"https://cdn.pixabay.com/photo/2016/01/27/22/10/shopping-1165437__340.jpg\" width=70%></img>\n",
    "    \n",
    "    \n",
    "   >1. Create a list of items given below:\n",
    "   \n",
    "   - Branch 1 = {soap,detergent,chocolate,toothpaste,soap,cornflakes,detergent,chocolate,maggi,toothpaste,soap,detergent,chocolate,toothpaste,soap,detergent,chocolate,toothpaste,toothpaste,maggi,maggi,cornflakes}\n",
    "   \n",
    "   - Branch 2 = {soap,detergent,brush,comb,toothpaste,soap,detergent,chocolate,toothpaste,soap,cornflakes,detergent,chocolate,maggi,toothpaste,soap,detergent,chocolate,toothpaste,soap,detergent,chocolate,toothpaste,toothpaste,maggi,maggi,cornflakes}\n",
    "   \n",
    "   - Branch 3 = {juice,cake,brush,comb,chips,coca-cola,pepsi, maggi, maggi, maggi, cornflakes, cheese, maggi, pepsi, horlicks}\n",
    "    \n",
    "   \n",
    "   >2. Create a final dictionary that will show the total count of each product sold on a given day   "
   ]
  },
  {
   "cell_type": "code",
   "execution_count": null,
   "metadata": {
    "id": "BO3SduO5vW21"
   },
   "outputs": [],
   "source": [
    "\n"
   ]
  },
  {
   "cell_type": "code",
   "execution_count": null,
   "metadata": {
    "id": "yZlyvmaZvW26"
   },
   "outputs": [],
   "source": []
  },
  {
   "cell_type": "code",
   "execution_count": null,
   "metadata": {
    "id": "qb6RexX8yHRf"
   },
   "outputs": [],
   "source": []
  },
  {
   "cell_type": "code",
   "execution_count": null,
   "metadata": {
    "id": "mjcrm6hTzHsl"
   },
   "outputs": [],
   "source": []
  }
 ],
 "metadata": {
  "colab": {
   "collapsed_sections": [],
   "name": "PDS Week 1 - Practice Exercise - Automate mundane Tasks (Advance)_Questions.ipynb",
   "provenance": []
  },
  "kernelspec": {
   "display_name": "Python 3",
   "language": "python",
   "name": "python3"
  },
  "language_info": {
   "codemirror_mode": {
    "name": "ipython",
    "version": 3
   },
   "file_extension": ".py",
   "mimetype": "text/x-python",
   "name": "python",
   "nbconvert_exporter": "python",
   "pygments_lexer": "ipython3",
   "version": "3.7.3"
  }
 },
 "nbformat": 4,
 "nbformat_minor": 1
}
