{
 "cells": [
  {
   "cell_type": "markdown",
   "metadata": {
    "colab_type": "text",
    "id": "HrZ7-nxcXLvy"
   },
   "source": [
    "# Problem Statement"
   ]
  },
  {
   "cell_type": "markdown",
   "metadata": {
    "colab_type": "text",
    "id": "t0h8pRHeXLv5"
   },
   "source": [
    "\n",
    "WHO is a specialized agency of the UN which is concerned with the world population health. Based upon the various parameters, WHO allocates budget for various areas to conduct various campaigns/initiatives to improve healthcare. Annual salary is an important variable which is considered to decide budget to be allocated for an area.  \n",
    "  \n",
    "We have a data which contains information about 32561 samples and 15 continuous and categorical variables. Extraction of data was done from 1994 Census dataset.  \n",
    "  \n",
    "The goal here is to build a binary model to predict whether the salary is >50K or <50K."
   ]
  },
  {
   "cell_type": "markdown",
   "metadata": {
    "colab_type": "text",
    "id": "9dE_kg56XLv8"
   },
   "source": [
    "## Data Dictionary"
   ]
  },
  {
   "cell_type": "markdown",
   "metadata": {
    "colab_type": "text",
    "id": "kTLVHgQ8XLwA"
   },
   "source": [
    "1. <b>age:</b> age  \n",
    "2. <b>workclass:</b> workclass  \n",
    "3. <b>education:</b> highest education  \n",
    "4. <b>marrital status:</b> marital status  \n",
    "5. <b>occupation:</b> occupation  \n",
    "6. <b>sex:</b> sex  \n",
    "7. <b>capital gain:</b> income from investment sources other than salary/wages  \n",
    "8. <b>capital loss:</b> income from investment sources other than salary/wages  \n",
    "9. <b>working hours:</b> nummber of working hours per week  \n",
    "10. <b>salary:</b> salary  "
   ]
  },
  {
   "cell_type": "code",
   "execution_count": 1,
   "metadata": {
    "ExecuteTime": {
     "end_time": "2021-03-01T11:06:19.095302Z",
     "start_time": "2021-03-01T11:06:17.537626Z"
    },
    "colab": {},
    "colab_type": "code",
    "id": "OVZ9VG1hXLwD"
   },
   "outputs": [],
   "source": [
    "import numpy as np\n",
    "import pandas as pd\n",
    "import matplotlib.pyplot as plt   \n",
    "import seaborn as sns\n",
    "from sklearn.model_selection import train_test_split,GridSearchCV\n",
    "from sklearn.linear_model import LogisticRegression\n",
    "from sklearn import metrics\n",
    "from sklearn.metrics import roc_auc_score,roc_curve,classification_report,confusion_matrix,plot_confusion_matrix"
   ]
  },
  {
   "cell_type": "code",
   "execution_count": 6,
   "metadata": {
    "ExecuteTime": {
     "end_time": "2021-03-01T11:06:19.157783Z",
     "start_time": "2021-03-01T11:06:19.095302Z"
    },
    "colab": {},
    "colab_type": "code",
    "id": "VJJm2CfGXLwP"
   },
   "outputs": [],
   "source": [
    "adult_data=pd.read_csv(\"adult.data-1.csv\")"
   ]
  },
  {
   "cell_type": "markdown",
   "metadata": {
    "colab_type": "text",
    "id": "imoOAX3GXLwX"
   },
   "source": [
    "### EDA"
   ]
  },
  {
   "cell_type": "code",
   "execution_count": 7,
   "metadata": {
    "ExecuteTime": {
     "end_time": "2021-03-01T11:06:19.264398Z",
     "start_time": "2021-03-01T11:06:19.157783Z"
    },
    "colab": {},
    "colab_type": "code",
    "id": "LTjN85hfXLwa",
    "outputId": "477775ac-502e-46f5-c0e8-c444b00bf076"
   },
   "outputs": [
    {
     "data": {
      "text/html": [
       "<div>\n",
       "<style scoped>\n",
       "    .dataframe tbody tr th:only-of-type {\n",
       "        vertical-align: middle;\n",
       "    }\n",
       "\n",
       "    .dataframe tbody tr th {\n",
       "        vertical-align: top;\n",
       "    }\n",
       "\n",
       "    .dataframe thead th {\n",
       "        text-align: right;\n",
       "    }\n",
       "</style>\n",
       "<table border=\"1\" class=\"dataframe\">\n",
       "  <thead>\n",
       "    <tr style=\"text-align: right;\">\n",
       "      <th></th>\n",
       "      <th>age</th>\n",
       "      <th>workclass</th>\n",
       "      <th>education</th>\n",
       "      <th>marrital status</th>\n",
       "      <th>occupation</th>\n",
       "      <th>sex</th>\n",
       "      <th>capital gain</th>\n",
       "      <th>capital loss</th>\n",
       "      <th>working hours per week</th>\n",
       "      <th>salary</th>\n",
       "    </tr>\n",
       "  </thead>\n",
       "  <tbody>\n",
       "    <tr>\n",
       "      <th>0</th>\n",
       "      <td>39</td>\n",
       "      <td>State-gov</td>\n",
       "      <td>Bachelors</td>\n",
       "      <td>Never-married</td>\n",
       "      <td>Adm-clerical</td>\n",
       "      <td>Male</td>\n",
       "      <td>2174</td>\n",
       "      <td>0</td>\n",
       "      <td>40</td>\n",
       "      <td>&lt;=50K</td>\n",
       "    </tr>\n",
       "    <tr>\n",
       "      <th>1</th>\n",
       "      <td>50</td>\n",
       "      <td>Self-emp-not-inc</td>\n",
       "      <td>Bachelors</td>\n",
       "      <td>Married-civ-spouse</td>\n",
       "      <td>Exec-managerial</td>\n",
       "      <td>Male</td>\n",
       "      <td>0</td>\n",
       "      <td>0</td>\n",
       "      <td>13</td>\n",
       "      <td>&lt;=50K</td>\n",
       "    </tr>\n",
       "    <tr>\n",
       "      <th>2</th>\n",
       "      <td>38</td>\n",
       "      <td>Private</td>\n",
       "      <td>HS-grad</td>\n",
       "      <td>Divorced</td>\n",
       "      <td>Handlers-cleaners</td>\n",
       "      <td>Male</td>\n",
       "      <td>0</td>\n",
       "      <td>0</td>\n",
       "      <td>40</td>\n",
       "      <td>&lt;=50K</td>\n",
       "    </tr>\n",
       "    <tr>\n",
       "      <th>3</th>\n",
       "      <td>53</td>\n",
       "      <td>Private</td>\n",
       "      <td>11th</td>\n",
       "      <td>Married-civ-spouse</td>\n",
       "      <td>Handlers-cleaners</td>\n",
       "      <td>Male</td>\n",
       "      <td>0</td>\n",
       "      <td>0</td>\n",
       "      <td>40</td>\n",
       "      <td>&lt;=50K</td>\n",
       "    </tr>\n",
       "    <tr>\n",
       "      <th>4</th>\n",
       "      <td>28</td>\n",
       "      <td>Private</td>\n",
       "      <td>Bachelors</td>\n",
       "      <td>Married-civ-spouse</td>\n",
       "      <td>Prof-specialty</td>\n",
       "      <td>Female</td>\n",
       "      <td>0</td>\n",
       "      <td>0</td>\n",
       "      <td>40</td>\n",
       "      <td>&lt;=50K</td>\n",
       "    </tr>\n",
       "  </tbody>\n",
       "</table>\n",
       "</div>"
      ],
      "text/plain": [
       "   age         workclass  education     marrital status         occupation  \\\n",
       "0   39         State-gov  Bachelors       Never-married       Adm-clerical   \n",
       "1   50  Self-emp-not-inc  Bachelors  Married-civ-spouse    Exec-managerial   \n",
       "2   38           Private    HS-grad            Divorced  Handlers-cleaners   \n",
       "3   53           Private       11th  Married-civ-spouse  Handlers-cleaners   \n",
       "4   28           Private  Bachelors  Married-civ-spouse     Prof-specialty   \n",
       "\n",
       "      sex  capital gain  capital loss  working hours per week  salary  \n",
       "0    Male          2174             0                      40   <=50K  \n",
       "1    Male             0             0                      13   <=50K  \n",
       "2    Male             0             0                      40   <=50K  \n",
       "3    Male             0             0                      40   <=50K  \n",
       "4  Female             0             0                      40   <=50K  "
      ]
     },
     "execution_count": 7,
     "metadata": {},
     "output_type": "execute_result"
    }
   ],
   "source": [
    "adult_data.head()"
   ]
  },
  {
   "cell_type": "code",
   "execution_count": 8,
   "metadata": {
    "ExecuteTime": {
     "end_time": "2021-03-01T11:06:19.404116Z",
     "start_time": "2021-03-01T11:06:19.265351Z"
    },
    "colab": {},
    "colab_type": "code",
    "id": "JmesMGp_XLwn",
    "outputId": "80ca447c-c7c5-45a3-f283-abfece64cd79"
   },
   "outputs": [
    {
     "name": "stdout",
     "output_type": "stream",
     "text": [
      "<class 'pandas.core.frame.DataFrame'>\n",
      "RangeIndex: 32561 entries, 0 to 32560\n",
      "Data columns (total 10 columns):\n",
      " #   Column                  Non-Null Count  Dtype \n",
      "---  ------                  --------------  ----- \n",
      " 0   age                     32561 non-null  int64 \n",
      " 1   workclass               32561 non-null  object\n",
      " 2   education               32561 non-null  object\n",
      " 3   marrital status         32561 non-null  object\n",
      " 4   occupation              32561 non-null  object\n",
      " 5   sex                     32561 non-null  object\n",
      " 6   capital gain            32561 non-null  int64 \n",
      " 7   capital loss            32561 non-null  int64 \n",
      " 8   working hours per week  32561 non-null  int64 \n",
      " 9   salary                  32561 non-null  object\n",
      "dtypes: int64(4), object(6)\n",
      "memory usage: 2.5+ MB\n"
     ]
    }
   ],
   "source": [
    "adult_data.info()"
   ]
  },
  {
   "cell_type": "markdown",
   "metadata": {
    "colab_type": "text",
    "id": "LNeNEe0rXLwy"
   },
   "source": [
    "There are no missing values. 6 variables are numeric and remaining categorical. Categorical variables are not in encoded format"
   ]
  },
  {
   "cell_type": "markdown",
   "metadata": {
    "colab_type": "text",
    "id": "YfkdoZ-hXLw2"
   },
   "source": [
    "### Check for duplicate data"
   ]
  },
  {
   "cell_type": "code",
   "execution_count": 12,
   "metadata": {
    "ExecuteTime": {
     "end_time": "2021-03-01T11:06:19.535362Z",
     "start_time": "2021-03-01T11:06:19.405114Z"
    },
    "colab": {},
    "colab_type": "code",
    "id": "WxC5ErgZXLw5",
    "outputId": "d7135a1a-80cc-4219-97c6-4627bfbb4d9d"
   },
   "outputs": [
    {
     "name": "stdout",
     "output_type": "stream",
     "text": [
      "Number of duplicate rows = 0\n",
      "(26697, 10)\n"
     ]
    }
   ],
   "source": [
    "dups = adult_data.duplicated()\n",
    "print('Number of duplicate rows = %d' % (dups.sum()))\n",
    "print(adult_data.shape)"
   ]
  },
  {
   "cell_type": "markdown",
   "metadata": {
    "colab_type": "text",
    "id": "xlk2THbNXLxC"
   },
   "source": [
    "Do we need to remove the duplicate data over here? We have removed the duplicate data but when are the cases that we remove duplicate data?"
   ]
  },
  {
   "cell_type": "code",
   "execution_count": 13,
   "metadata": {
    "ExecuteTime": {
     "end_time": "2021-03-01T11:06:19.723479Z",
     "start_time": "2021-03-01T11:06:19.536349Z"
    },
    "colab": {},
    "colab_type": "code",
    "id": "BuUd7amaXLxE"
   },
   "outputs": [],
   "source": [
    "adult_data.drop_duplicates(inplace=True) "
   ]
  },
  {
   "cell_type": "code",
   "execution_count": 14,
   "metadata": {
    "ExecuteTime": {
     "end_time": "2021-03-01T11:06:19.821754Z",
     "start_time": "2021-03-01T11:06:19.723479Z"
    },
    "colab": {},
    "colab_type": "code",
    "id": "8vBJ3HnVXLxK",
    "outputId": "b4c78f23-7380-400e-84b3-d92bbfb6676a"
   },
   "outputs": [
    {
     "name": "stdout",
     "output_type": "stream",
     "text": [
      "Number of duplicate rows = 0\n",
      "(26697, 10)\n"
     ]
    }
   ],
   "source": [
    "dups = adult_data.duplicated()\n",
    "print('Number of duplicate rows = %d' % (dups.sum()))\n",
    "print(adult_data.shape)"
   ]
  },
  {
   "cell_type": "markdown",
   "metadata": {
    "colab_type": "text",
    "id": "cKP7BLL9XLxU"
   },
   "source": [
    "### Geting unique counts of all Objects"
   ]
  },
  {
   "cell_type": "code",
   "execution_count": 15,
   "metadata": {
    "ExecuteTime": {
     "end_time": "2021-03-01T11:06:20.091687Z",
     "start_time": "2021-03-01T11:06:19.915497Z"
    },
    "colab": {},
    "colab_type": "code",
    "id": "yYMEWgbyXLxg",
    "outputId": "45eff666-533c-43f6-8c7e-a57450a27ef9",
    "scrolled": true
   },
   "outputs": [
    {
     "name": "stdout",
     "output_type": "stream",
     "text": [
      "workclass\n",
      "Private             17474\n",
      "Self-emp-not-inc     2447\n",
      "Local-gov            1980\n",
      "?                    1519\n",
      "State-gov            1246\n",
      "Self-emp-inc         1089\n",
      "Federal-gov           921\n",
      "Without-pay            14\n",
      "Never-worked            7\n",
      "Name: workclass, dtype: int64\n",
      "\n",
      "\n",
      "education\n",
      "HS-grad         7815\n",
      "Some-college    5692\n",
      "Bachelors       4461\n",
      "Masters         1606\n",
      "Assoc-voc       1281\n",
      "Assoc-acdm      1036\n",
      "11th             987\n",
      "10th             820\n",
      "7th-8th          611\n",
      "Prof-school      562\n",
      "9th              502\n",
      "Doctorate        399\n",
      "12th             397\n",
      "5th-6th          315\n",
      "1st-4th          164\n",
      "Preschool         49\n",
      "Name: education, dtype: int64\n",
      "\n",
      "\n",
      "marrital status\n",
      "Married-civ-spouse       12679\n",
      "Never-married             7698\n",
      "Divorced                  3930\n",
      "Separated                  978\n",
      "Widowed                    971\n",
      "Married-spouse-absent      418\n",
      "Married-AF-spouse           23\n",
      "Name: marrital status, dtype: int64\n",
      "\n",
      "\n",
      "occupation\n",
      "Prof-specialty       3703\n",
      "Exec-managerial      3531\n",
      "Sales                3009\n",
      "Craft-repair         2970\n",
      "Adm-clerical         2884\n",
      "Other-service        2626\n",
      "?                    1526\n",
      "Machine-op-inspct    1483\n",
      "Transport-moving     1372\n",
      "Handlers-cleaners    1033\n",
      "Farming-fishing       951\n",
      "Tech-support          841\n",
      "Protective-serv       614\n",
      "Priv-house-serv       145\n",
      "Armed-Forces            9\n",
      "Name: occupation, dtype: int64\n",
      "\n",
      "\n",
      "sex\n",
      "Male      17862\n",
      "Female     8835\n",
      "Name: sex, dtype: int64\n",
      "\n",
      "\n",
      "salary\n",
      " <=50K    19673\n",
      " >50K      7024\n",
      "Name: salary, dtype: int64\n",
      "\n",
      "\n"
     ]
    }
   ],
   "source": [
    "for feature in adult_data.columns: \n",
    "    if adult_data[feature].dtype == 'object': \n",
    "        print(feature)\n",
    "        print(adult_data[feature].value_counts())\n",
    "        print('\\n')\n",
    "        "
   ]
  },
  {
   "cell_type": "markdown",
   "metadata": {
    "colab_type": "text",
    "id": "U6cffo-UXLxo"
   },
   "source": [
    "'workclass' and 'occupation' has ?  \n",
    "Since, high number of cases have ?, we will convert them into a new level"
   ]
  },
  {
   "cell_type": "code",
   "execution_count": 17,
   "metadata": {
    "ExecuteTime": {
     "end_time": "2021-03-01T11:06:20.278057Z",
     "start_time": "2021-03-01T11:06:20.092684Z"
    },
    "colab": {},
    "colab_type": "code",
    "id": "eq3nAs24XLxr"
   },
   "outputs": [],
   "source": [
    "# Replace ? to new Unk category\n",
    "adult_data.workclass=adult_data.workclass.str.replace('?', 'Unk')\n",
    "adult_data.occupation = adult_data.occupation.str.replace('?', 'Unk')\n"
   ]
  },
  {
   "cell_type": "code",
   "execution_count": 18,
   "metadata": {
    "ExecuteTime": {
     "end_time": "2021-03-01T11:06:20.371537Z",
     "start_time": "2021-03-01T11:06:20.279054Z"
    },
    "colab": {},
    "colab_type": "code",
    "id": "F2ioQYuFXLxy",
    "outputId": "a97ac020-8c4d-428d-8f90-82cf3711cb92"
   },
   "outputs": [
    {
     "data": {
      "text/html": [
       "<div>\n",
       "<style scoped>\n",
       "    .dataframe tbody tr th:only-of-type {\n",
       "        vertical-align: middle;\n",
       "    }\n",
       "\n",
       "    .dataframe tbody tr th {\n",
       "        vertical-align: top;\n",
       "    }\n",
       "\n",
       "    .dataframe thead th {\n",
       "        text-align: right;\n",
       "    }\n",
       "</style>\n",
       "<table border=\"1\" class=\"dataframe\">\n",
       "  <thead>\n",
       "    <tr style=\"text-align: right;\">\n",
       "      <th></th>\n",
       "      <th>age</th>\n",
       "      <th>capital gain</th>\n",
       "      <th>capital loss</th>\n",
       "      <th>working hours per week</th>\n",
       "    </tr>\n",
       "  </thead>\n",
       "  <tbody>\n",
       "    <tr>\n",
       "      <th>count</th>\n",
       "      <td>26697.000000</td>\n",
       "      <td>26697.000000</td>\n",
       "      <td>26697.000000</td>\n",
       "      <td>26697.000000</td>\n",
       "    </tr>\n",
       "    <tr>\n",
       "      <th>mean</th>\n",
       "      <td>39.987489</td>\n",
       "      <td>1304.600929</td>\n",
       "      <td>105.699330</td>\n",
       "      <td>40.852530</td>\n",
       "    </tr>\n",
       "    <tr>\n",
       "      <th>std</th>\n",
       "      <td>13.691269</td>\n",
       "      <td>8111.031099</td>\n",
       "      <td>441.214823</td>\n",
       "      <td>13.114255</td>\n",
       "    </tr>\n",
       "    <tr>\n",
       "      <th>min</th>\n",
       "      <td>17.000000</td>\n",
       "      <td>0.000000</td>\n",
       "      <td>0.000000</td>\n",
       "      <td>1.000000</td>\n",
       "    </tr>\n",
       "    <tr>\n",
       "      <th>25%</th>\n",
       "      <td>29.000000</td>\n",
       "      <td>0.000000</td>\n",
       "      <td>0.000000</td>\n",
       "      <td>38.000000</td>\n",
       "    </tr>\n",
       "    <tr>\n",
       "      <th>50%</th>\n",
       "      <td>39.000000</td>\n",
       "      <td>0.000000</td>\n",
       "      <td>0.000000</td>\n",
       "      <td>40.000000</td>\n",
       "    </tr>\n",
       "    <tr>\n",
       "      <th>75%</th>\n",
       "      <td>49.000000</td>\n",
       "      <td>0.000000</td>\n",
       "      <td>0.000000</td>\n",
       "      <td>46.000000</td>\n",
       "    </tr>\n",
       "    <tr>\n",
       "      <th>max</th>\n",
       "      <td>90.000000</td>\n",
       "      <td>99999.000000</td>\n",
       "      <td>4356.000000</td>\n",
       "      <td>99.000000</td>\n",
       "    </tr>\n",
       "  </tbody>\n",
       "</table>\n",
       "</div>"
      ],
      "text/plain": [
       "                age  capital gain  capital loss  working hours per week\n",
       "count  26697.000000  26697.000000  26697.000000            26697.000000\n",
       "mean      39.987489   1304.600929    105.699330               40.852530\n",
       "std       13.691269   8111.031099    441.214823               13.114255\n",
       "min       17.000000      0.000000      0.000000                1.000000\n",
       "25%       29.000000      0.000000      0.000000               38.000000\n",
       "50%       39.000000      0.000000      0.000000               40.000000\n",
       "75%       49.000000      0.000000      0.000000               46.000000\n",
       "max       90.000000  99999.000000   4356.000000               99.000000"
      ]
     },
     "execution_count": 18,
     "metadata": {},
     "output_type": "execute_result"
    }
   ],
   "source": [
    "adult_data.describe()"
   ]
  },
  {
   "cell_type": "markdown",
   "metadata": {},
   "source": [
    "### Checking the spread of the data using boxplot for the continuous variables."
   ]
  },
  {
   "cell_type": "code",
   "execution_count": 21,
   "metadata": {
    "ExecuteTime": {
     "end_time": "2021-03-01T11:06:20.838716Z",
     "start_time": "2021-03-01T11:06:20.372534Z"
    },
    "scrolled": true
   },
   "outputs": [
    {
     "name": "stderr",
     "output_type": "stream",
     "text": [
      "C:\\Users\\HP\\anaconda3\\lib\\site-packages\\seaborn\\_decorators.py:36: FutureWarning: Pass the following variable as a keyword arg: x. From version 0.12, the only valid positional argument will be `data`, and passing other arguments without an explicit keyword will result in an error or misinterpretation.\n",
      "  warnings.warn(\n"
     ]
    },
    {
     "data": {
      "image/png": "[encoded data removed]",
      "text/plain": [
       "<Figure size 432x288 with 1 Axes>"
      ]
     },
     "metadata": {
      "needs_background": "light"
     },
     "output_type": "display_data"
    },
    {
     "name": "stderr",
     "output_type": "stream",
     "text": [
      "C:\\Users\\HP\\anaconda3\\lib\\site-packages\\seaborn\\_decorators.py:36: FutureWarning: Pass the following variable as a keyword arg: x. From version 0.12, the only valid positional argument will be `data`, and passing other arguments without an explicit keyword will result in an error or misinterpretation.\n",
      "  warnings.warn(\n"
     ]
    },
    {
     "data": {
      "image/png": "[encoded data removed]",
      "text/plain": [
       "<Figure size 432x288 with 1 Axes>"
      ]
     },
     "metadata": {
      "needs_background": "light"
     },
     "output_type": "display_data"
    },
    {
     "name": "stderr",
     "output_type": "stream",
     "text": [
      "C:\\Users\\HP\\anaconda3\\lib\\site-packages\\seaborn\\_decorators.py:36: FutureWarning: Pass the following variable as a keyword arg: x. From version 0.12, the only valid positional argument will be `data`, and passing other arguments without an explicit keyword will result in an error or misinterpretation.\n",
      "  warnings.warn(\n"
     ]
    },
    {
     "data": {
      "image/png": "[encoded data removed]",
      "text/plain": [
       "<Figure size 432x288 with 1 Axes>"
      ]
     },
     "metadata": {
      "needs_background": "light"
     },
     "output_type": "display_data"
    },
    {
     "name": "stderr",
     "output_type": "stream",
     "text": [
      "C:\\Users\\HP\\anaconda3\\lib\\site-packages\\seaborn\\_decorators.py:36: FutureWarning: Pass the following variable as a keyword arg: x. From version 0.12, the only valid positional argument will be `data`, and passing other arguments without an explicit keyword will result in an error or misinterpretation.\n",
      "  warnings.warn(\n"
     ]
    },
    {
     "data": {
      "image/png": "[encoded data removed]",
      "text/plain": [
       "<Figure size 432x288 with 1 Axes>"
      ]
     },
     "metadata": {
      "needs_background": "light"
     },
     "output_type": "display_data"
    }
   ],
   "source": [
    "cols = ['age','capital gain','capital loss','working hours per week']\n",
    "for i in cols:\n",
    "    sns.boxplot(adult_data[i],whis=1.5)\n",
    "    plt.grid()\n",
    "    plt.show();"
   ]
  },
  {
   "cell_type": "markdown",
   "metadata": {
    "colab_type": "text",
    "id": "fb2rE0eIXLyG"
   },
   "source": [
    "### Treating the outliers.\n",
    "###### We can treat Outliers with the following code. We will treat the outliers for the 'Age' variable only."
   ]
  },
  {
   "cell_type": "code",
   "execution_count": 22,
   "metadata": {
    "ExecuteTime": {
     "end_time": "2021-03-01T11:06:20.843671Z",
     "start_time": "2021-03-01T11:06:20.839681Z"
    },
    "colab": {},
    "colab_type": "code",
    "id": "odGowVoMXLyI"
   },
   "outputs": [],
   "source": [
    "def remove_outlier(col):\n",
    "    sorted(col)\n",
    "    Q1,Q3=np.percentile(col,[25,75])\n",
    "    IQR=Q3-Q1\n",
    "    lower_range= Q1-(1.5 * IQR)\n",
    "    upper_range= Q3+(1.5 * IQR)\n",
    "    return lower_range, upper_range"
   ]
  },
  {
   "cell_type": "code",
   "execution_count": 23,
   "metadata": {
    "ExecuteTime": {
     "end_time": "2021-03-01T11:06:21.008231Z",
     "start_time": "2021-03-01T11:06:20.844669Z"
    }
   },
   "outputs": [
    {
     "name": "stdout",
     "output_type": "stream",
     "text": [
      "Lower Range : 26.0 \n",
      "Upper Range : 58.0\n"
     ]
    }
   ],
   "source": [
    "lr,ur=remove_outlier(adult_data['working hours per week'])\n",
    "print('Lower Range :',lr,'\\nUpper Range :',ur)\n",
    "adult_data['working hours per week']=np.where(adult_data['working hours per week']>ur,ur,adult_data['working hours per week'])\n",
    "adult_data['working hours per week']=np.where(adult_data['working hours per week']<lr,lr,adult_data['working hours per week'])"
   ]
  },
  {
   "cell_type": "code",
   "execution_count": 26,
   "metadata": {
    "ExecuteTime": {
     "end_time": "2021-03-01T11:06:21.119550Z",
     "start_time": "2021-03-01T11:06:21.010227Z"
    },
    "colab": {},
    "colab_type": "code",
    "id": "AnOIHhwBXLyQ"
   },
   "outputs": [],
   "source": [
    "## This is a loop to treat outliers for all the non-'object' type varible\n",
    "\n",
    "for column in adult_data.columns:\n",
    "     if adult_data[column].dtype != 'object': \n",
    "         lr,ur=remove_outlier(adult_data[column])\n",
    "         adult_data[column]=np.where(adult_data[column]>ur,ur,adult_data[column])\n",
    "         adult_data[column]=np.where(adult_data[column]<lr,lr,adult_data[column])"
   ]
  },
  {
   "cell_type": "code",
   "execution_count": 27,
   "metadata": {
    "ExecuteTime": {
     "end_time": "2021-03-01T11:06:21.576381Z",
     "start_time": "2021-03-01T11:06:21.119550Z"
    },
    "colab": {},
    "colab_type": "code",
    "id": "OO-uzF31XLyX",
    "outputId": "52ed18f9-f359-4868-dcf4-fd6f6b665dd4",
    "scrolled": true
   },
   "outputs": [
    {
     "name": "stderr",
     "output_type": "stream",
     "text": [
      "C:\\Users\\HP\\anaconda3\\lib\\site-packages\\seaborn\\_decorators.py:36: FutureWarning: Pass the following variable as a keyword arg: x. From version 0.12, the only valid positional argument will be `data`, and passing other arguments without an explicit keyword will result in an error or misinterpretation.\n",
      "  warnings.warn(\n"
     ]
    },
    {
     "data": {
      "image/png": "[encoded data removed]",
      "text/plain": [
       "<Figure size 432x288 with 1 Axes>"
      ]
     },
     "metadata": {
      "needs_background": "light"
     },
     "output_type": "display_data"
    },
    {
     "name": "stderr",
     "output_type": "stream",
     "text": [
      "C:\\Users\\HP\\anaconda3\\lib\\site-packages\\seaborn\\_decorators.py:36: FutureWarning: Pass the following variable as a keyword arg: x. From version 0.12, the only valid positional argument will be `data`, and passing other arguments without an explicit keyword will result in an error or misinterpretation.\n",
      "  warnings.warn(\n"
     ]
    },
    {
     "data": {
      "image/png": "[encoded data removed]",
      "text/plain": [
       "<Figure size 432x288 with 1 Axes>"
      ]
     },
     "metadata": {
      "needs_background": "light"
     },
     "output_type": "display_data"
    },
    {
     "name": "stderr",
     "output_type": "stream",
     "text": [
      "C:\\Users\\HP\\anaconda3\\lib\\site-packages\\seaborn\\_decorators.py:36: FutureWarning: Pass the following variable as a keyword arg: x. From version 0.12, the only valid positional argument will be `data`, and passing other arguments without an explicit keyword will result in an error or misinterpretation.\n",
      "  warnings.warn(\n"
     ]
    },
    {
     "data": {
      "image/png": "[encoded data removed]",
      "text/plain": [
       "<Figure size 432x288 with 1 Axes>"
      ]
     },
     "metadata": {
      "needs_background": "light"
     },
     "output_type": "display_data"
    },
    {
     "name": "stderr",
     "output_type": "stream",
     "text": [
      "C:\\Users\\HP\\anaconda3\\lib\\site-packages\\seaborn\\_decorators.py:36: FutureWarning: Pass the following variable as a keyword arg: x. From version 0.12, the only valid positional argument will be `data`, and passing other arguments without an explicit keyword will result in an error or misinterpretation.\n",
      "  warnings.warn(\n"
     ]
    },
    {
     "data": {
      "image/png": "[encoded data removed]",
      "text/plain": [
       "<Figure size 432x288 with 1 Axes>"
      ]
     },
     "metadata": {
      "needs_background": "light"
     },
     "output_type": "display_data"
    }
   ],
   "source": [
    "cols = ['age','capital gain','capital loss','working hours per week']\n",
    "for i in cols:\n",
    "    sns.boxplot(adult_data[i],whis=1.5)\n",
    "    plt.grid()\n",
    "    plt.show();"
   ]
  },
  {
   "cell_type": "markdown",
   "metadata": {
    "colab_type": "text",
    "id": "FvaVP9G5XLyd"
   },
   "source": [
    "### Checking for Correlations."
   ]
  },
  {
   "cell_type": "code",
   "execution_count": 28,
   "metadata": {
    "ExecuteTime": {
     "end_time": "2021-03-01T11:06:21.588642Z",
     "start_time": "2021-03-01T11:06:21.577377Z"
    }
   },
   "outputs": [
    {
     "data": {
      "text/html": [
       "<div>\n",
       "<style scoped>\n",
       "    .dataframe tbody tr th:only-of-type {\n",
       "        vertical-align: middle;\n",
       "    }\n",
       "\n",
       "    .dataframe tbody tr th {\n",
       "        vertical-align: top;\n",
       "    }\n",
       "\n",
       "    .dataframe thead th {\n",
       "        text-align: right;\n",
       "    }\n",
       "</style>\n",
       "<table border=\"1\" class=\"dataframe\">\n",
       "  <thead>\n",
       "    <tr style=\"text-align: right;\">\n",
       "      <th></th>\n",
       "      <th>age</th>\n",
       "      <th>capital gain</th>\n",
       "      <th>capital loss</th>\n",
       "      <th>working hours per week</th>\n",
       "    </tr>\n",
       "  </thead>\n",
       "  <tbody>\n",
       "    <tr>\n",
       "      <th>age</th>\n",
       "      <td>1.000000</td>\n",
       "      <td>NaN</td>\n",
       "      <td>NaN</td>\n",
       "      <td>0.038187</td>\n",
       "    </tr>\n",
       "    <tr>\n",
       "      <th>capital gain</th>\n",
       "      <td>NaN</td>\n",
       "      <td>NaN</td>\n",
       "      <td>NaN</td>\n",
       "      <td>NaN</td>\n",
       "    </tr>\n",
       "    <tr>\n",
       "      <th>capital loss</th>\n",
       "      <td>NaN</td>\n",
       "      <td>NaN</td>\n",
       "      <td>NaN</td>\n",
       "      <td>NaN</td>\n",
       "    </tr>\n",
       "    <tr>\n",
       "      <th>working hours per week</th>\n",
       "      <td>0.038187</td>\n",
       "      <td>NaN</td>\n",
       "      <td>NaN</td>\n",
       "      <td>1.000000</td>\n",
       "    </tr>\n",
       "  </tbody>\n",
       "</table>\n",
       "</div>"
      ],
      "text/plain": [
       "                             age  capital gain  capital loss  \\\n",
       "age                     1.000000           NaN           NaN   \n",
       "capital gain                 NaN           NaN           NaN   \n",
       "capital loss                 NaN           NaN           NaN   \n",
       "working hours per week  0.038187           NaN           NaN   \n",
       "\n",
       "                        working hours per week  \n",
       "age                                   0.038187  \n",
       "capital gain                               NaN  \n",
       "capital loss                               NaN  \n",
       "working hours per week                1.000000  "
      ]
     },
     "execution_count": 28,
     "metadata": {},
     "output_type": "execute_result"
    }
   ],
   "source": [
    "adult_data.corr()"
   ]
  },
  {
   "cell_type": "code",
   "execution_count": 18,
   "metadata": {
    "ExecuteTime": {
     "end_time": "2021-03-01T11:06:21.868484Z",
     "start_time": "2021-03-01T11:06:21.589674Z"
    },
    "colab": {},
    "colab_type": "code",
    "id": "HzprqG5cXLyf",
    "outputId": "19dcb17e-c771-48be-a2fb-2caa9c8a7b73"
   },
   "outputs": [
    {
     "data": {
      "image/png": "[encoded data removed]",
      "text/plain": [
       "<Figure size 864x504 with 2 Axes>"
      ]
     },
     "metadata": {
      "needs_background": "light"
     },
     "output_type": "display_data"
    }
   ],
   "source": [
    "plt.figure(figsize=(12,7))\n",
    "sns.heatmap(adult_data.corr(), annot=True,mask=np.triu(adult_data.corr(),+1));"
   ]
  },
  {
   "cell_type": "code",
   "execution_count": 29,
   "metadata": {
    "ExecuteTime": {
     "end_time": "2021-03-01T11:06:21.918599Z",
     "start_time": "2021-03-01T11:06:21.869445Z"
    },
    "colab": {},
    "colab_type": "code",
    "id": "uTG0TH0uXLyo",
    "outputId": "4505879f-e181-4a90-c9f1-519682a2e25f"
   },
   "outputs": [
    {
     "data": {
      "text/html": [
       "<div>\n",
       "<style scoped>\n",
       "    .dataframe tbody tr th:only-of-type {\n",
       "        vertical-align: middle;\n",
       "    }\n",
       "\n",
       "    .dataframe tbody tr th {\n",
       "        vertical-align: top;\n",
       "    }\n",
       "\n",
       "    .dataframe thead th {\n",
       "        text-align: right;\n",
       "    }\n",
       "</style>\n",
       "<table border=\"1\" class=\"dataframe\">\n",
       "  <thead>\n",
       "    <tr style=\"text-align: right;\">\n",
       "      <th></th>\n",
       "      <th>age</th>\n",
       "      <th>capital gain</th>\n",
       "      <th>capital loss</th>\n",
       "      <th>working hours per week</th>\n",
       "    </tr>\n",
       "  </thead>\n",
       "  <tbody>\n",
       "    <tr>\n",
       "      <th>count</th>\n",
       "      <td>26697.000000</td>\n",
       "      <td>26697.0</td>\n",
       "      <td>26697.0</td>\n",
       "      <td>26697.000000</td>\n",
       "    </tr>\n",
       "    <tr>\n",
       "      <th>mean</th>\n",
       "      <td>39.961943</td>\n",
       "      <td>0.0</td>\n",
       "      <td>0.0</td>\n",
       "      <td>41.169682</td>\n",
       "    </tr>\n",
       "    <tr>\n",
       "      <th>std</th>\n",
       "      <td>13.610029</td>\n",
       "      <td>0.0</td>\n",
       "      <td>0.0</td>\n",
       "      <td>9.029725</td>\n",
       "    </tr>\n",
       "    <tr>\n",
       "      <th>min</th>\n",
       "      <td>17.000000</td>\n",
       "      <td>0.0</td>\n",
       "      <td>0.0</td>\n",
       "      <td>26.000000</td>\n",
       "    </tr>\n",
       "    <tr>\n",
       "      <th>25%</th>\n",
       "      <td>29.000000</td>\n",
       "      <td>0.0</td>\n",
       "      <td>0.0</td>\n",
       "      <td>38.000000</td>\n",
       "    </tr>\n",
       "    <tr>\n",
       "      <th>50%</th>\n",
       "      <td>39.000000</td>\n",
       "      <td>0.0</td>\n",
       "      <td>0.0</td>\n",
       "      <td>40.000000</td>\n",
       "    </tr>\n",
       "    <tr>\n",
       "      <th>75%</th>\n",
       "      <td>49.000000</td>\n",
       "      <td>0.0</td>\n",
       "      <td>0.0</td>\n",
       "      <td>46.000000</td>\n",
       "    </tr>\n",
       "    <tr>\n",
       "      <th>max</th>\n",
       "      <td>79.000000</td>\n",
       "      <td>0.0</td>\n",
       "      <td>0.0</td>\n",
       "      <td>58.000000</td>\n",
       "    </tr>\n",
       "  </tbody>\n",
       "</table>\n",
       "</div>"
      ],
      "text/plain": [
       "                age  capital gain  capital loss  working hours per week\n",
       "count  26697.000000       26697.0       26697.0            26697.000000\n",
       "mean      39.961943           0.0           0.0               41.169682\n",
       "std       13.610029           0.0           0.0                9.029725\n",
       "min       17.000000           0.0           0.0               26.000000\n",
       "25%       29.000000           0.0           0.0               38.000000\n",
       "50%       39.000000           0.0           0.0               40.000000\n",
       "75%       49.000000           0.0           0.0               46.000000\n",
       "max       79.000000           0.0           0.0               58.000000"
      ]
     },
     "execution_count": 29,
     "metadata": {},
     "output_type": "execute_result"
    }
   ],
   "source": [
    "adult_data.describe()"
   ]
  },
  {
   "cell_type": "markdown",
   "metadata": {
    "colab_type": "text",
    "id": "F1G2UbKcXLzB"
   },
   "source": [
    "There is hardly any correlation between the numeric variables"
   ]
  },
  {
   "cell_type": "code",
   "execution_count": 30,
   "metadata": {
    "ExecuteTime": {
     "end_time": "2021-03-01T11:06:40.825206Z",
     "start_time": "2021-03-01T11:06:21.919558Z"
    },
    "colab": {},
    "colab_type": "code",
    "id": "oAyLXiE0XLzD",
    "outputId": "762e5713-3df5-4331-c69d-dd9b146681e4"
   },
   "outputs": [
    {
     "data": {
      "image/png": "[encoded data removed]",
      "text/plain": [
       "<Figure size 795x720 with 20 Axes>"
      ]
     },
     "metadata": {
      "needs_background": "light"
     },
     "output_type": "display_data"
    }
   ],
   "source": [
    "# Pairplot using sns\n",
    "sns.pairplot(adult_data ,diag_kind='hist' ,hue='salary');"
   ]
  },
  {
   "cell_type": "markdown",
   "metadata": {
    "colab_type": "text",
    "id": "4ITcSUaMXLzJ"
   },
   "source": [
    "### Converting all objects to categorical codes"
   ]
  },
  {
   "cell_type": "code",
   "execution_count": 31,
   "metadata": {
    "ExecuteTime": {
     "end_time": "2021-03-01T11:06:40.876066Z",
     "start_time": "2021-03-01T11:06:40.827197Z"
    },
    "colab": {},
    "colab_type": "code",
    "id": "x9zRoMpOXLzM",
    "outputId": "1535b154-cb99-4378-baad-0fe5eff3f317"
   },
   "outputs": [],
   "source": [
    "## We are coding up the 'education' variable in an ordinal manner\n",
    "\n",
    "adult_data['education']=np.where(adult_data['education'] =='Preschool', '1', adult_data['education'])\n",
    "adult_data['education']=np.where(adult_data['education'] =='1st-4th', '2', adult_data['education'])\n",
    "adult_data['education']=np.where(adult_data['education'] =='5th-6th', '3', adult_data['education'])\n",
    "adult_data['education']=np.where(adult_data['education'] =='7th-8th', '4', adult_data['education'])\n",
    "adult_data['education']=np.where(adult_data['education'] =='9th', '5', adult_data['education'])\n",
    "adult_data['education']=np.where(adult_data['education'] =='10th', '6', adult_data['education'])\n",
    "adult_data['education']=np.where(adult_data['education'] =='11th', '7', adult_data['education'])\n",
    "adult_data['education']=np.where(adult_data['education'] =='12th', '8', adult_data['education'])\n",
    "adult_data['education']=np.where(adult_data['education'] =='HS-grad', '9', adult_data['education'])\n",
    "adult_data['education']=np.where(adult_data['education'] =='Prof-school', '9', adult_data['education'])\n",
    "adult_data['education']=np.where(adult_data['education'] =='Assoc-acdm', '10', adult_data['education'])\n",
    "adult_data['education']=np.where(adult_data['education'] =='Assoc-voc', '11', adult_data['education'])\n",
    "adult_data['education']=np.where(adult_data['education'] =='Some-college', '12', adult_data['education'])\n",
    "adult_data['education']=np.where(adult_data['education'] =='Bachelors', '13', adult_data['education'])\n",
    "adult_data['education']=np.where(adult_data['education'] =='Masters', '14', adult_data['education'])\n",
    "adult_data['education']=np.where(adult_data['education'] =='Doctorate', '15', adult_data['education'])"
   ]
  },
  {
   "cell_type": "code",
   "execution_count": 32,
   "metadata": {
    "ExecuteTime": {
     "end_time": "2021-03-01T11:06:41.005959Z",
     "start_time": "2021-03-01T11:06:40.877062Z"
    }
   },
   "outputs": [],
   "source": [
    "## We are grouping certain types of 'workclass' under different categories\n",
    "\n",
    "adult_data['workclass']=np.where(adult_data['workclass'] =='Federal-gov', 'Government', adult_data['workclass'])\n",
    "adult_data['workclass']=np.where(adult_data['workclass'] =='Local-gov', 'Government', adult_data['workclass'])\n",
    "adult_data['workclass']=np.where(adult_data['workclass'] =='State-gov', 'Government', adult_data['workclass'])\n",
    "\n",
    "adult_data['workclass']=np.where(adult_data['workclass'] =='Self-emp-inc', 'Others', adult_data['workclass'])\n",
    "adult_data['workclass']=np.where(adult_data['workclass'] =='Self-emp-not-inc', 'Others', adult_data['workclass'])\n",
    "adult_data['workclass']=np.where(adult_data['workclass'] =='unknown', 'Others', adult_data['workclass'])\n",
    "adult_data['workclass']=np.where(adult_data['workclass'] =='Without-pay', 'Others', adult_data['workclass'])\n",
    "adult_data['workclass']=np.where(adult_data['workclass'] =='Never-worked', 'Others', adult_data['workclass'])"
   ]
  },
  {
   "cell_type": "code",
   "execution_count": 33,
   "metadata": {
    "ExecuteTime": {
     "end_time": "2021-03-01T11:06:41.171583Z",
     "start_time": "2021-03-01T11:06:41.010706Z"
    }
   },
   "outputs": [],
   "source": [
    "## We are grouping certain types of 'marritalstatus' under different categories\n",
    "\n",
    "adult_data['marrital status']=np.where(adult_data['marrital status'] =='Divorced', 'CurrentlySingle', adult_data['marrital status'])\n",
    "adult_data['marrital status']=np.where(adult_data['marrital status'] =='Separated', 'CurrentlySingle', adult_data['marrital status'])\n",
    "adult_data['marrital status']=np.where(adult_data['marrital status'] =='Never-married', 'CurrentlySingle', adult_data['marrital status'])\n",
    "adult_data['marrital status']=np.where(adult_data['marrital status'] =='Widowed', 'CurrentlySingle', adult_data['marrital status'])\n",
    "\n",
    "adult_data['marrital status']=np.where(adult_data['marrital status'] =='Married-civ-spouse', 'Married', adult_data['marrital status'])\n",
    "adult_data['marrital status']=np.where(adult_data['marrital status'] =='Married-spouse-absent', 'Married', adult_data['marrital status'])\n",
    "adult_data['marrital status']=np.where(adult_data['marrital status'] =='Married-AF-absent', 'Married', adult_data['marrital status'])\n",
    "adult_data['marrital status']=np.where(adult_data['marrital status'] =='Married-AF-spouse', 'Married', adult_data['marrital status'])"
   ]
  },
  {
   "cell_type": "code",
   "execution_count": 34,
   "metadata": {
    "ExecuteTime": {
     "end_time": "2021-03-01T11:06:41.338177Z",
     "start_time": "2021-03-01T11:06:41.174610Z"
    }
   },
   "outputs": [],
   "source": [
    "## We are grouping certain types of 'occupation' under different categories\n",
    "\n",
    "adult_data['occupation']=np.where(adult_data['occupation'] =='Adm-clerical', 'WhiteCollar', adult_data['occupation'])\n",
    "adult_data['occupation']=np.where(adult_data['occupation'] =='Exec-managerial', 'WhiteCollar', adult_data['occupation'])\n",
    "\n",
    "adult_data['occupation']=np.where(adult_data['occupation'] =='Craft-repair', 'BlueCollar', adult_data['occupation'])\n",
    "adult_data['occupation']=np.where(adult_data['occupation'] =='Handlers-cleaners', 'BlueCollar', adult_data['occupation'])\n",
    "adult_data['occupation']=np.where(adult_data['occupation'] =='Transport-moving', 'BlueCollar', adult_data['occupation'])\n",
    "adult_data['occupation']=np.where(adult_data['occupation'] =='Farming-fishing', 'BlueCollar', adult_data['occupation'])\n",
    "adult_data['occupation']=np.where(adult_data['occupation'] =='Machine-op-inspct', 'BlueCollar', adult_data['occupation'])\n",
    "\n",
    "adult_data['occupation']=np.where(adult_data['occupation'] =='Tech-support', 'Service', adult_data['occupation'])\n",
    "adult_data['occupation']=np.where(adult_data['occupation'] =='Other-service', 'Service', adult_data['occupation'])\n",
    "adult_data['occupation']=np.where(adult_data['occupation'] =='Protective-serv', 'Service', adult_data['occupation'])\n",
    "adult_data['occupation']=np.where(adult_data['occupation'] =='Priv-house-serv', 'Service', adult_data['occupation'])\n",
    "adult_data['occupation']=np.where(adult_data['occupation'] =='Prof-specialty', 'Service', adult_data['occupation'])\n",
    "\n",
    "adult_data['occupation']=np.where(adult_data['occupation'] =='unknown', 'Unknown_Others', adult_data['occupation'])\n",
    "adult_data['occupation']=np.where(adult_data['occupation'] =='Armed-Forces', 'Unknown_Others', adult_data['occupation'])"
   ]
  },
  {
   "cell_type": "code",
   "execution_count": 35,
   "metadata": {
    "ExecuteTime": {
     "end_time": "2021-03-01T11:06:41.511675Z",
     "start_time": "2021-03-01T11:06:41.340166Z"
    },
    "colab": {},
    "colab_type": "code",
    "id": "XY8WZ7p1XLzT",
    "outputId": "3fed5539-c714-44c4-d773-22a1c3744dd3"
   },
   "outputs": [
    {
     "data": {
      "text/html": [
       "<div>\n",
       "<style scoped>\n",
       "    .dataframe tbody tr th:only-of-type {\n",
       "        vertical-align: middle;\n",
       "    }\n",
       "\n",
       "    .dataframe tbody tr th {\n",
       "        vertical-align: top;\n",
       "    }\n",
       "\n",
       "    .dataframe thead th {\n",
       "        text-align: right;\n",
       "    }\n",
       "</style>\n",
       "<table border=\"1\" class=\"dataframe\">\n",
       "  <thead>\n",
       "    <tr style=\"text-align: right;\">\n",
       "      <th></th>\n",
       "      <th>age</th>\n",
       "      <th>workclass</th>\n",
       "      <th>education</th>\n",
       "      <th>marrital status</th>\n",
       "      <th>occupation</th>\n",
       "      <th>sex</th>\n",
       "      <th>capital gain</th>\n",
       "      <th>capital loss</th>\n",
       "      <th>working hours per week</th>\n",
       "      <th>salary</th>\n",
       "    </tr>\n",
       "  </thead>\n",
       "  <tbody>\n",
       "    <tr>\n",
       "      <th>0</th>\n",
       "      <td>39.0</td>\n",
       "      <td>Government</td>\n",
       "      <td>13</td>\n",
       "      <td>CurrentlySingle</td>\n",
       "      <td>WhiteCollar</td>\n",
       "      <td>Male</td>\n",
       "      <td>0.0</td>\n",
       "      <td>0.0</td>\n",
       "      <td>40.0</td>\n",
       "      <td>&lt;=50K</td>\n",
       "    </tr>\n",
       "    <tr>\n",
       "      <th>1</th>\n",
       "      <td>50.0</td>\n",
       "      <td>Others</td>\n",
       "      <td>13</td>\n",
       "      <td>Married</td>\n",
       "      <td>WhiteCollar</td>\n",
       "      <td>Male</td>\n",
       "      <td>0.0</td>\n",
       "      <td>0.0</td>\n",
       "      <td>26.0</td>\n",
       "      <td>&lt;=50K</td>\n",
       "    </tr>\n",
       "    <tr>\n",
       "      <th>2</th>\n",
       "      <td>38.0</td>\n",
       "      <td>Private</td>\n",
       "      <td>9</td>\n",
       "      <td>CurrentlySingle</td>\n",
       "      <td>BlueCollar</td>\n",
       "      <td>Male</td>\n",
       "      <td>0.0</td>\n",
       "      <td>0.0</td>\n",
       "      <td>40.0</td>\n",
       "      <td>&lt;=50K</td>\n",
       "    </tr>\n",
       "    <tr>\n",
       "      <th>3</th>\n",
       "      <td>53.0</td>\n",
       "      <td>Private</td>\n",
       "      <td>7</td>\n",
       "      <td>Married</td>\n",
       "      <td>BlueCollar</td>\n",
       "      <td>Male</td>\n",
       "      <td>0.0</td>\n",
       "      <td>0.0</td>\n",
       "      <td>40.0</td>\n",
       "      <td>&lt;=50K</td>\n",
       "    </tr>\n",
       "    <tr>\n",
       "      <th>4</th>\n",
       "      <td>28.0</td>\n",
       "      <td>Private</td>\n",
       "      <td>13</td>\n",
       "      <td>Married</td>\n",
       "      <td>Service</td>\n",
       "      <td>Female</td>\n",
       "      <td>0.0</td>\n",
       "      <td>0.0</td>\n",
       "      <td>40.0</td>\n",
       "      <td>&lt;=50K</td>\n",
       "    </tr>\n",
       "  </tbody>\n",
       "</table>\n",
       "</div>"
      ],
      "text/plain": [
       "    age   workclass education  marrital status   occupation     sex  \\\n",
       "0  39.0  Government        13  CurrentlySingle  WhiteCollar    Male   \n",
       "1  50.0      Others        13          Married  WhiteCollar    Male   \n",
       "2  38.0     Private         9  CurrentlySingle   BlueCollar    Male   \n",
       "3  53.0     Private         7          Married   BlueCollar    Male   \n",
       "4  28.0     Private        13          Married      Service  Female   \n",
       "\n",
       "   capital gain  capital loss  working hours per week  salary  \n",
       "0           0.0           0.0                    40.0   <=50K  \n",
       "1           0.0           0.0                    26.0   <=50K  \n",
       "2           0.0           0.0                    40.0   <=50K  \n",
       "3           0.0           0.0                    40.0   <=50K  \n",
       "4           0.0           0.0                    40.0   <=50K  "
      ]
     },
     "execution_count": 35,
     "metadata": {},
     "output_type": "execute_result"
    }
   ],
   "source": [
    "adult_data.head()"
   ]
  },
  {
   "cell_type": "code",
   "execution_count": 36,
   "metadata": {
    "ExecuteTime": {
     "end_time": "2021-03-01T11:06:41.631355Z",
     "start_time": "2021-03-01T11:06:41.512672Z"
    }
   },
   "outputs": [
    {
     "name": "stdout",
     "output_type": "stream",
     "text": [
      "<class 'pandas.core.frame.DataFrame'>\n",
      "Int64Index: 26697 entries, 0 to 32560\n",
      "Data columns (total 10 columns):\n",
      " #   Column                  Non-Null Count  Dtype  \n",
      "---  ------                  --------------  -----  \n",
      " 0   age                     26697 non-null  float64\n",
      " 1   workclass               26697 non-null  object \n",
      " 2   education               26697 non-null  object \n",
      " 3   marrital status         26697 non-null  object \n",
      " 4   occupation              26697 non-null  object \n",
      " 5   sex                     26697 non-null  object \n",
      " 6   capital gain            26697 non-null  float64\n",
      " 7   capital loss            26697 non-null  float64\n",
      " 8   working hours per week  26697 non-null  float64\n",
      " 9   salary                  26697 non-null  object \n",
      "dtypes: float64(4), object(6)\n",
      "memory usage: 2.2+ MB\n"
     ]
    }
   ],
   "source": [
    "adult_data.info()"
   ]
  },
  {
   "cell_type": "code",
   "execution_count": 37,
   "metadata": {
    "ExecuteTime": {
     "end_time": "2021-03-01T11:06:41.759013Z",
     "start_time": "2021-03-01T11:06:41.632352Z"
    }
   },
   "outputs": [
    {
     "name": "stdout",
     "output_type": "stream",
     "text": [
      "<class 'pandas.core.frame.DataFrame'>\n",
      "Int64Index: 26697 entries, 0 to 32560\n",
      "Data columns (total 10 columns):\n",
      " #   Column                  Non-Null Count  Dtype  \n",
      "---  ------                  --------------  -----  \n",
      " 0   age                     26697 non-null  float64\n",
      " 1   workclass               26697 non-null  object \n",
      " 2   education               26697 non-null  int64  \n",
      " 3   marrital status         26697 non-null  object \n",
      " 4   occupation              26697 non-null  object \n",
      " 5   sex                     26697 non-null  object \n",
      " 6   capital gain            26697 non-null  float64\n",
      " 7   capital loss            26697 non-null  float64\n",
      " 8   working hours per week  26697 non-null  float64\n",
      " 9   salary                  26697 non-null  object \n",
      "dtypes: float64(4), int64(1), object(5)\n",
      "memory usage: 2.2+ MB\n"
     ]
    }
   ],
   "source": [
    "## Converting the education variable to numeric\n",
    "\n",
    "adult_data['education'] = adult_data['education'].astype('int64')\n",
    "adult_data.info()"
   ]
  },
  {
   "cell_type": "code",
   "execution_count": 41,
   "metadata": {
    "ExecuteTime": {
     "end_time": "2021-03-01T11:06:42.522660Z",
     "start_time": "2021-03-01T11:06:41.761009Z"
    }
   },
   "outputs": [],
   "source": [
    "## Converting the 'salary' Variable into numeric by using the LabelEncoder functionality inside sklearn.\n",
    "from sklearn.preprocessing import LabelEncoder\n",
    "\n",
    "## Defining a Label Encoder object instance\n",
    "LE = LabelEncoder()"
   ]
  },
  {
   "cell_type": "code",
   "execution_count": 42,
   "metadata": {
    "ExecuteTime": {
     "end_time": "2021-03-01T11:06:43.266874Z",
     "start_time": "2021-03-01T11:06:42.523499Z"
    }
   },
   "outputs": [
    {
     "data": {
      "text/html": [
       "<div>\n",
       "<style scoped>\n",
       "    .dataframe tbody tr th:only-of-type {\n",
       "        vertical-align: middle;\n",
       "    }\n",
       "\n",
       "    .dataframe tbody tr th {\n",
       "        vertical-align: top;\n",
       "    }\n",
       "\n",
       "    .dataframe thead th {\n",
       "        text-align: right;\n",
       "    }\n",
       "</style>\n",
       "<table border=\"1\" class=\"dataframe\">\n",
       "  <thead>\n",
       "    <tr style=\"text-align: right;\">\n",
       "      <th></th>\n",
       "      <th>age</th>\n",
       "      <th>workclass</th>\n",
       "      <th>education</th>\n",
       "      <th>marrital status</th>\n",
       "      <th>occupation</th>\n",
       "      <th>sex</th>\n",
       "      <th>capital gain</th>\n",
       "      <th>capital loss</th>\n",
       "      <th>working hours per week</th>\n",
       "      <th>salary</th>\n",
       "    </tr>\n",
       "  </thead>\n",
       "  <tbody>\n",
       "    <tr>\n",
       "      <th>0</th>\n",
       "      <td>39.0</td>\n",
       "      <td>Government</td>\n",
       "      <td>13</td>\n",
       "      <td>CurrentlySingle</td>\n",
       "      <td>WhiteCollar</td>\n",
       "      <td>Male</td>\n",
       "      <td>0.0</td>\n",
       "      <td>0.0</td>\n",
       "      <td>40.0</td>\n",
       "      <td>0</td>\n",
       "    </tr>\n",
       "    <tr>\n",
       "      <th>1</th>\n",
       "      <td>50.0</td>\n",
       "      <td>Others</td>\n",
       "      <td>13</td>\n",
       "      <td>Married</td>\n",
       "      <td>WhiteCollar</td>\n",
       "      <td>Male</td>\n",
       "      <td>0.0</td>\n",
       "      <td>0.0</td>\n",
       "      <td>26.0</td>\n",
       "      <td>0</td>\n",
       "    </tr>\n",
       "    <tr>\n",
       "      <th>2</th>\n",
       "      <td>38.0</td>\n",
       "      <td>Private</td>\n",
       "      <td>9</td>\n",
       "      <td>CurrentlySingle</td>\n",
       "      <td>BlueCollar</td>\n",
       "      <td>Male</td>\n",
       "      <td>0.0</td>\n",
       "      <td>0.0</td>\n",
       "      <td>40.0</td>\n",
       "      <td>0</td>\n",
       "    </tr>\n",
       "    <tr>\n",
       "      <th>3</th>\n",
       "      <td>53.0</td>\n",
       "      <td>Private</td>\n",
       "      <td>7</td>\n",
       "      <td>Married</td>\n",
       "      <td>BlueCollar</td>\n",
       "      <td>Male</td>\n",
       "      <td>0.0</td>\n",
       "      <td>0.0</td>\n",
       "      <td>40.0</td>\n",
       "      <td>0</td>\n",
       "    </tr>\n",
       "    <tr>\n",
       "      <th>4</th>\n",
       "      <td>28.0</td>\n",
       "      <td>Private</td>\n",
       "      <td>13</td>\n",
       "      <td>Married</td>\n",
       "      <td>Service</td>\n",
       "      <td>Female</td>\n",
       "      <td>0.0</td>\n",
       "      <td>0.0</td>\n",
       "      <td>40.0</td>\n",
       "      <td>0</td>\n",
       "    </tr>\n",
       "  </tbody>\n",
       "</table>\n",
       "</div>"
      ],
      "text/plain": [
       "    age   workclass  education  marrital status   occupation     sex  \\\n",
       "0  39.0  Government         13  CurrentlySingle  WhiteCollar    Male   \n",
       "1  50.0      Others         13          Married  WhiteCollar    Male   \n",
       "2  38.0     Private          9  CurrentlySingle   BlueCollar    Male   \n",
       "3  53.0     Private          7          Married   BlueCollar    Male   \n",
       "4  28.0     Private         13          Married      Service  Female   \n",
       "\n",
       "   capital gain  capital loss  working hours per week  salary  \n",
       "0           0.0           0.0                    40.0       0  \n",
       "1           0.0           0.0                    26.0       0  \n",
       "2           0.0           0.0                    40.0       0  \n",
       "3           0.0           0.0                    40.0       0  \n",
       "4           0.0           0.0                    40.0       0  "
      ]
     },
     "execution_count": 42,
     "metadata": {},
     "output_type": "execute_result"
    }
   ],
   "source": [
    "## Applying the created Label Encoder object for the target class\n",
    "## Assigning the 0 to <=50k and 1 to >50k\n",
    "\n",
    "adult_data['salary'] = LE.fit_transform(adult_data['salary'])\n",
    "adult_data.head()"
   ]
  },
  {
   "cell_type": "code",
   "execution_count": 43,
   "metadata": {
    "ExecuteTime": {
     "end_time": "2021-03-01T11:06:43.469332Z",
     "start_time": "2021-03-01T11:06:43.267871Z"
    }
   },
   "outputs": [
    {
     "data": {
      "text/html": [
       "<div>\n",
       "<style scoped>\n",
       "    .dataframe tbody tr th:only-of-type {\n",
       "        vertical-align: middle;\n",
       "    }\n",
       "\n",
       "    .dataframe tbody tr th {\n",
       "        vertical-align: top;\n",
       "    }\n",
       "\n",
       "    .dataframe thead th {\n",
       "        text-align: right;\n",
       "    }\n",
       "</style>\n",
       "<table border=\"1\" class=\"dataframe\">\n",
       "  <thead>\n",
       "    <tr style=\"text-align: right;\">\n",
       "      <th></th>\n",
       "      <th>age</th>\n",
       "      <th>education</th>\n",
       "      <th>capital gain</th>\n",
       "      <th>capital loss</th>\n",
       "      <th>working hours per week</th>\n",
       "      <th>salary</th>\n",
       "      <th>workclass_Others</th>\n",
       "      <th>workclass_Private</th>\n",
       "      <th>workclass_Unk</th>\n",
       "      <th>marrital status_Married</th>\n",
       "      <th>occupation_Sales</th>\n",
       "      <th>occupation_Service</th>\n",
       "      <th>occupation_Unk</th>\n",
       "      <th>occupation_Unknown_Others</th>\n",
       "      <th>occupation_WhiteCollar</th>\n",
       "      <th>sex_Male</th>\n",
       "    </tr>\n",
       "  </thead>\n",
       "  <tbody>\n",
       "    <tr>\n",
       "      <th>0</th>\n",
       "      <td>39.0</td>\n",
       "      <td>13</td>\n",
       "      <td>0.0</td>\n",
       "      <td>0.0</td>\n",
       "      <td>40.0</td>\n",
       "      <td>0</td>\n",
       "      <td>0</td>\n",
       "      <td>0</td>\n",
       "      <td>0</td>\n",
       "      <td>0</td>\n",
       "      <td>0</td>\n",
       "      <td>0</td>\n",
       "      <td>0</td>\n",
       "      <td>0</td>\n",
       "      <td>1</td>\n",
       "      <td>1</td>\n",
       "    </tr>\n",
       "    <tr>\n",
       "      <th>1</th>\n",
       "      <td>50.0</td>\n",
       "      <td>13</td>\n",
       "      <td>0.0</td>\n",
       "      <td>0.0</td>\n",
       "      <td>26.0</td>\n",
       "      <td>0</td>\n",
       "      <td>1</td>\n",
       "      <td>0</td>\n",
       "      <td>0</td>\n",
       "      <td>1</td>\n",
       "      <td>0</td>\n",
       "      <td>0</td>\n",
       "      <td>0</td>\n",
       "      <td>0</td>\n",
       "      <td>1</td>\n",
       "      <td>1</td>\n",
       "    </tr>\n",
       "    <tr>\n",
       "      <th>2</th>\n",
       "      <td>38.0</td>\n",
       "      <td>9</td>\n",
       "      <td>0.0</td>\n",
       "      <td>0.0</td>\n",
       "      <td>40.0</td>\n",
       "      <td>0</td>\n",
       "      <td>0</td>\n",
       "      <td>1</td>\n",
       "      <td>0</td>\n",
       "      <td>0</td>\n",
       "      <td>0</td>\n",
       "      <td>0</td>\n",
       "      <td>0</td>\n",
       "      <td>0</td>\n",
       "      <td>0</td>\n",
       "      <td>1</td>\n",
       "    </tr>\n",
       "    <tr>\n",
       "      <th>3</th>\n",
       "      <td>53.0</td>\n",
       "      <td>7</td>\n",
       "      <td>0.0</td>\n",
       "      <td>0.0</td>\n",
       "      <td>40.0</td>\n",
       "      <td>0</td>\n",
       "      <td>0</td>\n",
       "      <td>1</td>\n",
       "      <td>0</td>\n",
       "      <td>1</td>\n",
       "      <td>0</td>\n",
       "      <td>0</td>\n",
       "      <td>0</td>\n",
       "      <td>0</td>\n",
       "      <td>0</td>\n",
       "      <td>1</td>\n",
       "    </tr>\n",
       "    <tr>\n",
       "      <th>4</th>\n",
       "      <td>28.0</td>\n",
       "      <td>13</td>\n",
       "      <td>0.0</td>\n",
       "      <td>0.0</td>\n",
       "      <td>40.0</td>\n",
       "      <td>0</td>\n",
       "      <td>0</td>\n",
       "      <td>1</td>\n",
       "      <td>0</td>\n",
       "      <td>1</td>\n",
       "      <td>0</td>\n",
       "      <td>1</td>\n",
       "      <td>0</td>\n",
       "      <td>0</td>\n",
       "      <td>0</td>\n",
       "      <td>0</td>\n",
       "    </tr>\n",
       "  </tbody>\n",
       "</table>\n",
       "</div>"
      ],
      "text/plain": [
       "    age  education  capital gain  capital loss  working hours per week  \\\n",
       "0  39.0         13           0.0           0.0                    40.0   \n",
       "1  50.0         13           0.0           0.0                    26.0   \n",
       "2  38.0          9           0.0           0.0                    40.0   \n",
       "3  53.0          7           0.0           0.0                    40.0   \n",
       "4  28.0         13           0.0           0.0                    40.0   \n",
       "\n",
       "   salary  workclass_Others  workclass_Private  workclass_Unk  \\\n",
       "0       0                 0                  0              0   \n",
       "1       0                 1                  0              0   \n",
       "2       0                 0                  1              0   \n",
       "3       0                 0                  1              0   \n",
       "4       0                 0                  1              0   \n",
       "\n",
       "   marrital status_Married  occupation_Sales  occupation_Service  \\\n",
       "0                        0                 0                   0   \n",
       "1                        1                 0                   0   \n",
       "2                        0                 0                   0   \n",
       "3                        1                 0                   0   \n",
       "4                        1                 0                   1   \n",
       "\n",
       "   occupation_Unk  occupation_Unknown_Others  occupation_WhiteCollar  sex_Male  \n",
       "0               0                          0                       1         1  \n",
       "1               0                          0                       1         1  \n",
       "2               0                          0                       0         1  \n",
       "3               0                          0                       0         1  \n",
       "4               0                          0                       0         0  "
      ]
     },
     "execution_count": 43,
     "metadata": {},
     "output_type": "execute_result"
    }
   ],
   "source": [
    "## Converting the other 'object' type variables as dummy variables\n",
    "\n",
    "adult_data_dummy = pd.get_dummies(adult_data,drop_first=True)\n",
    "adult_data_dummy.head()"
   ]
  },
  {
   "cell_type": "markdown",
   "metadata": {
    "colab_type": "text",
    "id": "oKl09itOXLza"
   },
   "source": [
    "### Train Test Split"
   ]
  },
  {
   "cell_type": "code",
   "execution_count": 75,
   "metadata": {
    "ExecuteTime": {
     "end_time": "2021-03-01T11:06:43.502243Z",
     "start_time": "2021-03-01T11:06:43.473321Z"
    },
    "colab": {},
    "colab_type": "code",
    "id": "YNt9nBqhXLzc"
   },
   "outputs": [],
   "source": [
    "# Copy all the predictor variables into X dataframe\n",
    "X = adult_data_dummy.drop('salary', axis=1)\n",
    "\n",
    "# Copy target into the y dataframe. \n",
    "y = adult_data_dummy['salary']"
   ]
  },
  {
   "cell_type": "code",
   "execution_count": 76,
   "metadata": {
    "ExecuteTime": {
     "end_time": "2021-03-01T11:06:43.642001Z",
     "start_time": "2021-03-01T11:06:43.505236Z"
    },
    "colab": {},
    "colab_type": "code",
    "id": "wSJ43-pXXLzk"
   },
   "outputs": [],
   "source": [
    "# Split X and y into training and test set in 70:30 ratio\n",
    "X_train, X_test, y_train, y_test = train_test_split(X, y, test_size=0.30 , random_state=1,stratify=adult_data_dummy['salary'])"
   ]
  },
  {
   "cell_type": "code",
   "execution_count": 77,
   "metadata": {
    "ExecuteTime": {
     "end_time": "2021-03-01T11:06:43.723719Z",
     "start_time": "2021-03-01T11:06:43.643864Z"
    }
   },
   "outputs": [
    {
     "data": {
      "text/plain": [
       "0    0.736876\n",
       "1    0.263124\n",
       "Name: salary, dtype: float64"
      ]
     },
     "execution_count": 77,
     "metadata": {},
     "output_type": "execute_result"
    }
   ],
   "source": [
    "y_train.value_counts(1)"
   ]
  },
  {
   "cell_type": "code",
   "execution_count": 78,
   "metadata": {
    "ExecuteTime": {
     "end_time": "2021-03-01T11:06:43.829521Z",
     "start_time": "2021-03-01T11:06:43.729635Z"
    }
   },
   "outputs": [
    {
     "data": {
      "text/plain": [
       "0    0.736954\n",
       "1    0.263046\n",
       "Name: salary, dtype: float64"
      ]
     },
     "execution_count": 78,
     "metadata": {},
     "output_type": "execute_result"
    }
   ],
   "source": [
    "y_test.value_counts(1)"
   ]
  },
  {
   "cell_type": "markdown",
   "metadata": {
    "colab_type": "text",
    "id": "VXQ9LBYHXLzt"
   },
   "source": [
    "### Logistic Regression Model\n",
    "\n",
    "We are making some adjustments to the parameters in the Logistic Regression Class to get a better accuracy. Details of which can be found out on the site scikit-learn mentioned below\n",
    "\n",
    "<a href='https://scikit-learn.org/stable/modules/generated/sklearn.linear_model.LogisticRegression.html'>scikit-learn</a>\n",
    "\n",
    ">Argument=solver{‘newton-cg’, ‘lbfgs’, ‘liblinear’, ‘sag’, ‘saga’}, default=’lbfgs’\n",
    "Algorithm to use in the optimization problem.\n",
    "\n",
    ">For small datasets, ‘liblinear’ is a good choice, whereas ‘sag’ and ‘saga’ are faster for large ones.\n",
    "\n",
    ">For multiclass problems, only ‘newton-cg’, ‘sag’, ‘saga’ and ‘lbfgs’ handle multinomial loss; ‘liblinear’ is limited to one-versus-rest schemes.\n",
    "\n",
    ">‘newton-cg’, ‘lbfgs’, ‘sag’ and ‘saga’ handle L2 or no penalty\n",
    "\n",
    ">‘liblinear’ and ‘saga’ also handle L1 penalty\n",
    "\n",
    ">‘saga’ also supports ‘elasticnet’ penalty\n",
    "\n",
    ">‘liblinear’ does not support setting penalty='none'\n",
    "\n",
    ">Note that ‘sag’ and ‘saga’ fast convergence is only guaranteed on features with approximately the same scale. You can preprocess the data with a scaler from sklearn.preprocessing.\n",
    "\n",
    ">New in version 0.17: Stochastic Average Gradient descent solver.\n",
    "\n",
    ">New in version 0.19: SAGA solver.\n",
    "\n",
    ">Changed in version 0.22: The default solver changed from ‘liblinear’ to ‘lbfgs’ in 0.22.\n",
    "\n",
    "<a href='https://towardsdatascience.com/dont-sweat-the-solver-stuff-aea7cddc3451'> Article on Solvers</a>\n",
    "\n"
   ]
  },
  {
   "cell_type": "code",
   "execution_count": 79,
   "metadata": {
    "ExecuteTime": {
     "end_time": "2021-03-01T11:06:50.272715Z",
     "start_time": "2021-03-01T11:06:43.830364Z"
    },
    "colab": {},
    "colab_type": "code",
    "id": "xgFtlk9xXLzv",
    "outputId": "937a40a3-20bd-4439-ae9d-d35321751c84"
   },
   "outputs": [
    {
     "name": "stderr",
     "output_type": "stream",
     "text": [
      "[Parallel(n_jobs=2)]: Using backend LokyBackend with 2 concurrent workers.\n",
      "[Parallel(n_jobs=2)]: Done   1 out of   1 | elapsed:    2.8s finished\n"
     ]
    },
    {
     "data": {
      "text/plain": [
       "LogisticRegression(max_iter=10000, n_jobs=2, penalty='none', solver='newton-cg',\n",
       "                   verbose=True)"
      ]
     },
     "execution_count": 79,
     "metadata": {},
     "output_type": "execute_result"
    }
   ],
   "source": [
    "# Fit the Logistic Regression model\n",
    "model = LogisticRegression(solver='newton-cg',max_iter=10000,penalty='none',verbose=True,n_jobs=2)\n",
    "model.fit(X_train, y_train)"
   ]
  },
  {
   "cell_type": "markdown",
   "metadata": {
    "colab_type": "text",
    "id": "Kl-cgs-oXLz2"
   },
   "source": [
    "### Predicting on Training and Test dataset"
   ]
  },
  {
   "cell_type": "code",
   "execution_count": 80,
   "metadata": {
    "ExecuteTime": {
     "end_time": "2021-03-01T11:06:50.288670Z",
     "start_time": "2021-03-01T11:06:50.274708Z"
    },
    "colab": {},
    "colab_type": "code",
    "id": "pTV-GEDPXLz4"
   },
   "outputs": [],
   "source": [
    "ytrain_predict = model.predict(X_train)\n",
    "ytest_predict = model.predict(X_test)"
   ]
  },
  {
   "cell_type": "markdown",
   "metadata": {
    "colab_type": "text",
    "id": "qPHLDmcvXL0A"
   },
   "source": [
    "### Getting the Predicted Classes and Probs"
   ]
  },
  {
   "cell_type": "code",
   "execution_count": 81,
   "metadata": {
    "ExecuteTime": {
     "end_time": "2021-03-01T11:06:50.383418Z",
     "start_time": "2021-03-01T11:06:50.290666Z"
    },
    "colab": {},
    "colab_type": "code",
    "id": "ClH1gIilXL0C",
    "outputId": "fe169bf0-67c7-466e-ea4e-fffdd71b83aa"
   },
   "outputs": [
    {
     "data": {
      "text/html": [
       "<div>\n",
       "<style scoped>\n",
       "    .dataframe tbody tr th:only-of-type {\n",
       "        vertical-align: middle;\n",
       "    }\n",
       "\n",
       "    .dataframe tbody tr th {\n",
       "        vertical-align: top;\n",
       "    }\n",
       "\n",
       "    .dataframe thead th {\n",
       "        text-align: right;\n",
       "    }\n",
       "</style>\n",
       "<table border=\"1\" class=\"dataframe\">\n",
       "  <thead>\n",
       "    <tr style=\"text-align: right;\">\n",
       "      <th></th>\n",
       "      <th>0</th>\n",
       "      <th>1</th>\n",
       "    </tr>\n",
       "  </thead>\n",
       "  <tbody>\n",
       "    <tr>\n",
       "      <th>0</th>\n",
       "      <td>0.475305</td>\n",
       "      <td>0.524695</td>\n",
       "    </tr>\n",
       "    <tr>\n",
       "      <th>1</th>\n",
       "      <td>0.304510</td>\n",
       "      <td>0.695490</td>\n",
       "    </tr>\n",
       "    <tr>\n",
       "      <th>2</th>\n",
       "      <td>0.903119</td>\n",
       "      <td>0.096881</td>\n",
       "    </tr>\n",
       "    <tr>\n",
       "      <th>3</th>\n",
       "      <td>0.914332</td>\n",
       "      <td>0.085668</td>\n",
       "    </tr>\n",
       "    <tr>\n",
       "      <th>4</th>\n",
       "      <td>0.656959</td>\n",
       "      <td>0.343041</td>\n",
       "    </tr>\n",
       "  </tbody>\n",
       "</table>\n",
       "</div>"
      ],
      "text/plain": [
       "          0         1\n",
       "0  0.475305  0.524695\n",
       "1  0.304510  0.695490\n",
       "2  0.903119  0.096881\n",
       "3  0.914332  0.085668\n",
       "4  0.656959  0.343041"
      ]
     },
     "execution_count": 81,
     "metadata": {},
     "output_type": "execute_result"
    }
   ],
   "source": [
    "ytest_predict_prob=model.predict_proba(X_test)\n",
    "pd.DataFrame(ytest_predict_prob).head()"
   ]
  },
  {
   "cell_type": "markdown",
   "metadata": {
    "colab_type": "text",
    "id": "6fyksw9dXL0L"
   },
   "source": [
    "## Model Evaluation"
   ]
  },
  {
   "cell_type": "code",
   "execution_count": 82,
   "metadata": {
    "ExecuteTime": {
     "end_time": "2021-03-01T11:06:50.522047Z",
     "start_time": "2021-03-01T11:06:50.384415Z"
    },
    "colab": {},
    "colab_type": "code",
    "id": "JG5YkoOTXL0M",
    "outputId": "0e537710-1626-49fe-b05b-a1c35459b54b"
   },
   "outputs": [
    {
     "data": {
      "text/plain": [
       "0.7990581687804356"
      ]
     },
     "execution_count": 82,
     "metadata": {},
     "output_type": "execute_result"
    }
   ],
   "source": [
    "# Accuracy - Training Data\n",
    "model.score(X_train, y_train)"
   ]
  },
  {
   "cell_type": "markdown",
   "metadata": {
    "colab_type": "text",
    "id": "JB0l0y12XL0S"
   },
   "source": [
    "### AUC and ROC for the training data"
   ]
  },
  {
   "cell_type": "code",
   "execution_count": 83,
   "metadata": {
    "ExecuteTime": {
     "end_time": "2021-03-01T11:06:50.771381Z",
     "start_time": "2021-03-01T11:06:50.523044Z"
    },
    "colab": {},
    "colab_type": "code",
    "id": "OWU1VW_DXL0U",
    "outputId": "8ea5e1fe-b3cc-4386-dd0d-7a3c6aa23d48"
   },
   "outputs": [
    {
     "name": "stdout",
     "output_type": "stream",
     "text": [
      "AUC: 0.850\n"
     ]
    },
    {
     "data": {
      "image/png": "[encoded data removed]",
      "text/plain": [
       "<Figure size 432x288 with 1 Axes>"
      ]
     },
     "metadata": {
      "needs_background": "light"
     },
     "output_type": "display_data"
    }
   ],
   "source": [
    "# predict probabilities\n",
    "probs = model.predict_proba(X_train)\n",
    "# keep probabilities for the positive outcome only\n",
    "probs = probs[:, 1]\n",
    "# calculate AUC\n",
    "auc = roc_auc_score(y_train, probs)\n",
    "print('AUC: %.3f' % auc)\n",
    "# calculate roc curve\n",
    "train_fpr, train_tpr, train_thresholds = roc_curve(y_train, probs)\n",
    "plt.plot([0, 1], [0, 1], linestyle='--')\n",
    "# plot the roc curve for the model\n",
    "plt.plot(train_fpr, train_tpr);"
   ]
  },
  {
   "cell_type": "code",
   "execution_count": 84,
   "metadata": {
    "ExecuteTime": {
     "end_time": "2021-03-01T11:06:50.783349Z",
     "start_time": "2021-03-01T11:06:50.773375Z"
    },
    "colab": {},
    "colab_type": "code",
    "id": "weSpIESCXL0a",
    "outputId": "115b3609-d00d-488a-c00e-6bab38a59baa"
   },
   "outputs": [
    {
     "data": {
      "text/plain": [
       "0.7972534332084894"
      ]
     },
     "execution_count": 84,
     "metadata": {},
     "output_type": "execute_result"
    }
   ],
   "source": [
    "# Accuracy - Test Data\n",
    "model.score(X_test, y_test)"
   ]
  },
  {
   "cell_type": "markdown",
   "metadata": {
    "colab_type": "text",
    "id": "3fKTZGD6XL0j"
   },
   "source": [
    "### AUC and ROC for the test data"
   ]
  },
  {
   "cell_type": "code",
   "execution_count": 85,
   "metadata": {
    "ExecuteTime": {
     "end_time": "2021-03-01T11:06:51.060607Z",
     "start_time": "2021-03-01T11:06:50.785342Z"
    },
    "colab": {},
    "colab_type": "code",
    "id": "sGA-6IxaXL0m",
    "outputId": "0b884c66-7362-4694-e72b-460e55e54525"
   },
   "outputs": [
    {
     "name": "stdout",
     "output_type": "stream",
     "text": [
      "AUC: 0.850\n"
     ]
    },
    {
     "data": {
      "image/png": "[encoded data removed]",
      "text/plain": [
       "<Figure size 432x288 with 1 Axes>"
      ]
     },
     "metadata": {
      "needs_background": "light"
     },
     "output_type": "display_data"
    }
   ],
   "source": [
    "# predict probabilities\n",
    "probs = model.predict_proba(X_test)\n",
    "# keep probabilities for the positive outcome only\n",
    "probs = probs[:, 1]\n",
    "# calculate AUC\n",
    "test_auc = roc_auc_score(y_test, probs)\n",
    "print('AUC: %.3f' % auc)\n",
    "# calculate roc curve\n",
    "test_fpr, test_tpr, test_thresholds = roc_curve(y_test, probs)\n",
    "plt.plot([0, 1], [0, 1], linestyle='--')\n",
    "# plot the roc curve for the model\n",
    "plt.plot(test_fpr, test_tpr);"
   ]
  },
  {
   "cell_type": "markdown",
   "metadata": {
    "colab_type": "text",
    "id": "h-1AWIJaXL0z"
   },
   "source": [
    "### Confusion Matrix for the training data"
   ]
  },
  {
   "cell_type": "code",
   "execution_count": 86,
   "metadata": {
    "ExecuteTime": {
     "end_time": "2021-03-01T11:06:51.090527Z",
     "start_time": "2021-03-01T11:06:51.062600Z"
    }
   },
   "outputs": [
    {
     "data": {
      "text/plain": [
       "array([[12379,  1391],\n",
       "       [ 2364,  2553]], dtype=int64)"
      ]
     },
     "execution_count": 86,
     "metadata": {},
     "output_type": "execute_result"
    }
   ],
   "source": [
    "confusion_matrix(y_train, ytrain_predict)"
   ]
  },
  {
   "cell_type": "code",
   "execution_count": 87,
   "metadata": {
    "ExecuteTime": {
     "end_time": "2021-03-01T11:06:51.329924Z",
     "start_time": "2021-03-01T11:06:51.092520Z"
    }
   },
   "outputs": [
    {
     "data": {
      "image/png": "[encoded data removed]",
      "text/plain": [
       "<Figure size 432x288 with 2 Axes>"
      ]
     },
     "metadata": {
      "needs_background": "light"
     },
     "output_type": "display_data"
    }
   ],
   "source": [
    "plot_confusion_matrix(model,X_train,y_train);"
   ]
  },
  {
   "cell_type": "code",
   "execution_count": 88,
   "metadata": {
    "ExecuteTime": {
     "end_time": "2021-03-01T11:06:51.382744Z",
     "start_time": "2021-03-01T11:06:51.330882Z"
    },
    "colab": {},
    "colab_type": "code",
    "id": "0JsOdRO-XL07",
    "outputId": "d4d8637b-5649-408c-b497-57c1f0fdc91f"
   },
   "outputs": [
    {
     "name": "stdout",
     "output_type": "stream",
     "text": [
      "              precision    recall  f1-score   support\n",
      "\n",
      "           0       0.84      0.90      0.87     13770\n",
      "           1       0.65      0.52      0.58      4917\n",
      "\n",
      "    accuracy                           0.80     18687\n",
      "   macro avg       0.74      0.71      0.72     18687\n",
      "weighted avg       0.79      0.80      0.79     18687\n",
      "\n"
     ]
    }
   ],
   "source": [
    "print(classification_report(y_train, ytrain_predict))"
   ]
  },
  {
   "cell_type": "markdown",
   "metadata": {
    "colab_type": "text",
    "id": "2izdT6sxXL1C"
   },
   "source": [
    "### Confusion Matrix for test data"
   ]
  },
  {
   "cell_type": "code",
   "execution_count": 64,
   "metadata": {
    "ExecuteTime": {
     "end_time": "2021-03-01T11:06:51.513405Z",
     "start_time": "2021-03-01T11:06:51.383741Z"
    },
    "colab": {},
    "colab_type": "code",
    "id": "MYv8v5BOXL1E",
    "outputId": "f855f65a-e079-4153-daf8-bd9f9678a92c"
   },
   "outputs": [
    {
     "data": {
      "text/plain": [
       "array([[5313,  590],\n",
       "       [1034, 1073]], dtype=int64)"
      ]
     },
     "execution_count": 64,
     "metadata": {},
     "output_type": "execute_result"
    }
   ],
   "source": [
    "confusion_matrix(y_test, ytest_predict)"
   ]
  },
  {
   "cell_type": "code",
   "execution_count": 46,
   "metadata": {
    "ExecuteTime": {
     "end_time": "2021-03-01T11:06:51.900361Z",
     "start_time": "2021-03-01T11:06:51.519382Z"
    }
   },
   "outputs": [
    {
     "data": {
      "image/png": "[encoded data removed]",
      "text/plain": [
       "<Figure size 432x288 with 2 Axes>"
      ]
     },
     "metadata": {
      "needs_background": "light"
     },
     "output_type": "display_data"
    }
   ],
   "source": [
    "plot_confusion_matrix(model,X_test,y_test);"
   ]
  },
  {
   "cell_type": "code",
   "execution_count": 65,
   "metadata": {
    "ExecuteTime": {
     "end_time": "2021-03-01T11:06:51.919309Z",
     "start_time": "2021-03-01T11:06:51.901359Z"
    },
    "colab": {},
    "colab_type": "code",
    "id": "yz9kn6OZXL1a",
    "outputId": "4c7370a2-4212-4538-b50f-ec6e43ea921d"
   },
   "outputs": [
    {
     "name": "stdout",
     "output_type": "stream",
     "text": [
      "              precision    recall  f1-score   support\n",
      "\n",
      "           0       0.84      0.90      0.87      5903\n",
      "           1       0.65      0.51      0.57      2107\n",
      "\n",
      "    accuracy                           0.80      8010\n",
      "   macro avg       0.74      0.70      0.72      8010\n",
      "weighted avg       0.79      0.80      0.79      8010\n",
      "\n"
     ]
    }
   ],
   "source": [
    "print(classification_report(y_test, ytest_predict))"
   ]
  },
  {
   "cell_type": "markdown",
   "metadata": {},
   "source": [
    "## Applying GridSearchCV for Logistic Regression"
   ]
  },
  {
   "cell_type": "code",
   "execution_count": 66,
   "metadata": {
    "ExecuteTime": {
     "end_time": "2021-03-01T11:06:52.002166Z",
     "start_time": "2021-03-01T11:06:51.921304Z"
    }
   },
   "outputs": [],
   "source": [
    "grid={'penalty':['l2','none'],\n",
    "      'solver':['sag','lbfgs'],\n",
    "      'tol':[0.0001,0.00001]}"
   ]
  },
  {
   "cell_type": "code",
   "execution_count": 67,
   "metadata": {
    "ExecuteTime": {
     "end_time": "2021-03-01T11:06:52.141717Z",
     "start_time": "2021-03-01T11:06:52.003084Z"
    }
   },
   "outputs": [],
   "source": [
    "model = LogisticRegression(max_iter=10000,n_jobs=2)"
   ]
  },
  {
   "cell_type": "code",
   "execution_count": 69,
   "metadata": {
    "ExecuteTime": {
     "end_time": "2021-03-01T11:06:52.293316Z",
     "start_time": "2021-03-01T11:06:52.145704Z"
    }
   },
   "outputs": [],
   "source": [
    "grid_search = GridSearchCV(estimator = model, param_grid = grid, cv = 3,n_jobs=-1,scoring='f1')"
   ]
  },
  {
   "cell_type": "code",
   "execution_count": 70,
   "metadata": {
    "ExecuteTime": {
     "end_time": "2021-03-01T11:08:26.071408Z",
     "start_time": "2021-03-01T11:06:52.299307Z"
    }
   },
   "outputs": [
    {
     "data": {
      "text/plain": [
       "GridSearchCV(cv=3, estimator=LogisticRegression(max_iter=10000, n_jobs=2),\n",
       "             n_jobs=-1,\n",
       "             param_grid={'penalty': ['l2', 'none'], 'solver': ['sag', 'lbfgs'],\n",
       "                         'tol': [0.0001, 1e-05]},\n",
       "             scoring='f1')"
      ]
     },
     "execution_count": 70,
     "metadata": {},
     "output_type": "execute_result"
    }
   ],
   "source": [
    "grid_search.fit(X_train, y_train)"
   ]
  },
  {
   "cell_type": "code",
   "execution_count": 52,
   "metadata": {
    "ExecuteTime": {
     "end_time": "2021-03-01T11:08:26.080385Z",
     "start_time": "2021-03-01T11:08:26.073403Z"
    }
   },
   "outputs": [
    {
     "name": "stdout",
     "output_type": "stream",
     "text": [
      "{'penalty': 'l2', 'solver': 'lbfgs', 'tol': 0.0001} \n",
      "\n",
      "LogisticRegression(max_iter=10000, n_jobs=2)\n"
     ]
    }
   ],
   "source": [
    "print(grid_search.best_params_,'\\n')\n",
    "print(grid_search.best_estimator_)"
   ]
  },
  {
   "cell_type": "code",
   "execution_count": 53,
   "metadata": {
    "ExecuteTime": {
     "end_time": "2021-03-01T11:08:26.214117Z",
     "start_time": "2021-03-01T11:08:26.082381Z"
    }
   },
   "outputs": [],
   "source": [
    "best_model = grid_search.best_estimator_"
   ]
  },
  {
   "cell_type": "code",
   "execution_count": 54,
   "metadata": {
    "ExecuteTime": {
     "end_time": "2021-03-01T11:08:26.409544Z",
     "start_time": "2021-03-01T11:08:26.219021Z"
    }
   },
   "outputs": [],
   "source": [
    "# Prediction on the training set\n",
    "\n",
    "ytrain_predict = best_model.predict(X_train)\n",
    "ytest_predict = best_model.predict(X_test)"
   ]
  },
  {
   "cell_type": "code",
   "execution_count": 55,
   "metadata": {
    "ExecuteTime": {
     "end_time": "2021-03-01T11:08:26.523201Z",
     "start_time": "2021-03-01T11:08:26.411501Z"
    }
   },
   "outputs": [
    {
     "data": {
      "text/html": [
       "<div>\n",
       "<style scoped>\n",
       "    .dataframe tbody tr th:only-of-type {\n",
       "        vertical-align: middle;\n",
       "    }\n",
       "\n",
       "    .dataframe tbody tr th {\n",
       "        vertical-align: top;\n",
       "    }\n",
       "\n",
       "    .dataframe thead th {\n",
       "        text-align: right;\n",
       "    }\n",
       "</style>\n",
       "<table border=\"1\" class=\"dataframe\">\n",
       "  <thead>\n",
       "    <tr style=\"text-align: right;\">\n",
       "      <th></th>\n",
       "      <th>0</th>\n",
       "      <th>1</th>\n",
       "    </tr>\n",
       "  </thead>\n",
       "  <tbody>\n",
       "    <tr>\n",
       "      <th>0</th>\n",
       "      <td>0.569658</td>\n",
       "      <td>0.430342</td>\n",
       "    </tr>\n",
       "    <tr>\n",
       "      <th>1</th>\n",
       "      <td>0.005321</td>\n",
       "      <td>0.994679</td>\n",
       "    </tr>\n",
       "    <tr>\n",
       "      <th>2</th>\n",
       "      <td>0.929277</td>\n",
       "      <td>0.070723</td>\n",
       "    </tr>\n",
       "    <tr>\n",
       "      <th>3</th>\n",
       "      <td>0.769657</td>\n",
       "      <td>0.230343</td>\n",
       "    </tr>\n",
       "    <tr>\n",
       "      <th>4</th>\n",
       "      <td>0.697778</td>\n",
       "      <td>0.302222</td>\n",
       "    </tr>\n",
       "  </tbody>\n",
       "</table>\n",
       "</div>"
      ],
      "text/plain": [
       "          0         1\n",
       "0  0.569658  0.430342\n",
       "1  0.005321  0.994679\n",
       "2  0.929277  0.070723\n",
       "3  0.769657  0.230343\n",
       "4  0.697778  0.302222"
      ]
     },
     "execution_count": 55,
     "metadata": {},
     "output_type": "execute_result"
    }
   ],
   "source": [
    "## Getting the probabilities on the test set\n",
    "\n",
    "ytest_predict_prob=best_model.predict_proba(X_test)\n",
    "pd.DataFrame(ytest_predict_prob).head()"
   ]
  },
  {
   "cell_type": "code",
   "execution_count": 56,
   "metadata": {
    "ExecuteTime": {
     "end_time": "2021-03-01T11:08:26.862331Z",
     "start_time": "2021-03-01T11:08:26.525195Z"
    }
   },
   "outputs": [
    {
     "name": "stdout",
     "output_type": "stream",
     "text": [
      "              precision    recall  f1-score   support\n",
      "\n",
      "           0       0.85      0.92      0.89     13770\n",
      "           1       0.71      0.56      0.63      4917\n",
      "\n",
      "    accuracy                           0.83     18687\n",
      "   macro avg       0.78      0.74      0.76     18687\n",
      "weighted avg       0.82      0.83      0.82     18687\n",
      " \n",
      "\n"
     ]
    },
    {
     "data": {
      "image/png": "[encoded data removed]",
      "text/plain": [
       "<Figure size 432x288 with 2 Axes>"
      ]
     },
     "metadata": {
      "needs_background": "light"
     },
     "output_type": "display_data"
    }
   ],
   "source": [
    "## Confusion matrix on the training data\n",
    "\n",
    "plot_confusion_matrix(best_model,X_train,y_train)\n",
    "print(classification_report(y_train, ytrain_predict),'\\n');"
   ]
  },
  {
   "cell_type": "code",
   "execution_count": 57,
   "metadata": {
    "ExecuteTime": {
     "end_time": "2021-03-01T11:08:27.087692Z",
     "start_time": "2021-03-01T11:08:26.864290Z"
    }
   },
   "outputs": [
    {
     "name": "stdout",
     "output_type": "stream",
     "text": [
      "              precision    recall  f1-score   support\n",
      "\n",
      "           0       0.85      0.92      0.88      5903\n",
      "           1       0.70      0.55      0.62      2107\n",
      "\n",
      "    accuracy                           0.82      8010\n",
      "   macro avg       0.78      0.73      0.75      8010\n",
      "weighted avg       0.81      0.82      0.81      8010\n",
      " \n",
      "\n"
     ]
    },
    {
     "data": {
      "image/png": "[encoded data removed]",
      "text/plain": [
       "<Figure size 432x288 with 2 Axes>"
      ]
     },
     "metadata": {
      "needs_background": "light"
     },
     "output_type": "display_data"
    }
   ],
   "source": [
    "## Confusion matrix on the test data\n",
    "\n",
    "plot_confusion_matrix(best_model,X_test,y_test)\n",
    "print(classification_report(y_test, ytest_predict),'\\n');"
   ]
  },
  {
   "cell_type": "markdown",
   "metadata": {},
   "source": [
    "You can select other parameters to perform GridSearchCV and try optimize the desired parameter."
   ]
  },
  {
   "cell_type": "markdown",
   "metadata": {
    "colab_type": "text",
    "id": "raugh4Y1XL1l"
   },
   "source": [
    "Note: Alternatively, one hot encoding can also be done instead of label encoding on categorical variables before building the logistic regression model. Do play around with these techniques using one hot encoding as well."
   ]
  },
  {
   "cell_type": "markdown",
   "metadata": {
    "colab_type": "text",
    "id": "cZp1158rXPU7"
   },
   "source": [
    "# Running in Google Colab\n",
    "Importing jupyter notebook\n",
    "1. Login to Google\n",
    "2. Go to drive.google.com\n",
    "3. Upload jupyter notebook file into the drive\n",
    "4. double click it, or right click -&gt; open with -&gt; google colaboratory\n",
    "Alternatively,\n",
    "1. Login to Google\n",
    "2. Go to https://colab.research.google.com/notebooks/intro.ipynb#recent=true\n",
    "3. Upload the jupyter notebook\n",
    "\n",
    "Loading dataset into colab\n",
    "## Use the below code to load the dataset\n",
    "from google.colab import files\n",
    "\n",
    "uploaded = files.upload() # upload file here from local\n",
    "\n",
    "import io\n",
    "\n",
    "df2 = pd.read_csv(io.BytesIO(uploaded[&#39;Filename.csv&#39;])) #give the filename in quotes\n",
    "\n",
    "Go to Runtime > change Runtime type > check if it points to Python"
   ]
  },
  {
   "cell_type": "markdown",
   "metadata": {},
   "source": [
    "                                                    Happy Learning"
   ]
  }
 ],
 "metadata": {
  "colab": {
   "name": "Adult_data- Logistic Regression_Solution.ipynb",
   "provenance": []
  },
  "kernelspec": {
   "display_name": "Python 3",
   "language": "python",
   "name": "python3"
  },
  "language_info": {
   "codemirror_mode": {
    "name": "ipython",
    "version": 3
   },
   "file_extension": ".py",
   "mimetype": "text/x-python",
   "name": "python",
   "nbconvert_exporter": "python",
   "pygments_lexer": "ipython3",
   "version": "3.8.5"
  },
  "toc": {
   "base_numbering": 1,
   "nav_menu": {},
   "number_sections": true,
   "sideBar": true,
   "skip_h1_title": false,
   "title_cell": "Table of Contents",
   "title_sidebar": "Contents",
   "toc_cell": false,
   "toc_position": {},
   "toc_section_display": true,
   "toc_window_display": false
  },
  "varInspector": {
   "cols": {
    "lenName": 16,
    "lenType": 16,
    "lenVar": 40
   },
   "kernels_config": {
    "python": {
     "delete_cmd_postfix": "",
     "delete_cmd_prefix": "del ",
     "library": "var_list.py",
     "varRefreshCmd": "print(var_dic_list())"
    },
    "r": {
     "delete_cmd_postfix": ") ",
     "delete_cmd_prefix": "rm(",
     "library": "var_list.r",
     "varRefreshCmd": "cat(var_dic_list()) "
    }
   },
   "types_to_exclude": [
    "module",
    "function",
    "builtin_function_or_method",
    "instance",
    "_Feature"
   ],
   "window_display": false
  }
 },
 "nbformat": 4,
 "nbformat_minor": 1
}
