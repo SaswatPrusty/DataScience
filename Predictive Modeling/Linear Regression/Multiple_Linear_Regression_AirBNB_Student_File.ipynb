{
 "cells": [
  {
   "cell_type": "markdown",
   "metadata": {},
   "source": [
    "# Problem Statement"
   ]
  },
  {
   "cell_type": "markdown",
   "metadata": {},
   "source": [
    "Airbnb Inc is an online marketplace for arranging or offering lodging, primarily homestays, or tourism experiences. Airbnb has close to 150 million customers across the world. Price is the most important factor considered by the customer while making booking into a property. Strategic pricing of the properties is important to avoid losing customers to the competitors.  \n",
    "  \n",
    "We have a data of 74111 Airbnb properties across the nations. Based on this data build a simple and multiple linear regression model to predict the strategic pricing of a new listed property on Airbnb.\n"
   ]
  },
  {
   "cell_type": "code",
   "execution_count": 1,
   "metadata": {
    "ExecuteTime": {
     "end_time": "2020-04-24T05:44:22.565509Z",
     "start_time": "2020-04-24T05:44:22.558520Z"
    }
   },
   "outputs": [],
   "source": [
    "import numpy as np   \n",
    "import pandas as pd    \n",
    "import seaborn as sns\n",
    "from sklearn.linear_model import LinearRegression\n",
    "from sklearn import metrics\n",
    "import matplotlib.pyplot as plt   \n",
    "import matplotlib.style"
   ]
  },
  {
   "cell_type": "markdown",
   "metadata": {},
   "source": [
    "### Importing data"
   ]
  },
  {
   "cell_type": "code",
   "execution_count": 15,
   "metadata": {
    "ExecuteTime": {
     "end_time": "2020-04-24T05:38:43.249521Z",
     "start_time": "2020-04-24T05:38:42.860863Z"
    }
   },
   "outputs": [
    {
     "name": "stderr",
     "output_type": "stream",
     "text": [
      "C:\\Users\\HP\\anaconda3\\lib\\site-packages\\IPython\\core\\interactiveshell.py:3146: DtypeWarning: Columns (5) have mixed types.Specify dtype option on import or set low_memory=False.\n",
      "  has_raised = await self.run_ast_nodes(code_ast.body, cell_name,\n"
     ]
    }
   ],
   "source": [
    "# reading the CSV file into pandas dataframe\n",
    "df = pd.read_csv(\"AirBNB.csv\")  "
   ]
  },
  {
   "cell_type": "markdown",
   "metadata": {},
   "source": [
    "### EDA"
   ]
  },
  {
   "cell_type": "code",
   "execution_count": 16,
   "metadata": {
    "ExecuteTime": {
     "end_time": "2020-04-24T05:38:45.089303Z",
     "start_time": "2020-04-24T05:38:45.054516Z"
    }
   },
   "outputs": [
    {
     "data": {
      "text/html": [
       "<div>\n",
       "<style scoped>\n",
       "    .dataframe tbody tr th:only-of-type {\n",
       "        vertical-align: middle;\n",
       "    }\n",
       "\n",
       "    .dataframe tbody tr th {\n",
       "        vertical-align: top;\n",
       "    }\n",
       "\n",
       "    .dataframe thead th {\n",
       "        text-align: right;\n",
       "    }\n",
       "</style>\n",
       "<table border=\"1\" class=\"dataframe\">\n",
       "  <thead>\n",
       "    <tr style=\"text-align: right;\">\n",
       "      <th></th>\n",
       "      <th>id</th>\n",
       "      <th>room_type</th>\n",
       "      <th>accommodates</th>\n",
       "      <th>bathrooms</th>\n",
       "      <th>cancellation_policy</th>\n",
       "      <th>cleaning_fee</th>\n",
       "      <th>instant_bookable</th>\n",
       "      <th>review_scores_rating</th>\n",
       "      <th>bedrooms</th>\n",
       "      <th>beds</th>\n",
       "      <th>log_price</th>\n",
       "    </tr>\n",
       "  </thead>\n",
       "  <tbody>\n",
       "    <tr>\n",
       "      <th>0</th>\n",
       "      <td>6901257</td>\n",
       "      <td>Entire home/apt</td>\n",
       "      <td>3.0</td>\n",
       "      <td>1.0</td>\n",
       "      <td>strict</td>\n",
       "      <td>True</td>\n",
       "      <td>f</td>\n",
       "      <td>100.0</td>\n",
       "      <td>1.0</td>\n",
       "      <td>1.0</td>\n",
       "      <td>5.010635</td>\n",
       "    </tr>\n",
       "    <tr>\n",
       "      <th>1</th>\n",
       "      <td>6304928</td>\n",
       "      <td>Entire home/apt</td>\n",
       "      <td>7.0</td>\n",
       "      <td>1.0</td>\n",
       "      <td>strict</td>\n",
       "      <td>True</td>\n",
       "      <td>t</td>\n",
       "      <td>93.0</td>\n",
       "      <td>3.0</td>\n",
       "      <td>3.0</td>\n",
       "      <td>5.129899</td>\n",
       "    </tr>\n",
       "    <tr>\n",
       "      <th>2</th>\n",
       "      <td>7919400</td>\n",
       "      <td>Entire home/apt</td>\n",
       "      <td>5.0</td>\n",
       "      <td>1.0</td>\n",
       "      <td>moderate</td>\n",
       "      <td>True</td>\n",
       "      <td>t</td>\n",
       "      <td>92.0</td>\n",
       "      <td>1.0</td>\n",
       "      <td>3.0</td>\n",
       "      <td>4.976734</td>\n",
       "    </tr>\n",
       "    <tr>\n",
       "      <th>3</th>\n",
       "      <td>13418779</td>\n",
       "      <td>Entire home/apt</td>\n",
       "      <td>4.0</td>\n",
       "      <td>1.0</td>\n",
       "      <td>flexible</td>\n",
       "      <td>True</td>\n",
       "      <td>f</td>\n",
       "      <td>NaN</td>\n",
       "      <td>2.0</td>\n",
       "      <td>2.0</td>\n",
       "      <td>6.620073</td>\n",
       "    </tr>\n",
       "    <tr>\n",
       "      <th>4</th>\n",
       "      <td>3808709</td>\n",
       "      <td>Entire home/apt</td>\n",
       "      <td>2.0</td>\n",
       "      <td>1.0</td>\n",
       "      <td>moderate</td>\n",
       "      <td>True</td>\n",
       "      <td>t</td>\n",
       "      <td>40.0</td>\n",
       "      <td>0.0</td>\n",
       "      <td>1.0</td>\n",
       "      <td>4.744932</td>\n",
       "    </tr>\n",
       "  </tbody>\n",
       "</table>\n",
       "</div>"
      ],
      "text/plain": [
       "         id        room_type  accommodates  bathrooms cancellation_policy  \\\n",
       "0   6901257  Entire home/apt           3.0        1.0              strict   \n",
       "1   6304928  Entire home/apt           7.0        1.0              strict   \n",
       "2   7919400  Entire home/apt           5.0        1.0            moderate   \n",
       "3  13418779  Entire home/apt           4.0        1.0            flexible   \n",
       "4   3808709  Entire home/apt           2.0        1.0            moderate   \n",
       "\n",
       "  cleaning_fee instant_bookable  review_scores_rating  bedrooms  beds  \\\n",
       "0         True                f                 100.0       1.0   1.0   \n",
       "1         True                t                  93.0       3.0   3.0   \n",
       "2         True                t                  92.0       1.0   3.0   \n",
       "3         True                f                   NaN       2.0   2.0   \n",
       "4         True                t                  40.0       0.0   1.0   \n",
       "\n",
       "   log_price  \n",
       "0   5.010635  \n",
       "1   5.129899  \n",
       "2   4.976734  \n",
       "3   6.620073  \n",
       "4   4.744932  "
      ]
     },
     "execution_count": 16,
     "metadata": {},
     "output_type": "execute_result"
    }
   ],
   "source": [
    "# Check top few records to get a feel of the data structure\n",
    "df.head()"
   ]
  },
  {
   "cell_type": "code",
   "execution_count": 17,
   "metadata": {
    "ExecuteTime": {
     "end_time": "2020-04-24T05:38:45.531950Z",
     "start_time": "2020-04-24T05:38:45.515649Z"
    }
   },
   "outputs": [],
   "source": [
    "# drop the id column as it is useless for the model\n",
    "df.drop(\"id\", axis = 1, inplace = True)"
   ]
  },
  {
   "cell_type": "code",
   "execution_count": 18,
   "metadata": {
    "ExecuteTime": {
     "end_time": "2020-04-24T05:38:45.869237Z",
     "start_time": "2020-04-24T05:38:45.849314Z"
    }
   },
   "outputs": [
    {
     "data": {
      "text/html": [
       "<div>\n",
       "<style scoped>\n",
       "    .dataframe tbody tr th:only-of-type {\n",
       "        vertical-align: middle;\n",
       "    }\n",
       "\n",
       "    .dataframe tbody tr th {\n",
       "        vertical-align: top;\n",
       "    }\n",
       "\n",
       "    .dataframe thead th {\n",
       "        text-align: right;\n",
       "    }\n",
       "</style>\n",
       "<table border=\"1\" class=\"dataframe\">\n",
       "  <thead>\n",
       "    <tr style=\"text-align: right;\">\n",
       "      <th></th>\n",
       "      <th>room_type</th>\n",
       "      <th>accommodates</th>\n",
       "      <th>bathrooms</th>\n",
       "      <th>cancellation_policy</th>\n",
       "      <th>cleaning_fee</th>\n",
       "      <th>instant_bookable</th>\n",
       "      <th>review_scores_rating</th>\n",
       "      <th>bedrooms</th>\n",
       "      <th>beds</th>\n",
       "      <th>log_price</th>\n",
       "    </tr>\n",
       "  </thead>\n",
       "  <tbody>\n",
       "    <tr>\n",
       "      <th>0</th>\n",
       "      <td>Entire home/apt</td>\n",
       "      <td>3.0</td>\n",
       "      <td>1.0</td>\n",
       "      <td>strict</td>\n",
       "      <td>True</td>\n",
       "      <td>f</td>\n",
       "      <td>100.0</td>\n",
       "      <td>1.0</td>\n",
       "      <td>1.0</td>\n",
       "      <td>5.010635</td>\n",
       "    </tr>\n",
       "    <tr>\n",
       "      <th>1</th>\n",
       "      <td>Entire home/apt</td>\n",
       "      <td>7.0</td>\n",
       "      <td>1.0</td>\n",
       "      <td>strict</td>\n",
       "      <td>True</td>\n",
       "      <td>t</td>\n",
       "      <td>93.0</td>\n",
       "      <td>3.0</td>\n",
       "      <td>3.0</td>\n",
       "      <td>5.129899</td>\n",
       "    </tr>\n",
       "    <tr>\n",
       "      <th>2</th>\n",
       "      <td>Entire home/apt</td>\n",
       "      <td>5.0</td>\n",
       "      <td>1.0</td>\n",
       "      <td>moderate</td>\n",
       "      <td>True</td>\n",
       "      <td>t</td>\n",
       "      <td>92.0</td>\n",
       "      <td>1.0</td>\n",
       "      <td>3.0</td>\n",
       "      <td>4.976734</td>\n",
       "    </tr>\n",
       "    <tr>\n",
       "      <th>3</th>\n",
       "      <td>Entire home/apt</td>\n",
       "      <td>4.0</td>\n",
       "      <td>1.0</td>\n",
       "      <td>flexible</td>\n",
       "      <td>True</td>\n",
       "      <td>f</td>\n",
       "      <td>NaN</td>\n",
       "      <td>2.0</td>\n",
       "      <td>2.0</td>\n",
       "      <td>6.620073</td>\n",
       "    </tr>\n",
       "    <tr>\n",
       "      <th>4</th>\n",
       "      <td>Entire home/apt</td>\n",
       "      <td>2.0</td>\n",
       "      <td>1.0</td>\n",
       "      <td>moderate</td>\n",
       "      <td>True</td>\n",
       "      <td>t</td>\n",
       "      <td>40.0</td>\n",
       "      <td>0.0</td>\n",
       "      <td>1.0</td>\n",
       "      <td>4.744932</td>\n",
       "    </tr>\n",
       "  </tbody>\n",
       "</table>\n",
       "</div>"
      ],
      "text/plain": [
       "         room_type  accommodates  bathrooms cancellation_policy cleaning_fee  \\\n",
       "0  Entire home/apt           3.0        1.0              strict         True   \n",
       "1  Entire home/apt           7.0        1.0              strict         True   \n",
       "2  Entire home/apt           5.0        1.0            moderate         True   \n",
       "3  Entire home/apt           4.0        1.0            flexible         True   \n",
       "4  Entire home/apt           2.0        1.0            moderate         True   \n",
       "\n",
       "  instant_bookable  review_scores_rating  bedrooms  beds  log_price  \n",
       "0                f                 100.0       1.0   1.0   5.010635  \n",
       "1                t                  93.0       3.0   3.0   5.129899  \n",
       "2                t                  92.0       1.0   3.0   4.976734  \n",
       "3                f                   NaN       2.0   2.0   6.620073  \n",
       "4                t                  40.0       0.0   1.0   4.744932  "
      ]
     },
     "execution_count": 18,
     "metadata": {},
     "output_type": "execute_result"
    }
   ],
   "source": [
    "df.head()"
   ]
  },
  {
   "cell_type": "code",
   "execution_count": 19,
   "metadata": {
    "ExecuteTime": {
     "end_time": "2020-04-24T05:38:46.171921Z",
     "start_time": "2020-04-24T05:38:46.144075Z"
    }
   },
   "outputs": [
    {
     "name": "stdout",
     "output_type": "stream",
     "text": [
      "<class 'pandas.core.frame.DataFrame'>\n",
      "RangeIndex: 74111 entries, 0 to 74110\n",
      "Data columns (total 10 columns):\n",
      " #   Column                Non-Null Count  Dtype  \n",
      "---  ------                --------------  -----  \n",
      " 0   room_type             74106 non-null  object \n",
      " 1   accommodates          74108 non-null  float64\n",
      " 2   bathrooms             73908 non-null  float64\n",
      " 3   cancellation_policy   74103 non-null  object \n",
      " 4   cleaning_fee          74107 non-null  object \n",
      " 5   instant_bookable      74111 non-null  object \n",
      " 6   review_scores_rating  57389 non-null  float64\n",
      " 7   bedrooms              74019 non-null  float64\n",
      " 8   beds                  73980 non-null  float64\n",
      " 9   log_price             74111 non-null  float64\n",
      "dtypes: float64(6), object(4)\n",
      "memory usage: 5.7+ MB\n"
     ]
    }
   ],
   "source": [
    "df.info()"
   ]
  },
  {
   "cell_type": "code",
   "execution_count": 20,
   "metadata": {
    "ExecuteTime": {
     "end_time": "2020-04-24T05:38:46.519522Z",
     "start_time": "2020-04-24T05:38:46.419661Z"
    }
   },
   "outputs": [
    {
     "data": {
      "text/html": [
       "<div>\n",
       "<style scoped>\n",
       "    .dataframe tbody tr th:only-of-type {\n",
       "        vertical-align: middle;\n",
       "    }\n",
       "\n",
       "    .dataframe tbody tr th {\n",
       "        vertical-align: top;\n",
       "    }\n",
       "\n",
       "    .dataframe thead th {\n",
       "        text-align: right;\n",
       "    }\n",
       "</style>\n",
       "<table border=\"1\" class=\"dataframe\">\n",
       "  <thead>\n",
       "    <tr style=\"text-align: right;\">\n",
       "      <th></th>\n",
       "      <th>room_type</th>\n",
       "      <th>accommodates</th>\n",
       "      <th>bathrooms</th>\n",
       "      <th>cancellation_policy</th>\n",
       "      <th>cleaning_fee</th>\n",
       "      <th>instant_bookable</th>\n",
       "      <th>review_scores_rating</th>\n",
       "      <th>bedrooms</th>\n",
       "      <th>beds</th>\n",
       "      <th>log_price</th>\n",
       "    </tr>\n",
       "  </thead>\n",
       "  <tbody>\n",
       "    <tr>\n",
       "      <th>count</th>\n",
       "      <td>74106</td>\n",
       "      <td>74108.000000</td>\n",
       "      <td>73908.000000</td>\n",
       "      <td>74103</td>\n",
       "      <td>74107</td>\n",
       "      <td>74111</td>\n",
       "      <td>57389.000000</td>\n",
       "      <td>74019.000000</td>\n",
       "      <td>73980.000000</td>\n",
       "      <td>74111.000000</td>\n",
       "    </tr>\n",
       "    <tr>\n",
       "      <th>unique</th>\n",
       "      <td>3</td>\n",
       "      <td>NaN</td>\n",
       "      <td>NaN</td>\n",
       "      <td>3</td>\n",
       "      <td>2</td>\n",
       "      <td>2</td>\n",
       "      <td>NaN</td>\n",
       "      <td>NaN</td>\n",
       "      <td>NaN</td>\n",
       "      <td>NaN</td>\n",
       "    </tr>\n",
       "    <tr>\n",
       "      <th>top</th>\n",
       "      <td>Entire home/apt</td>\n",
       "      <td>NaN</td>\n",
       "      <td>NaN</td>\n",
       "      <td>strict</td>\n",
       "      <td>True</td>\n",
       "      <td>f</td>\n",
       "      <td>NaN</td>\n",
       "      <td>NaN</td>\n",
       "      <td>NaN</td>\n",
       "      <td>NaN</td>\n",
       "    </tr>\n",
       "    <tr>\n",
       "      <th>freq</th>\n",
       "      <td>41308</td>\n",
       "      <td>NaN</td>\n",
       "      <td>NaN</td>\n",
       "      <td>32500</td>\n",
       "      <td>54399</td>\n",
       "      <td>54660</td>\n",
       "      <td>NaN</td>\n",
       "      <td>NaN</td>\n",
       "      <td>NaN</td>\n",
       "      <td>NaN</td>\n",
       "    </tr>\n",
       "    <tr>\n",
       "      <th>mean</th>\n",
       "      <td>NaN</td>\n",
       "      <td>3.155125</td>\n",
       "      <td>1.235272</td>\n",
       "      <td>NaN</td>\n",
       "      <td>NaN</td>\n",
       "      <td>NaN</td>\n",
       "      <td>94.067365</td>\n",
       "      <td>1.265797</td>\n",
       "      <td>1.710868</td>\n",
       "      <td>4.782069</td>\n",
       "    </tr>\n",
       "    <tr>\n",
       "      <th>std</th>\n",
       "      <td>NaN</td>\n",
       "      <td>2.153603</td>\n",
       "      <td>0.582054</td>\n",
       "      <td>NaN</td>\n",
       "      <td>NaN</td>\n",
       "      <td>NaN</td>\n",
       "      <td>7.836556</td>\n",
       "      <td>0.852149</td>\n",
       "      <td>1.254142</td>\n",
       "      <td>0.717394</td>\n",
       "    </tr>\n",
       "    <tr>\n",
       "      <th>min</th>\n",
       "      <td>NaN</td>\n",
       "      <td>1.000000</td>\n",
       "      <td>0.000000</td>\n",
       "      <td>NaN</td>\n",
       "      <td>NaN</td>\n",
       "      <td>NaN</td>\n",
       "      <td>20.000000</td>\n",
       "      <td>0.000000</td>\n",
       "      <td>0.000000</td>\n",
       "      <td>0.000000</td>\n",
       "    </tr>\n",
       "    <tr>\n",
       "      <th>25%</th>\n",
       "      <td>NaN</td>\n",
       "      <td>2.000000</td>\n",
       "      <td>1.000000</td>\n",
       "      <td>NaN</td>\n",
       "      <td>NaN</td>\n",
       "      <td>NaN</td>\n",
       "      <td>92.000000</td>\n",
       "      <td>1.000000</td>\n",
       "      <td>1.000000</td>\n",
       "      <td>4.317488</td>\n",
       "    </tr>\n",
       "    <tr>\n",
       "      <th>50%</th>\n",
       "      <td>NaN</td>\n",
       "      <td>2.000000</td>\n",
       "      <td>1.000000</td>\n",
       "      <td>NaN</td>\n",
       "      <td>NaN</td>\n",
       "      <td>NaN</td>\n",
       "      <td>96.000000</td>\n",
       "      <td>1.000000</td>\n",
       "      <td>1.000000</td>\n",
       "      <td>4.709530</td>\n",
       "    </tr>\n",
       "    <tr>\n",
       "      <th>75%</th>\n",
       "      <td>NaN</td>\n",
       "      <td>4.000000</td>\n",
       "      <td>1.000000</td>\n",
       "      <td>NaN</td>\n",
       "      <td>NaN</td>\n",
       "      <td>NaN</td>\n",
       "      <td>100.000000</td>\n",
       "      <td>1.000000</td>\n",
       "      <td>2.000000</td>\n",
       "      <td>5.220356</td>\n",
       "    </tr>\n",
       "    <tr>\n",
       "      <th>max</th>\n",
       "      <td>NaN</td>\n",
       "      <td>16.000000</td>\n",
       "      <td>8.000000</td>\n",
       "      <td>NaN</td>\n",
       "      <td>NaN</td>\n",
       "      <td>NaN</td>\n",
       "      <td>100.000000</td>\n",
       "      <td>10.000000</td>\n",
       "      <td>18.000000</td>\n",
       "      <td>7.600402</td>\n",
       "    </tr>\n",
       "  </tbody>\n",
       "</table>\n",
       "</div>"
      ],
      "text/plain": [
       "              room_type  accommodates     bathrooms cancellation_policy  \\\n",
       "count             74106  74108.000000  73908.000000               74103   \n",
       "unique                3           NaN           NaN                   3   \n",
       "top     Entire home/apt           NaN           NaN              strict   \n",
       "freq              41308           NaN           NaN               32500   \n",
       "mean                NaN      3.155125      1.235272                 NaN   \n",
       "std                 NaN      2.153603      0.582054                 NaN   \n",
       "min                 NaN      1.000000      0.000000                 NaN   \n",
       "25%                 NaN      2.000000      1.000000                 NaN   \n",
       "50%                 NaN      2.000000      1.000000                 NaN   \n",
       "75%                 NaN      4.000000      1.000000                 NaN   \n",
       "max                 NaN     16.000000      8.000000                 NaN   \n",
       "\n",
       "       cleaning_fee instant_bookable  review_scores_rating      bedrooms  \\\n",
       "count         74107            74111          57389.000000  74019.000000   \n",
       "unique            2                2                   NaN           NaN   \n",
       "top            True                f                   NaN           NaN   \n",
       "freq          54399            54660                   NaN           NaN   \n",
       "mean            NaN              NaN             94.067365      1.265797   \n",
       "std             NaN              NaN              7.836556      0.852149   \n",
       "min             NaN              NaN             20.000000      0.000000   \n",
       "25%             NaN              NaN             92.000000      1.000000   \n",
       "50%             NaN              NaN             96.000000      1.000000   \n",
       "75%             NaN              NaN            100.000000      1.000000   \n",
       "max             NaN              NaN            100.000000     10.000000   \n",
       "\n",
       "                beds     log_price  \n",
       "count   73980.000000  74111.000000  \n",
       "unique           NaN           NaN  \n",
       "top              NaN           NaN  \n",
       "freq             NaN           NaN  \n",
       "mean        1.710868      4.782069  \n",
       "std         1.254142      0.717394  \n",
       "min         0.000000      0.000000  \n",
       "25%         1.000000      4.317488  \n",
       "50%         1.000000      4.709530  \n",
       "75%         2.000000      5.220356  \n",
       "max        18.000000      7.600402  "
      ]
     },
     "execution_count": 20,
     "metadata": {},
     "output_type": "execute_result"
    }
   ],
   "source": [
    "df.describe(include=\"all\")"
   ]
  },
  {
   "cell_type": "markdown",
   "metadata": {},
   "source": [
    "### unique values for categorical variables"
   ]
  },
  {
   "cell_type": "code",
   "execution_count": 22,
   "metadata": {
    "ExecuteTime": {
     "end_time": "2020-04-24T05:38:47.385779Z",
     "start_time": "2020-04-24T05:38:47.321099Z"
    }
   },
   "outputs": [
    {
     "name": "stdout",
     "output_type": "stream",
     "text": [
      "ROOM_TYPE :  3\n",
      "Shared room         2163\n",
      "Private room       30635\n",
      "Entire home/apt    41308\n",
      "Name: room_type, dtype: int64\n",
      "\n",
      "\n",
      "CANCELLATION_POLICY :  3\n",
      "moderate    19060\n",
      "flexible    22543\n",
      "strict      32500\n",
      "Name: cancellation_policy, dtype: int64\n",
      "\n",
      "\n",
      "CLEANING_FEE :  2\n",
      "False    19708\n",
      "True     54399\n",
      "Name: cleaning_fee, dtype: int64\n",
      "\n",
      "\n",
      "INSTANT_BOOKABLE :  2\n",
      "t    19451\n",
      "f    54660\n",
      "Name: instant_bookable, dtype: int64\n",
      "\n",
      "\n"
     ]
    }
   ],
   "source": [
    "for column in df.columns:\n",
    "    if df[column].dtype == 'object':\n",
    "        print(column.upper(),': ',df[column].nunique())\n",
    "        print(df[column].value_counts().sort_values())\n",
    "        print('\\n')"
   ]
  },
  {
   "cell_type": "markdown",
   "metadata": {},
   "source": [
    "### Converting Instant_bookable from 'f' and 't' to boolean"
   ]
  },
  {
   "cell_type": "code",
   "execution_count": 23,
   "metadata": {
    "ExecuteTime": {
     "end_time": "2020-04-24T05:38:49.169486Z",
     "start_time": "2020-04-24T05:38:49.148382Z"
    }
   },
   "outputs": [],
   "source": [
    "df.instant_bookable.replace(['f','t'], [False, True], inplace=True)"
   ]
  },
  {
   "cell_type": "code",
   "execution_count": 24,
   "metadata": {},
   "outputs": [
    {
     "name": "stdout",
     "output_type": "stream",
     "text": [
      "<class 'pandas.core.frame.DataFrame'>\n",
      "RangeIndex: 74111 entries, 0 to 74110\n",
      "Data columns (total 10 columns):\n",
      " #   Column                Non-Null Count  Dtype  \n",
      "---  ------                --------------  -----  \n",
      " 0   room_type             74106 non-null  object \n",
      " 1   accommodates          74108 non-null  float64\n",
      " 2   bathrooms             73908 non-null  float64\n",
      " 3   cancellation_policy   74103 non-null  object \n",
      " 4   cleaning_fee          74107 non-null  object \n",
      " 5   instant_bookable      74111 non-null  bool   \n",
      " 6   review_scores_rating  57389 non-null  float64\n",
      " 7   bedrooms              74019 non-null  float64\n",
      " 8   beds                  73980 non-null  float64\n",
      " 9   log_price             74111 non-null  float64\n",
      "dtypes: bool(1), float64(6), object(3)\n",
      "memory usage: 5.2+ MB\n"
     ]
    }
   ],
   "source": [
    "df.info()"
   ]
  },
  {
   "cell_type": "markdown",
   "metadata": {},
   "source": [
    "### Converting categorical to dummy variables"
   ]
  },
  {
   "cell_type": "code",
   "execution_count": 25,
   "metadata": {
    "ExecuteTime": {
     "end_time": "2020-04-24T05:38:51.309812Z",
     "start_time": "2020-04-24T05:38:51.234439Z"
    }
   },
   "outputs": [],
   "source": [
    "df = pd.get_dummies(df, columns=['room_type','cancellation_policy','cleaning_fee'],drop_first=True)"
   ]
  },
  {
   "cell_type": "code",
   "execution_count": 26,
   "metadata": {},
   "outputs": [
    {
     "name": "stdout",
     "output_type": "stream",
     "text": [
      "<class 'pandas.core.frame.DataFrame'>\n",
      "RangeIndex: 74111 entries, 0 to 74110\n",
      "Data columns (total 12 columns):\n",
      " #   Column                        Non-Null Count  Dtype  \n",
      "---  ------                        --------------  -----  \n",
      " 0   accommodates                  74108 non-null  float64\n",
      " 1   bathrooms                     73908 non-null  float64\n",
      " 2   instant_bookable              74111 non-null  bool   \n",
      " 3   review_scores_rating          57389 non-null  float64\n",
      " 4   bedrooms                      74019 non-null  float64\n",
      " 5   beds                          73980 non-null  float64\n",
      " 6   log_price                     74111 non-null  float64\n",
      " 7   room_type_Private room        74111 non-null  uint8  \n",
      " 8   room_type_Shared room         74111 non-null  uint8  \n",
      " 9   cancellation_policy_moderate  74111 non-null  uint8  \n",
      " 10  cancellation_policy_strict    74111 non-null  uint8  \n",
      " 11  cleaning_fee_True             74111 non-null  uint8  \n",
      "dtypes: bool(1), float64(6), uint8(5)\n",
      "memory usage: 3.8 MB\n"
     ]
    }
   ],
   "source": [
    "df.info()"
   ]
  },
  {
   "cell_type": "code",
   "execution_count": 27,
   "metadata": {
    "ExecuteTime": {
     "end_time": "2020-04-24T05:38:51.546042Z",
     "start_time": "2020-04-24T05:38:51.524037Z"
    }
   },
   "outputs": [
    {
     "data": {
      "text/html": [
       "<div>\n",
       "<style scoped>\n",
       "    .dataframe tbody tr th:only-of-type {\n",
       "        vertical-align: middle;\n",
       "    }\n",
       "\n",
       "    .dataframe tbody tr th {\n",
       "        vertical-align: top;\n",
       "    }\n",
       "\n",
       "    .dataframe thead th {\n",
       "        text-align: right;\n",
       "    }\n",
       "</style>\n",
       "<table border=\"1\" class=\"dataframe\">\n",
       "  <thead>\n",
       "    <tr style=\"text-align: right;\">\n",
       "      <th></th>\n",
       "      <th>accommodates</th>\n",
       "      <th>bathrooms</th>\n",
       "      <th>instant_bookable</th>\n",
       "      <th>review_scores_rating</th>\n",
       "      <th>bedrooms</th>\n",
       "      <th>beds</th>\n",
       "      <th>log_price</th>\n",
       "      <th>room_type_Private room</th>\n",
       "      <th>room_type_Shared room</th>\n",
       "      <th>cancellation_policy_moderate</th>\n",
       "      <th>cancellation_policy_strict</th>\n",
       "      <th>cleaning_fee_True</th>\n",
       "    </tr>\n",
       "  </thead>\n",
       "  <tbody>\n",
       "    <tr>\n",
       "      <th>0</th>\n",
       "      <td>3.0</td>\n",
       "      <td>1.0</td>\n",
       "      <td>False</td>\n",
       "      <td>100.0</td>\n",
       "      <td>1.0</td>\n",
       "      <td>1.0</td>\n",
       "      <td>5.010635</td>\n",
       "      <td>0</td>\n",
       "      <td>0</td>\n",
       "      <td>0</td>\n",
       "      <td>1</td>\n",
       "      <td>1</td>\n",
       "    </tr>\n",
       "    <tr>\n",
       "      <th>1</th>\n",
       "      <td>7.0</td>\n",
       "      <td>1.0</td>\n",
       "      <td>True</td>\n",
       "      <td>93.0</td>\n",
       "      <td>3.0</td>\n",
       "      <td>3.0</td>\n",
       "      <td>5.129899</td>\n",
       "      <td>0</td>\n",
       "      <td>0</td>\n",
       "      <td>0</td>\n",
       "      <td>1</td>\n",
       "      <td>1</td>\n",
       "    </tr>\n",
       "    <tr>\n",
       "      <th>2</th>\n",
       "      <td>5.0</td>\n",
       "      <td>1.0</td>\n",
       "      <td>True</td>\n",
       "      <td>92.0</td>\n",
       "      <td>1.0</td>\n",
       "      <td>3.0</td>\n",
       "      <td>4.976734</td>\n",
       "      <td>0</td>\n",
       "      <td>0</td>\n",
       "      <td>1</td>\n",
       "      <td>0</td>\n",
       "      <td>1</td>\n",
       "    </tr>\n",
       "    <tr>\n",
       "      <th>3</th>\n",
       "      <td>4.0</td>\n",
       "      <td>1.0</td>\n",
       "      <td>False</td>\n",
       "      <td>NaN</td>\n",
       "      <td>2.0</td>\n",
       "      <td>2.0</td>\n",
       "      <td>6.620073</td>\n",
       "      <td>0</td>\n",
       "      <td>0</td>\n",
       "      <td>0</td>\n",
       "      <td>0</td>\n",
       "      <td>1</td>\n",
       "    </tr>\n",
       "    <tr>\n",
       "      <th>4</th>\n",
       "      <td>2.0</td>\n",
       "      <td>1.0</td>\n",
       "      <td>True</td>\n",
       "      <td>40.0</td>\n",
       "      <td>0.0</td>\n",
       "      <td>1.0</td>\n",
       "      <td>4.744932</td>\n",
       "      <td>0</td>\n",
       "      <td>0</td>\n",
       "      <td>1</td>\n",
       "      <td>0</td>\n",
       "      <td>1</td>\n",
       "    </tr>\n",
       "  </tbody>\n",
       "</table>\n",
       "</div>"
      ],
      "text/plain": [
       "   accommodates  bathrooms  instant_bookable  review_scores_rating  bedrooms  \\\n",
       "0           3.0        1.0             False                 100.0       1.0   \n",
       "1           7.0        1.0              True                  93.0       3.0   \n",
       "2           5.0        1.0              True                  92.0       1.0   \n",
       "3           4.0        1.0             False                   NaN       2.0   \n",
       "4           2.0        1.0              True                  40.0       0.0   \n",
       "\n",
       "   beds  log_price  room_type_Private room  room_type_Shared room  \\\n",
       "0   1.0   5.010635                       0                      0   \n",
       "1   3.0   5.129899                       0                      0   \n",
       "2   3.0   4.976734                       0                      0   \n",
       "3   2.0   6.620073                       0                      0   \n",
       "4   1.0   4.744932                       0                      0   \n",
       "\n",
       "   cancellation_policy_moderate  cancellation_policy_strict  cleaning_fee_True  \n",
       "0                             0                           1                  1  \n",
       "1                             0                           1                  1  \n",
       "2                             1                           0                  1  \n",
       "3                             0                           0                  1  \n",
       "4                             1                           0                  1  "
      ]
     },
     "execution_count": 27,
     "metadata": {},
     "output_type": "execute_result"
    }
   ],
   "source": [
    "df.head()"
   ]
  },
  {
   "cell_type": "code",
   "execution_count": 28,
   "metadata": {
    "ExecuteTime": {
     "end_time": "2020-04-24T05:38:51.818078Z",
     "start_time": "2020-04-24T05:38:51.795816Z"
    }
   },
   "outputs": [
    {
     "data": {
      "text/plain": [
       "accommodates                        3\n",
       "bathrooms                         203\n",
       "instant_bookable                    0\n",
       "review_scores_rating            16722\n",
       "bedrooms                           92\n",
       "beds                              131\n",
       "log_price                           0\n",
       "room_type_Private room              0\n",
       "room_type_Shared room               0\n",
       "cancellation_policy_moderate        0\n",
       "cancellation_policy_strict          0\n",
       "cleaning_fee_True                   0\n",
       "dtype: int64"
      ]
     },
     "execution_count": 28,
     "metadata": {},
     "output_type": "execute_result"
    }
   ],
   "source": [
    "# Are there any missing values ?\n",
    "df.isnull().sum()"
   ]
  },
  {
   "cell_type": "markdown",
   "metadata": {},
   "source": [
    "### Imputing missing values"
   ]
  },
  {
   "cell_type": "code",
   "execution_count": 29,
   "metadata": {
    "ExecuteTime": {
     "end_time": "2020-04-24T05:38:52.938756Z",
     "start_time": "2020-04-24T05:38:52.910235Z"
    }
   },
   "outputs": [
    {
     "data": {
      "text/plain": [
       "accommodates                    0\n",
       "bathrooms                       0\n",
       "instant_bookable                0\n",
       "review_scores_rating            0\n",
       "bedrooms                        0\n",
       "beds                            0\n",
       "log_price                       0\n",
       "room_type_Private room          0\n",
       "room_type_Shared room           0\n",
       "cancellation_policy_moderate    0\n",
       "cancellation_policy_strict      0\n",
       "cleaning_fee_True               0\n",
       "dtype: int64"
      ]
     },
     "execution_count": 29,
     "metadata": {},
     "output_type": "execute_result"
    }
   ],
   "source": [
    "for column in df.columns:\n",
    "    if df[column].dtype != 'object':\n",
    "        mean = df[column].mean()\n",
    "        df[column] = df[column].fillna(mean)    \n",
    "        \n",
    "df.isnull().sum()        "
   ]
  },
  {
   "cell_type": "code",
   "execution_count": 30,
   "metadata": {
    "ExecuteTime": {
     "end_time": "2020-04-24T05:38:53.389805Z",
     "start_time": "2020-04-24T05:38:53.362968Z"
    }
   },
   "outputs": [
    {
     "data": {
      "text/html": [
       "<div>\n",
       "<style scoped>\n",
       "    .dataframe tbody tr th:only-of-type {\n",
       "        vertical-align: middle;\n",
       "    }\n",
       "\n",
       "    .dataframe tbody tr th {\n",
       "        vertical-align: top;\n",
       "    }\n",
       "\n",
       "    .dataframe thead th {\n",
       "        text-align: right;\n",
       "    }\n",
       "</style>\n",
       "<table border=\"1\" class=\"dataframe\">\n",
       "  <thead>\n",
       "    <tr style=\"text-align: right;\">\n",
       "      <th></th>\n",
       "      <th>accommodates</th>\n",
       "      <th>bathrooms</th>\n",
       "      <th>instant_bookable</th>\n",
       "      <th>review_scores_rating</th>\n",
       "      <th>bedrooms</th>\n",
       "      <th>beds</th>\n",
       "      <th>log_price</th>\n",
       "      <th>room_type_Private room</th>\n",
       "      <th>room_type_Shared room</th>\n",
       "      <th>cancellation_policy_moderate</th>\n",
       "      <th>cancellation_policy_strict</th>\n",
       "      <th>cleaning_fee_True</th>\n",
       "    </tr>\n",
       "  </thead>\n",
       "  <tbody>\n",
       "    <tr>\n",
       "      <th>0</th>\n",
       "      <td>3.0</td>\n",
       "      <td>1.0</td>\n",
       "      <td>False</td>\n",
       "      <td>100.000000</td>\n",
       "      <td>1.0</td>\n",
       "      <td>1.0</td>\n",
       "      <td>5.010635</td>\n",
       "      <td>0</td>\n",
       "      <td>0</td>\n",
       "      <td>0</td>\n",
       "      <td>1</td>\n",
       "      <td>1</td>\n",
       "    </tr>\n",
       "    <tr>\n",
       "      <th>1</th>\n",
       "      <td>7.0</td>\n",
       "      <td>1.0</td>\n",
       "      <td>True</td>\n",
       "      <td>93.000000</td>\n",
       "      <td>3.0</td>\n",
       "      <td>3.0</td>\n",
       "      <td>5.129899</td>\n",
       "      <td>0</td>\n",
       "      <td>0</td>\n",
       "      <td>0</td>\n",
       "      <td>1</td>\n",
       "      <td>1</td>\n",
       "    </tr>\n",
       "    <tr>\n",
       "      <th>2</th>\n",
       "      <td>5.0</td>\n",
       "      <td>1.0</td>\n",
       "      <td>True</td>\n",
       "      <td>92.000000</td>\n",
       "      <td>1.0</td>\n",
       "      <td>3.0</td>\n",
       "      <td>4.976734</td>\n",
       "      <td>0</td>\n",
       "      <td>0</td>\n",
       "      <td>1</td>\n",
       "      <td>0</td>\n",
       "      <td>1</td>\n",
       "    </tr>\n",
       "    <tr>\n",
       "      <th>3</th>\n",
       "      <td>4.0</td>\n",
       "      <td>1.0</td>\n",
       "      <td>False</td>\n",
       "      <td>94.067365</td>\n",
       "      <td>2.0</td>\n",
       "      <td>2.0</td>\n",
       "      <td>6.620073</td>\n",
       "      <td>0</td>\n",
       "      <td>0</td>\n",
       "      <td>0</td>\n",
       "      <td>0</td>\n",
       "      <td>1</td>\n",
       "    </tr>\n",
       "    <tr>\n",
       "      <th>4</th>\n",
       "      <td>2.0</td>\n",
       "      <td>1.0</td>\n",
       "      <td>True</td>\n",
       "      <td>40.000000</td>\n",
       "      <td>0.0</td>\n",
       "      <td>1.0</td>\n",
       "      <td>4.744932</td>\n",
       "      <td>0</td>\n",
       "      <td>0</td>\n",
       "      <td>1</td>\n",
       "      <td>0</td>\n",
       "      <td>1</td>\n",
       "    </tr>\n",
       "  </tbody>\n",
       "</table>\n",
       "</div>"
      ],
      "text/plain": [
       "   accommodates  bathrooms  instant_bookable  review_scores_rating  bedrooms  \\\n",
       "0           3.0        1.0             False            100.000000       1.0   \n",
       "1           7.0        1.0              True             93.000000       3.0   \n",
       "2           5.0        1.0              True             92.000000       1.0   \n",
       "3           4.0        1.0             False             94.067365       2.0   \n",
       "4           2.0        1.0              True             40.000000       0.0   \n",
       "\n",
       "   beds  log_price  room_type_Private room  room_type_Shared room  \\\n",
       "0   1.0   5.010635                       0                      0   \n",
       "1   3.0   5.129899                       0                      0   \n",
       "2   3.0   4.976734                       0                      0   \n",
       "3   2.0   6.620073                       0                      0   \n",
       "4   1.0   4.744932                       0                      0   \n",
       "\n",
       "   cancellation_policy_moderate  cancellation_policy_strict  cleaning_fee_True  \n",
       "0                             0                           1                  1  \n",
       "1                             0                           1                  1  \n",
       "2                             1                           0                  1  \n",
       "3                             0                           0                  1  \n",
       "4                             1                           0                  1  "
      ]
     },
     "execution_count": 30,
     "metadata": {},
     "output_type": "execute_result"
    }
   ],
   "source": [
    "df.head()"
   ]
  },
  {
   "cell_type": "code",
   "execution_count": 31,
   "metadata": {
    "ExecuteTime": {
     "end_time": "2020-04-24T05:38:54.200273Z",
     "start_time": "2020-04-24T05:38:54.114884Z"
    }
   },
   "outputs": [
    {
     "data": {
      "text/html": [
       "<div>\n",
       "<style scoped>\n",
       "    .dataframe tbody tr th:only-of-type {\n",
       "        vertical-align: middle;\n",
       "    }\n",
       "\n",
       "    .dataframe tbody tr th {\n",
       "        vertical-align: top;\n",
       "    }\n",
       "\n",
       "    .dataframe thead th {\n",
       "        text-align: right;\n",
       "    }\n",
       "</style>\n",
       "<table border=\"1\" class=\"dataframe\">\n",
       "  <thead>\n",
       "    <tr style=\"text-align: right;\">\n",
       "      <th></th>\n",
       "      <th>accommodates</th>\n",
       "      <th>bathrooms</th>\n",
       "      <th>review_scores_rating</th>\n",
       "      <th>bedrooms</th>\n",
       "      <th>beds</th>\n",
       "      <th>log_price</th>\n",
       "      <th>room_type_Private room</th>\n",
       "      <th>room_type_Shared room</th>\n",
       "      <th>cancellation_policy_moderate</th>\n",
       "      <th>cancellation_policy_strict</th>\n",
       "      <th>cleaning_fee_True</th>\n",
       "    </tr>\n",
       "  </thead>\n",
       "  <tbody>\n",
       "    <tr>\n",
       "      <th>count</th>\n",
       "      <td>74111.000000</td>\n",
       "      <td>74111.000000</td>\n",
       "      <td>74111.000000</td>\n",
       "      <td>74111.000000</td>\n",
       "      <td>74111.000000</td>\n",
       "      <td>74111.000000</td>\n",
       "      <td>74111.000000</td>\n",
       "      <td>74111.000000</td>\n",
       "      <td>74111.000000</td>\n",
       "      <td>74111.000000</td>\n",
       "      <td>74111.000000</td>\n",
       "    </tr>\n",
       "    <tr>\n",
       "      <th>mean</th>\n",
       "      <td>3.155125</td>\n",
       "      <td>1.235272</td>\n",
       "      <td>94.067365</td>\n",
       "      <td>1.265797</td>\n",
       "      <td>1.710868</td>\n",
       "      <td>4.782069</td>\n",
       "      <td>0.413366</td>\n",
       "      <td>0.029186</td>\n",
       "      <td>0.257182</td>\n",
       "      <td>0.438531</td>\n",
       "      <td>0.734021</td>\n",
       "    </tr>\n",
       "    <tr>\n",
       "      <th>std</th>\n",
       "      <td>2.153559</td>\n",
       "      <td>0.581256</td>\n",
       "      <td>6.896002</td>\n",
       "      <td>0.851620</td>\n",
       "      <td>1.253033</td>\n",
       "      <td>0.717394</td>\n",
       "      <td>0.492441</td>\n",
       "      <td>0.168329</td>\n",
       "      <td>0.437083</td>\n",
       "      <td>0.496211</td>\n",
       "      <td>0.441856</td>\n",
       "    </tr>\n",
       "    <tr>\n",
       "      <th>min</th>\n",
       "      <td>1.000000</td>\n",
       "      <td>0.000000</td>\n",
       "      <td>20.000000</td>\n",
       "      <td>0.000000</td>\n",
       "      <td>0.000000</td>\n",
       "      <td>0.000000</td>\n",
       "      <td>0.000000</td>\n",
       "      <td>0.000000</td>\n",
       "      <td>0.000000</td>\n",
       "      <td>0.000000</td>\n",
       "      <td>0.000000</td>\n",
       "    </tr>\n",
       "    <tr>\n",
       "      <th>25%</th>\n",
       "      <td>2.000000</td>\n",
       "      <td>1.000000</td>\n",
       "      <td>93.000000</td>\n",
       "      <td>1.000000</td>\n",
       "      <td>1.000000</td>\n",
       "      <td>4.317488</td>\n",
       "      <td>0.000000</td>\n",
       "      <td>0.000000</td>\n",
       "      <td>0.000000</td>\n",
       "      <td>0.000000</td>\n",
       "      <td>0.000000</td>\n",
       "    </tr>\n",
       "    <tr>\n",
       "      <th>50%</th>\n",
       "      <td>2.000000</td>\n",
       "      <td>1.000000</td>\n",
       "      <td>94.067365</td>\n",
       "      <td>1.000000</td>\n",
       "      <td>1.000000</td>\n",
       "      <td>4.709530</td>\n",
       "      <td>0.000000</td>\n",
       "      <td>0.000000</td>\n",
       "      <td>0.000000</td>\n",
       "      <td>0.000000</td>\n",
       "      <td>1.000000</td>\n",
       "    </tr>\n",
       "    <tr>\n",
       "      <th>75%</th>\n",
       "      <td>4.000000</td>\n",
       "      <td>1.000000</td>\n",
       "      <td>99.000000</td>\n",
       "      <td>1.000000</td>\n",
       "      <td>2.000000</td>\n",
       "      <td>5.220356</td>\n",
       "      <td>1.000000</td>\n",
       "      <td>0.000000</td>\n",
       "      <td>1.000000</td>\n",
       "      <td>1.000000</td>\n",
       "      <td>1.000000</td>\n",
       "    </tr>\n",
       "    <tr>\n",
       "      <th>max</th>\n",
       "      <td>16.000000</td>\n",
       "      <td>8.000000</td>\n",
       "      <td>100.000000</td>\n",
       "      <td>10.000000</td>\n",
       "      <td>18.000000</td>\n",
       "      <td>7.600402</td>\n",
       "      <td>1.000000</td>\n",
       "      <td>1.000000</td>\n",
       "      <td>1.000000</td>\n",
       "      <td>1.000000</td>\n",
       "      <td>1.000000</td>\n",
       "    </tr>\n",
       "  </tbody>\n",
       "</table>\n",
       "</div>"
      ],
      "text/plain": [
       "       accommodates     bathrooms  review_scores_rating      bedrooms  \\\n",
       "count  74111.000000  74111.000000          74111.000000  74111.000000   \n",
       "mean       3.155125      1.235272             94.067365      1.265797   \n",
       "std        2.153559      0.581256              6.896002      0.851620   \n",
       "min        1.000000      0.000000             20.000000      0.000000   \n",
       "25%        2.000000      1.000000             93.000000      1.000000   \n",
       "50%        2.000000      1.000000             94.067365      1.000000   \n",
       "75%        4.000000      1.000000             99.000000      1.000000   \n",
       "max       16.000000      8.000000            100.000000     10.000000   \n",
       "\n",
       "               beds     log_price  room_type_Private room  \\\n",
       "count  74111.000000  74111.000000            74111.000000   \n",
       "mean       1.710868      4.782069                0.413366   \n",
       "std        1.253033      0.717394                0.492441   \n",
       "min        0.000000      0.000000                0.000000   \n",
       "25%        1.000000      4.317488                0.000000   \n",
       "50%        1.000000      4.709530                0.000000   \n",
       "75%        2.000000      5.220356                1.000000   \n",
       "max       18.000000      7.600402                1.000000   \n",
       "\n",
       "       room_type_Shared room  cancellation_policy_moderate  \\\n",
       "count           74111.000000                  74111.000000   \n",
       "mean                0.029186                      0.257182   \n",
       "std                 0.168329                      0.437083   \n",
       "min                 0.000000                      0.000000   \n",
       "25%                 0.000000                      0.000000   \n",
       "50%                 0.000000                      0.000000   \n",
       "75%                 0.000000                      1.000000   \n",
       "max                 1.000000                      1.000000   \n",
       "\n",
       "       cancellation_policy_strict  cleaning_fee_True  \n",
       "count                74111.000000       74111.000000  \n",
       "mean                     0.438531           0.734021  \n",
       "std                      0.496211           0.441856  \n",
       "min                      0.000000           0.000000  \n",
       "25%                      0.000000           0.000000  \n",
       "50%                      0.000000           1.000000  \n",
       "75%                      1.000000           1.000000  \n",
       "max                      1.000000           1.000000  "
      ]
     },
     "execution_count": 31,
     "metadata": {},
     "output_type": "execute_result"
    }
   ],
   "source": [
    "df.describe()"
   ]
  },
  {
   "cell_type": "markdown",
   "metadata": {},
   "source": [
    "### Checking for duplicates"
   ]
  },
  {
   "cell_type": "code",
   "execution_count": 32,
   "metadata": {
    "ExecuteTime": {
     "end_time": "2020-04-24T05:38:55.182081Z",
     "start_time": "2020-04-24T05:38:55.075981Z"
    }
   },
   "outputs": [
    {
     "name": "stdout",
     "output_type": "stream",
     "text": [
      "Number of duplicate rows = 19998\n"
     ]
    }
   ],
   "source": [
    "# Are there any duplicates ?\n",
    "dups = df.duplicated()\n",
    "print('Number of duplicate rows = %d' % (dups.sum()))\n",
    "#df[dups]"
   ]
  },
  {
   "cell_type": "code",
   "execution_count": 33,
   "metadata": {
    "ExecuteTime": {
     "end_time": "2020-04-24T05:38:55.528012Z",
     "start_time": "2020-04-24T05:38:55.480147Z"
    }
   },
   "outputs": [
    {
     "name": "stdout",
     "output_type": "stream",
     "text": [
      "Before (74111, 12)\n",
      "After (54113, 12)\n"
     ]
    }
   ],
   "source": [
    "print('Before',df.shape)\n",
    "df.drop_duplicates(inplace=True) \n",
    "print('After',df.shape)"
   ]
  },
  {
   "cell_type": "code",
   "execution_count": 67,
   "metadata": {
    "ExecuteTime": {
     "end_time": "2020-04-24T05:38:55.942232Z",
     "start_time": "2020-04-24T05:38:55.905247Z"
    }
   },
   "outputs": [
    {
     "name": "stdout",
     "output_type": "stream",
     "text": [
      "Number of duplicate rows = 1322\n"
     ]
    }
   ],
   "source": [
    "dups = df.duplicated()\n",
    "print('Number of duplicate rows = %d' % (dups.sum()))"
   ]
  },
  {
   "cell_type": "code",
   "execution_count": 69,
   "metadata": {},
   "outputs": [
    {
     "data": {
      "text/plain": [
       "<AxesSubplot:>"
      ]
     },
     "execution_count": 69,
     "metadata": {},
     "output_type": "execute_result"
    },
    {
     "name": "stderr",
     "output_type": "stream",
     "text": [
      "C:\\Users\\HP\\anaconda3\\lib\\site-packages\\IPython\\core\\pylabtools.py:132: UserWarning: Creating legend with loc=\"best\" can be slow with large amounts of data.\n",
      "  fig.canvas.print_figure(bytes_io, **kw)\n"
     ]
    },
    {
     "data": {
      "image/png": "[encoded data removed]",
      "text/plain": [
       "<Figure size 432x288 with 1 Axes>"
      ]
     },
     "metadata": {
      "needs_background": "light"
     },
     "output_type": "display_data"
    }
   ],
   "source": [
    "sns.scatterplot(data = df)"
   ]
  },
  {
   "cell_type": "markdown",
   "metadata": {},
   "source": [
    "### Correlation Plot"
   ]
  },
  {
   "cell_type": "code",
   "execution_count": 35,
   "metadata": {
    "ExecuteTime": {
     "end_time": "2020-04-24T05:39:05.390103Z",
     "start_time": "2020-04-24T05:39:04.208301Z"
    }
   },
   "outputs": [
    {
     "data": {
      "image/png": "[encoded data removed]",
      "text/plain": [
       "<Figure size 432x288 with 2 Axes>"
      ]
     },
     "metadata": {
      "needs_background": "light"
     },
     "output_type": "display_data"
    }
   ],
   "source": [
    "sns.heatmap(df.iloc[:, 0:6].corr(),annot=True)\n",
    "plt.show()"
   ]
  },
  {
   "cell_type": "markdown",
   "metadata": {},
   "source": [
    "**The variable 'Accommodates', 'bedrooms','bathrooms', 'beds' are having correlation with each other.**\n"
   ]
  },
  {
   "cell_type": "code",
   "execution_count": 36,
   "metadata": {
    "ExecuteTime": {
     "end_time": "2020-04-24T05:39:05.447212Z",
     "start_time": "2020-04-24T05:39:05.426315Z"
    }
   },
   "outputs": [
    {
     "data": {
      "text/html": [
       "<div>\n",
       "<style scoped>\n",
       "    .dataframe tbody tr th:only-of-type {\n",
       "        vertical-align: middle;\n",
       "    }\n",
       "\n",
       "    .dataframe tbody tr th {\n",
       "        vertical-align: top;\n",
       "    }\n",
       "\n",
       "    .dataframe thead th {\n",
       "        text-align: right;\n",
       "    }\n",
       "</style>\n",
       "<table border=\"1\" class=\"dataframe\">\n",
       "  <thead>\n",
       "    <tr style=\"text-align: right;\">\n",
       "      <th></th>\n",
       "      <th>accommodates</th>\n",
       "      <th>bathrooms</th>\n",
       "      <th>instant_bookable</th>\n",
       "      <th>review_scores_rating</th>\n",
       "      <th>bedrooms</th>\n",
       "      <th>beds</th>\n",
       "      <th>log_price</th>\n",
       "      <th>room_type_Private room</th>\n",
       "      <th>room_type_Shared room</th>\n",
       "      <th>cancellation_policy_moderate</th>\n",
       "      <th>cancellation_policy_strict</th>\n",
       "      <th>cleaning_fee_True</th>\n",
       "    </tr>\n",
       "  </thead>\n",
       "  <tbody>\n",
       "    <tr>\n",
       "      <th>0</th>\n",
       "      <td>3.0</td>\n",
       "      <td>1.0</td>\n",
       "      <td>False</td>\n",
       "      <td>100.000000</td>\n",
       "      <td>1.0</td>\n",
       "      <td>1.0</td>\n",
       "      <td>5.010635</td>\n",
       "      <td>0</td>\n",
       "      <td>0</td>\n",
       "      <td>0</td>\n",
       "      <td>1</td>\n",
       "      <td>1</td>\n",
       "    </tr>\n",
       "    <tr>\n",
       "      <th>1</th>\n",
       "      <td>7.0</td>\n",
       "      <td>1.0</td>\n",
       "      <td>True</td>\n",
       "      <td>93.000000</td>\n",
       "      <td>3.0</td>\n",
       "      <td>3.0</td>\n",
       "      <td>5.129899</td>\n",
       "      <td>0</td>\n",
       "      <td>0</td>\n",
       "      <td>0</td>\n",
       "      <td>1</td>\n",
       "      <td>1</td>\n",
       "    </tr>\n",
       "    <tr>\n",
       "      <th>2</th>\n",
       "      <td>5.0</td>\n",
       "      <td>1.0</td>\n",
       "      <td>True</td>\n",
       "      <td>92.000000</td>\n",
       "      <td>1.0</td>\n",
       "      <td>3.0</td>\n",
       "      <td>4.976734</td>\n",
       "      <td>0</td>\n",
       "      <td>0</td>\n",
       "      <td>1</td>\n",
       "      <td>0</td>\n",
       "      <td>1</td>\n",
       "    </tr>\n",
       "    <tr>\n",
       "      <th>3</th>\n",
       "      <td>4.0</td>\n",
       "      <td>1.0</td>\n",
       "      <td>False</td>\n",
       "      <td>94.067365</td>\n",
       "      <td>2.0</td>\n",
       "      <td>2.0</td>\n",
       "      <td>6.620073</td>\n",
       "      <td>0</td>\n",
       "      <td>0</td>\n",
       "      <td>0</td>\n",
       "      <td>0</td>\n",
       "      <td>1</td>\n",
       "    </tr>\n",
       "    <tr>\n",
       "      <th>4</th>\n",
       "      <td>2.0</td>\n",
       "      <td>1.0</td>\n",
       "      <td>True</td>\n",
       "      <td>40.000000</td>\n",
       "      <td>0.0</td>\n",
       "      <td>1.0</td>\n",
       "      <td>4.744932</td>\n",
       "      <td>0</td>\n",
       "      <td>0</td>\n",
       "      <td>1</td>\n",
       "      <td>0</td>\n",
       "      <td>1</td>\n",
       "    </tr>\n",
       "  </tbody>\n",
       "</table>\n",
       "</div>"
      ],
      "text/plain": [
       "   accommodates  bathrooms  instant_bookable  review_scores_rating  bedrooms  \\\n",
       "0           3.0        1.0             False            100.000000       1.0   \n",
       "1           7.0        1.0              True             93.000000       3.0   \n",
       "2           5.0        1.0              True             92.000000       1.0   \n",
       "3           4.0        1.0             False             94.067365       2.0   \n",
       "4           2.0        1.0              True             40.000000       0.0   \n",
       "\n",
       "   beds  log_price  room_type_Private room  room_type_Shared room  \\\n",
       "0   1.0   5.010635                       0                      0   \n",
       "1   3.0   5.129899                       0                      0   \n",
       "2   3.0   4.976734                       0                      0   \n",
       "3   2.0   6.620073                       0                      0   \n",
       "4   1.0   4.744932                       0                      0   \n",
       "\n",
       "   cancellation_policy_moderate  cancellation_policy_strict  cleaning_fee_True  \n",
       "0                             0                           1                  1  \n",
       "1                             0                           1                  1  \n",
       "2                             1                           0                  1  \n",
       "3                             0                           0                  1  \n",
       "4                             1                           0                  1  "
      ]
     },
     "execution_count": 36,
     "metadata": {},
     "output_type": "execute_result"
    }
   ],
   "source": [
    "df.head()"
   ]
  },
  {
   "cell_type": "code",
   "execution_count": 21,
   "metadata": {
    "ExecuteTime": {
     "end_time": "2020-04-24T05:39:06.652042Z",
     "start_time": "2020-04-24T05:39:06.634481Z"
    }
   },
   "outputs": [
    {
     "name": "stdout",
     "output_type": "stream",
     "text": [
      "<class 'pandas.core.frame.DataFrame'>\n",
      "Int64Index: 54113 entries, 0 to 74110\n",
      "Data columns (total 12 columns):\n",
      "accommodates                    54113 non-null float64\n",
      "bathrooms                       54113 non-null float64\n",
      "instant_bookable                54113 non-null bool\n",
      "review_scores_rating            54113 non-null float64\n",
      "bedrooms                        54113 non-null float64\n",
      "beds                            54113 non-null float64\n",
      "log_price                       54113 non-null float64\n",
      "room_type_Private room          54113 non-null uint8\n",
      "room_type_Shared room           54113 non-null uint8\n",
      "cancellation_policy_moderate    54113 non-null uint8\n",
      "cancellation_policy_strict      54113 non-null uint8\n",
      "cleaning_fee_True               54113 non-null uint8\n",
      "dtypes: bool(1), float64(6), uint8(5)\n",
      "memory usage: 3.2 MB\n"
     ]
    }
   ],
   "source": [
    "df.info()"
   ]
  },
  {
   "cell_type": "markdown",
   "metadata": {},
   "source": [
    "### Outlier Checks"
   ]
  },
  {
   "cell_type": "code",
   "execution_count": 37,
   "metadata": {
    "ExecuteTime": {
     "end_time": "2020-04-24T05:39:08.224040Z",
     "start_time": "2020-04-24T05:39:07.510705Z"
    }
   },
   "outputs": [
    {
     "data": {
      "image/png": "[encoded data removed]",
      "text/plain": [
       "<Figure size 720x720 with 1 Axes>"
      ]
     },
     "metadata": {
      "needs_background": "light"
     },
     "output_type": "display_data"
    }
   ],
   "source": [
    "# construct box plot for continuous variables\n",
    "cont=df.dtypes[(df.dtypes!='uint8') & (df.dtypes!='bool')].index\n",
    "plt.figure(figsize=(10,10))\n",
    "df[cont].boxplot(vert=0)\n",
    "plt.title('With Outliers',fontsize=16)\n",
    "plt.show()"
   ]
  },
  {
   "cell_type": "code",
   "execution_count": 42,
   "metadata": {
    "ExecuteTime": {
     "end_time": "2020-04-24T05:39:08.782756Z",
     "start_time": "2020-04-24T05:39:08.774503Z"
    }
   },
   "outputs": [],
   "source": [
    "def remove_outlier(col):\n",
    "    sorted(col)\n",
    "    Q1,Q3=np.percentile(col,[25,75])\n",
    "    IQR=Q3-Q1\n",
    "    lower_range= Q1-(1.5 * IQR)\n",
    "    upper_range= Q3+(1.5 * IQR)\n",
    "    return lower_range, upper_range"
   ]
  },
  {
   "cell_type": "code",
   "execution_count": 43,
   "metadata": {
    "ExecuteTime": {
     "end_time": "2020-04-24T05:39:09.379382Z",
     "start_time": "2020-04-24T05:39:09.269493Z"
    }
   },
   "outputs": [],
   "source": [
    "for column in df[cont].columns:\n",
    "    lr,ur=remove_outlier(df[column])\n",
    "    df[column]=np.where(df[column]>ur,ur,df[column])\n",
    "    df[column]=np.where(df[column]<lr,lr,df[column])"
   ]
  },
  {
   "cell_type": "code",
   "execution_count": 45,
   "metadata": {
    "ExecuteTime": {
     "end_time": "2020-04-24T05:39:10.709961Z",
     "start_time": "2020-04-24T05:39:10.289963Z"
    }
   },
   "outputs": [
    {
     "data": {
      "image/png": "[encoded data removed]",
      "text/plain": [
       "<Figure size 720x720 with 1 Axes>"
      ]
     },
     "metadata": {
      "needs_background": "light"
     },
     "output_type": "display_data"
    }
   ],
   "source": [
    "plt.figure(figsize=(10,10))\n",
    "df[cont].boxplot(vert=0)\n",
    "plt.title('After Outlier Removal',fontsize=16)\n",
    "plt.show()"
   ]
  },
  {
   "cell_type": "markdown",
   "metadata": {},
   "source": [
    "### Data Distribution"
   ]
  },
  {
   "cell_type": "code",
   "execution_count": 46,
   "metadata": {
    "ExecuteTime": {
     "end_time": "2020-04-24T05:41:19.770146Z",
     "start_time": "2020-04-24T05:40:40.762630Z"
    },
    "scrolled": true
   },
   "outputs": [
    {
     "data": {
      "image/png": "[encoded data removed]",
      "text/plain": [
       "<Figure size 1080x1080 with 42 Axes>"
      ]
     },
     "metadata": {
      "needs_background": "light"
     },
     "output_type": "display_data"
    }
   ],
   "source": [
    "df_attr = (df[cont])\n",
    "sns.pairplot(df_attr, diag_kind='kde')  \n",
    "plt.show()"
   ]
  },
  {
   "cell_type": "markdown",
   "metadata": {},
   "source": [
    "### Train-Test Split"
   ]
  },
  {
   "cell_type": "code",
   "execution_count": 47,
   "metadata": {
    "ExecuteTime": {
     "end_time": "2020-04-24T05:41:19.844054Z",
     "start_time": "2020-04-24T05:41:19.833845Z"
    }
   },
   "outputs": [],
   "source": [
    "# Copy all the predictor variables into X dataframe\n",
    "X = df.drop('log_price', axis=1)\n",
    "\n",
    "# Copy target into the y dataframe. \n",
    "y = df[['log_price']]"
   ]
  },
  {
   "cell_type": "code",
   "execution_count": 48,
   "metadata": {
    "ExecuteTime": {
     "end_time": "2020-04-24T05:41:19.943761Z",
     "start_time": "2020-04-24T05:41:19.922964Z"
    }
   },
   "outputs": [
    {
     "data": {
      "text/html": [
       "<div>\n",
       "<style scoped>\n",
       "    .dataframe tbody tr th:only-of-type {\n",
       "        vertical-align: middle;\n",
       "    }\n",
       "\n",
       "    .dataframe tbody tr th {\n",
       "        vertical-align: top;\n",
       "    }\n",
       "\n",
       "    .dataframe thead th {\n",
       "        text-align: right;\n",
       "    }\n",
       "</style>\n",
       "<table border=\"1\" class=\"dataframe\">\n",
       "  <thead>\n",
       "    <tr style=\"text-align: right;\">\n",
       "      <th></th>\n",
       "      <th>accommodates</th>\n",
       "      <th>bathrooms</th>\n",
       "      <th>instant_bookable</th>\n",
       "      <th>review_scores_rating</th>\n",
       "      <th>bedrooms</th>\n",
       "      <th>beds</th>\n",
       "      <th>room_type_Private room</th>\n",
       "      <th>room_type_Shared room</th>\n",
       "      <th>cancellation_policy_moderate</th>\n",
       "      <th>cancellation_policy_strict</th>\n",
       "      <th>cleaning_fee_True</th>\n",
       "    </tr>\n",
       "  </thead>\n",
       "  <tbody>\n",
       "    <tr>\n",
       "      <th>0</th>\n",
       "      <td>3.0</td>\n",
       "      <td>1.0</td>\n",
       "      <td>False</td>\n",
       "      <td>100.000000</td>\n",
       "      <td>1.0</td>\n",
       "      <td>1.0</td>\n",
       "      <td>0</td>\n",
       "      <td>0</td>\n",
       "      <td>0</td>\n",
       "      <td>1</td>\n",
       "      <td>1</td>\n",
       "    </tr>\n",
       "    <tr>\n",
       "      <th>1</th>\n",
       "      <td>7.0</td>\n",
       "      <td>1.0</td>\n",
       "      <td>True</td>\n",
       "      <td>93.000000</td>\n",
       "      <td>3.0</td>\n",
       "      <td>3.0</td>\n",
       "      <td>0</td>\n",
       "      <td>0</td>\n",
       "      <td>0</td>\n",
       "      <td>1</td>\n",
       "      <td>1</td>\n",
       "    </tr>\n",
       "    <tr>\n",
       "      <th>2</th>\n",
       "      <td>5.0</td>\n",
       "      <td>1.0</td>\n",
       "      <td>True</td>\n",
       "      <td>92.000000</td>\n",
       "      <td>1.0</td>\n",
       "      <td>3.0</td>\n",
       "      <td>0</td>\n",
       "      <td>0</td>\n",
       "      <td>1</td>\n",
       "      <td>0</td>\n",
       "      <td>1</td>\n",
       "    </tr>\n",
       "    <tr>\n",
       "      <th>3</th>\n",
       "      <td>4.0</td>\n",
       "      <td>1.0</td>\n",
       "      <td>False</td>\n",
       "      <td>94.067365</td>\n",
       "      <td>2.0</td>\n",
       "      <td>2.0</td>\n",
       "      <td>0</td>\n",
       "      <td>0</td>\n",
       "      <td>0</td>\n",
       "      <td>0</td>\n",
       "      <td>1</td>\n",
       "    </tr>\n",
       "    <tr>\n",
       "      <th>4</th>\n",
       "      <td>2.0</td>\n",
       "      <td>1.0</td>\n",
       "      <td>True</td>\n",
       "      <td>83.000000</td>\n",
       "      <td>0.0</td>\n",
       "      <td>1.0</td>\n",
       "      <td>0</td>\n",
       "      <td>0</td>\n",
       "      <td>1</td>\n",
       "      <td>0</td>\n",
       "      <td>1</td>\n",
       "    </tr>\n",
       "  </tbody>\n",
       "</table>\n",
       "</div>"
      ],
      "text/plain": [
       "   accommodates  bathrooms  instant_bookable  review_scores_rating  bedrooms  \\\n",
       "0           3.0        1.0             False            100.000000       1.0   \n",
       "1           7.0        1.0              True             93.000000       3.0   \n",
       "2           5.0        1.0              True             92.000000       1.0   \n",
       "3           4.0        1.0             False             94.067365       2.0   \n",
       "4           2.0        1.0              True             83.000000       0.0   \n",
       "\n",
       "   beds  room_type_Private room  room_type_Shared room  \\\n",
       "0   1.0                       0                      0   \n",
       "1   3.0                       0                      0   \n",
       "2   3.0                       0                      0   \n",
       "3   2.0                       0                      0   \n",
       "4   1.0                       0                      0   \n",
       "\n",
       "   cancellation_policy_moderate  cancellation_policy_strict  cleaning_fee_True  \n",
       "0                             0                           1                  1  \n",
       "1                             0                           1                  1  \n",
       "2                             1                           0                  1  \n",
       "3                             0                           0                  1  \n",
       "4                             1                           0                  1  "
      ]
     },
     "execution_count": 48,
     "metadata": {},
     "output_type": "execute_result"
    }
   ],
   "source": [
    "X.head()"
   ]
  },
  {
   "cell_type": "code",
   "execution_count": 49,
   "metadata": {
    "ExecuteTime": {
     "end_time": "2020-04-24T05:41:20.030125Z",
     "start_time": "2020-04-24T05:41:20.006070Z"
    }
   },
   "outputs": [],
   "source": [
    "# Split X and y into training and test set in 75:25 ratio\n",
    "from sklearn.model_selection import train_test_split\n",
    "X_train, X_test, y_train, y_test = train_test_split(X, y, test_size=0.25 , random_state=1)"
   ]
  },
  {
   "cell_type": "markdown",
   "metadata": {},
   "source": [
    "### Linear Regression Model"
   ]
  },
  {
   "cell_type": "code",
   "execution_count": 50,
   "metadata": {
    "ExecuteTime": {
     "end_time": "2020-04-24T06:01:31.487930Z",
     "start_time": "2020-04-24T06:01:31.444089Z"
    }
   },
   "outputs": [
    {
     "data": {
      "text/plain": [
       "LinearRegression()"
      ]
     },
     "execution_count": 50,
     "metadata": {},
     "output_type": "execute_result"
    }
   ],
   "source": [
    "# invoke the LinearRegression function and find the bestfit model on training data\n",
    "regression_model = LinearRegression()\n",
    "regression_model.fit(X_train, y_train)\n"
   ]
  },
  {
   "cell_type": "code",
   "execution_count": 51,
   "metadata": {
    "ExecuteTime": {
     "end_time": "2020-04-24T05:41:20.631153Z",
     "start_time": "2020-04-24T05:41:20.620414Z"
    }
   },
   "outputs": [
    {
     "name": "stdout",
     "output_type": "stream",
     "text": [
      "The coefficient for accommodates is 0.09505750537686619\n",
      "The coefficient for bathrooms is 0.1808041686372082\n",
      "The coefficient for instant_bookable is -0.06503896431474583\n",
      "The coefficient for review_scores_rating is 0.01170186939964448\n",
      "The coefficient for bedrooms is 0.1580588143641496\n",
      "The coefficient for beds is -0.04507899480970079\n",
      "The coefficient for room_type_Private room is -0.6115570888488939\n",
      "The coefficient for room_type_Shared room is -1.0818048891941519\n",
      "The coefficient for cancellation_policy_moderate is -0.060015221396403626\n",
      "The coefficient for cancellation_policy_strict is -0.005822870628089478\n",
      "The coefficient for cleaning_fee_True is -0.08187381765071933\n"
     ]
    }
   ],
   "source": [
    "# Let us explore the coefficients for each of the independent attributes\n",
    "for idx, col_name in enumerate(X_train.columns):\n",
    "    print(\"The coefficient for {} is {}\".format(col_name, regression_model.coef_[0][idx] ))"
   ]
  },
  {
   "cell_type": "code",
   "execution_count": 56,
   "metadata": {},
   "outputs": [
    {
     "data": {
      "text/plain": [
       "-0.06503896431474583"
      ]
     },
     "execution_count": 56,
     "metadata": {},
     "output_type": "execute_result"
    }
   ],
   "source": [
    "regression_model.coef_[0][2]"
   ]
  },
  {
   "cell_type": "code",
   "execution_count": 57,
   "metadata": {
    "ExecuteTime": {
     "end_time": "2020-04-24T05:41:20.821752Z",
     "start_time": "2020-04-24T05:41:20.804678Z"
    }
   },
   "outputs": [
    {
     "name": "stdout",
     "output_type": "stream",
     "text": [
      "The intercept for our model is 3.4292638017758508\n"
     ]
    }
   ],
   "source": [
    "# Let us check the intercept for the model\n",
    "\n",
    "intercept = regression_model.intercept_[0]\n",
    "\n",
    "print(\"The intercept for our model is {}\".format(intercept))"
   ]
  },
  {
   "cell_type": "code",
   "execution_count": 59,
   "metadata": {
    "ExecuteTime": {
     "end_time": "2020-04-24T06:01:35.966219Z",
     "start_time": "2020-04-24T06:01:35.934305Z"
    }
   },
   "outputs": [
    {
     "data": {
      "text/plain": [
       "0.5082917563299905"
      ]
     },
     "execution_count": 59,
     "metadata": {},
     "output_type": "execute_result"
    }
   ],
   "source": [
    "# R square on training data\n",
    "regression_model.score(X_train,y_train)"
   ]
  },
  {
   "cell_type": "markdown",
   "metadata": {},
   "source": [
    "50% of the variation in the log_price is explained by the predictors in the model for train set"
   ]
  },
  {
   "cell_type": "code",
   "execution_count": 61,
   "metadata": {
    "ExecuteTime": {
     "end_time": "2020-04-24T06:01:37.388244Z",
     "start_time": "2020-04-24T06:01:37.371321Z"
    }
   },
   "outputs": [
    {
     "data": {
      "text/plain": [
       "0.5019765734338826"
      ]
     },
     "execution_count": 61,
     "metadata": {},
     "output_type": "execute_result"
    }
   ],
   "source": [
    "# R square on testing data\n",
    "regression_model.score(X_test, y_test)"
   ]
  },
  {
   "cell_type": "code",
   "execution_count": 62,
   "metadata": {
    "ExecuteTime": {
     "end_time": "2020-04-24T06:02:21.853842Z",
     "start_time": "2020-04-24T06:02:21.782002Z"
    }
   },
   "outputs": [
    {
     "data": {
      "text/plain": [
       "0.5159255811569989"
      ]
     },
     "execution_count": 62,
     "metadata": {},
     "output_type": "execute_result"
    }
   ],
   "source": [
    "#RMSE on Training data\n",
    "predicted_train = regression_model.predict(X_train)\n",
    "np.sqrt(metrics.mean_squared_error(y_train, predicted_train))"
   ]
  },
  {
   "cell_type": "code",
   "execution_count": 63,
   "metadata": {
    "ExecuteTime": {
     "end_time": "2020-04-24T06:02:50.713594Z",
     "start_time": "2020-04-24T06:02:50.653748Z"
    }
   },
   "outputs": [
    {
     "data": {
      "text/plain": [
       "0.5197867614388493"
      ]
     },
     "execution_count": 63,
     "metadata": {},
     "output_type": "execute_result"
    }
   ],
   "source": [
    "#RMSE on Testing data\n",
    "predicted_test = regression_model.predict(X_test)\n",
    "np.sqrt(metrics.mean_squared_error(y_test, predicted_test))"
   ]
  },
  {
   "cell_type": "markdown",
   "metadata": {},
   "source": [
    "### Linear Regression using statsmodels"
   ]
  },
  {
   "cell_type": "code",
   "execution_count": 64,
   "metadata": {
    "ExecuteTime": {
     "end_time": "2020-04-24T06:10:41.934742Z",
     "start_time": "2020-04-24T06:10:41.917762Z"
    }
   },
   "outputs": [],
   "source": [
    "# concatenate X and y into a single dataframe\n",
    "data_train = pd.concat([X_train, y_train], axis =1)\n",
    "data_test = pd.concat([X_test, y_test], axis =1)\n"
   ]
  },
  {
   "cell_type": "code",
   "execution_count": 65,
   "metadata": {
    "ExecuteTime": {
     "end_time": "2020-04-24T06:10:42.874086Z",
     "start_time": "2020-04-24T06:10:42.863122Z"
    }
   },
   "outputs": [],
   "source": [
    "data_train.rename(columns = {\"room_type_Entire home/apt\": \"room_type_entire_home\", \"room_type_Private room\": \"room_type_private_room\", \n",
    "                     \"room_type_Shared room\": \"room_type_shared_room\"}, \n",
    "                      inplace = True) \n",
    "\n",
    "data_test.rename(columns = {\"room_type_Entire home/apt\": \"room_type_entire_home\", \"room_type_Private room\": \"room_type_private_room\", \n",
    "                     \"room_type_Shared room\": \"room_type_shared_room\"}, \n",
    "                      inplace = True) "
   ]
  },
  {
   "cell_type": "code",
   "execution_count": 66,
   "metadata": {
    "ExecuteTime": {
     "end_time": "2020-04-24T06:10:46.916728Z",
     "start_time": "2020-04-24T06:10:46.911744Z"
    }
   },
   "outputs": [
    {
     "data": {
      "text/plain": [
       "Index(['accommodates', 'bathrooms', 'instant_bookable', 'review_scores_rating',\n",
       "       'bedrooms', 'beds', 'room_type_private_room', 'room_type_shared_room',\n",
       "       'cancellation_policy_moderate', 'cancellation_policy_strict',\n",
       "       'cleaning_fee_True', 'log_price'],\n",
       "      dtype='object')"
      ]
     },
     "execution_count": 66,
     "metadata": {},
     "output_type": "execute_result"
    }
   ],
   "source": [
    "data_train.columns"
   ]
  },
  {
   "cell_type": "code",
   "execution_count": 71,
   "metadata": {
    "ExecuteTime": {
     "end_time": "2020-04-24T06:10:48.146934Z",
     "start_time": "2020-04-24T06:10:48.142984Z"
    }
   },
   "outputs": [],
   "source": [
    "expr= 'log_price ~ accommodates + bathrooms + instant_bookable+review_scores_rating +bedrooms + beds + room_type_private_room + room_type_shared_room  + cancellation_policy_moderate + cancellation_policy_strict + cleaning_fee_True'"
   ]
  },
  {
   "cell_type": "code",
   "execution_count": 72,
   "metadata": {
    "ExecuteTime": {
     "end_time": "2020-04-24T06:10:48.607194Z",
     "start_time": "2020-04-24T06:10:48.524416Z"
    }
   },
   "outputs": [
    {
     "data": {
      "text/plain": [
       "Intercept                       3.429264\n",
       "instant_bookable[T.True]       -0.065039\n",
       "accommodates                    0.095058\n",
       "bathrooms                       0.180804\n",
       "review_scores_rating            0.011702\n",
       "bedrooms                        0.158059\n",
       "beds                           -0.045079\n",
       "room_type_private_room         -0.611557\n",
       "room_type_shared_room          -1.081805\n",
       "cancellation_policy_moderate   -0.060015\n",
       "cancellation_policy_strict     -0.005823\n",
       "cleaning_fee_True              -0.081874\n",
       "dtype: float64"
      ]
     },
     "execution_count": 72,
     "metadata": {},
     "output_type": "execute_result"
    }
   ],
   "source": [
    "import statsmodels.formula.api as smf\n",
    "lm1 = smf.ols(formula= expr, data = data_train).fit()\n",
    "lm1.params"
   ]
  },
  {
   "cell_type": "code",
   "execution_count": 42,
   "metadata": {
    "ExecuteTime": {
     "end_time": "2020-04-24T06:10:49.907028Z",
     "start_time": "2020-04-24T06:10:49.875116Z"
    },
    "scrolled": false
   },
   "outputs": [
    {
     "name": "stdout",
     "output_type": "stream",
     "text": [
      "                            OLS Regression Results                            \n",
      "==============================================================================\n",
      "Dep. Variable:              log_price   R-squared:                       0.508\n",
      "Model:                            OLS   Adj. R-squared:                  0.508\n",
      "Method:                 Least Squares   F-statistic:                     3813.\n",
      "Date:                Fri, 24 Apr 2020   Prob (F-statistic):               0.00\n",
      "Time:                        12:54:45   Log-Likelihood:                -30728.\n",
      "No. Observations:               40584   AIC:                         6.148e+04\n",
      "Df Residuals:                   40572   BIC:                         6.158e+04\n",
      "Df Model:                          11                                         \n",
      "Covariance Type:            nonrobust                                         \n",
      "================================================================================================\n",
      "                                   coef    std err          t      P>|t|      [0.025      0.975]\n",
      "------------------------------------------------------------------------------------------------\n",
      "Intercept                        3.4293      0.050     67.981      0.000       3.330       3.528\n",
      "instant_bookable[T.True]        -0.0650      0.006    -11.560      0.000      -0.076      -0.054\n",
      "accommodates                     0.0951      0.003     33.288      0.000       0.089       0.101\n",
      "bathrooms                        0.1808      0.007     25.690      0.000       0.167       0.195\n",
      "review_scores_rating             0.0117      0.001     22.275      0.000       0.011       0.013\n",
      "bedrooms                         0.1581      0.005     32.798      0.000       0.149       0.168\n",
      "beds                            -0.0451      0.005     -8.599      0.000      -0.055      -0.035\n",
      "room_type_private_room          -0.6116      0.007    -93.327      0.000      -0.624      -0.599\n",
      "room_type_shared_room           -1.0818      0.015    -72.867      0.000      -1.111      -1.053\n",
      "cancellation_policy_moderate    -0.0600      0.007     -8.318      0.000      -0.074      -0.046\n",
      "cancellation_policy_strict      -0.0058      0.007     -0.887      0.375      -0.019       0.007\n",
      "cleaning_fee_True               -0.0819      0.006    -12.945      0.000      -0.094      -0.069\n",
      "==============================================================================\n",
      "Omnibus:                     2618.685   Durbin-Watson:                   2.023\n",
      "Prob(Omnibus):                  0.000   Jarque-Bera (JB):             4228.792\n",
      "Skew:                           0.519   Prob(JB):                         0.00\n",
      "Kurtosis:                       4.192   Cond. No.                     1.86e+03\n",
      "==============================================================================\n",
      "\n",
      "Warnings:\n",
      "[1] Standard Errors assume that the covariance matrix of the errors is correctly specified.\n",
      "[2] The condition number is large, 1.86e+03. This might indicate that there are\n",
      "strong multicollinearity or other numerical problems.\n"
     ]
    }
   ],
   "source": [
    "print(lm1.summary())"
   ]
  },
  {
   "cell_type": "markdown",
   "metadata": {},
   "source": [
    "The overall P value is less than alpha, so rejecting H0 and accepting Ha that atleast 1 regression co-efficient is not 0. Here all regression co-efficients are not 0"
   ]
  },
  {
   "cell_type": "code",
   "execution_count": 74,
   "metadata": {
    "ExecuteTime": {
     "end_time": "2020-04-24T06:10:51.653061Z",
     "start_time": "2020-04-24T06:10:51.553330Z"
    }
   },
   "outputs": [
    {
     "data": {
      "text/plain": [
       "0.2661792052921868"
      ]
     },
     "execution_count": 74,
     "metadata": {},
     "output_type": "execute_result"
    }
   ],
   "source": [
    "# Calculate MSE\n",
    "mse = np.mean((lm1.predict(data_train.drop('log_price',axis=1))-data_train['log_price'])**2)\n",
    "mse"
   ]
  },
  {
   "cell_type": "code",
   "execution_count": 75,
   "metadata": {
    "ExecuteTime": {
     "end_time": "2020-04-24T06:11:47.478172Z",
     "start_time": "2020-04-24T06:11:47.473185Z"
    }
   },
   "outputs": [
    {
     "data": {
      "text/plain": [
       "0.5159255811569986"
      ]
     },
     "execution_count": 75,
     "metadata": {},
     "output_type": "execute_result"
    }
   ],
   "source": [
    "#Root Mean Squared Error - RMSE\n",
    "np.sqrt(mse)"
   ]
  },
  {
   "cell_type": "code",
   "execution_count": 76,
   "metadata": {
    "ExecuteTime": {
     "end_time": "2020-04-24T06:10:52.942909Z",
     "start_time": "2020-04-24T06:10:52.936926Z"
    }
   },
   "outputs": [
    {
     "data": {
      "text/plain": [
       "0.5160018732951103"
      ]
     },
     "execution_count": 76,
     "metadata": {},
     "output_type": "execute_result"
    }
   ],
   "source": [
    "np.sqrt(lm1.mse_resid) #another way"
   ]
  },
  {
   "cell_type": "code",
   "execution_count": 77,
   "metadata": {
    "ExecuteTime": {
     "end_time": "2020-04-24T06:11:06.168844Z",
     "start_time": "2020-04-24T06:11:06.131944Z"
    }
   },
   "outputs": [],
   "source": [
    "# Prediction on Test data\n",
    "y_pred = lm1.predict(data_test)"
   ]
  },
  {
   "cell_type": "code",
   "execution_count": 78,
   "metadata": {
    "ExecuteTime": {
     "end_time": "2020-04-24T06:11:09.062582Z",
     "start_time": "2020-04-24T06:11:08.826172Z"
    }
   },
   "outputs": [
    {
     "data": {
      "image/png": "[encoded data removed]",
      "text/plain": [
       "<Figure size 432x288 with 1 Axes>"
      ]
     },
     "metadata": {
      "needs_background": "light"
     },
     "output_type": "display_data"
    }
   ],
   "source": [
    "plt.scatter(y_test['log_price'], y_pred)\n",
    "plt.show()"
   ]
  },
  {
   "cell_type": "code",
   "execution_count": 79,
   "metadata": {
    "ExecuteTime": {
     "end_time": "2020-04-24T06:11:18.511246Z",
     "start_time": "2020-04-24T06:11:18.504234Z"
    }
   },
   "outputs": [
    {
     "name": "stdout",
     "output_type": "stream",
     "text": [
      "(3.43) * Intercept + (-0.07) * instant_bookable[T.True] + (0.1) * accommodates + (0.18) * bathrooms + (0.01) * review_scores_rating + (0.16) * bedrooms + (-0.05) * beds + (-0.61) * room_type_private_room + (-1.08) * room_type_shared_room + (-0.06) * cancellation_policy_moderate + (-0.01) * cancellation_policy_strict + (-0.08) * cleaning_fee_True + "
     ]
    }
   ],
   "source": [
    "for i,j in np.array(lm1.params.reset_index()):\n",
    "    print('({}) * {} +'.format(round(j,2),i),end=' ')"
   ]
  },
  {
   "cell_type": "markdown",
   "metadata": {},
   "source": [
    " # Conclusion"
   ]
  },
  {
   "cell_type": "markdown",
   "metadata": {},
   "source": [
    "The final Linear Regression equation is  \n",
    "  \n",
    "<b>log_price = b0 + b1 * instant_bookable[T.True] + b2 * accommodates + b3 * bathrooms + b4 * review_scores_rating + b5 * bedrooms + b6 * beds + b7 * room_type_private_room + b8 * room_type_shared_room + b9 * cancellation_policy_moderate + b10 * cancellation_policy_strict + b11 * cleaning_fee_True </b>\n",
    "  \n",
    "<b>log_price = (3.43) * Intercept + (-0.07) * instant_bookable[T.True] + (0.1) * accommodates + (0.18) * bathrooms + (0.01) * review_scores_rating + (0.16) * bedrooms + (-0.05) * beds + (-0.61) * room_type_private_room + (-1.08) * room_type_shared_room + (-0.06) * cancellation_policy_moderate + (-0.01) * cancellation_policy_strict + (-0.08) * cleaning_fee_True</b>  \n",
    "  \n",
    "When accommodates increases by 1 unit, log_price increases by 0.1 units, keeping all other predictors constant.  \n",
    "similarly, when no. of bathrooms increases by 1 unit, log_price increases by 0.18 units, keeping all other predictors constant.\n",
    "  \n",
    "  \n",
    "There are also some negative co-efficient values, for instance, room_type_shared_room has its corresponding co-efficient as -1.08. This implies, when the room type is shared room, the log_price decreases by 1.08 units, keeping all other predictors constant.\n",
    "\n"
   ]
  }
 ],
 "metadata": {
  "kernelspec": {
   "display_name": "Python 3",
   "language": "python",
   "name": "python3"
  },
  "language_info": {
   "codemirror_mode": {
    "name": "ipython",
    "version": 3
   },
   "file_extension": ".py",
   "mimetype": "text/x-python",
   "name": "python",
   "nbconvert_exporter": "python",
   "pygments_lexer": "ipython3",
   "version": "3.8.5"
  },
  "toc": {
   "base_numbering": 1,
   "nav_menu": {},
   "number_sections": true,
   "sideBar": true,
   "skip_h1_title": false,
   "title_cell": "Table of Contents",
   "title_sidebar": "Contents",
   "toc_cell": false,
   "toc_position": {},
   "toc_section_display": true,
   "toc_window_display": false
  },
  "varInspector": {
   "cols": {
    "lenName": 16,
    "lenType": 16,
    "lenVar": 40
   },
   "kernels_config": {
    "python": {
     "delete_cmd_postfix": "",
     "delete_cmd_prefix": "del ",
     "library": "var_list.py",
     "varRefreshCmd": "print(var_dic_list())"
    },
    "r": {
     "delete_cmd_postfix": ") ",
     "delete_cmd_prefix": "rm(",
     "library": "var_list.r",
     "varRefreshCmd": "cat(var_dic_list()) "
    }
   },
   "types_to_exclude": [
    "module",
    "function",
    "builtin_function_or_method",
    "instance",
    "_Feature"
   ],
   "window_display": false
  }
 },
 "nbformat": 4,
 "nbformat_minor": 2
}
